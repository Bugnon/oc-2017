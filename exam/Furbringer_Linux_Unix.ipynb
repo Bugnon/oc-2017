{
 "cells": [
  {
   "cell_type": "markdown",
   "metadata": {},
   "source": [
    "## Exploitation LINUX"
   ]
  },
  {
   "cell_type": "markdown",
   "metadata": {},
   "source": [
    "Dans ce jupyter notebook, nous parlerons de :"
   ]
  },
  {
   "cell_type": "markdown",
   "metadata": {},
   "source": [
    "- l'arborescence Linux \n",
    "- commandes unix dans le terminal"
   ]
  },
  {
   "cell_type": "markdown",
   "metadata": {},
   "source": [
    "Source: "
   ]
  },
  {
   "cell_type": "markdown",
   "metadata": {},
   "source": [
    "- https://doc.ubuntu-fr.org/arborescence\n",
    "- https://fr.wikipedia.org/wiki/Linux\n",
    "- https://fr.wikipedia.org/wiki/Noyau_Linux"
   ]
  },
  {
   "cell_type": "markdown",
   "metadata": {},
   "source": [
    "## Historique"
   ]
  },
  {
   "cell_type": "markdown",
   "metadata": {},
   "source": [
    "Le noyau Linux est un noyau de système d&#39;exploitation de type UNIX. Il est\n",
    "utilisé dans plusieurs systèmes d&#39;exploitation dont notamment GNU/Linux\n",
    "(couramment appelé « Linux ») et Android. Le noyau Linux est un logiciel\n",
    "libre développé essentiellement en langage C par des milliers de bénévoles\n",
    "et salariés collaborant sur Internet.\n",
    "En 1991, les compatibles PC dominent le marché des ordinateurs personnels\n",
    "et fonctionnent généralement avec les systèmes d&#39;exploitation MS-DOS,\n",
    "Windows ou OS/2. Les PC basés sur le microprocesseur Intel 80386, vendus\n",
    "depuis 1986, commencent à être abordables. Mais les systèmes grand public\n",
    "restent attachés à la compatibilité avec les anciens processeurs 16 bits\n",
    "d&#39;Intel et exploitent mal les capacités 32 bits et l&#39;unité de gestion\n",
    "mémoire du 80386.\n",
    "​\n",
    "C&#39;est cette année que l’étudiant finlandais Linus Torvalds, indisposé par\n",
    "la faible disponibilité du serveur informatique UNIX de l’université\n",
    "d&#39;Helsinki, entreprend le développement d’un noyau de système\n",
    "d&#39;exploitation, qu’on appellera plus tard « Linux ». Linus désire alors\n",
    "surtout comprendre le fonctionnement de son ordinateur fondé sur un Intel\n",
    "80386.\n",
    "​\n",
    "Linus Torvalds fait son apprentissage avec le système d’exploitation Minix.\n",
    "Comme le concepteur de Minix — Andrew Tanenbaum — refuse d’intégrer les\n",
    "contributions visant à améliorer Minix, Linus décide de programmer un\n",
    "remplaçant de Minix. Il commence par développer un simple émulateur de\n",
    "terminal, qu’il utilise pour se connecter via un modem au serveur\n",
    "informatique de son université. Après l’ajout de diverses fonctionnalités\n",
    "dont un système de fichiers compatible avec celui de Minix, Linus oriente\n",
    "son projet vers quelque chose de plus ambitieux : un noyau aux normes\n",
    "POSIX. À ce noyau, il adapte de nombreux composants disponibles du système\n",
    "d’exploitation GNU pour obtenir un système d’exploitation plus complet.\n",
    "​\n",
    "Le 25 août 1991, il annonce10 sur le forum Usenet news:comp.os.minix\n",
    "[archive] qu&#39;il écrit un système d&#39;exploitation, mais en tant que « hobby,\n",
    "qui ne sera pas grand et professionnel comme gnu ». Le 5 octobre 1991, il\n",
    "annonce la disponibilité d’une ébauche de la version 0.02 de son noyau, la\n",
    "version 0.01 ayant eu une diffusion plus que confidentielle11. Enfin en\n",
    "février 1992, la version 0.12 est diffusée sous la Licence publique\n",
    "générale GNU (GNU GPL) à la place de la licence ad hoc qui interdisait\n",
    "jusque-là la redistribution commerciale12.\n",
    "​\n",
    "La version Linux 1.0.0 a été lancée le 14 mars 199413 avec 176,250 lignes\n",
    "de code14.\n",
    "​\n",
    "Initialement appelé Freax par son créateur, le projet trouve son nom\n",
    "définitif grâce à Ari Lemmke15, administrateur du serveur FTP ftp.funet.fi,\n",
    "qui héberge le travail de Linus Torvalds dans un répertoire nommé Linux.\n",
    "C’est la première apparition d’un terme composé à partir de « Linus » et «\n",
    "\n",
    "UNIX », qui deviendra par la suite une marque déposée au nom de Linus\n",
    "Torvalds16. Le manchot Tux, dessiné par Larry Ewing en 1996, devient la\n",
    "mascotte du projet.\n",
    "​​\n",
    "La mise à disposition du code de Linux suscita beaucoup d&#39;intérêt de la\n",
    "communauté des utilisateurs de Minix. Dès lors, des milliers de\n",
    "programmeurs bénévoles à travers le monde participèrent au projet.\n",
    "Aujourd&#39;hui, des centaines de passionnés et des entreprises de toutes\n",
    "tailles participent au projet, dont Linus Torvalds est toujours le\n",
    "coordinateur. Eric Raymond décrit dans l&#39;essai La Cathédrale et le Bazar\n",
    "(2001) le modèle de développement du noyau Linux et d’une partie des\n",
    "logiciels libres17.\n",
    "​\n",
    "Dans les systèmes embarqués, Linux est fréquemment utilisé avec les outils\n",
    "uClibc et BusyBox qui ont été développés pour le matériel particulièrement\n",
    "limité en capacité mémoire. Le fait de pouvoir compiler le noyau Linux avec\n",
    "des options spécialement adaptées au matériel cible donne aux développeurs\n",
    "de nombreuses possibilités d’optimisation."
   ]
  },
  {
   "cell_type": "markdown",
   "metadata": {},
   "source": [
    "## L'arborescence LINUX"
   ]
  },
  {
   "cell_type": "markdown",
   "metadata": {},
   "source": [
    "\n",
    "\n",
    "\n",
    "Comparez le stockage des répertoires et fichiers de votre ordinateur à un arbre : en partant de\n",
    "la racine d’un arbre, en déplaçant votre doigt tout le long de l’arbre, en suivant le tronc puis\n",
    "les branches, vous pouvez toucher n’importe quelle feuille de cet arbre.\n",
    "Dans les systèmes de type GNU/Linux, toute l’information stockée dans vos supports de\n",
    "stockage (disques durs, clé USB, cartes SD, CD-ROM, etc.) est nécessairement accessible en\n",
    "suivant un chemin partant d&#39;un emplacement logique appelée la racine (notée par une simple\n",
    "barre oblique 1)).\n",
    "La racine symbolise une partition que vous définissez comme étant la base du stockage de vos\n",
    "fichiers. Puis, cette base se sépare (comme des branches d’un arbre) logiquement en\n",
    "répertoires (dossiers), eux-mêmes séparés en sous-répertoires et sous-sous-répertoires, etc.\n",
    "dans lesquels sont enregistrés vos fichiers (symboliquement, les feuilles de l’arbre)."
   ]
  },
  {
   "cell_type": "markdown",
   "metadata": {},
   "source": [
    "![arbre] (https://raw.githubusercontent.com/Bugnon/oc-2017/master/exam/img_furb/arbre.jpg)"
   ]
  },
  {
   "cell_type": "markdown",
   "metadata": {},
   "source": [
    "## Commande UNIX dans le terminal"
   ]
  },
  {
   "cell_type": "markdown",
   "metadata": {},
   "source": [
    "Les systèmes d&#39;exploitation de type UNIX permettent plusieurs commandes interéssantes.\n",
    "Elles sont stockés soit directement dans le shell ou parfois dans /bin ou dans /usr/bin."
   ]
  },
  {
   "cell_type": "markdown",
   "metadata": {},
   "source": [
    "**Commande:**"
   ]
  },
  {
   "cell_type": "markdown",
   "metadata": {},
   "source": [
    "**pwd** est une commande qui permet d'afficher le chemin de notre position actuelle dans l'arborescence relativement à la source"
   ]
  },
  {
   "cell_type": "code",
   "execution_count": 1,
   "metadata": {},
   "outputs": [
    {
     "name": "stdout",
     "output_type": "stream",
     "text": [
      "/home/pi/Documents/oc-2017/oc-2017/exam\r\n"
     ]
    }
   ],
   "source": [
    "!pwd"
   ]
  },
  {
   "cell_type": "markdown",
   "metadata": {},
   "source": [
    "**cd** est une commande qui permet de se déplacer dans l'arborescence en avant *(par exemple \"/Documents/\")* et en arrière *( par exemple \" /../\" )*"
   ]
  },
  {
   "cell_type": "code",
   "execution_count": 5,
   "metadata": {},
   "outputs": [
    {
     "name": "stdout",
     "output_type": "stream",
     "text": [
      "/\n"
     ]
    }
   ],
   "source": [
    "#commencer par / permet de commencer à la source\n",
    "%cd /home/pi/Documents/"
   ]
  },
  {
   "cell_type": "markdown",
   "metadata": {},
   "source": [
    "**cd -** permet de revenir à la position précédente"
   ]
  },
  {
   "cell_type": "code",
   "execution_count": 7,
   "metadata": {},
   "outputs": [
    {
     "name": "stdout",
     "output_type": "stream",
     "text": [
      "/home/pi/Documents\n"
     ]
    }
   ],
   "source": [
    "%cd -"
   ]
  },
  {
   "cell_type": "markdown",
   "metadata": {},
   "source": [
    "ls est une commande qui permet d'afficher la liste des fichiers d'un fichier"
   ]
  },
  {
   "cell_type": "code",
   "execution_count": 2,
   "metadata": {},
   "outputs": [
    {
     "name": "stdout",
     "output_type": "stream",
     "text": [
      "BlueJ Projects\t    minecraft  Scratch Projects\r\n",
      "Greenfoot Projects  oc-2017    Untitled.ipynb\r\n"
     ]
    }
   ],
   "source": [
    "!ls"
   ]
  },
  {
   "cell_type": "markdown",
   "metadata": {},
   "source": [
    "**top** est une commande qui permet de voir les logiciels qui sont entrain d'agir affichant entre autres leurs vrais noms et leurs *PID*"
   ]
  },
  {
   "cell_type": "code",
   "execution_count": 9,
   "metadata": {},
   "outputs": [
    {
     "name": "stdout",
     "output_type": "stream",
     "text": [
      "\u001b[?1h\u001b=\u001b[H\u001b[2J\u001b[mtop - 17:58:28 up 46 min,  2 users,  load average: 0.54, 0.44, 0.40\u001b[m\u001b[m\u001b[m\u001b[m\u001b[K\n",
      "Tasks:\u001b[m\u001b[m\u001b[1m 170 \u001b[m\u001b[mtotal,\u001b[m\u001b[m\u001b[1m   2 \u001b[m\u001b[mrunning,\u001b[m\u001b[m\u001b[1m 168 \u001b[m\u001b[msleeping,\u001b[m\u001b[m\u001b[1m   0 \u001b[m\u001b[mstopped,\u001b[m\u001b[m\u001b[1m   0 \u001b[m\u001b[mzombie\u001b[m\u001b[m\u001b[m\u001b[m\u001b[K\n",
      "%Cpu(s):\u001b[m\u001b[m\u001b[1m  9.9 \u001b[m\u001b[mus,\u001b[m\u001b[m\u001b[1m  1.8 \u001b[m\u001b[msy,\u001b[m\u001b[m\u001b[1m  0.0 \u001b[m\u001b[mni,\u001b[m\u001b[m\u001b[1m 87.4 \u001b[m\u001b[mid,\u001b[m\u001b[m\u001b[1m  0.8 \u001b[m\u001b[mwa,\u001b[m\u001b[m\u001b[1m  0.0 \u001b[m\u001b[mhi,\u001b[m\u001b[m\u001b[1m  0.1 \u001b[m\u001b[msi,\u001b[m\u001b[m\u001b[1m  0.0 \u001b[m\u001b[mst\u001b[m\u001b[m\u001b[m\u001b[m\u001b[K\n",
      "KiB Mem: \u001b[m\u001b[m\u001b[1m   880552 \u001b[m\u001b[mtotal,\u001b[m\u001b[m\u001b[1m   840576 \u001b[m\u001b[mused,\u001b[m\u001b[m\u001b[1m    39976 \u001b[m\u001b[mfree,\u001b[m\u001b[m\u001b[1m    13056 \u001b[m\u001b[mbuffers\u001b[m\u001b[m\u001b[m\u001b[m\u001b[K\n",
      "KiB Swap:\u001b[m\u001b[m\u001b[1m   102396 \u001b[m\u001b[mtotal,\u001b[m\u001b[m\u001b[1m     6936 \u001b[m\u001b[mused,\u001b[m\u001b[m\u001b[1m    95460 \u001b[m\u001b[mfree.\u001b[m\u001b[m\u001b[1m   284464 \u001b[m\u001b[mcached Mem\u001b[m\u001b[m\u001b[m\u001b[m\u001b[K\n",
      "\u001b[K\n",
      "\u001b[7m  PID USER      PR  NI    VIRT    RES    SHR S  %CPU %MEM     TIME+ COMMAND     \u001b[m\u001b[m\u001b[K\n",
      "\u001b[m 1587 pi        20   0  431428 133452  73128 S  76.2 15.2   5:39.59 chromium-b+ \u001b[m\u001b[m\u001b[K\n",
      "\u001b[m\u001b[1m  607 root      20   0   43960  27108  16096 R  27.2  3.1   2:38.97 vncserver-+ \u001b[m\u001b[m\u001b[K\n",
      "\u001b[m  702 root      20   0  151344  66236  37840 S  27.2  7.5   1:50.71 Xorg        \u001b[m\u001b[m\u001b[K\n",
      "\u001b[m 1213 pi        20   0  577264 157564 117576 S  16.3 17.9   5:03.96 chromium-b+ \u001b[m\u001b[m\u001b[K\n",
      "\u001b[m\u001b[1m 2632 pi        20   0    5108   2496   2132 R  16.3  0.3   0:00.05 top         \u001b[m\u001b[m\u001b[K\n",
      "\u001b[m 1494 pi        20   0   62868  37588  12160 S   5.4  4.3   0:08.23 jupyter-no+ \u001b[m\u001b[m\u001b[K\n",
      "\u001b[m 1656 pi        20   0  104984  28484   9252 S   5.4  3.2   0:03.35 python2     \u001b[m\u001b[m\u001b[K\n",
      "\u001b[m    1 root      20   0   23776   3576   2784 S   0.0  0.4   0:02.33 systemd     \u001b[m\u001b[m\u001b[K\n",
      "\u001b[m    2 root      20   0       0      0      0 S   0.0  0.0   0:00.00 kthreadd    \u001b[m\u001b[m\u001b[K\n",
      "\u001b[m    3 root      20   0       0      0      0 S   0.0  0.0   0:00.24 ksoftirqd/0 \u001b[m\u001b[m\u001b[K\n",
      "\u001b[m    5 root       0 -20       0      0      0 S   0.0  0.0   0:00.00 kworker/0:+ \u001b[m\u001b[m\u001b[K\n",
      "\u001b[m    6 root      20   0       0      0      0 S   0.0  0.0   0:09.41 kworker/u8+ \u001b[m\u001b[m\u001b[K\n",
      "\u001b[m    7 root      20   0       0      0      0 S   0.0  0.0   0:01.85 rcu_sched   \u001b[m\u001b[m\u001b[K\n",
      "\u001b[m    8 root      20   0       0      0      0 S   0.0  0.0   0:00.00 rcu_bh      \u001b[m\u001b[m\u001b[K\n",
      "\u001b[m    9 root      rt   0       0      0      0 S   0.0  0.0   0:00.01 migration/0 \u001b[m\u001b[m\u001b[K\n",
      "\u001b[m   10 root       0 -20       0      0      0 S   0.0  0.0   0:00.00 lru-add-dr+ \u001b[m\u001b[m\u001b[K\n",
      "\u001b[m   11 root      20   0       0      0      0 S   0.0  0.0   0:00.00 cpuhp/0     \u001b[m\u001b[m\u001b[K\u001b[H\u001b[mtop - 17:58:31 up 46 min,  2 users,  load average: 0.82, 0.50, 0.42\u001b[m\u001b[m\u001b[m\u001b[m\u001b[K\n",
      "Tasks:\u001b[m\u001b[m\u001b[1m 171 \u001b[m\u001b[mtotal,\u001b[m\u001b[m\u001b[1m   2 \u001b[m\u001b[mrunning,\u001b[m\u001b[m\u001b[1m 169 \u001b[m\u001b[msleeping,\u001b[m\u001b[m\u001b[1m   0 \u001b[m\u001b[mstopped,\u001b[m\u001b[m\u001b[1m   0 \u001b[m\u001b[mzombie\u001b[m\u001b[m\u001b[m\u001b[m\u001b[K\n",
      "%Cpu(s):\u001b[m\u001b[m\u001b[1m 37.5 \u001b[m\u001b[mus,\u001b[m\u001b[m\u001b[1m  5.4 \u001b[m\u001b[msy,\u001b[m\u001b[m\u001b[1m  0.0 \u001b[m\u001b[mni,\u001b[m\u001b[m\u001b[1m 56.6 \u001b[m\u001b[mid,\u001b[m\u001b[m\u001b[1m  0.0 \u001b[m\u001b[mwa,\u001b[m\u001b[m\u001b[1m  0.0 \u001b[m\u001b[mhi,\u001b[m\u001b[m\u001b[1m  0.6 \u001b[m\u001b[msi,\u001b[m\u001b[m\u001b[1m  0.0 \u001b[m\u001b[mst\u001b[m\u001b[m\u001b[m\u001b[m\u001b[K\n",
      "KiB Mem: \u001b[m\u001b[m\u001b[1m   880552 \u001b[m\u001b[mtotal,\u001b[m\u001b[m\u001b[1m   844784 \u001b[m\u001b[mused,\u001b[m\u001b[m\u001b[1m    35768 \u001b[m\u001b[mfree,\u001b[m\u001b[m\u001b[1m    12468 \u001b[m\u001b[mbuffers\u001b[m\u001b[m\u001b[m\u001b[m\u001b[K\n",
      "KiB Swap:\u001b[m\u001b[m\u001b[1m   102396 \u001b[m\u001b[mtotal,\u001b[m\u001b[m\u001b[1m    11724 \u001b[m\u001b[mused,\u001b[m\u001b[m\u001b[1m    90672 \u001b[m\u001b[mfree.\u001b[m\u001b[m\u001b[1m   280780 \u001b[m\u001b[mcached Mem\u001b[m\u001b[m\u001b[m\u001b[m\u001b[K\n",
      "\u001b[K\n",
      "\n",
      "\u001b[m\u001b[1m 1587 pi        20   0  438340 138096  77540 R  63.0 15.7   5:41.50 chromium-b+ \u001b[m\u001b[m\u001b[K\n",
      "\u001b[m 2633 pi        20   0  292548  64360  50540 S  35.6  7.3   0:01.08 chromium-b+ \u001b[m\u001b[m\u001b[K\n",
      "\u001b[m 1213 pi        20   0  586224 160292 120304 S  25.4 18.2   5:04.73 chromium-b+ \u001b[m\u001b[m\u001b[K\n",
      "\u001b[m  607 root      20   0   43960  24324  14192 S  21.1  2.8   2:39.61 vncserver-+ \u001b[m\u001b[m\u001b[K\n",
      "\u001b[m  702 root      20   0  151344  65644  37740 S  10.9  7.5   1:51.04 Xorg        \u001b[m\u001b[m\u001b[K\n",
      "\u001b[m 1656 pi        20   0  104984  28484   9252 S   7.3  3.2   0:03.57 python2     \u001b[m\u001b[m\u001b[K\n",
      "\u001b[m   40 root      20   0       0      0      0 S   1.6  0.0   0:00.63 kswapd0     \u001b[m\u001b[m\u001b[K\n",
      "\u001b[m  742 root      20   0   16288  12504  11912 S   1.0  1.4   0:21.13 vncagent    \u001b[m\u001b[m\u001b[K\n",
      "\u001b[m    6 root      20   0       0      0      0 S   0.7  0.0   0:09.43 kworker/u8+ \u001b[m\u001b[m\u001b[K\n",
      "\u001b[m   87 root     -51   0       0      0      0 S   0.7  0.0   0:08.55 irq/92-mmc1 \u001b[m\u001b[m\u001b[K\n",
      "\u001b[m 1283 pi        20   0  392176  87444  51216 S   0.7  9.9   0:27.00 chromium-b+ \u001b[m\u001b[m\u001b[K\n",
      "\u001b[m 1494 pi        20   0   62868  36772  11344 S   0.7  4.2   0:08.25 jupyter-no+ \u001b[m\u001b[m\u001b[K\n",
      "\u001b[m 2584 root      20   0       0      0      0 S   0.7  0.0   0:00.60 kworker/u8+ \u001b[m\u001b[m\u001b[K\n",
      "\u001b[m 2598 pi        20   0    5112   2492   2100 S   0.7  0.3   0:00.87 top         \u001b[m\u001b[m\u001b[K\n",
      "\u001b[m    7 root      20   0       0      0      0 S   0.3  0.0   0:01.86 rcu_sched   \u001b[m\u001b[m\u001b[K\n",
      "\u001b[m   14 root      20   0       0      0      0 S   0.3  0.0   0:00.19 ksoftirqd/1 \u001b[m\u001b[m\u001b[K\n",
      "\u001b[m   90 root      20   0       0      0      0 S   0.3  0.0   0:01.57 mmcqd/0     \u001b[m\u001b[m\u001b[K\u001b[H\u001b[mtop - 17:58:34 up 46 min,  2 users,  load average: 0.82, 0.50, 0.42\u001b[m\u001b[m\u001b[m\u001b[m\u001b[K\n",
      "Tasks:\u001b[m\u001b[m\u001b[1m 171 \u001b[m\u001b[mtotal,\u001b[m\u001b[m\u001b[1m   1 \u001b[m\u001b[mrunning,\u001b[m\u001b[m\u001b[1m 170 \u001b[m\u001b[msleeping,\u001b[m\u001b[m\u001b[1m   0 \u001b[m\u001b[mstopped,\u001b[m\u001b[m\u001b[1m   0 \u001b[m\u001b[mzombie\u001b[m\u001b[m\u001b[m\u001b[m\u001b[K\n",
      "%Cpu(s):\u001b[m\u001b[m\u001b[1m 34.9 \u001b[m\u001b[mus,\u001b[m\u001b[m\u001b[1m  2.9 \u001b[m\u001b[msy,\u001b[m\u001b[m\u001b[1m  0.0 \u001b[m\u001b[mni,\u001b[m\u001b[m\u001b[1m 62.0 \u001b[m\u001b[mid,\u001b[m\u001b[m\u001b[1m  0.0 \u001b[m\u001b[mwa,\u001b[m\u001b[m\u001b[1m  0.0 \u001b[m\u001b[mhi,\u001b[m\u001b[m\u001b[1m  0.2 \u001b[m\u001b[msi,\u001b[m\u001b[m\u001b[1m  0.0 \u001b[m\u001b[mst\u001b[m\u001b[m\u001b[m\u001b[m\u001b[K\n",
      "KiB Mem: \u001b[m\u001b[m\u001b[1m   880552 \u001b[m\u001b[mtotal,\u001b[m\u001b[m\u001b[1m   844040 \u001b[m\u001b[mused,\u001b[m\u001b[m\u001b[1m    36512 \u001b[m\u001b[mfree,\u001b[m\u001b[m\u001b[1m    12468 \u001b[m\u001b[mbuffers\u001b[m\u001b[m\u001b[m\u001b[m\u001b[K\n",
      "KiB Swap:\u001b[m\u001b[m\u001b[1m   102396 \u001b[m\u001b[mtotal,\u001b[m\u001b[m\u001b[1m    11724 \u001b[m\u001b[mused,\u001b[m\u001b[m\u001b[1m    90672 \u001b[m\u001b[mfree.\u001b[m\u001b[m\u001b[1m   280748 \u001b[m\u001b[mcached Mem\u001b[m\u001b[m\u001b[m\u001b[m\u001b[K\n",
      "\u001b[K\n",
      "\n",
      "\u001b[m 1587 pi        20   0  438340 138400  77548 S  80.8 15.7   5:43.94 chromium-b+ \u001b[m\u001b[m\u001b[K\n",
      "\u001b[m 1213 pi        20   0  586224 160088 120100 S  23.2 18.2   5:05.43 chromium-b+ \u001b[m\u001b[m\u001b[K\n",
      "\u001b[m  607 root      20   0   43960  24324  14192 S  19.9  2.8   2:40.21 vncserver-+ \u001b[m\u001b[m\u001b[K\n",
      "\u001b[m  702 root      20   0  151344  65644  37740 S  11.6  7.5   1:51.39 Xorg        \u001b[m\u001b[m\u001b[K\n",
      "\u001b[m 1656 pi        20   0  104984  28484   9252 S   7.6  3.2   0:03.80 python2     \u001b[m\u001b[m\u001b[K\n",
      "\u001b[m 1312 pi        20   0  667240 306624 116100 S   4.3 34.8   4:08.95 chromium-b+ \u001b[m\u001b[m\u001b[K\n",
      "\u001b[m 2584 root      20   0       0      0      0 S   1.3  0.0   0:00.64 kworker/u8+ \u001b[m\u001b[m\u001b[K\n",
      "\u001b[m   87 root     -51   0       0      0      0 S   1.0  0.0   0:08.58 irq/92-mmc1 \u001b[m\u001b[m\u001b[K\n",
      "\u001b[m  742 root      20   0   16288  12504  11912 S   0.7  1.4   0:21.15 vncagent    \u001b[m\u001b[m\u001b[K\n",
      "\u001b[m 1494 pi        20   0   62868  36772  11344 S   0.7  4.2   0:08.27 jupyter-no+ \u001b[m\u001b[m\u001b[K\n",
      "\u001b[m 2598 pi        20   0    5112   2492   2100 S   0.7  0.3   0:00.89 top         \u001b[m\u001b[m\u001b[K\n",
      "\u001b[m\u001b[1m 2632 pi        20   0    5112   2524   2132 R   0.7  0.3   0:00.08 top         \u001b[m\u001b[m\u001b[K\n",
      "\u001b[m    1 root      20   0   23776   3384   2616 S   0.3  0.4   0:02.34 systemd     \u001b[m\u001b[m\u001b[K\n",
      "\u001b[m    6 root      20   0       0      0      0 S   0.3  0.0   0:09.44 kworker/u8+ \u001b[m\u001b[m\u001b[K\n",
      "\u001b[m 1283 pi        20   0  392176  87600  51216 S   0.3  9.9   0:27.01 chromium-b+ \u001b[m\u001b[m\u001b[K\n",
      "\u001b[m    2 root      20   0       0      0      0 S   0.0  0.0   0:00.00 kthreadd    \u001b[m\u001b[m\u001b[K\n",
      "\u001b[m    3 root      20   0       0      0      0 S   0.0  0.0   0:00.24 ksoftirqd/0 \u001b[m\u001b[m\u001b[K\u001b[H\u001b[mtop - 17:58:37 up 46 min,  2 users,  load average: 0.83, 0.51, 0.42\u001b[m\u001b[m\u001b[m\u001b[m\u001b[K\n",
      "\n",
      "%Cpu(s):\u001b[m\u001b[m\u001b[1m 18.5 \u001b[m\u001b[mus,\u001b[m\u001b[m\u001b[1m  4.2 \u001b[m\u001b[msy,\u001b[m\u001b[m\u001b[1m  0.0 \u001b[m\u001b[mni,\u001b[m\u001b[m\u001b[1m 76.5 \u001b[m\u001b[mid,\u001b[m\u001b[m\u001b[1m  0.1 \u001b[m\u001b[mwa,\u001b[m\u001b[m\u001b[1m  0.0 \u001b[m\u001b[mhi,\u001b[m\u001b[m\u001b[1m  0.7 \u001b[m\u001b[msi,\u001b[m\u001b[m\u001b[1m  0.0 \u001b[m\u001b[mst\u001b[m\u001b[m\u001b[m\u001b[m\u001b[K\n",
      "KiB Mem: \u001b[m\u001b[m\u001b[1m   880552 \u001b[m\u001b[mtotal,\u001b[m\u001b[m\u001b[1m   843324 \u001b[m\u001b[mused,\u001b[m\u001b[m\u001b[1m    37228 \u001b[m\u001b[mfree,\u001b[m\u001b[m\u001b[1m    12476 \u001b[m\u001b[mbuffers\u001b[m\u001b[m\u001b[m\u001b[m\u001b[K\n",
      "KiB Swap:\u001b[m\u001b[m\u001b[1m   102396 \u001b[m\u001b[mtotal,\u001b[m\u001b[m\u001b[1m    11724 \u001b[m\u001b[mused,\u001b[m\u001b[m\u001b[1m    90672 \u001b[m\u001b[mfree.\u001b[m\u001b[m\u001b[1m   280512 \u001b[m\u001b[mcached Mem\u001b[m\u001b[m\u001b[m\u001b[m\u001b[K\n",
      "\u001b[K\n",
      "\n",
      "\u001b[m 1587 pi        20   0  438340 138252  77088 S  34.1 15.7   5:44.97 chromium-b+ \u001b[m\u001b[m\u001b[K\n",
      "\u001b[m 1213 pi        20   0  586224 160624 120636 S  18.2 18.2   5:05.98 chromium-b+ \u001b[m\u001b[m\u001b[K\n",
      "\u001b[m  607 root      20   0   43960  24324  14192 S  14.2  2.8   2:40.64 vncserver-+ \u001b[m\u001b[m\u001b[K\n",
      "\u001b[m  702 root      20   0  151344  65644  37740 S   8.3  7.5   1:51.64 Xorg        \u001b[m\u001b[m\u001b[K\n",
      "\u001b[m 1656 pi        20   0  104984  28484   9252 S   6.6  3.2   0:04.00 python2     \u001b[m\u001b[m\u001b[K\n",
      "\u001b[m 2584 root      20   0       0      0      0 S   2.3  0.0   0:00.71 kworker/u8+ \u001b[m\u001b[m\u001b[K\n",
      "\u001b[m  742 root      20   0   16288  12504  11912 S   1.7  1.4   0:21.20 vncagent    \u001b[m\u001b[m\u001b[K\n",
      "\u001b[m   87 root     -51   0       0      0      0 S   1.3  0.0   0:08.62 irq/92-mmc1 \u001b[m\u001b[m\u001b[K\n",
      "\u001b[m 1312 pi        20   0  667240 306616 116064 S   1.3 34.8   4:08.99 chromium-b+ \u001b[m\u001b[m\u001b[K\n",
      "\u001b[m    3 root      20   0       0      0      0 S   0.3  0.0   0:00.25 ksoftirqd/0 \u001b[m\u001b[m\u001b[K\n",
      "\u001b[m    7 root      20   0       0      0      0 S   0.3  0.0   0:01.87 rcu_sched   \u001b[m\u001b[m\u001b[K\n",
      "\u001b[m  964 pi        20   0   26016  12080   9956 S   0.3  1.4   0:01.40 vncserverui \u001b[m\u001b[m\u001b[K\n",
      "\u001b[m 1283 pi        20   0  392176  87600  51216 S   0.3  9.9   0:27.02 chromium-b+ \u001b[m\u001b[m\u001b[K\n",
      "\u001b[m 1482 pi        20   0   47860  18468  15524 S   0.3  2.1   0:02.83 lxterminal  \u001b[m\u001b[m\u001b[K\n",
      "\u001b[m 1494 pi        20   0   62868  36772  11344 S   0.3  4.2   0:08.28 jupyter-no+ \u001b[m\u001b[m\u001b[K\n",
      "\u001b[m 2598 pi        20   0    5112   2492   2100 S   0.3  0.3   0:00.90 top         \u001b[m\u001b[m\u001b[K\n"
     ]
    },
    {
     "name": "stdout",
     "output_type": "stream",
     "text": [
      "\u001b[m\u001b[1m 2632 pi        20   0    5112   2524   2132 R   0.3  0.3   0:00.09 top         \u001b[m\u001b[m\u001b[K\u001b[H\u001b[mtop - 17:58:40 up 46 min,  2 users,  load average: 0.93, 0.54, 0.43\u001b[m\u001b[m\u001b[m\u001b[m\u001b[K\n",
      "Tasks:\u001b[m\u001b[m\u001b[1m 171 \u001b[m\u001b[mtotal,\u001b[m\u001b[m\u001b[1m   2 \u001b[m\u001b[mrunning,\u001b[m\u001b[m\u001b[1m 169 \u001b[m\u001b[msleeping,\u001b[m\u001b[m\u001b[1m   0 \u001b[m\u001b[mstopped,\u001b[m\u001b[m\u001b[1m   0 \u001b[m\u001b[mzombie\u001b[m\u001b[m\u001b[m\u001b[m\u001b[K\n",
      "%Cpu(s):\u001b[m\u001b[m\u001b[1m 24.2 \u001b[m\u001b[mus,\u001b[m\u001b[m\u001b[1m  3.8 \u001b[m\u001b[msy,\u001b[m\u001b[m\u001b[1m  0.0 \u001b[m\u001b[mni,\u001b[m\u001b[m\u001b[1m 70.9 \u001b[m\u001b[mid,\u001b[m\u001b[m\u001b[1m  0.8 \u001b[m\u001b[mwa,\u001b[m\u001b[m\u001b[1m  0.0 \u001b[m\u001b[mhi,\u001b[m\u001b[m\u001b[1m  0.3 \u001b[m\u001b[msi,\u001b[m\u001b[m\u001b[1m  0.0 \u001b[m\u001b[mst\u001b[m\u001b[m\u001b[m\u001b[m\u001b[K\n",
      "KiB Mem: \u001b[m\u001b[m\u001b[1m   880552 \u001b[m\u001b[mtotal,\u001b[m\u001b[m\u001b[1m   844036 \u001b[m\u001b[mused,\u001b[m\u001b[m\u001b[1m    36516 \u001b[m\u001b[mfree,\u001b[m\u001b[m\u001b[1m    12500 \u001b[m\u001b[mbuffers\u001b[m\u001b[m\u001b[m\u001b[m\u001b[K\n",
      "KiB Swap:\u001b[m\u001b[m\u001b[1m   102396 \u001b[m\u001b[mtotal,\u001b[m\u001b[m\u001b[1m    11724 \u001b[m\u001b[mused,\u001b[m\u001b[m\u001b[1m    90672 \u001b[m\u001b[mfree.\u001b[m\u001b[m\u001b[1m   280492 \u001b[m\u001b[mcached Mem\u001b[m\u001b[m\u001b[m\u001b[m\u001b[K\n",
      "\u001b[K\n",
      "\n",
      "\u001b[m\u001b[1m 1587 pi        20   0  438340 137948  77128 R  56.0 15.7   5:46.66 chromium-b+ \u001b[m\u001b[m\u001b[K\n",
      "\u001b[m 1213 pi        20   0  586224 159208 119220 S  18.2 18.1   5:06.53 chromium-b+ \u001b[m\u001b[m\u001b[K\n",
      "\u001b[m  607 root      20   0   43960  24324  14192 S  15.9  2.8   2:41.12 vncserver-+ \u001b[m\u001b[m\u001b[K\n",
      "\u001b[m  702 root      20   0  151344  65644  37740 S   8.3  7.5   1:51.89 Xorg        \u001b[m\u001b[m\u001b[K\n",
      "\u001b[m 1656 pi        20   0  104984  28484   9252 S   7.3  3.2   0:04.22 python2     \u001b[m\u001b[m\u001b[K\n",
      "\u001b[m 1312 pi        20   0  667240 306616 116064 S   1.3 34.8   4:09.03 chromium-b+ \u001b[m\u001b[m\u001b[K\n",
      "\u001b[m    6 root      20   0       0      0      0 S   1.0  0.0   0:09.47 kworker/u8+ \u001b[m\u001b[m\u001b[K\n",
      "\u001b[m   87 root     -51   0       0      0      0 S   1.0  0.0   0:08.65 irq/92-mmc1 \u001b[m\u001b[m\u001b[K\n",
      "\u001b[m  742 root      20   0   16288  12504  11912 S   1.0  1.4   0:21.23 vncagent    \u001b[m\u001b[m\u001b[K\n",
      "\u001b[m 2584 root      20   0       0      0      0 S   0.7  0.0   0:00.73 kworker/u8+ \u001b[m\u001b[m\u001b[K\n",
      "\u001b[m 2598 pi        20   0    5112   2492   2100 S   0.7  0.3   0:00.92 top         \u001b[m\u001b[m\u001b[K\n",
      "\u001b[m\u001b[1m 2632 pi        20   0    5112   2524   2132 R   0.7  0.3   0:00.11 top         \u001b[m\u001b[m\u001b[K\n",
      "\u001b[m   91 root      20   0       0      0      0 S   0.3  0.0   0:00.30 kworker/2:1 \u001b[m\u001b[m\u001b[K\n",
      "\u001b[m  282 root      20   0       0      0      0 S   0.3  0.0   0:01.60 brcmf_wdog+ \u001b[m\u001b[m\u001b[K\n",
      "\u001b[m 1084 pi        20   0   95208  24164  19980 S   0.3  2.7   0:06.97 lxpanel     \u001b[m\u001b[m\u001b[K\n",
      "\u001b[m 1283 pi        20   0  392176  87600  51216 S   0.3  9.9   0:27.03 chromium-b+ \u001b[m\u001b[m\u001b[K\n",
      "\u001b[m 1494 pi        20   0   62868  36772  11344 S   0.3  4.2   0:08.29 jupyter-no+ \u001b[m\u001b[m\u001b[K\u001b[H\u001b[mtop - 17:58:43 up 46 min,  2 users,  load average: 0.93, 0.54, 0.43\u001b[m\u001b[m\u001b[m\u001b[m\u001b[K\n",
      "Tasks:\u001b[m\u001b[m\u001b[1m 170 \u001b[m\u001b[mtotal,\u001b[m\u001b[m\u001b[1m   1 \u001b[m\u001b[mrunning,\u001b[m\u001b[m\u001b[1m 169 \u001b[m\u001b[msleeping,\u001b[m\u001b[m\u001b[1m   0 \u001b[m\u001b[mstopped,\u001b[m\u001b[m\u001b[1m   0 \u001b[m\u001b[mzombie\u001b[m\u001b[m\u001b[m\u001b[m\u001b[K\n",
      "%Cpu(s):\u001b[m\u001b[m\u001b[1m 20.2 \u001b[m\u001b[mus,\u001b[m\u001b[m\u001b[1m  2.4 \u001b[m\u001b[msy,\u001b[m\u001b[m\u001b[1m  0.0 \u001b[m\u001b[mni,\u001b[m\u001b[m\u001b[1m 77.1 \u001b[m\u001b[mid,\u001b[m\u001b[m\u001b[1m  0.3 \u001b[m\u001b[mwa,\u001b[m\u001b[m\u001b[1m  0.0 \u001b[m\u001b[mhi,\u001b[m\u001b[m\u001b[1m  0.0 \u001b[m\u001b[msi,\u001b[m\u001b[m\u001b[1m  0.0 \u001b[m\u001b[mst\u001b[m\u001b[m\u001b[m\u001b[m\u001b[K\n",
      "KiB Mem: \u001b[m\u001b[m\u001b[1m   880552 \u001b[m\u001b[mtotal,\u001b[m\u001b[m\u001b[1m   840952 \u001b[m\u001b[mused,\u001b[m\u001b[m\u001b[1m    39600 \u001b[m\u001b[mfree,\u001b[m\u001b[m\u001b[1m    12508 \u001b[m\u001b[mbuffers\u001b[m\u001b[m\u001b[m\u001b[m\u001b[K\n",
      "KiB Swap:\u001b[m\u001b[m\u001b[1m   102396 \u001b[m\u001b[mtotal,\u001b[m\u001b[m\u001b[1m    11724 \u001b[m\u001b[mused,\u001b[m\u001b[m\u001b[1m    90672 \u001b[m\u001b[mfree.\u001b[m\u001b[m\u001b[1m   276552 \u001b[m\u001b[mcached Mem\u001b[m\u001b[m\u001b[m\u001b[m\u001b[K\n",
      "\u001b[K\n",
      "\n",
      "\u001b[m 1587 pi        20   0  433220 134556  73208 S  40.1 15.3   5:47.87 chromium-b+ \u001b[m\u001b[m\u001b[K\n",
      "\u001b[m  607 root      20   0   43960  24324  14192 S  19.5  2.8   2:41.71 vncserver-+ \u001b[m\u001b[m\u001b[K\n",
      "\u001b[m 1213 pi        20   0  581104 154640 114652 S  13.2 17.6   5:06.93 chromium-b+ \u001b[m\u001b[m\u001b[K\n",
      "\u001b[m  702 root      20   0  151344  65644  37740 S   7.6  7.5   1:52.12 Xorg        \u001b[m\u001b[m\u001b[K\n",
      "\u001b[m 1656 pi        20   0  104984  28484   9252 S   6.6  3.2   0:04.42 python2     \u001b[m\u001b[m\u001b[K\n",
      "\u001b[m    6 root      20   0       0      0      0 S   0.7  0.0   0:09.49 kworker/u8+ \u001b[m\u001b[m\u001b[K\n",
      "\u001b[m   87 root     -51   0       0      0      0 S   0.7  0.0   0:08.67 irq/92-mmc1 \u001b[m\u001b[m\u001b[K\n",
      "\u001b[m  742 root      20   0   16288  12504  11912 S   0.7  1.4   0:21.25 vncagent    \u001b[m\u001b[m\u001b[K\n",
      "\u001b[m 1494 pi        20   0   62868  36772  11344 S   0.7  4.2   0:08.31 jupyter-no+ \u001b[m\u001b[m\u001b[K\n",
      "\u001b[m 2584 root      20   0       0      0      0 S   0.7  0.0   0:00.75 kworker/u8+ \u001b[m\u001b[m\u001b[K\n",
      "\u001b[m\u001b[1m 2632 pi        20   0    5112   2524   2132 R   0.7  0.3   0:00.13 top         \u001b[m\u001b[m\u001b[K\n",
      "\u001b[m    7 root      20   0       0      0      0 S   0.3  0.0   0:01.88 rcu_sched   \u001b[m\u001b[m\u001b[K\n",
      "\u001b[m 1312 pi        20   0  667240 306616 116064 S   0.3 34.8   4:09.04 chromium-b+ \u001b[m\u001b[m\u001b[K\n",
      "\u001b[m 2598 pi        20   0    5112   2492   2100 S   0.3  0.3   0:00.93 top         \u001b[m\u001b[m\u001b[K\n",
      "\u001b[m    1 root      20   0   23776   3384   2616 S   0.0  0.4   0:02.34 systemd     \u001b[m\u001b[m\u001b[K\n",
      "\u001b[m    2 root      20   0       0      0      0 S   0.0  0.0   0:00.00 kthreadd    \u001b[m\u001b[m\u001b[K\n",
      "\u001b[m    3 root      20   0       0      0      0 S   0.0  0.0   0:00.25 ksoftirqd/0 \u001b[m\u001b[m\u001b[K\u001b[H\u001b[mtop - 17:58:46 up 46 min,  2 users,  load average: 1.17, 0.59, 0.45\u001b[m\u001b[m\u001b[m\u001b[m\u001b[K\n",
      "Tasks:\u001b[m\u001b[m\u001b[1m 169 \u001b[m\u001b[mtotal,\u001b[m\u001b[m\u001b[1m   1 \u001b[m\u001b[mrunning,\u001b[m\u001b[m\u001b[1m 168 \u001b[m\u001b[msleeping,\u001b[m\u001b[m\u001b[1m   0 \u001b[m\u001b[mstopped,\u001b[m\u001b[m\u001b[1m   0 \u001b[m\u001b[mzombie\u001b[m\u001b[m\u001b[m\u001b[m\u001b[K\n",
      "%Cpu(s):\u001b[m\u001b[m\u001b[1m 18.3 \u001b[m\u001b[mus,\u001b[m\u001b[m\u001b[1m  4.8 \u001b[m\u001b[msy,\u001b[m\u001b[m\u001b[1m  0.0 \u001b[m\u001b[mni,\u001b[m\u001b[m\u001b[1m 71.8 \u001b[m\u001b[mid,\u001b[m\u001b[m\u001b[1m  4.6 \u001b[m\u001b[mwa,\u001b[m\u001b[m\u001b[1m  0.0 \u001b[m\u001b[mhi,\u001b[m\u001b[m\u001b[1m  0.4 \u001b[m\u001b[msi,\u001b[m\u001b[m\u001b[1m  0.0 \u001b[m\u001b[mst\u001b[m\u001b[m\u001b[m\u001b[m\u001b[K\n",
      "KiB Mem: \u001b[m\u001b[m\u001b[1m   880552 \u001b[m\u001b[mtotal,\u001b[m\u001b[m\u001b[1m   853992 \u001b[m\u001b[mused,\u001b[m\u001b[m\u001b[1m    26560 \u001b[m\u001b[mfree,\u001b[m\u001b[m\u001b[1m    12524 \u001b[m\u001b[mbuffers\u001b[m\u001b[m\u001b[m\u001b[m\u001b[K\n",
      "KiB Swap:\u001b[m\u001b[m\u001b[1m   102396 \u001b[m\u001b[mtotal,\u001b[m\u001b[m\u001b[1m    11724 \u001b[m\u001b[mused,\u001b[m\u001b[m\u001b[1m    90672 \u001b[m\u001b[mfree.\u001b[m\u001b[m\u001b[1m   296928 \u001b[m\u001b[mcached Mem\u001b[m\u001b[m\u001b[m\u001b[m\u001b[K\n",
      "\u001b[K\n",
      "\n",
      "\u001b[m 1213 pi        20   0  583188 159380 115672 S  35.8 18.1   5:08.01 chromium-b+ \u001b[m\u001b[m\u001b[K\n",
      "\u001b[m 1587 pi        20   0  433220 134440  73228 S  26.5 15.3   5:48.67 chromium-b+ \u001b[m\u001b[m\u001b[K\n",
      "\u001b[m  607 root      20   0   43960  24324  14192 S   8.0  2.8   2:41.95 vncserver-+ \u001b[m\u001b[m\u001b[K\n",
      "\u001b[m  702 root      20   0  151344  65644  37740 S   7.0  7.5   1:52.33 Xorg        \u001b[m\u001b[m\u001b[K\n",
      "\u001b[m 1656 pi        20   0  104984  28484   9252 S   6.6  3.2   0:04.62 python2     \u001b[m\u001b[m\u001b[K\n",
      "\u001b[m 1312 pi        20   0  667240 306848 116068 S   2.0 34.8   4:09.10 chromium-b+ \u001b[m\u001b[m\u001b[K\n",
      "\u001b[m  742 root      20   0   16288  12504  11912 S   1.7  1.4   0:21.30 vncagent    \u001b[m\u001b[m\u001b[K\n",
      "\u001b[m 2584 root      20   0       0      0      0 S   1.7  0.0   0:00.80 kworker/u8+ \u001b[m\u001b[m\u001b[K\n",
      "\u001b[m   87 root     -51   0       0      0      0 S   1.3  0.0   0:08.71 irq/92-mmc1 \u001b[m\u001b[m\u001b[K\n",
      "\u001b[m   90 root      20   0       0      0      0 S   1.0  0.0   0:01.60 mmcqd/0     \u001b[m\u001b[m\u001b[K\n",
      "\u001b[m    6 root      20   0       0      0      0 S   0.7  0.0   0:09.51 kworker/u8+ \u001b[m\u001b[m\u001b[K\n",
      "\u001b[m 2598 pi        20   0    5112   2492   2100 S   0.7  0.3   0:00.95 top         \u001b[m\u001b[m\u001b[K\n",
      "\u001b[m 1482 pi        20   0   47860  18468  15524 S   0.3  2.1   0:02.84 lxterminal  \u001b[m\u001b[m\u001b[K\n",
      "\u001b[m 1494 pi        20   0   62868  36772  11344 S   0.3  4.2   0:08.32 jupyter-no+ \u001b[m\u001b[m\u001b[K\n",
      "\u001b[m 2582 root      20   0       0      0      0 S   0.3  0.0   0:00.04 kworker/0:0 \u001b[m\u001b[m\u001b[K\n",
      "\u001b[m\u001b[1m 2632 pi        20   0    5112   2524   2132 R   0.3  0.3   0:00.14 top         \u001b[m\u001b[m\u001b[K\n",
      "\u001b[m    1 root      20   0   23776   3384   2616 S   0.0  0.4   0:02.34 systemd     \u001b[m\u001b[m\u001b[K\u001b[H\u001b[mtop - 17:58:49 up 46 min,  2 users,  load average: 1.17, 0.59, 0.45\u001b[m\u001b[m\u001b[m\u001b[m\u001b[K\n",
      "\n",
      "%Cpu(s):\u001b[m\u001b[m\u001b[1m 12.9 \u001b[m\u001b[mus,\u001b[m\u001b[m\u001b[1m  4.3 \u001b[m\u001b[msy,\u001b[m\u001b[m\u001b[1m  0.0 \u001b[m\u001b[mni,\u001b[m\u001b[m\u001b[1m 75.5 \u001b[m\u001b[mid,\u001b[m\u001b[m\u001b[1m  7.1 \u001b[m\u001b[mwa,\u001b[m\u001b[m\u001b[1m  0.0 \u001b[m\u001b[mhi,\u001b[m\u001b[m\u001b[1m  0.2 \u001b[m\u001b[msi,\u001b[m\u001b[m\u001b[1m  0.0 \u001b[m\u001b[mst\u001b[m\u001b[m\u001b[m\u001b[m\u001b[K\n",
      "KiB Mem: \u001b[m\u001b[m\u001b[1m   880552 \u001b[m\u001b[mtotal,\u001b[m\u001b[m\u001b[1m   849404 \u001b[m\u001b[mused,\u001b[m\u001b[m\u001b[1m    31148 \u001b[m\u001b[mfree,\u001b[m\u001b[m\u001b[1m    12524 \u001b[m\u001b[mbuffers\u001b[m\u001b[m\u001b[m\u001b[m\u001b[K\n",
      "KiB Swap:\u001b[m\u001b[m\u001b[1m   102396 \u001b[m\u001b[mtotal,\u001b[m\u001b[m\u001b[1m    13788 \u001b[m\u001b[mused,\u001b[m\u001b[m\u001b[1m    88608 \u001b[m\u001b[mfree.\u001b[m\u001b[m\u001b[1m   295668 \u001b[m\u001b[mcached Mem\u001b[m\u001b[m\u001b[m\u001b[m\u001b[K\n",
      "\u001b[K\n",
      "\n",
      "\u001b[m 1587 pi        20   0  430148 133212  71360 S  27.8 15.1   5:49.51 chromium-b+ \u001b[m\u001b[m\u001b[K\n",
      "\u001b[m 1213 pi        20   0  580080 157680 113980 S  18.2 17.9   5:08.56 chromium-b+ \u001b[m\u001b[m\u001b[K\n",
      "\u001b[m 1656 pi        20   0  104984  28484   9252 S   6.6  3.2   0:04.82 python2     \u001b[m\u001b[m\u001b[K\n",
      "\u001b[m  702 root      20   0  151344  61380  35376 S   5.6  7.0   1:52.50 Xorg        \u001b[m\u001b[m\u001b[K\n",
      "\u001b[m  607 root      20   0   43960  23828  13696 S   5.0  2.7   2:42.10 vncserver-+ \u001b[m\u001b[m\u001b[K\n",
      "\u001b[m  742 root      20   0   16288  11908  11476 S   1.7  1.4   0:21.35 vncagent    \u001b[m\u001b[m\u001b[K\n",
      "\u001b[m   40 root      20   0       0      0      0 S   1.0  0.0   0:00.66 kswapd0     \u001b[m\u001b[m\u001b[K\n",
      "\u001b[m   87 root     -51   0       0      0      0 S   1.0  0.0   0:08.74 irq/92-mmc1 \u001b[m\u001b[m\u001b[K\n",
      "\u001b[m    6 root      20   0       0      0      0 S   0.7  0.0   0:09.53 kworker/u8+ \u001b[m\u001b[m\u001b[K\n",
      "\u001b[m 2584 root      20   0       0      0      0 S   0.7  0.0   0:00.82 kworker/u8+ \u001b[m\u001b[m\u001b[K\n",
      "\u001b[m\u001b[1m 2632 pi        20   0    5112   2524   2132 R   0.7  0.3   0:00.16 top         \u001b[m\u001b[m\u001b[K\n",
      "\u001b[m    7 root      20   0       0      0      0 S   0.3  0.0   0:01.89 rcu_sched   \u001b[m\u001b[m\u001b[K\n",
      "\u001b[m   90 root      20   0       0      0      0 S   0.3  0.0   0:01.61 mmcqd/0     \u001b[m\u001b[m\u001b[K\n",
      "\u001b[m 1084 pi        20   0   95208  23232  19048 S   0.3  2.6   0:06.98 lxpanel     \u001b[m\u001b[m\u001b[K\n",
      "\u001b[m 1283 pi        20   0  392176  87600  51216 S   0.3  9.9   0:27.04 chromium-b+ \u001b[m\u001b[m\u001b[K\n",
      "\u001b[m 1482 pi        20   0   47860  18268  15324 S   0.3  2.1   0:02.85 lxterminal  \u001b[m\u001b[m\u001b[K\n"
     ]
    },
    {
     "name": "stdout",
     "output_type": "stream",
     "text": [
      "\u001b[m 1494 pi        20   0   62868  36772  11344 S   0.3  4.2   0:08.33 jupyter-no+ \u001b[m\u001b[m\u001b[K\u001b[H\u001b[mtop - 17:58:52 up 46 min,  2 users,  load average: 1.08, 0.58, 0.45\u001b[m\u001b[m\u001b[m\u001b[m\u001b[K\n",
      "\n",
      "%Cpu(s):\u001b[m\u001b[m\u001b[1m  8.5 \u001b[m\u001b[mus,\u001b[m\u001b[m\u001b[1m  1.4 \u001b[m\u001b[msy,\u001b[m\u001b[m\u001b[1m  0.0 \u001b[m\u001b[mni,\u001b[m\u001b[m\u001b[1m 89.9 \u001b[m\u001b[mid,\u001b[m\u001b[m\u001b[1m  0.0 \u001b[m\u001b[mwa,\u001b[m\u001b[m\u001b[1m  0.0 \u001b[m\u001b[mhi,\u001b[m\u001b[m\u001b[1m  0.2 \u001b[m\u001b[msi,\u001b[m\u001b[m\u001b[1m  0.0 \u001b[m\u001b[mst\u001b[m\u001b[m\u001b[m\u001b[m\u001b[K\n",
      "KiB Mem: \u001b[m\u001b[m\u001b[1m   880552 \u001b[m\u001b[mtotal,\u001b[m\u001b[m\u001b[1m   848412 \u001b[m\u001b[mused,\u001b[m\u001b[m\u001b[1m    32140 \u001b[m\u001b[mfree,\u001b[m\u001b[m\u001b[1m    12524 \u001b[m\u001b[mbuffers\u001b[m\u001b[m\u001b[m\u001b[m\u001b[K\n",
      "KiB Swap:\u001b[m\u001b[m\u001b[1m   102396 \u001b[m\u001b[mtotal,\u001b[m\u001b[m\u001b[1m    13788 \u001b[m\u001b[mused,\u001b[m\u001b[m\u001b[1m    88608 \u001b[m\u001b[mfree.\u001b[m\u001b[m\u001b[1m   295412 \u001b[m\u001b[mcached Mem\u001b[m\u001b[m\u001b[m\u001b[m\u001b[K\n",
      "\u001b[K\n",
      "\n",
      "\u001b[m 1587 pi        20   0  429892 132596  71152 S  19.2 15.1   5:50.09 chromium-b+ \u001b[m\u001b[m\u001b[K\n",
      "\u001b[m 1656 pi        20   0  104984  28484   9252 S   6.0  3.2   0:05.00 python2     \u001b[m\u001b[m\u001b[K\n",
      "\u001b[m 1213 pi        20   0  579824 155888 112188 S   5.6 17.7   5:08.73 chromium-b+ \u001b[m\u001b[m\u001b[K\n",
      "\u001b[m  607 root      20   0   43960  23828  13696 S   4.0  2.7   2:42.22 vncserver-+ \u001b[m\u001b[m\u001b[K\n",
      "\u001b[m  702 root      20   0  151344  61380  35376 S   3.6  7.0   1:52.61 Xorg        \u001b[m\u001b[m\u001b[K\n",
      "\u001b[m 1312 pi        20   0  667240 306184 116068 S   2.0 34.8   4:09.16 chromium-b+ \u001b[m\u001b[m\u001b[K\n",
      "\u001b[m  742 root      20   0   16288  11908  11476 S   0.7  1.4   0:21.37 vncagent    \u001b[m\u001b[m\u001b[K\n",
      "\u001b[m 2598 pi        20   0    5112   2492   2100 S   0.7  0.3   0:00.98 top         \u001b[m\u001b[m\u001b[K\n",
      "\u001b[m\u001b[1m 2632 pi        20   0    5112   2524   2132 R   0.7  0.3   0:00.18 top         \u001b[m\u001b[m\u001b[K\n",
      "\u001b[m   87 root     -51   0       0      0      0 S   0.3  0.0   0:08.75 irq/92-mmc1 \u001b[m\u001b[m\u001b[K\n",
      "\u001b[m 1494 pi        20   0   62868  36772  11344 S   0.3  4.2   0:08.34 jupyter-no+ \u001b[m\u001b[m\u001b[K\n",
      "\u001b[m 2584 root      20   0       0      0      0 S   0.3  0.0   0:00.83 kworker/u8+ \u001b[m\u001b[m\u001b[K\n",
      "\u001b[m    1 root      20   0   23776   3380   2612 S   0.0  0.4   0:02.34 systemd     \u001b[m\u001b[m\u001b[K\n",
      "\u001b[m    2 root      20   0       0      0      0 S   0.0  0.0   0:00.00 kthreadd    \u001b[m\u001b[m\u001b[K\n",
      "\u001b[m    3 root      20   0       0      0      0 S   0.0  0.0   0:00.25 ksoftirqd/0 \u001b[m\u001b[m\u001b[K\n",
      "\u001b[m    5 root       0 -20       0      0      0 S   0.0  0.0   0:00.00 kworker/0:+ \u001b[m\u001b[m\u001b[K\n",
      "\u001b[m    6 root      20   0       0      0      0 S   0.0  0.0   0:09.53 kworker/u8+ \u001b[m\u001b[m\u001b[K\u001b[H\u001b[mtop - 17:58:55 up 46 min,  2 users,  load average: 1.31, 0.64, 0.47\u001b[m\u001b[m\u001b[m\u001b[m\u001b[K\n",
      "Tasks:\u001b[m\u001b[m\u001b[1m 169 \u001b[m\u001b[mtotal,\u001b[m\u001b[m\u001b[1m   3 \u001b[m\u001b[mrunning,\u001b[m\u001b[m\u001b[1m 166 \u001b[m\u001b[msleeping,\u001b[m\u001b[m\u001b[1m   0 \u001b[m\u001b[mstopped,\u001b[m\u001b[m\u001b[1m   0 \u001b[m\u001b[mzombie\u001b[m\u001b[m\u001b[m\u001b[m\u001b[K\n",
      "%Cpu(s):\u001b[m\u001b[m\u001b[1m 12.3 \u001b[m\u001b[mus,\u001b[m\u001b[m\u001b[1m  4.1 \u001b[m\u001b[msy,\u001b[m\u001b[m\u001b[1m  0.0 \u001b[m\u001b[mni,\u001b[m\u001b[m\u001b[1m 82.6 \u001b[m\u001b[mid,\u001b[m\u001b[m\u001b[1m  0.8 \u001b[m\u001b[mwa,\u001b[m\u001b[m\u001b[1m  0.0 \u001b[m\u001b[mhi,\u001b[m\u001b[m\u001b[1m  0.3 \u001b[m\u001b[msi,\u001b[m\u001b[m\u001b[1m  0.0 \u001b[m\u001b[mst\u001b[m\u001b[m\u001b[m\u001b[m\u001b[K\n",
      "KiB Mem: \u001b[m\u001b[m\u001b[1m   880552 \u001b[m\u001b[mtotal,\u001b[m\u001b[m\u001b[1m   849680 \u001b[m\u001b[mused,\u001b[m\u001b[m\u001b[1m    30872 \u001b[m\u001b[mfree,\u001b[m\u001b[m\u001b[1m    12584 \u001b[m\u001b[mbuffers\u001b[m\u001b[m\u001b[m\u001b[m\u001b[K\n",
      "KiB Swap:\u001b[m\u001b[m\u001b[1m   102396 \u001b[m\u001b[mtotal,\u001b[m\u001b[m\u001b[1m    13772 \u001b[m\u001b[mused,\u001b[m\u001b[m\u001b[1m    88624 \u001b[m\u001b[mfree.\u001b[m\u001b[m\u001b[1m   295148 \u001b[m\u001b[mcached Mem\u001b[m\u001b[m\u001b[m\u001b[m\u001b[K\n",
      "\u001b[K\n",
      "\n",
      "\u001b[m 1587 pi        20   0  428356 131052  69648 S  25.7 14.9   5:50.87 chromium-b+ \u001b[m\u001b[m\u001b[K\n",
      "\u001b[m\u001b[1m 1213 pi        20   0  578288 153336 109636 R   9.6 17.4   5:09.02 chromium-b+ \u001b[m\u001b[m\u001b[K\n",
      "\u001b[m 1656 pi        20   0  104984  28560   9252 S   6.6  3.2   0:05.20 python2     \u001b[m\u001b[m\u001b[K\n",
      "\u001b[m\u001b[1m  702 root      20   0  151344  61380  35376 R   4.9  7.0   1:52.76 Xorg        \u001b[m\u001b[m\u001b[K\n",
      "\u001b[m  607 root      20   0   43960  23828  13696 S   4.3  2.7   2:42.35 vncserver-+ \u001b[m\u001b[m\u001b[K\n",
      "\u001b[m    1 root      20   0   23776   3432   2636 S   1.0  0.4   0:02.37 systemd     \u001b[m\u001b[m\u001b[K\n",
      "\u001b[m  742 root      20   0   16288  11908  11476 S   1.0  1.4   0:21.40 vncagent    \u001b[m\u001b[m\u001b[K\n",
      "\u001b[m\u001b[1m 2632 pi        20   0    5112   2524   2132 R   1.0  0.3   0:00.21 top         \u001b[m\u001b[m\u001b[K\n",
      "\u001b[m 1312 pi        20   0  667240 306244 116072 S   0.7 34.8   4:09.18 chromium-b+ \u001b[m\u001b[m\u001b[K\n",
      "\u001b[m 1494 pi        20   0   62868  36772  11344 S   0.7  4.2   0:08.36 jupyter-no+ \u001b[m\u001b[m\u001b[K\n",
      "\u001b[m 2584 root      20   0       0      0      0 S   0.7  0.0   0:00.85 kworker/u8+ \u001b[m\u001b[m\u001b[K\n",
      "\u001b[m    6 root      20   0       0      0      0 S   0.3  0.0   0:09.54 kworker/u8+ \u001b[m\u001b[m\u001b[K\n",
      "\u001b[m   87 root     -51   0       0      0      0 S   0.3  0.0   0:08.76 irq/92-mmc1 \u001b[m\u001b[m\u001b[K\n",
      "\u001b[m   90 root      20   0       0      0      0 S   0.3  0.0   0:01.62 mmcqd/0     \u001b[m\u001b[m\u001b[K\n",
      "\u001b[m  282 root      20   0       0      0      0 S   0.3  0.0   0:01.61 brcmf_wdog+ \u001b[m\u001b[m\u001b[K\n",
      "\u001b[m  457 avahi     20   0    3872   2292   2152 S   0.3  0.3   0:00.43 avahi-daem+ \u001b[m\u001b[m\u001b[K\n",
      "\u001b[m 1084 pi        20   0   95208  23232  19048 S   0.3  2.6   0:06.99 lxpanel     \u001b[m\u001b[m\u001b[K\u001b[H\u001b[mtop - 17:58:58 up 46 min,  2 users,  load average: 1.31, 0.64, 0.47\u001b[m\u001b[m\u001b[m\u001b[m\u001b[K\n",
      "Tasks:\u001b[m\u001b[m\u001b[1m 169 \u001b[m\u001b[mtotal,\u001b[m\u001b[m\u001b[1m   1 \u001b[m\u001b[mrunning,\u001b[m\u001b[m\u001b[1m 168 \u001b[m\u001b[msleeping,\u001b[m\u001b[m\u001b[1m   0 \u001b[m\u001b[mstopped,\u001b[m\u001b[m\u001b[1m   0 \u001b[m\u001b[mzombie\u001b[m\u001b[m\u001b[m\u001b[m\u001b[K\n",
      "%Cpu(s):\u001b[m\u001b[m\u001b[1m 13.7 \u001b[m\u001b[mus,\u001b[m\u001b[m\u001b[1m  2.9 \u001b[m\u001b[msy,\u001b[m\u001b[m\u001b[1m  0.0 \u001b[m\u001b[mni,\u001b[m\u001b[m\u001b[1m 83.3 \u001b[m\u001b[mid,\u001b[m\u001b[m\u001b[1m  0.0 \u001b[m\u001b[mwa,\u001b[m\u001b[m\u001b[1m  0.0 \u001b[m\u001b[mhi,\u001b[m\u001b[m\u001b[1m  0.1 \u001b[m\u001b[msi,\u001b[m\u001b[m\u001b[1m  0.0 \u001b[m\u001b[mst\u001b[m\u001b[m\u001b[m\u001b[m\u001b[K\n",
      "KiB Mem: \u001b[m\u001b[m\u001b[1m   880552 \u001b[m\u001b[mtotal,\u001b[m\u001b[m\u001b[1m   851232 \u001b[m\u001b[mused,\u001b[m\u001b[m\u001b[1m    29320 \u001b[m\u001b[mfree,\u001b[m\u001b[m\u001b[1m    12584 \u001b[m\u001b[mbuffers\u001b[m\u001b[m\u001b[m\u001b[m\u001b[K\n",
      "KiB Swap:\u001b[m\u001b[m\u001b[1m   102396 \u001b[m\u001b[mtotal,\u001b[m\u001b[m\u001b[1m    13768 \u001b[m\u001b[mused,\u001b[m\u001b[m\u001b[1m    88628 \u001b[m\u001b[mfree.\u001b[m\u001b[m\u001b[1m   296820 \u001b[m\u001b[mcached Mem\u001b[m\u001b[m\u001b[m\u001b[m\u001b[K\n",
      "\u001b[K\n",
      "\n",
      "\u001b[m 1587 pi        20   0  429892 133332  71240 S  29.0 15.1   5:51.75 chromium-b+ \u001b[m\u001b[m\u001b[K\n",
      "\u001b[m 1213 pi        20   0  579824 157960 114260 S  13.2 17.9   5:09.42 chromium-b+ \u001b[m\u001b[m\u001b[K\n",
      "\u001b[m 1656 pi        20   0  104984  28560   9252 S   6.9  3.2   0:05.41 python2     \u001b[m\u001b[m\u001b[K\n",
      "\u001b[m  702 root      20   0  151344  61380  35376 S   5.9  7.0   1:52.94 Xorg        \u001b[m\u001b[m\u001b[K\n",
      "\u001b[m  607 root      20   0   43960  23828  13696 S   4.9  2.7   2:42.50 vncserver-+ \u001b[m\u001b[m\u001b[K\n",
      "\u001b[m 1312 pi        20   0  667240 306368 116064 S   2.0 34.8   4:09.24 chromium-b+ \u001b[m\u001b[m\u001b[K\n",
      "\u001b[m  742 root      20   0   16288  11908  11476 S   1.3  1.4   0:21.44 vncagent    \u001b[m\u001b[m\u001b[K\n",
      "\u001b[m    6 root      20   0       0      0      0 S   0.7  0.0   0:09.56 kworker/u8+ \u001b[m\u001b[m\u001b[K\n",
      "\u001b[m   87 root     -51   0       0      0      0 S   0.7  0.0   0:08.78 irq/92-mmc1 \u001b[m\u001b[m\u001b[K\n",
      "\u001b[m 1494 pi        20   0   62868  36772  11344 S   0.7  4.2   0:08.38 jupyter-no+ \u001b[m\u001b[m\u001b[K\n",
      "\u001b[m 2598 pi        20   0    5112   2492   2100 S   0.7  0.3   0:01.01 top         \u001b[m\u001b[m\u001b[K\n",
      "\u001b[m\u001b[1m 2632 pi        20   0    5112   2524   2132 R   0.7  0.3   0:00.23 top         \u001b[m\u001b[m\u001b[K\n",
      "\u001b[m    7 root      20   0       0      0      0 S   0.3  0.0   0:01.90 rcu_sched   \u001b[m\u001b[m\u001b[K\n",
      "\u001b[m  127 root      20   0    9520   2464   2336 S   0.3  0.3   0:00.54 systemd-jo+ \u001b[m\u001b[m\u001b[K\n",
      "\u001b[m  457 avahi     20   0    3996   2432   2268 S   0.3  0.3   0:00.44 avahi-daem+ \u001b[m\u001b[m\u001b[K\n",
      "\u001b[m 1079 pi        20   0   21488  11776   9236 S   0.3  1.3   0:01.87 openbox     \u001b[m\u001b[m\u001b[K\n",
      "\u001b[m 1283 pi        20   0  392176  87660  51216 S   0.3 10.0   0:27.05 chromium-b+ \u001b[m\u001b[m\u001b[K\u001b[H\u001b[mtop - 17:59:01 up 46 min,  2 users,  load average: 1.29, 0.65, 0.47\u001b[m\u001b[m\u001b[m\u001b[m\u001b[K\n",
      "Tasks:\u001b[m\u001b[m\u001b[1m 169 \u001b[m\u001b[mtotal,\u001b[m\u001b[m\u001b[1m   2 \u001b[m\u001b[mrunning,\u001b[m\u001b[m\u001b[1m 167 \u001b[m\u001b[msleeping,\u001b[m\u001b[m\u001b[1m   0 \u001b[m\u001b[mstopped,\u001b[m\u001b[m\u001b[1m   0 \u001b[m\u001b[mzombie\u001b[m\u001b[m\u001b[m\u001b[m\u001b[K\n",
      "%Cpu(s):\u001b[m\u001b[m\u001b[1m 10.5 \u001b[m\u001b[mus,\u001b[m\u001b[m\u001b[1m  3.8 \u001b[m\u001b[msy,\u001b[m\u001b[m\u001b[1m  0.0 \u001b[m\u001b[mni,\u001b[m\u001b[m\u001b[1m 84.9 \u001b[m\u001b[mid,\u001b[m\u001b[m\u001b[1m  0.4 \u001b[m\u001b[mwa,\u001b[m\u001b[m\u001b[1m  0.0 \u001b[m\u001b[mhi,\u001b[m\u001b[m\u001b[1m  0.4 \u001b[m\u001b[msi,\u001b[m\u001b[m\u001b[1m  0.0 \u001b[m\u001b[mst\u001b[m\u001b[m\u001b[m\u001b[m\u001b[K\n",
      "KiB Mem: \u001b[m\u001b[m\u001b[1m   880552 \u001b[m\u001b[mtotal,\u001b[m\u001b[m\u001b[1m   850116 \u001b[m\u001b[mused,\u001b[m\u001b[m\u001b[1m    30436 \u001b[m\u001b[mfree,\u001b[m\u001b[m\u001b[1m    12592 \u001b[m\u001b[mbuffers\u001b[m\u001b[m\u001b[m\u001b[m\u001b[K\n",
      "KiB Swap:\u001b[m\u001b[m\u001b[1m   102396 \u001b[m\u001b[mtotal,\u001b[m\u001b[m\u001b[1m    13768 \u001b[m\u001b[mused,\u001b[m\u001b[m\u001b[1m    88628 \u001b[m\u001b[mfree.\u001b[m\u001b[m\u001b[1m   295284 \u001b[m\u001b[mcached Mem\u001b[m\u001b[m\u001b[m\u001b[m\u001b[K\n",
      "\u001b[K\n",
      "\n",
      "\u001b[m 1587 pi        20   0  428356 132104  69704 S  25.5 15.0   5:52.52 chromium-b+ \u001b[m\u001b[m\u001b[K\n",
      "\u001b[m 1213 pi        20   0  578288 156424 112724 S  16.6 17.8   5:09.92 chromium-b+ \u001b[m\u001b[m\u001b[K\n",
      "\u001b[m 1656 pi        20   0  105124  28560   9252 S   8.3  3.2   0:05.66 python2     \u001b[m\u001b[m\u001b[K\n",
      "\u001b[m  702 root      20   0  151344  61380  35376 S   7.0  7.0   1:53.15 Xorg        \u001b[m\u001b[m\u001b[K\n",
      "\u001b[m  607 root      20   0   43960  23828  13696 S   4.0  2.7   2:42.62 vncserver-+ \u001b[m\u001b[m\u001b[K\n",
      "\u001b[m  742 root      20   0   16288  11908  11476 S   2.3  1.4   0:21.51 vncagent    \u001b[m\u001b[m\u001b[K\n",
      "\u001b[m\u001b[1m    6 root      20   0       0      0      0 R   1.7  0.0   0:09.61 kworker/u8+ \u001b[m\u001b[m\u001b[K\n",
      "\u001b[m   87 root     -51   0       0      0      0 S   1.0  0.0   0:08.81 irq/92-mmc1 \u001b[m\u001b[m\u001b[K\n",
      "\u001b[m 1312 pi        20   0  667240 306368 116064 S   1.0 34.8   4:09.27 chromium-b+ \u001b[m\u001b[m\u001b[K\n",
      "\u001b[m\u001b[1m 2632 pi        20   0    5112   2524   2132 R   1.0  0.3   0:00.26 top         \u001b[m\u001b[m\u001b[K\n",
      "\u001b[m 1084 pi        20   0   95208  23232  19048 S   0.7  2.6   0:07.01 lxpanel     \u001b[m\u001b[m\u001b[K\n",
      "\u001b[m 2598 pi        20   0    5112   2492   2100 S   0.7  0.3   0:01.03 top         \u001b[m\u001b[m\u001b[K\n",
      "\u001b[m 1482 pi        20   0   47860  18268  15324 S   0.3  2.1   0:02.87 lxterminal  \u001b[m\u001b[m\u001b[K\n",
      "\u001b[m 1494 pi        20   0   62868  36772  11344 S   0.3  4.2   0:08.39 jupyter-no+ \u001b[m\u001b[m\u001b[K\n",
      "\u001b[m 2584 root      20   0       0      0      0 S   0.3  0.0   0:00.87 kworker/u8+ \u001b[m\u001b[m\u001b[K\n",
      "\u001b[m    1 root      20   0   23776   3432   2636 S   0.0  0.4   0:02.37 systemd     \u001b[m\u001b[m\u001b[K\n"
     ]
    },
    {
     "name": "stdout",
     "output_type": "stream",
     "text": [
      "\u001b[m    2 root      20   0       0      0      0 S   0.0  0.0   0:00.00 kthreadd    \u001b[m\u001b[m\u001b[K\u001b[H\u001b[mtop - 17:59:04 up 46 min,  2 users,  load average: 1.18, 0.64, 0.47\u001b[m\u001b[m\u001b[m\u001b[m\u001b[K\n",
      "Tasks:\u001b[m\u001b[m\u001b[1m 169 \u001b[m\u001b[mtotal,\u001b[m\u001b[m\u001b[1m   1 \u001b[m\u001b[mrunning,\u001b[m\u001b[m\u001b[1m 168 \u001b[m\u001b[msleeping,\u001b[m\u001b[m\u001b[1m   0 \u001b[m\u001b[mstopped,\u001b[m\u001b[m\u001b[1m   0 \u001b[m\u001b[mzombie\u001b[m\u001b[m\u001b[m\u001b[m\u001b[K\n",
      "%Cpu(s):\u001b[m\u001b[m\u001b[1m 16.8 \u001b[m\u001b[mus,\u001b[m\u001b[m\u001b[1m  5.5 \u001b[m\u001b[msy,\u001b[m\u001b[m\u001b[1m  0.0 \u001b[m\u001b[mni,\u001b[m\u001b[m\u001b[1m 75.3 \u001b[m\u001b[mid,\u001b[m\u001b[m\u001b[1m  1.9 \u001b[m\u001b[mwa,\u001b[m\u001b[m\u001b[1m  0.0 \u001b[m\u001b[mhi,\u001b[m\u001b[m\u001b[1m  0.4 \u001b[m\u001b[msi,\u001b[m\u001b[m\u001b[1m  0.0 \u001b[m\u001b[mst\u001b[m\u001b[m\u001b[m\u001b[m\u001b[K\n",
      "KiB Mem: \u001b[m\u001b[m\u001b[1m   880552 \u001b[m\u001b[mtotal,\u001b[m\u001b[m\u001b[1m   851204 \u001b[m\u001b[mused,\u001b[m\u001b[m\u001b[1m    29348 \u001b[m\u001b[mfree,\u001b[m\u001b[m\u001b[1m    12640 \u001b[m\u001b[mbuffers\u001b[m\u001b[m\u001b[m\u001b[m\u001b[K\n",
      "KiB Swap:\u001b[m\u001b[m\u001b[1m   102396 \u001b[m\u001b[mtotal,\u001b[m\u001b[m\u001b[1m    13768 \u001b[m\u001b[mused,\u001b[m\u001b[m\u001b[1m    88628 \u001b[m\u001b[mfree.\u001b[m\u001b[m\u001b[1m   297136 \u001b[m\u001b[mcached Mem\u001b[m\u001b[m\u001b[m\u001b[m\u001b[K\n",
      "\u001b[K\n",
      "\n",
      "\u001b[m 1587 pi        20   0  430148 133308  71060 S  34.0 15.1   5:53.55 chromium-b+ \u001b[m\u001b[m\u001b[K\n",
      "\u001b[m 1213 pi        20   0  580080 157768 114068 S  15.8 17.9   5:10.40 chromium-b+ \u001b[m\u001b[m\u001b[K\n",
      "\u001b[m 1494 pi        20   0   62884  36952  11344 S   7.6  4.2   0:08.62 jupyter-no+ \u001b[m\u001b[m\u001b[K\n",
      "\u001b[m 1656 pi        20   0  105124  28560   9252 S   7.3  3.2   0:05.88 python2     \u001b[m\u001b[m\u001b[K\n",
      "\u001b[m  702 root      20   0  151344  61380  35376 S   6.6  7.0   1:53.35 Xorg        \u001b[m\u001b[m\u001b[K\n",
      "\u001b[m  607 root      20   0   43960  23828  13696 S   4.6  2.7   2:42.76 vncserver-+ \u001b[m\u001b[m\u001b[K\n",
      "\u001b[m 1312 pi        20   0  667240 306540 116064 S   2.0 34.8   4:09.33 chromium-b+ \u001b[m\u001b[m\u001b[K\n",
      "\u001b[m  742 root      20   0   16288  11908  11476 S   1.6  1.4   0:21.56 vncagent    \u001b[m\u001b[m\u001b[K\n",
      "\u001b[m 2584 root      20   0       0      0      0 S   1.3  0.0   0:00.91 kworker/u8+ \u001b[m\u001b[m\u001b[K\n",
      "\u001b[m 1283 pi        20   0  392176  86788  51216 S   1.0  9.9   0:27.08 chromium-b+ \u001b[m\u001b[m\u001b[K\n",
      "\u001b[m    1 root      20   0   23776   3432   2636 S   0.7  0.4   0:02.39 systemd     \u001b[m\u001b[m\u001b[K\n",
      "\u001b[m   87 root     -51   0       0      0      0 S   0.7  0.0   0:08.83 irq/92-mmc1 \u001b[m\u001b[m\u001b[K\n",
      "\u001b[m    6 root      20   0       0      0      0 S   0.3  0.0   0:09.62 kworker/u8+ \u001b[m\u001b[m\u001b[K\n",
      "\u001b[m    7 root      20   0       0      0      0 S   0.3  0.0   0:01.91 rcu_sched   \u001b[m\u001b[m\u001b[K\n",
      "\u001b[m   90 root      20   0       0      0      0 S   0.3  0.0   0:01.63 mmcqd/0     \u001b[m\u001b[m\u001b[K\n",
      "\u001b[m   92 root      20   0       0      0      0 S   0.3  0.0   0:00.26 jbd2/mmcbl+ \u001b[m\u001b[m\u001b[K\n",
      "\u001b[m  457 avahi     20   0    3996   2432   2268 S   0.3  0.3   0:00.45 avahi-daem+ \u001b[m\u001b[m\u001b[K\u001b[H\u001b[mtop - 17:59:07 up 46 min,  2 users,  load average: 1.18, 0.64, 0.47\u001b[m\u001b[m\u001b[m\u001b[m\u001b[K\n",
      "\n",
      "%Cpu(s):\u001b[m\u001b[m\u001b[1m 10.1 \u001b[m\u001b[mus,\u001b[m\u001b[m\u001b[1m  1.8 \u001b[m\u001b[msy,\u001b[m\u001b[m\u001b[1m  0.0 \u001b[m\u001b[mni,\u001b[m\u001b[m\u001b[1m 87.8 \u001b[m\u001b[mid,\u001b[m\u001b[m\u001b[1m  0.0 \u001b[m\u001b[mwa,\u001b[m\u001b[m\u001b[1m  0.0 \u001b[m\u001b[mhi,\u001b[m\u001b[m\u001b[1m  0.3 \u001b[m\u001b[msi,\u001b[m\u001b[m\u001b[1m  0.0 \u001b[m\u001b[mst\u001b[m\u001b[m\u001b[m\u001b[m\u001b[K\n",
      "KiB Mem: \u001b[m\u001b[m\u001b[1m   880552 \u001b[m\u001b[mtotal,\u001b[m\u001b[m\u001b[1m   850160 \u001b[m\u001b[mused,\u001b[m\u001b[m\u001b[1m    30392 \u001b[m\u001b[mfree,\u001b[m\u001b[m\u001b[1m    12640 \u001b[m\u001b[mbuffers\u001b[m\u001b[m\u001b[m\u001b[m\u001b[K\n",
      "KiB Swap:\u001b[m\u001b[m\u001b[1m   102396 \u001b[m\u001b[mtotal,\u001b[m\u001b[m\u001b[1m    13768 \u001b[m\u001b[mused,\u001b[m\u001b[m\u001b[1m    88628 \u001b[m\u001b[mfree.\u001b[m\u001b[m\u001b[1m   295380 \u001b[m\u001b[mcached Mem\u001b[m\u001b[m\u001b[m\u001b[m\u001b[K\n",
      "\u001b[K\n",
      "\n",
      "\u001b[m 1587 pi        20   0  428868 131620  69268 S  25.5 14.9   5:54.32 chromium-b+ \u001b[m\u001b[m\u001b[K\n",
      "\u001b[m 1213 pi        20   0  578288 155976 112276 S   8.6 17.7   5:10.66 chromium-b+ \u001b[m\u001b[m\u001b[K\n",
      "\u001b[m 1656 pi        20   0  105124  28560   9252 S   6.0  3.2   0:06.06 python2     \u001b[m\u001b[m\u001b[K\n",
      "\u001b[m  702 root      20   0  151344  61380  35376 S   4.3  7.0   1:53.48 Xorg        \u001b[m\u001b[m\u001b[K\n",
      "\u001b[m  607 root      20   0   43960  23828  13696 S   4.0  2.7   2:42.88 vncserver-+ \u001b[m\u001b[m\u001b[K\n",
      "\u001b[m  742 root      20   0   16288  11908  11476 S   1.0  1.4   0:21.59 vncagent    \u001b[m\u001b[m\u001b[K\n",
      "\u001b[m 2598 pi        20   0    5112   2492   2100 S   0.7  0.3   0:01.06 top         \u001b[m\u001b[m\u001b[K\n",
      "\u001b[m\u001b[1m 2632 pi        20   0    5112   2524   2132 R   0.7  0.3   0:00.29 top         \u001b[m\u001b[m\u001b[K\n",
      "\u001b[m    6 root      20   0       0      0      0 S   0.3  0.0   0:09.63 kworker/u8+ \u001b[m\u001b[m\u001b[K\n",
      "\u001b[m   87 root     -51   0       0      0      0 S   0.3  0.0   0:08.84 irq/92-mmc1 \u001b[m\u001b[m\u001b[K\n",
      "\u001b[m  711 ntp       20   0    5684   3360   3196 S   0.3  0.4   0:00.44 ntpd        \u001b[m\u001b[m\u001b[K\n",
      "\u001b[m 1084 pi        20   0   95208  23232  19048 S   0.3  2.6   0:07.02 lxpanel     \u001b[m\u001b[m\u001b[K\n",
      "\u001b[m 1312 pi        20   0  667240 306540 116064 S   0.3 34.8   4:09.34 chromium-b+ \u001b[m\u001b[m\u001b[K\n",
      "\u001b[m 1494 pi        20   0   62884  36952  11344 S   0.3  4.2   0:08.63 jupyter-no+ \u001b[m\u001b[m\u001b[K\n",
      "\u001b[m 2347 root      20   0       0      0      0 S   0.3  0.0   0:00.13 kworker/1:2 \u001b[m\u001b[m\u001b[K\n",
      "\u001b[m    1 root      20   0   23776   3432   2636 S   0.0  0.4   0:02.39 systemd     \u001b[m\u001b[m\u001b[K\n",
      "\u001b[m    2 root      20   0       0      0      0 S   0.0  0.0   0:00.00 kthreadd    \u001b[m\u001b[m\u001b[K\u001b[H\u001b[mtop - 17:59:11 up 47 min,  2 users,  load average: 1.17, 0.64, 0.47\u001b[m\u001b[m\u001b[m\u001b[m\u001b[K\n",
      "Tasks:\u001b[m\u001b[m\u001b[1m 169 \u001b[m\u001b[mtotal,\u001b[m\u001b[m\u001b[1m   2 \u001b[m\u001b[mrunning,\u001b[m\u001b[m\u001b[1m 167 \u001b[m\u001b[msleeping,\u001b[m\u001b[m\u001b[1m   0 \u001b[m\u001b[mstopped,\u001b[m\u001b[m\u001b[1m   0 \u001b[m\u001b[mzombie\u001b[m\u001b[m\u001b[m\u001b[m\u001b[K\n",
      "%Cpu(s):\u001b[m\u001b[m\u001b[1m 18.7 \u001b[m\u001b[mus,\u001b[m\u001b[m\u001b[1m  3.4 \u001b[m\u001b[msy,\u001b[m\u001b[m\u001b[1m  0.0 \u001b[m\u001b[mni,\u001b[m\u001b[m\u001b[1m 77.4 \u001b[m\u001b[mid,\u001b[m\u001b[m\u001b[1m  0.3 \u001b[m\u001b[mwa,\u001b[m\u001b[m\u001b[1m  0.0 \u001b[m\u001b[mhi,\u001b[m\u001b[m\u001b[1m  0.2 \u001b[m\u001b[msi,\u001b[m\u001b[m\u001b[1m  0.0 \u001b[m\u001b[mst\u001b[m\u001b[m\u001b[m\u001b[m\u001b[K\n",
      "KiB Mem: \u001b[m\u001b[m\u001b[1m   880552 \u001b[m\u001b[mtotal,\u001b[m\u001b[m\u001b[1m   843196 \u001b[m\u001b[mused,\u001b[m\u001b[m\u001b[1m    37356 \u001b[m\u001b[mfree,\u001b[m\u001b[m\u001b[1m    12068 \u001b[m\u001b[mbuffers\u001b[m\u001b[m\u001b[m\u001b[m\u001b[K\n",
      "KiB Swap:\u001b[m\u001b[m\u001b[1m   102396 \u001b[m\u001b[mtotal,\u001b[m\u001b[m\u001b[1m    22932 \u001b[m\u001b[mused,\u001b[m\u001b[m\u001b[1m    79464 \u001b[m\u001b[mfree.\u001b[m\u001b[m\u001b[1m   290516 \u001b[m\u001b[mcached Mem\u001b[m\u001b[m\u001b[m\u001b[m\u001b[K\n",
      "\u001b[K\n",
      "\n",
      "\u001b[m 1587 pi        20   0  433732 135764  73236 S  36.1 15.4   5:55.41 chromium-b+ \u001b[m\u001b[m\u001b[K\n",
      "\u001b[m 1213 pi        20   0  583152 159216 115516 S  14.6 18.1   5:11.10 chromium-b+ \u001b[m\u001b[m\u001b[K\n",
      "\u001b[m\u001b[1m  607 root      20   0   43960  23180  13048 R  14.2  2.6   2:43.31 vncserver-+ \u001b[m\u001b[m\u001b[K\n",
      "\u001b[m  702 root      20   0  151344  52736  30564 S   7.3  6.0   1:53.70 Xorg        \u001b[m\u001b[m\u001b[K\n",
      "\u001b[m 1656 pi        20   0  105124  28560   9252 S   7.3  3.2   0:06.28 python2     \u001b[m\u001b[m\u001b[K\n",
      "\u001b[m 1312 pi        20   0  667240 306724 116068 S   3.0 34.8   4:09.43 chromium-b+ \u001b[m\u001b[m\u001b[K\n",
      "\u001b[m   40 root      20   0       0      0      0 S   2.7  0.0   0:00.74 kswapd0     \u001b[m\u001b[m\u001b[K\n",
      "\u001b[m  742 root      20   0   16288  11812  11440 S   1.0  1.3   0:21.62 vncagent    \u001b[m\u001b[m\u001b[K\n",
      "\u001b[m 2584 root      20   0       0      0      0 S   1.0  0.0   0:00.94 kworker/u8+ \u001b[m\u001b[m\u001b[K\n",
      "\u001b[m   87 root     -51   0       0      0      0 S   0.7  0.0   0:08.86 irq/92-mmc1 \u001b[m\u001b[m\u001b[K\n",
      "\u001b[m    6 root      20   0       0      0      0 S   0.3  0.0   0:09.64 kworker/u8+ \u001b[m\u001b[m\u001b[K\n",
      "\u001b[m   24 root      20   0       0      0      0 S   0.3  0.0   0:00.15 ksoftirqd/3 \u001b[m\u001b[m\u001b[K\n",
      "\u001b[m   90 root      20   0       0      0      0 S   0.3  0.0   0:01.64 mmcqd/0     \u001b[m\u001b[m\u001b[K\n",
      "\u001b[m  282 root      20   0       0      0      0 S   0.3  0.0   0:01.62 brcmf_wdog+ \u001b[m\u001b[m\u001b[K\n",
      "\u001b[m 1482 pi        20   0   47696  18264  15320 S   0.3  2.1   0:02.89 lxterminal  \u001b[m\u001b[m\u001b[K\n",
      "\u001b[m 1494 pi        20   0   62884  36948  11340 S   0.3  4.2   0:08.64 jupyter-no+ \u001b[m\u001b[m\u001b[K\n",
      "\u001b[m 2598 pi        20   0    5112   2492   2100 S   0.3  0.3   0:01.07 top         \u001b[m\u001b[m\u001b[K\u001b[H\u001b[mtop - 17:59:14 up 47 min,  2 users,  load average: 1.17, 0.64, 0.47\u001b[m\u001b[m\u001b[m\u001b[m\u001b[K\n",
      "Tasks:\u001b[m\u001b[m\u001b[1m 169 \u001b[m\u001b[mtotal,\u001b[m\u001b[m\u001b[1m   1 \u001b[m\u001b[mrunning,\u001b[m\u001b[m\u001b[1m 168 \u001b[m\u001b[msleeping,\u001b[m\u001b[m\u001b[1m   0 \u001b[m\u001b[mstopped,\u001b[m\u001b[m\u001b[1m   0 \u001b[m\u001b[mzombie\u001b[m\u001b[m\u001b[m\u001b[m\u001b[K\n",
      "%Cpu(s):\u001b[m\u001b[m\u001b[1m 11.9 \u001b[m\u001b[mus,\u001b[m\u001b[m\u001b[1m  1.6 \u001b[m\u001b[msy,\u001b[m\u001b[m\u001b[1m  0.0 \u001b[m\u001b[mni,\u001b[m\u001b[m\u001b[1m 79.0 \u001b[m\u001b[mid,\u001b[m\u001b[m\u001b[1m  7.1 \u001b[m\u001b[mwa,\u001b[m\u001b[m\u001b[1m  0.0 \u001b[m\u001b[mhi,\u001b[m\u001b[m\u001b[1m  0.4 \u001b[m\u001b[msi,\u001b[m\u001b[m\u001b[1m  0.0 \u001b[m\u001b[mst\u001b[m\u001b[m\u001b[m\u001b[m\u001b[K\n",
      "KiB Mem: \u001b[m\u001b[m\u001b[1m   880552 \u001b[m\u001b[mtotal,\u001b[m\u001b[m\u001b[1m   838888 \u001b[m\u001b[mused,\u001b[m\u001b[m\u001b[1m    41664 \u001b[m\u001b[mfree,\u001b[m\u001b[m\u001b[1m    12072 \u001b[m\u001b[mbuffers\u001b[m\u001b[m\u001b[m\u001b[m\u001b[K\n",
      "KiB Swap:\u001b[m\u001b[m\u001b[1m   102396 \u001b[m\u001b[mtotal,\u001b[m\u001b[m\u001b[1m    22932 \u001b[m\u001b[mused,\u001b[m\u001b[m\u001b[1m    79464 \u001b[m\u001b[mfree.\u001b[m\u001b[m\u001b[1m   287676 \u001b[m\u001b[mcached Mem\u001b[m\u001b[m\u001b[m\u001b[m\u001b[K\n",
      "\u001b[K\n",
      "\n",
      "\u001b[m 1587 pi        20   0  429892 132312  70316 S  23.9 15.0   5:56.13 chromium-b+ \u001b[m\u001b[m\u001b[K\n",
      "\u001b[m  607 root      20   0   43960  23180  13048 S  11.3  2.6   2:43.65 vncserver-+ \u001b[m\u001b[m\u001b[K\n",
      "\u001b[m 1213 pi        20   0  579312 155360 111660 S   8.6 17.6   5:11.36 chromium-b+ \u001b[m\u001b[m\u001b[K\n",
      "\u001b[m 1656 pi        20   0  105124  28560   9252 S   6.6  3.2   0:06.48 python2     \u001b[m\u001b[m\u001b[K\n",
      "\u001b[m  702 root      20   0  151344  52736  30564 S   4.6  6.0   1:53.84 Xorg        \u001b[m\u001b[m\u001b[K\n",
      "\u001b[m  742 root      20   0   16288  11812  11440 S   1.0  1.3   0:21.65 vncagent    \u001b[m\u001b[m\u001b[K\n",
      "\u001b[m\u001b[1m 2632 pi        20   0    5112   2524   2132 R   1.0  0.3   0:00.33 top         \u001b[m\u001b[m\u001b[K\n",
      "\u001b[m    6 root      20   0       0      0      0 S   0.7  0.0   0:09.66 kworker/u8+ \u001b[m\u001b[m\u001b[K\n",
      "\u001b[m   87 root     -51   0       0      0      0 S   0.7  0.0   0:08.88 irq/92-mmc1 \u001b[m\u001b[m\u001b[K\n",
      "\u001b[m 2598 pi        20   0    5112   2492   2100 S   0.7  0.3   0:01.09 top         \u001b[m\u001b[m\u001b[K\n",
      "\u001b[m    7 root      20   0       0      0      0 S   0.3  0.0   0:01.92 rcu_sched   \u001b[m\u001b[m\u001b[K\n",
      "\u001b[m 1312 pi        20   0  667240 306728 116068 S   0.3 34.8   4:09.44 chromium-b+ \u001b[m\u001b[m\u001b[K\n",
      "\u001b[m 1494 pi        20   0   62884  37048  11344 S   0.3  4.2   0:08.65 jupyter-no+ \u001b[m\u001b[m\u001b[K\n",
      "\u001b[m 2584 root      20   0       0      0      0 S   0.3  0.0   0:00.95 kworker/u8+ \u001b[m\u001b[m\u001b[K\n",
      "\u001b[m    1 root      20   0   23776   3212   2500 S   0.0  0.4   0:02.39 systemd     \u001b[m\u001b[m\u001b[K\n",
      "\u001b[m    2 root      20   0       0      0      0 S   0.0  0.0   0:00.00 kthreadd    \u001b[m\u001b[m\u001b[K\n"
     ]
    },
    {
     "name": "stdout",
     "output_type": "stream",
     "text": [
      "\u001b[m    3 root      20   0       0      0      0 S   0.0  0.0   0:00.25 ksoftirqd/0 \u001b[m\u001b[m\u001b[K\u001b[H\u001b[mtop - 17:59:17 up 47 min,  2 users,  load average: 1.08, 0.63, 0.47\u001b[m\u001b[m\u001b[m\u001b[m\u001b[K\n",
      "Tasks:\u001b[m\u001b[m\u001b[1m 169 \u001b[m\u001b[mtotal,\u001b[m\u001b[m\u001b[1m   3 \u001b[m\u001b[mrunning,\u001b[m\u001b[m\u001b[1m 166 \u001b[m\u001b[msleeping,\u001b[m\u001b[m\u001b[1m   0 \u001b[m\u001b[mstopped,\u001b[m\u001b[m\u001b[1m   0 \u001b[m\u001b[mzombie\u001b[m\u001b[m\u001b[m\u001b[m\u001b[K\n",
      "%Cpu(s):\u001b[m\u001b[m\u001b[1m 11.9 \u001b[m\u001b[mus,\u001b[m\u001b[m\u001b[1m  2.1 \u001b[m\u001b[msy,\u001b[m\u001b[m\u001b[1m  0.0 \u001b[m\u001b[mni,\u001b[m\u001b[m\u001b[1m 85.3 \u001b[m\u001b[mid,\u001b[m\u001b[m\u001b[1m  0.7 \u001b[m\u001b[mwa,\u001b[m\u001b[m\u001b[1m  0.0 \u001b[m\u001b[mhi,\u001b[m\u001b[m\u001b[1m  0.1 \u001b[m\u001b[msi,\u001b[m\u001b[m\u001b[1m  0.0 \u001b[m\u001b[mst\u001b[m\u001b[m\u001b[m\u001b[m\u001b[K\n",
      "KiB Mem: \u001b[m\u001b[m\u001b[1m   880552 \u001b[m\u001b[mtotal,\u001b[m\u001b[m\u001b[1m   842328 \u001b[m\u001b[mused,\u001b[m\u001b[m\u001b[1m    38224 \u001b[m\u001b[mfree,\u001b[m\u001b[m\u001b[1m    12088 \u001b[m\u001b[mbuffers\u001b[m\u001b[m\u001b[m\u001b[m\u001b[K\n",
      "KiB Swap:\u001b[m\u001b[m\u001b[1m   102396 \u001b[m\u001b[mtotal,\u001b[m\u001b[m\u001b[1m    22932 \u001b[m\u001b[mused,\u001b[m\u001b[m\u001b[1m    79464 \u001b[m\u001b[mfree.\u001b[m\u001b[m\u001b[1m   290400 \u001b[m\u001b[mcached Mem\u001b[m\u001b[m\u001b[m\u001b[m\u001b[K\n",
      "\u001b[K\n",
      "\n",
      "\u001b[m 1587 pi        20   0  433732 135556  73240 S  27.7 15.4   5:56.97 chromium-b+ \u001b[m\u001b[m\u001b[K\n",
      "\u001b[m 1213 pi        20   0  583152 156816 113116 S   7.9 17.8   5:11.60 chromium-b+ \u001b[m\u001b[m\u001b[K\n",
      "\u001b[m\u001b[1m 1656 pi        20   0  105124  28560   9252 R   7.6  3.2   0:06.71 python2     \u001b[m\u001b[m\u001b[K\n",
      "\u001b[m  607 root      20   0   43960  23180  13048 S   5.6  2.6   2:43.82 vncserver-+ \u001b[m\u001b[m\u001b[K\n",
      "\u001b[m  702 root      20   0  151344  52736  30564 S   3.6  6.0   1:53.95 Xorg        \u001b[m\u001b[m\u001b[K\n",
      "\u001b[m 1312 pi        20   0  667240 306744 116068 S   2.0 34.8   4:09.50 chromium-b+ \u001b[m\u001b[m\u001b[K\n",
      "\u001b[m  742 root      20   0   16288  11812  11440 S   0.7  1.3   0:21.67 vncagent    \u001b[m\u001b[m\u001b[K\n",
      "\u001b[m 1494 pi        20   0   62884  37048  11344 S   0.7  4.2   0:08.67 jupyter-no+ \u001b[m\u001b[m\u001b[K\n",
      "\u001b[m\u001b[1m 2632 pi        20   0    5112   2524   2132 R   0.7  0.3   0:00.35 top         \u001b[m\u001b[m\u001b[K\n",
      "\u001b[m 1084 pi        20   0   95208  22696  18512 S   0.3  2.6   0:07.03 lxpanel     \u001b[m\u001b[m\u001b[K\n",
      "\u001b[m 1482 pi        20   0   47696  18264  15320 S   0.3  2.1   0:02.90 lxterminal  \u001b[m\u001b[m\u001b[K\n",
      "\u001b[m 2584 root      20   0       0      0      0 S   0.3  0.0   0:00.96 kworker/u8+ \u001b[m\u001b[m\u001b[K\n",
      "\u001b[m 2598 pi        20   0    5112   2492   2100 S   0.3  0.3   0:01.10 top         \u001b[m\u001b[m\u001b[K\n",
      "\u001b[m    1 root      20   0   23776   3212   2500 S   0.0  0.4   0:02.39 systemd     \u001b[m\u001b[m\u001b[K\n",
      "\u001b[m    2 root      20   0       0      0      0 S   0.0  0.0   0:00.00 kthreadd    \u001b[m\u001b[m\u001b[K\n",
      "\u001b[m    3 root      20   0       0      0      0 S   0.0  0.0   0:00.25 ksoftirqd/0 \u001b[m\u001b[m\u001b[K\n",
      "\u001b[m    5 root       0 -20       0      0      0 S   0.0  0.0   0:00.00 kworker/0:+ \u001b[m\u001b[m\u001b[K\u001b[H\u001b[mtop - 17:59:20 up 47 min,  2 users,  load average: 1.15, 0.65, 0.48\u001b[m\u001b[m\u001b[m\u001b[m\u001b[K\n",
      "Tasks:\u001b[m\u001b[m\u001b[1m 169 \u001b[m\u001b[mtotal,\u001b[m\u001b[m\u001b[1m   4 \u001b[m\u001b[mrunning,\u001b[m\u001b[m\u001b[1m 165 \u001b[m\u001b[msleeping,\u001b[m\u001b[m\u001b[1m   0 \u001b[m\u001b[mstopped,\u001b[m\u001b[m\u001b[1m   0 \u001b[m\u001b[mzombie\u001b[m\u001b[m\u001b[m\u001b[m\u001b[K\n",
      "%Cpu(s):\u001b[m\u001b[m\u001b[1m 37.4 \u001b[m\u001b[mus,\u001b[m\u001b[m\u001b[1m  4.6 \u001b[m\u001b[msy,\u001b[m\u001b[m\u001b[1m  0.0 \u001b[m\u001b[mni,\u001b[m\u001b[m\u001b[1m 57.7 \u001b[m\u001b[mid,\u001b[m\u001b[m\u001b[1m  0.0 \u001b[m\u001b[mwa,\u001b[m\u001b[m\u001b[1m  0.0 \u001b[m\u001b[mhi,\u001b[m\u001b[m\u001b[1m  0.3 \u001b[m\u001b[msi,\u001b[m\u001b[m\u001b[1m  0.0 \u001b[m\u001b[mst\u001b[m\u001b[m\u001b[m\u001b[m\u001b[K\n",
      "KiB Mem: \u001b[m\u001b[m\u001b[1m   880552 \u001b[m\u001b[mtotal,\u001b[m\u001b[m\u001b[1m   846748 \u001b[m\u001b[mused,\u001b[m\u001b[m\u001b[1m    33804 \u001b[m\u001b[mfree,\u001b[m\u001b[m\u001b[1m    12092 \u001b[m\u001b[mbuffers\u001b[m\u001b[m\u001b[m\u001b[m\u001b[K\n",
      "KiB Swap:\u001b[m\u001b[m\u001b[1m   102396 \u001b[m\u001b[mtotal,\u001b[m\u001b[m\u001b[1m    22932 \u001b[m\u001b[mused,\u001b[m\u001b[m\u001b[1m    79464 \u001b[m\u001b[mfree.\u001b[m\u001b[m\u001b[1m   294424 \u001b[m\u001b[mcached Mem\u001b[m\u001b[m\u001b[m\u001b[m\u001b[K\n",
      "\u001b[K\n",
      "\n",
      "\u001b[m 1587 pi        20   0  438852 140068  77284 S 102.6 15.9   6:00.07 chromium-b+ \u001b[m\u001b[m\u001b[K\n",
      "\u001b[m\u001b[1m 1213 pi        20   0  588272 160084 116384 R  22.8 18.2   5:12.29 chromium-b+ \u001b[m\u001b[m\u001b[K\n",
      "\u001b[m\u001b[1m  607 root      20   0   43960  23180  13048 R  18.2  2.6   2:44.37 vncserver-+ \u001b[m\u001b[m\u001b[K\n",
      "\u001b[m\u001b[1m  702 root      20   0  151344  52736  30564 R  11.6  6.0   1:54.30 Xorg        \u001b[m\u001b[m\u001b[K\n",
      "\u001b[m 1656 pi        20   0  105124  28560   9252 S   7.6  3.2   0:06.94 python2     \u001b[m\u001b[m\u001b[K\n",
      "\u001b[m 2584 root      20   0       0      0      0 S   1.7  0.0   0:01.01 kworker/u8+ \u001b[m\u001b[m\u001b[K\n",
      "\u001b[m   87 root     -51   0       0      0      0 S   1.3  0.0   0:08.92 irq/92-mmc1 \u001b[m\u001b[m\u001b[K\n",
      "\u001b[m  742 root      20   0   16288  11812  11440 S   1.0  1.3   0:21.70 vncagent    \u001b[m\u001b[m\u001b[K\n",
      "\u001b[m 2598 pi        20   0    5112   2492   2100 S   1.0  0.3   0:01.13 top         \u001b[m\u001b[m\u001b[K\n",
      "\u001b[m    6 root      20   0       0      0      0 S   0.7  0.0   0:09.68 kworker/u8+ \u001b[m\u001b[m\u001b[K\n",
      "\u001b[m    3 root      20   0       0      0      0 S   0.3  0.0   0:00.26 ksoftirqd/0 \u001b[m\u001b[m\u001b[K\n",
      "\u001b[m    7 root      20   0       0      0      0 S   0.3  0.0   0:01.93 rcu_sched   \u001b[m\u001b[m\u001b[K\n",
      "\u001b[m  282 root      20   0       0      0      0 S   0.3  0.0   0:01.63 brcmf_wdog+ \u001b[m\u001b[m\u001b[K\n",
      "\u001b[m 1312 pi        20   0  667240 306892 116068 S   0.3 34.9   4:09.51 chromium-b+ \u001b[m\u001b[m\u001b[K\n",
      "\u001b[m 1494 pi        20   0   62884  37048  11344 S   0.3  4.2   0:08.68 jupyter-no+ \u001b[m\u001b[m\u001b[K\n",
      "\u001b[m\u001b[1m 2632 pi        20   0    5112   2524   2132 R   0.3  0.3   0:00.36 top         \u001b[m\u001b[m\u001b[K\n",
      "\u001b[m    1 root      20   0   23776   3212   2500 S   0.0  0.4   0:02.39 systemd     \u001b[m\u001b[m\u001b[K\u001b[H\u001b[mtop - 17:59:23 up 47 min,  2 users,  load average: 1.15, 0.65, 0.48\u001b[m\u001b[m\u001b[m\u001b[m\u001b[K\n",
      "Tasks:\u001b[m\u001b[m\u001b[1m 169 \u001b[m\u001b[mtotal,\u001b[m\u001b[m\u001b[1m   2 \u001b[m\u001b[mrunning,\u001b[m\u001b[m\u001b[1m 167 \u001b[m\u001b[msleeping,\u001b[m\u001b[m\u001b[1m   0 \u001b[m\u001b[mstopped,\u001b[m\u001b[m\u001b[1m   0 \u001b[m\u001b[mzombie\u001b[m\u001b[m\u001b[m\u001b[m\u001b[K\n",
      "%Cpu(s):\u001b[m\u001b[m\u001b[1m 25.9 \u001b[m\u001b[mus,\u001b[m\u001b[m\u001b[1m  2.9 \u001b[m\u001b[msy,\u001b[m\u001b[m\u001b[1m  0.0 \u001b[m\u001b[mni,\u001b[m\u001b[m\u001b[1m 70.8 \u001b[m\u001b[mid,\u001b[m\u001b[m\u001b[1m  0.0 \u001b[m\u001b[mwa,\u001b[m\u001b[m\u001b[1m  0.0 \u001b[m\u001b[mhi,\u001b[m\u001b[m\u001b[1m  0.4 \u001b[m\u001b[msi,\u001b[m\u001b[m\u001b[1m  0.0 \u001b[m\u001b[mst\u001b[m\u001b[m\u001b[m\u001b[m\u001b[K\n",
      "KiB Mem: \u001b[m\u001b[m\u001b[1m   880552 \u001b[m\u001b[mtotal,\u001b[m\u001b[m\u001b[1m   847252 \u001b[m\u001b[mused,\u001b[m\u001b[m\u001b[1m    33300 \u001b[m\u001b[mfree,\u001b[m\u001b[m\u001b[1m    12092 \u001b[m\u001b[mbuffers\u001b[m\u001b[m\u001b[m\u001b[m\u001b[K\n",
      "\n",
      "\u001b[K\n",
      "\n",
      "\u001b[m 1587 pi        20   0  438852 140208  77200 S  66.9 15.9   6:02.09 chromium-b+ \u001b[m\u001b[m\u001b[K\n",
      "\u001b[m 1213 pi        20   0  588272 162480 118780 S  17.9 18.5   5:12.83 chromium-b+ \u001b[m\u001b[m\u001b[K\n",
      "\u001b[m  607 root      20   0   43960  23180  13048 S  10.6  2.6   2:44.69 vncserver-+ \u001b[m\u001b[m\u001b[K\n",
      "\u001b[m  702 root      20   0  151344  52736  30564 S   7.9  6.0   1:54.54 Xorg        \u001b[m\u001b[m\u001b[K\n",
      "\u001b[m 1656 pi        20   0  105124  28560   9252 S   7.0  3.2   0:07.15 python2     \u001b[m\u001b[m\u001b[K\n",
      "\u001b[m 1312 pi        20   0  667752 307036 116068 S   3.3 34.9   4:09.61 chromium-b+ \u001b[m\u001b[m\u001b[K\n",
      "\u001b[m  742 root      20   0   16288  11812  11440 S   1.3  1.3   0:21.74 vncagent    \u001b[m\u001b[m\u001b[K\n",
      "\u001b[m    6 root      20   0       0      0      0 S   1.0  0.0   0:09.71 kworker/u8+ \u001b[m\u001b[m\u001b[K\n",
      "\u001b[m   87 root     -51   0       0      0      0 S   0.7  0.0   0:08.94 irq/92-mmc1 \u001b[m\u001b[m\u001b[K\n",
      "\u001b[m 2584 root      20   0       0      0      0 S   0.7  0.0   0:01.03 kworker/u8+ \u001b[m\u001b[m\u001b[K\n",
      "\u001b[m 2598 pi        20   0    5112   2492   2100 S   0.7  0.3   0:01.15 top         \u001b[m\u001b[m\u001b[K\n",
      "\u001b[m\u001b[1m 2632 pi        20   0    5112   2524   2132 R   0.7  0.3   0:00.38 top         \u001b[m\u001b[m\u001b[K\n",
      "\u001b[m 1482 pi        20   0   47696  18264  15320 S   0.3  2.1   0:02.91 lxterminal  \u001b[m\u001b[m\u001b[K\n",
      "\u001b[m 1494 pi        20   0   62884  37048  11344 S   0.3  4.2   0:08.69 jupyter-no+ \u001b[m\u001b[m\u001b[K\n",
      "\u001b[m    1 root      20   0   23776   3212   2500 S   0.0  0.4   0:02.39 systemd     \u001b[m\u001b[m\u001b[K\n",
      "\u001b[m    2 root      20   0       0      0      0 S   0.0  0.0   0:00.00 kthreadd    \u001b[m\u001b[m\u001b[K\n",
      "\u001b[m    3 root      20   0       0      0      0 S   0.0  0.0   0:00.26 ksoftirqd/0 \u001b[m\u001b[m\u001b[K\u001b[H\u001b[mtop - 17:59:26 up 47 min,  2 users,  load average: 1.06, 0.64, 0.47\u001b[m\u001b[m\u001b[m\u001b[m\u001b[K\n",
      "Tasks:\u001b[m\u001b[m\u001b[1m 169 \u001b[m\u001b[mtotal,\u001b[m\u001b[m\u001b[1m   1 \u001b[m\u001b[mrunning,\u001b[m\u001b[m\u001b[1m 168 \u001b[m\u001b[msleeping,\u001b[m\u001b[m\u001b[1m   0 \u001b[m\u001b[mstopped,\u001b[m\u001b[m\u001b[1m   0 \u001b[m\u001b[mzombie\u001b[m\u001b[m\u001b[m\u001b[m\u001b[K\n",
      "%Cpu(s):\u001b[m\u001b[m\u001b[1m 21.7 \u001b[m\u001b[mus,\u001b[m\u001b[m\u001b[1m  4.8 \u001b[m\u001b[msy,\u001b[m\u001b[m\u001b[1m  0.0 \u001b[m\u001b[mni,\u001b[m\u001b[m\u001b[1m 72.0 \u001b[m\u001b[mid,\u001b[m\u001b[m\u001b[1m  1.0 \u001b[m\u001b[mwa,\u001b[m\u001b[m\u001b[1m  0.0 \u001b[m\u001b[mhi,\u001b[m\u001b[m\u001b[1m  0.6 \u001b[m\u001b[msi,\u001b[m\u001b[m\u001b[1m  0.0 \u001b[m\u001b[mst\u001b[m\u001b[m\u001b[m\u001b[m\u001b[K\n",
      "KiB Mem: \u001b[m\u001b[m\u001b[1m   880552 \u001b[m\u001b[mtotal,\u001b[m\u001b[m\u001b[1m   839620 \u001b[m\u001b[mused,\u001b[m\u001b[m\u001b[1m    40932 \u001b[m\u001b[mfree,\u001b[m\u001b[m\u001b[1m    12100 \u001b[m\u001b[mbuffers\u001b[m\u001b[m\u001b[m\u001b[m\u001b[K\n",
      "KiB Swap:\u001b[m\u001b[m\u001b[1m   102396 \u001b[m\u001b[mtotal,\u001b[m\u001b[m\u001b[1m    22932 \u001b[m\u001b[mused,\u001b[m\u001b[m\u001b[1m    79464 \u001b[m\u001b[mfree.\u001b[m\u001b[m\u001b[1m   286544 \u001b[m\u001b[mcached Mem\u001b[m\u001b[m\u001b[m\u001b[m\u001b[K\n",
      "\u001b[K\n",
      "\n",
      "\u001b[m 1587 pi        20   0  428612 131720  69336 S  48.4 15.0   6:03.55 chromium-b+ \u001b[m\u001b[m\u001b[K\n",
      "\u001b[m 1213 pi        20   0  578032 153804 110104 S  17.6 17.5   5:13.36 chromium-b+ \u001b[m\u001b[m\u001b[K\n",
      "\u001b[m  607 root      20   0   43960  23180  13048 S  15.6  2.6   2:45.16 vncserver-+ \u001b[m\u001b[m\u001b[K\n",
      "\u001b[m  702 root      20   0  151344  52736  30564 S   8.9  6.0   1:54.81 Xorg        \u001b[m\u001b[m\u001b[K\n",
      "\u001b[m 1656 pi        20   0  105124  28560   9252 S   7.0  3.2   0:07.36 python2     \u001b[m\u001b[m\u001b[K\n",
      "\u001b[m   87 root     -51   0       0      0      0 D   1.3  0.0   0:08.98 irq/92-mmc1 \u001b[m\u001b[m\u001b[K\n",
      "\u001b[m  742 root      20   0   16288  11812  11440 S   1.3  1.3   0:21.78 vncagent    \u001b[m\u001b[m\u001b[K\n",
      "\u001b[m    6 root      20   0       0      0      0 S   1.0  0.0   0:09.74 kworker/u8+ \u001b[m\u001b[m\u001b[K\n",
      "\u001b[m 2584 root      20   0       0      0      0 D   1.0  0.0   0:01.06 kworker/u8+ \u001b[m\u001b[m\u001b[K\n",
      "\u001b[m\u001b[1m 2632 pi        20   0    5112   2524   2132 R   1.0  0.3   0:00.41 top         \u001b[m\u001b[m\u001b[K\n",
      "\u001b[m 1084 pi        20   0   95208  22696  18512 S   0.3  2.6   0:07.04 lxpanel     \u001b[m\u001b[m\u001b[K\n",
      "\u001b[m 1312 pi        20   0  667752 307088 116068 S   0.3 34.9   4:09.62 chromium-b+ \u001b[m\u001b[m\u001b[K\n",
      "\u001b[m 1494 pi        20   0   62884  37048  11344 S   0.3  4.2   0:08.70 jupyter-no+ \u001b[m\u001b[m\u001b[K\n",
      "\u001b[m 2598 pi        20   0    5112   2492   2100 S   0.3  0.3   0:01.16 top         \u001b[m\u001b[m\u001b[K\n",
      "\n",
      "\n"
     ]
    },
    {
     "name": "stdout",
     "output_type": "stream",
     "text": [
      "\u001b[H\u001b[mtop - 17:59:29 up 47 min,  2 users,  load average: 1.06, 0.64, 0.47\u001b[m\u001b[m\u001b[m\u001b[m\u001b[K\n",
      "\n",
      "%Cpu(s):\u001b[m\u001b[m\u001b[1m 14.5 \u001b[m\u001b[mus,\u001b[m\u001b[m\u001b[1m  3.0 \u001b[m\u001b[msy,\u001b[m\u001b[m\u001b[1m  0.0 \u001b[m\u001b[mni,\u001b[m\u001b[m\u001b[1m 82.0 \u001b[m\u001b[mid,\u001b[m\u001b[m\u001b[1m  0.0 \u001b[m\u001b[mwa,\u001b[m\u001b[m\u001b[1m  0.0 \u001b[m\u001b[mhi,\u001b[m\u001b[m\u001b[1m  0.4 \u001b[m\u001b[msi,\u001b[m\u001b[m\u001b[1m  0.0 \u001b[m\u001b[mst\u001b[m\u001b[m\u001b[m\u001b[m\u001b[K\n",
      "KiB Mem: \u001b[m\u001b[m\u001b[1m   880552 \u001b[m\u001b[mtotal,\u001b[m\u001b[m\u001b[1m   838984 \u001b[m\u001b[mused,\u001b[m\u001b[m\u001b[1m    41568 \u001b[m\u001b[mfree,\u001b[m\u001b[m\u001b[1m    12100 \u001b[m\u001b[mbuffers\u001b[m\u001b[m\u001b[m\u001b[m\u001b[K\n",
      "KiB Swap:\u001b[m\u001b[m\u001b[1m   102396 \u001b[m\u001b[mtotal,\u001b[m\u001b[m\u001b[1m    22932 \u001b[m\u001b[mused,\u001b[m\u001b[m\u001b[1m    79464 \u001b[m\u001b[mfree.\u001b[m\u001b[m\u001b[1m   286756 \u001b[m\u001b[mcached Mem\u001b[m\u001b[m\u001b[m\u001b[m\u001b[K\n",
      "\u001b[K\n",
      "\n",
      "\u001b[m 1587 pi        20   0  428868 132432  69640 S  25.7 15.0   6:04.33 chromium-b+ \u001b[m\u001b[m\u001b[K\n",
      "\u001b[m  607 root      20   0   43960  23180  13048 S  13.9  2.6   2:45.58 vncserver-+ \u001b[m\u001b[m\u001b[K\n",
      "\u001b[m 1213 pi        20   0  578216 155496 111796 S  10.9 17.7   5:13.69 chromium-b+ \u001b[m\u001b[m\u001b[K\n",
      "\u001b[m 1656 pi        20   0  105124  28560   9252 S   7.3  3.2   0:07.58 python2     \u001b[m\u001b[m\u001b[K\n",
      "\u001b[m  702 root      20   0  151272  52700  30528 S   4.9  6.0   1:54.96 Xorg        \u001b[m\u001b[m\u001b[K\n",
      "\u001b[m 1312 pi        20   0  667752 306300 116068 S   2.3 34.8   4:09.69 chromium-b+ \u001b[m\u001b[m\u001b[K\n",
      "\u001b[m  116 root      20   0       0      0      0 S   1.3  0.0   0:05.99 kworker/u8+ \u001b[m\u001b[m\u001b[K\n",
      "\u001b[m   87 root     -51   0       0      0      0 S   1.0  0.0   0:09.01 irq/92-mmc1 \u001b[m\u001b[m\u001b[K\n",
      "\u001b[m  742 root      20   0   16288  11812  11440 S   1.0  1.3   0:21.81 vncagent    \u001b[m\u001b[m\u001b[K\n",
      "\u001b[m 1494 pi        20   0   62884  37048  11344 S   0.7  4.2   0:08.72 jupyter-no+ \u001b[m\u001b[m\u001b[K\n",
      "\u001b[m 2598 pi        20   0    5112   2492   2100 S   0.7  0.3   0:01.18 top         \u001b[m\u001b[m\u001b[K\n",
      "\u001b[m\u001b[1m 2632 pi        20   0    5112   2524   2132 R   0.7  0.3   0:00.43 top         \u001b[m\u001b[m\u001b[K\n",
      "\u001b[m    7 root      20   0       0      0      0 S   0.3  0.0   0:01.94 rcu_sched   \u001b[m\u001b[m\u001b[K\n",
      "\u001b[m  544 root      20   0    7152   2496   2376 S   0.3  0.3   0:00.26 wpa_suppli+ \u001b[m\u001b[m\u001b[K\n",
      "\u001b[m 1084 pi        20   0   95208  22700  18512 S   0.3  2.6   0:07.05 lxpanel     \u001b[m\u001b[m\u001b[K\n",
      "\u001b[m 1283 pi        20   0  392176  86788  51216 S   0.3  9.9   0:27.09 chromium-b+ \u001b[m\u001b[m\u001b[K\n",
      "\u001b[m 1482 pi        20   0   47696  18264  15320 S   0.3  2.1   0:02.92 lxterminal  \u001b[m\u001b[m\u001b[K\u001b[H\u001b[mtop - 17:59:32 up 47 min,  2 users,  load average: 0.97, 0.63, 0.47\u001b[m\u001b[m\u001b[m\u001b[m\u001b[K\n",
      "Tasks:\u001b[m\u001b[m\u001b[1m 169 \u001b[m\u001b[mtotal,\u001b[m\u001b[m\u001b[1m   2 \u001b[m\u001b[mrunning,\u001b[m\u001b[m\u001b[1m 167 \u001b[m\u001b[msleeping,\u001b[m\u001b[m\u001b[1m   0 \u001b[m\u001b[mstopped,\u001b[m\u001b[m\u001b[1m   0 \u001b[m\u001b[mzombie\u001b[m\u001b[m\u001b[m\u001b[m\u001b[K\n",
      "%Cpu(s):\u001b[m\u001b[m\u001b[1m 12.9 \u001b[m\u001b[mus,\u001b[m\u001b[m\u001b[1m  4.0 \u001b[m\u001b[msy,\u001b[m\u001b[m\u001b[1m  0.0 \u001b[m\u001b[mni,\u001b[m\u001b[m\u001b[1m 82.5 \u001b[m\u001b[mid,\u001b[m\u001b[m\u001b[1m  0.2 \u001b[m\u001b[mwa,\u001b[m\u001b[m\u001b[1m  0.0 \u001b[m\u001b[mhi,\u001b[m\u001b[m\u001b[1m  0.4 \u001b[m\u001b[msi,\u001b[m\u001b[m\u001b[1m  0.0 \u001b[m\u001b[mst\u001b[m\u001b[m\u001b[m\u001b[m\u001b[K\n",
      "KiB Mem: \u001b[m\u001b[m\u001b[1m   880552 \u001b[m\u001b[mtotal,\u001b[m\u001b[m\u001b[1m   838844 \u001b[m\u001b[mused,\u001b[m\u001b[m\u001b[1m    41708 \u001b[m\u001b[mfree,\u001b[m\u001b[m\u001b[1m    12108 \u001b[m\u001b[mbuffers\u001b[m\u001b[m\u001b[m\u001b[m\u001b[K\n",
      "KiB Swap:\u001b[m\u001b[m\u001b[1m   102396 \u001b[m\u001b[mtotal,\u001b[m\u001b[m\u001b[1m    22932 \u001b[m\u001b[mused,\u001b[m\u001b[m\u001b[1m    79464 \u001b[m\u001b[mfree.\u001b[m\u001b[m\u001b[1m   287524 \u001b[m\u001b[mcached Mem\u001b[m\u001b[m\u001b[m\u001b[m\u001b[K\n",
      "\u001b[K\n",
      "\n",
      "\u001b[m\u001b[1m 1587 pi        20   0  429636 132600  70180 R  27.0 15.1   6:05.15 chromium-b+ \u001b[m\u001b[m\u001b[K\n",
      "\u001b[m 1213 pi        20   0  578984 154300 110600 S  11.5 17.5   5:14.04 chromium-b+ \u001b[m\u001b[m\u001b[K\n",
      "\u001b[m  607 root      20   0   43960  23180  13048 S   8.2  2.6   2:45.83 vncserver-+ \u001b[m\u001b[m\u001b[K\n",
      "\u001b[m 1656 pi        20   0  105124  28560   9252 S   7.3  3.2   0:07.80 python2     \u001b[m\u001b[m\u001b[K\n",
      "\u001b[m  702 root      20   0  151272  52700  30528 S   5.9  6.0   1:55.14 Xorg        \u001b[m\u001b[m\u001b[K\n",
      "\u001b[m  116 root      20   0       0      0      0 S   1.3  0.0   0:06.03 kworker/u8+ \u001b[m\u001b[m\u001b[K\n",
      "\u001b[m  742 root      20   0   16288  11812  11440 S   1.3  1.3   0:21.85 vncagent    \u001b[m\u001b[m\u001b[K\n",
      "\u001b[m   87 root     -51   0       0      0      0 S   0.7  0.0   0:09.03 irq/92-mmc1 \u001b[m\u001b[m\u001b[K\n",
      "\u001b[m 1494 pi        20   0   62884  37048  11344 S   0.7  4.2   0:08.74 jupyter-no+ \u001b[m\u001b[m\u001b[K\n",
      "\u001b[m\u001b[1m 2632 pi        20   0    5112   2524   2132 R   0.7  0.3   0:00.45 top         \u001b[m\u001b[m\u001b[K\n",
      "\u001b[m   90 root      20   0       0      0      0 S   0.3  0.0   0:01.65 mmcqd/0     \u001b[m\u001b[m\u001b[K\n",
      "\u001b[m  282 root      20   0       0      0      0 S   0.3  0.0   0:01.64 brcmf_wdog+ \u001b[m\u001b[m\u001b[K\n",
      "\u001b[m 1312 pi        20   0  667752 306300 116068 S   0.3 34.8   4:09.70 chromium-b+ \u001b[m\u001b[m\u001b[K\n",
      "\u001b[m 2584 root      20   0       0      0      0 S   0.3  0.0   0:01.07 kworker/u8+ \u001b[m\u001b[m\u001b[K\n",
      "\u001b[m 2598 pi        20   0    5112   2492   2100 S   0.3  0.3   0:01.19 top         \u001b[m\u001b[m\u001b[K\n",
      "\u001b[m    1 root      20   0   23776   3212   2500 S   0.0  0.4   0:02.39 systemd     \u001b[m\u001b[m\u001b[K\n",
      "\u001b[m    2 root      20   0       0      0      0 S   0.0  0.0   0:00.00 kthreadd    \u001b[m\u001b[m\u001b[K\u001b[H\u001b[mtop - 17:59:35 up 47 min,  2 users,  load average: 1.14, 0.67, 0.48\u001b[m\u001b[m\u001b[m\u001b[m\u001b[K\n",
      "Tasks:\u001b[m\u001b[m\u001b[1m 169 \u001b[m\u001b[mtotal,\u001b[m\u001b[m\u001b[1m   3 \u001b[m\u001b[mrunning,\u001b[m\u001b[m\u001b[1m 166 \u001b[m\u001b[msleeping,\u001b[m\u001b[m\u001b[1m   0 \u001b[m\u001b[mstopped,\u001b[m\u001b[m\u001b[1m   0 \u001b[m\u001b[mzombie\u001b[m\u001b[m\u001b[m\u001b[m\u001b[K\n",
      "%Cpu(s):\u001b[m\u001b[m\u001b[1m 18.5 \u001b[m\u001b[mus,\u001b[m\u001b[m\u001b[1m  3.3 \u001b[m\u001b[msy,\u001b[m\u001b[m\u001b[1m  0.0 \u001b[m\u001b[mni,\u001b[m\u001b[m\u001b[1m 77.9 \u001b[m\u001b[mid,\u001b[m\u001b[m\u001b[1m  0.0 \u001b[m\u001b[mwa,\u001b[m\u001b[m\u001b[1m  0.0 \u001b[m\u001b[mhi,\u001b[m\u001b[m\u001b[1m  0.3 \u001b[m\u001b[msi,\u001b[m\u001b[m\u001b[1m  0.0 \u001b[m\u001b[mst\u001b[m\u001b[m\u001b[m\u001b[m\u001b[K\n",
      "KiB Mem: \u001b[m\u001b[m\u001b[1m   880552 \u001b[m\u001b[mtotal,\u001b[m\u001b[m\u001b[1m   843548 \u001b[m\u001b[mused,\u001b[m\u001b[m\u001b[1m    37004 \u001b[m\u001b[mfree,\u001b[m\u001b[m\u001b[1m    12108 \u001b[m\u001b[mbuffers\u001b[m\u001b[m\u001b[m\u001b[m\u001b[K\n",
      "KiB Swap:\u001b[m\u001b[m\u001b[1m   102396 \u001b[m\u001b[mtotal,\u001b[m\u001b[m\u001b[1m    22932 \u001b[m\u001b[mused,\u001b[m\u001b[m\u001b[1m    79464 \u001b[m\u001b[mfree.\u001b[m\u001b[m\u001b[1m   287332 \u001b[m\u001b[mcached Mem\u001b[m\u001b[m\u001b[m\u001b[m\u001b[K\n",
      "\u001b[K\n",
      "\n",
      "\u001b[m 1587 pi        20   0  429636 132940  70224 S  24.2 15.1   6:05.88 chromium-b+ \u001b[m\u001b[m\u001b[K\n",
      "\u001b[m\u001b[1m 1283 pi        20   0  394260  90140  51220 R  15.2 10.2   0:27.55 chromium-b+ \u001b[m\u001b[m\u001b[K\n",
      "\u001b[m  607 root      20   0   43960  23180  13048 S  14.2  2.6   2:46.26 vncserver-+ \u001b[m\u001b[m\u001b[K\n",
      "\u001b[m\u001b[1m 1213 pi        20   0  578984 153452 109752 R  13.9 17.4   5:14.46 chromium-b+ \u001b[m\u001b[m\u001b[K\n",
      "\u001b[m  702 root      20   0  151272  52700  30528 S   6.6  6.0   1:55.34 Xorg        \u001b[m\u001b[m\u001b[K\n",
      "\u001b[m 1656 pi        20   0  105124  28560   9252 S   6.6  3.2   0:08.00 python2     \u001b[m\u001b[m\u001b[K\n",
      "\u001b[m  742 root      20   0   16288  11812  11440 S   1.7  1.3   0:21.90 vncagent    \u001b[m\u001b[m\u001b[K\n",
      "\u001b[m 1312 pi        20   0  667752 306404 116072 S   1.7 34.8   4:09.75 chromium-b+ \u001b[m\u001b[m\u001b[K\n",
      "\u001b[m 2584 root      20   0       0      0      0 S   1.3  0.0   0:01.11 kworker/u8+ \u001b[m\u001b[m\u001b[K\n",
      "\u001b[m   87 root     -51   0       0      0      0 S   1.0  0.0   0:09.06 irq/92-mmc1 \u001b[m\u001b[m\u001b[K\n",
      "\u001b[m 2598 pi        20   0    5112   2492   2100 S   1.0  0.3   0:01.22 top         \u001b[m\u001b[m\u001b[K\n",
      "\u001b[m\u001b[1m 2632 pi        20   0    5112   2524   2132 R   0.7  0.3   0:00.47 top         \u001b[m\u001b[m\u001b[K\n",
      "\u001b[m    7 root      20   0       0      0      0 S   0.3  0.0   0:01.95 rcu_sched   \u001b[m\u001b[m\u001b[K\n",
      "\u001b[m  116 root      20   0       0      0      0 S   0.3  0.0   0:06.04 kworker/u8+ \u001b[m\u001b[m\u001b[K\n",
      "\u001b[m 1084 pi        20   0   95208  22700  18512 S   0.3  2.6   0:07.06 lxpanel     \u001b[m\u001b[m\u001b[K\n",
      "\u001b[m 1365 pi        20   0  262928  49044  37904 S   0.3  5.6   0:00.90 chromium-b+ \u001b[m\u001b[m\u001b[K\n",
      "\u001b[m 1482 pi        20   0   47696  18264  15320 S   0.3  2.1   0:02.93 lxterminal  \u001b[m\u001b[m\u001b[K\u001b[H\u001b[mtop - 17:59:38 up 47 min,  2 users,  load average: 1.14, 0.67, 0.48\u001b[m\u001b[m\u001b[m\u001b[m\u001b[K\n",
      "\n",
      "%Cpu(s):\u001b[m\u001b[m\u001b[1m 33.9 \u001b[m\u001b[mus,\u001b[m\u001b[m\u001b[1m  5.9 \u001b[m\u001b[msy,\u001b[m\u001b[m\u001b[1m  0.0 \u001b[m\u001b[mni,\u001b[m\u001b[m\u001b[1m 60.3 \u001b[m\u001b[mid,\u001b[m\u001b[m\u001b[1m  0.0 \u001b[m\u001b[mwa,\u001b[m\u001b[m\u001b[1m  0.0 \u001b[m\u001b[mhi,\u001b[m\u001b[m\u001b[1m  0.0 \u001b[m\u001b[msi,\u001b[m\u001b[m\u001b[1m  0.0 \u001b[m\u001b[mst\u001b[m\u001b[m\u001b[m\u001b[m\u001b[K\n",
      "KiB Mem: \u001b[m\u001b[m\u001b[1m   880552 \u001b[m\u001b[mtotal,\u001b[m\u001b[m\u001b[1m   847032 \u001b[m\u001b[mused,\u001b[m\u001b[m\u001b[1m    33520 \u001b[m\u001b[mfree,\u001b[m\u001b[m\u001b[1m    11928 \u001b[m\u001b[mbuffers\u001b[m\u001b[m\u001b[m\u001b[m\u001b[K\n",
      "KiB Swap:\u001b[m\u001b[m\u001b[1m   102396 \u001b[m\u001b[mtotal,\u001b[m\u001b[m\u001b[1m    28716 \u001b[m\u001b[mused,\u001b[m\u001b[m\u001b[1m    73680 \u001b[m\u001b[mfree.\u001b[m\u001b[m\u001b[1m   264616 \u001b[m\u001b[mcached Mem\u001b[m\u001b[m\u001b[m\u001b[m\u001b[K\n",
      "\u001b[K\n",
      "\n",
      "\u001b[m\u001b[1m 1213 pi        20   0  608816 175596 109768 R  72.0 19.9   5:16.64 chromium-b+ \u001b[m\u001b[m\u001b[K\n",
      "\u001b[m 1283 pi        20   0  402988 106348  51132 S  33.0 12.1   0:28.55 chromium-b+ \u001b[m\u001b[m\u001b[K\n",
      "\u001b[m 1587 pi        20   0  431940 134504  71556 S  24.5 15.3   6:06.62 chromium-b+ \u001b[m\u001b[m\u001b[K\n",
      "\u001b[m\u001b[1m  607 root      20   0   43960  21036  11724 R   6.3  2.4   2:46.45 vncserver-+ \u001b[m\u001b[m\u001b[K\n",
      "\u001b[m 1656 pi        20   0  105124  28752   9204 S   6.3  3.3   0:08.19 python2     \u001b[m\u001b[m\u001b[K\n",
      "\u001b[m  702 root      20   0  151272  43948  21776 S   5.3  5.0   1:55.50 Xorg        \u001b[m\u001b[m\u001b[K\n",
      "\u001b[m   40 root      20   0       0      0      0 S   5.0  0.0   0:00.89 kswapd0     \u001b[m\u001b[m\u001b[K\n",
      "\u001b[m  742 root      20   0   16288  11752  11412 S   1.0  1.3   0:21.93 vncagent    \u001b[m\u001b[m\u001b[K\n",
      "\u001b[m   87 root     -51   0       0      0      0 S   0.7  0.0   0:09.08 irq/92-mmc1 \u001b[m\u001b[m\u001b[K\n",
      "\u001b[m 1312 pi        20   0  667752 305880 115396 S   0.7 34.7   4:09.77 chromium-b+ \u001b[m\u001b[m\u001b[K\n",
      "\u001b[m 1494 pi        20   0   62884  36948  11244 S   0.7  4.2   0:08.77 jupyter-no+ \u001b[m\u001b[m\u001b[K\n",
      "\u001b[m 2584 root      20   0       0      0      0 S   0.7  0.0   0:01.13 kworker/u8+ \u001b[m\u001b[m\u001b[K\n",
      "\u001b[m 2598 pi        20   0    5112   2496   2100 S   0.7  0.3   0:01.24 top         \u001b[m\u001b[m\u001b[K\n",
      "\u001b[m  116 root      20   0       0      0      0 S   0.3  0.0   0:06.05 kworker/u8+ \u001b[m\u001b[m\u001b[K\n",
      "\u001b[m 1482 pi        20   0   47696  17456  14512 S   0.3  2.0   0:02.94 lxterminal  \u001b[m\u001b[m\u001b[K\n",
      "\u001b[m 2582 root      20   0       0      0      0 S   0.3  0.0   0:00.06 kworker/0:0 \u001b[m\u001b[m\u001b[K\n"
     ]
    },
    {
     "name": "stdout",
     "output_type": "stream",
     "text": [
      "\u001b[m\u001b[1m 2632 pi        20   0    5112   2524   2132 R   0.3  0.3   0:00.48 top         \u001b[m\u001b[m\u001b[K\u001b[H\u001b[mtop - 17:59:41 up 47 min,  2 users,  load average: 1.04, 0.66, 0.48\u001b[m\u001b[m\u001b[m\u001b[m\u001b[K\n",
      "Tasks:\u001b[m\u001b[m\u001b[1m 169 \u001b[m\u001b[mtotal,\u001b[m\u001b[m\u001b[1m   1 \u001b[m\u001b[mrunning,\u001b[m\u001b[m\u001b[1m 168 \u001b[m\u001b[msleeping,\u001b[m\u001b[m\u001b[1m   0 \u001b[m\u001b[mstopped,\u001b[m\u001b[m\u001b[1m   0 \u001b[m\u001b[mzombie\u001b[m\u001b[m\u001b[m\u001b[m\u001b[K\n",
      "%Cpu(s):\u001b[m\u001b[m\u001b[1m 17.1 \u001b[m\u001b[mus,\u001b[m\u001b[m\u001b[1m  4.0 \u001b[m\u001b[msy,\u001b[m\u001b[m\u001b[1m  0.1 \u001b[m\u001b[mni,\u001b[m\u001b[m\u001b[1m 78.6 \u001b[m\u001b[mid,\u001b[m\u001b[m\u001b[1m  0.1 \u001b[m\u001b[mwa,\u001b[m\u001b[m\u001b[1m  0.0 \u001b[m\u001b[mhi,\u001b[m\u001b[m\u001b[1m  0.1 \u001b[m\u001b[msi,\u001b[m\u001b[m\u001b[1m  0.0 \u001b[m\u001b[mst\u001b[m\u001b[m\u001b[m\u001b[m\u001b[K\n",
      "KiB Mem: \u001b[m\u001b[m\u001b[1m   880552 \u001b[m\u001b[mtotal,\u001b[m\u001b[m\u001b[1m   831052 \u001b[m\u001b[mused,\u001b[m\u001b[m\u001b[1m    49500 \u001b[m\u001b[mfree,\u001b[m\u001b[m\u001b[1m    11936 \u001b[m\u001b[mbuffers\u001b[m\u001b[m\u001b[m\u001b[m\u001b[K\n",
      "KiB Swap:\u001b[m\u001b[m\u001b[1m   102396 \u001b[m\u001b[mtotal,\u001b[m\u001b[m\u001b[1m    28716 \u001b[m\u001b[mused,\u001b[m\u001b[m\u001b[1m    73680 \u001b[m\u001b[mfree.\u001b[m\u001b[m\u001b[1m   262408 \u001b[m\u001b[mcached Mem\u001b[m\u001b[m\u001b[m\u001b[m\u001b[K\n",
      "\u001b[K\n",
      "\n",
      "\u001b[m 1587 pi        20   0  431172 133688  70364 S  29.7 15.2   6:07.52 chromium-b+ \u001b[m\u001b[m\u001b[K\n",
      "\u001b[m 1213 pi        20   0  588596 158328 104988 S  23.1 18.0   5:17.34 chromium-b+ \u001b[m\u001b[m\u001b[K\n",
      "\u001b[m  607 root      20   0   43960  21036  11724 S  11.9  2.4   2:46.81 vncserver-+ \u001b[m\u001b[m\u001b[K\n",
      "\u001b[m 1656 pi        20   0  105124  28752   9204 S   6.6  3.3   0:08.39 python2     \u001b[m\u001b[m\u001b[K\n",
      "\u001b[m  702 root      20   0  151272  43948  21776 S   6.3  5.0   1:55.69 Xorg        \u001b[m\u001b[m\u001b[K\n",
      "\u001b[m 1312 pi        20   0  667752 306020 115396 S   2.3 34.8   4:09.84 chromium-b+ \u001b[m\u001b[m\u001b[K\n",
      "\u001b[m  742 root      20   0   16288  11752  11412 S   1.3  1.3   0:21.97 vncagent    \u001b[m\u001b[m\u001b[K\n",
      "\u001b[m 2584 root      20   0       0      0      0 S   1.3  0.0   0:01.17 kworker/u8+ \u001b[m\u001b[m\u001b[K\n",
      "\u001b[m   87 root     -51   0       0      0      0 S   1.0  0.0   0:09.11 irq/92-mmc1 \u001b[m\u001b[m\u001b[K\n",
      "\u001b[m\u001b[1m 2632 pi        20   0    5112   2528   2132 R   1.0  0.3   0:00.51 top         \u001b[m\u001b[m\u001b[K\n",
      "\u001b[m    7 root      20   0       0      0      0 S   0.3  0.0   0:01.96 rcu_sched   \u001b[m\u001b[m\u001b[K\n",
      "\u001b[m   40 root      20   0       0      0      0 S   0.3  0.0   0:00.90 kswapd0     \u001b[m\u001b[m\u001b[K\n",
      "\u001b[m   90 root      20   0       0      0      0 S   0.3  0.0   0:01.66 mmcqd/0     \u001b[m\u001b[m\u001b[K\n",
      "\u001b[m  282 root      20   0       0      0      0 S   0.3  0.0   0:01.65 brcmf_wdog+ \u001b[m\u001b[m\u001b[K\n",
      "\u001b[m 1283 pi        20   0  402988 106352  51132 S   0.3 12.1   0:28.56 chromium-b+ \u001b[m\u001b[m\u001b[K\n",
      "\u001b[m 1494 pi        20   0   62884  36948  11244 S   0.3  4.2   0:08.78 jupyter-no+ \u001b[m\u001b[m\u001b[K\n",
      "\u001b[m 2598 pi        20   0    5112   2496   2100 S   0.3  0.3   0:01.25 top         \u001b[m\u001b[m\u001b[K\u001b[H\u001b[mtop - 17:59:44 up 47 min,  2 users,  load average: 1.04, 0.66, 0.48\u001b[m\u001b[m\u001b[m\u001b[m\u001b[K\n",
      "Tasks:\u001b[m\u001b[m\u001b[1m 169 \u001b[m\u001b[mtotal,\u001b[m\u001b[m\u001b[1m   2 \u001b[m\u001b[mrunning,\u001b[m\u001b[m\u001b[1m 167 \u001b[m\u001b[msleeping,\u001b[m\u001b[m\u001b[1m   0 \u001b[m\u001b[mstopped,\u001b[m\u001b[m\u001b[1m   0 \u001b[m\u001b[mzombie\u001b[m\u001b[m\u001b[m\u001b[m\u001b[K\n",
      "%Cpu(s):\u001b[m\u001b[m\u001b[1m 18.1 \u001b[m\u001b[mus,\u001b[m\u001b[m\u001b[1m  4.0 \u001b[m\u001b[msy,\u001b[m\u001b[m\u001b[1m  0.0 \u001b[m\u001b[mni,\u001b[m\u001b[m\u001b[1m 77.8 \u001b[m\u001b[mid,\u001b[m\u001b[m\u001b[1m  0.0 \u001b[m\u001b[mwa,\u001b[m\u001b[m\u001b[1m  0.0 \u001b[m\u001b[mhi,\u001b[m\u001b[m\u001b[1m  0.1 \u001b[m\u001b[msi,\u001b[m\u001b[m\u001b[1m  0.0 \u001b[m\u001b[mst\u001b[m\u001b[m\u001b[m\u001b[m\u001b[K\n",
      "KiB Mem: \u001b[m\u001b[m\u001b[1m   880552 \u001b[m\u001b[mtotal,\u001b[m\u001b[m\u001b[1m   824604 \u001b[m\u001b[mused,\u001b[m\u001b[m\u001b[1m    55948 \u001b[m\u001b[mfree,\u001b[m\u001b[m\u001b[1m    11944 \u001b[m\u001b[mbuffers\u001b[m\u001b[m\u001b[m\u001b[m\u001b[K\n",
      "KiB Swap:\u001b[m\u001b[m\u001b[1m   102396 \u001b[m\u001b[mtotal,\u001b[m\u001b[m\u001b[1m    28716 \u001b[m\u001b[mused,\u001b[m\u001b[m\u001b[1m    73680 \u001b[m\u001b[mfree.\u001b[m\u001b[m\u001b[1m   263436 \u001b[m\u001b[mcached Mem\u001b[m\u001b[m\u001b[m\u001b[m\u001b[K\n",
      "\u001b[K\n",
      "\n",
      "\u001b[m 1587 pi        20   0  431940 134652  71208 S  38.6 15.3   6:08.69 chromium-b+ \u001b[m\u001b[m\u001b[K\n",
      "\u001b[m 1213 pi        20   0  589364 160532 107192 S  14.5 18.2   5:17.78 chromium-b+ \u001b[m\u001b[m\u001b[K\n",
      "\u001b[m  702 root      20   0  151272  43948  21776 S   6.9  5.0   1:55.90 Xorg        \u001b[m\u001b[m\u001b[K\n",
      "\u001b[m 1656 pi        20   0  105304  28752   9204 S   6.6  3.3   0:08.59 python2     \u001b[m\u001b[m\u001b[K\n",
      "\u001b[m  607 root      20   0   43960  21036  11724 S   5.9  2.4   2:46.99 vncserver-+ \u001b[m\u001b[m\u001b[K\n",
      "\u001b[m 1283 pi        20   0  396036  99596  51132 S   5.9 11.3   0:28.74 chromium-b+ \u001b[m\u001b[m\u001b[K\n",
      "\u001b[m\u001b[1m 1312 pi        20   0  667752 306020 115396 R   2.0 34.8   4:09.90 chromium-b+ \u001b[m\u001b[m\u001b[K\n",
      "\u001b[m  742 root      20   0   16288  11752  11412 S   1.6  1.3   0:22.02 vncagent    \u001b[m\u001b[m\u001b[K\n",
      "\u001b[m 2584 root      20   0       0      0      0 S   1.0  0.0   0:01.20 kworker/u8+ \u001b[m\u001b[m\u001b[K\n",
      "\u001b[m\u001b[1m 2632 pi        20   0    5112   2528   2132 R   1.0  0.3   0:00.54 top         \u001b[m\u001b[m\u001b[K\n",
      "\u001b[m   87 root     -51   0       0      0      0 S   0.7  0.0   0:09.13 irq/92-mmc1 \u001b[m\u001b[m\u001b[K\n",
      "\u001b[m  116 root      20   0       0      0      0 S   0.7  0.0   0:06.07 kworker/u8+ \u001b[m\u001b[m\u001b[K\n",
      "\u001b[m 1494 pi        20   0   62884  36948  11244 S   0.7  4.2   0:08.80 jupyter-no+ \u001b[m\u001b[m\u001b[K\n",
      "\u001b[m 2598 pi        20   0    5112   2496   2100 S   0.7  0.3   0:01.27 top         \u001b[m\u001b[m\u001b[K\n",
      "\u001b[m  964 pi        20   0   26016   7532   7000 S   0.3  0.9   0:01.41 vncserverui \u001b[m\u001b[m\u001b[K\n",
      "\u001b[m 1079 pi        20   0   21488  10712   8172 S   0.3  1.2   0:01.88 openbox     \u001b[m\u001b[m\u001b[K\n",
      "\u001b[m 1084 pi        20   0   95208  18784  14596 S   0.3  2.1   0:07.07 lxpanel     \u001b[m\u001b[m\u001b[K\u001b[H\u001b[mtop - 17:59:47 up 47 min,  2 users,  load average: 1.04, 0.67, 0.48\u001b[m\u001b[m\u001b[m\u001b[m\u001b[K\n",
      "Tasks:\u001b[m\u001b[m\u001b[1m 169 \u001b[m\u001b[mtotal,\u001b[m\u001b[m\u001b[1m   1 \u001b[m\u001b[mrunning,\u001b[m\u001b[m\u001b[1m 168 \u001b[m\u001b[msleeping,\u001b[m\u001b[m\u001b[1m   0 \u001b[m\u001b[mstopped,\u001b[m\u001b[m\u001b[1m   0 \u001b[m\u001b[mzombie\u001b[m\u001b[m\u001b[m\u001b[m\u001b[K\n",
      "%Cpu(s):\u001b[m\u001b[m\u001b[1m  8.3 \u001b[m\u001b[mus,\u001b[m\u001b[m\u001b[1m  1.4 \u001b[m\u001b[msy,\u001b[m\u001b[m\u001b[1m  0.0 \u001b[m\u001b[mni,\u001b[m\u001b[m\u001b[1m 90.1 \u001b[m\u001b[mid,\u001b[m\u001b[m\u001b[1m  0.2 \u001b[m\u001b[mwa,\u001b[m\u001b[m\u001b[1m  0.0 \u001b[m\u001b[mhi,\u001b[m\u001b[m\u001b[1m  0.1 \u001b[m\u001b[msi,\u001b[m\u001b[m\u001b[1m  0.0 \u001b[m\u001b[mst\u001b[m\u001b[m\u001b[m\u001b[m\u001b[K\n",
      "KiB Mem: \u001b[m\u001b[m\u001b[1m   880552 \u001b[m\u001b[mtotal,\u001b[m\u001b[m\u001b[1m   813428 \u001b[m\u001b[mused,\u001b[m\u001b[m\u001b[1m    67124 \u001b[m\u001b[mfree,\u001b[m\u001b[m\u001b[1m    11952 \u001b[m\u001b[mbuffers\u001b[m\u001b[m\u001b[m\u001b[m\u001b[K\n",
      "KiB Swap:\u001b[m\u001b[m\u001b[1m   102396 \u001b[m\u001b[mtotal,\u001b[m\u001b[m\u001b[1m    28716 \u001b[m\u001b[mused,\u001b[m\u001b[m\u001b[1m    73680 \u001b[m\u001b[mfree.\u001b[m\u001b[m\u001b[1m   261388 \u001b[m\u001b[mcached Mem\u001b[m\u001b[m\u001b[m\u001b[m\u001b[K\n",
      "\u001b[K\n",
      "\n",
      "\u001b[m 1283 pi        20   0  394500  88704  51132 S  13.2 10.1   0:29.14 chromium-b+ \u001b[m\u001b[m\u001b[K\n",
      "\u001b[m 1587 pi        20   0  429892 132884  69160 S   8.3 15.1   6:08.94 chromium-b+ \u001b[m\u001b[m\u001b[K\n",
      "\u001b[m 1656 pi        20   0  105304  28752   9204 S   6.9  3.3   0:08.80 python2     \u001b[m\u001b[m\u001b[K\n",
      "\u001b[m 1213 pi        20   0  587316 160724 107384 S   3.0 18.3   5:17.87 chromium-b+ \u001b[m\u001b[m\u001b[K\n",
      "\u001b[m  702 root      20   0  151272  43948  21776 S   1.7  5.0   1:55.95 Xorg        \u001b[m\u001b[m\u001b[K\n",
      "\u001b[m  607 root      20   0   43960  21036  11724 S   1.3  2.4   2:47.03 vncserver-+ \u001b[m\u001b[m\u001b[K\n",
      "\u001b[m 1312 pi        20   0  667752 306156 115396 S   1.0 34.8   4:09.93 chromium-b+ \u001b[m\u001b[m\u001b[K\n",
      "\u001b[m\u001b[1m 2632 pi        20   0    5112   2528   2132 R   0.7  0.3   0:00.56 top         \u001b[m\u001b[m\u001b[K\n",
      "\u001b[m  116 root      20   0       0      0      0 S   0.3  0.0   0:06.08 kworker/u8+ \u001b[m\u001b[m\u001b[K\n",
      "\u001b[m  742 root      20   0   16288  11752  11412 S   0.3  1.3   0:22.03 vncagent    \u001b[m\u001b[m\u001b[K\n",
      "\u001b[m 1494 pi        20   0   62884  36948  11244 S   0.3  4.2   0:08.81 jupyter-no+ \u001b[m\u001b[m\u001b[K\n",
      "\u001b[m 2347 root      20   0       0      0      0 S   0.3  0.0   0:00.14 kworker/1:2 \u001b[m\u001b[m\u001b[K\n",
      "\u001b[m 2598 pi        20   0    5112   2496   2100 S   0.3  0.3   0:01.28 top         \u001b[m\u001b[m\u001b[K\n",
      "\u001b[m    1 root      20   0   23776   3148   2444 S   0.0  0.4   0:02.39 systemd     \u001b[m\u001b[m\u001b[K\n",
      "\u001b[m    2 root      20   0       0      0      0 S   0.0  0.0   0:00.00 kthreadd    \u001b[m\u001b[m\u001b[K\n",
      "\u001b[m    3 root      20   0       0      0      0 S   0.0  0.0   0:00.26 ksoftirqd/0 \u001b[m\u001b[m\u001b[K\n",
      "\u001b[m    5 root       0 -20       0      0      0 S   0.0  0.0   0:00.00 kworker/0:+ \u001b[m\u001b[m\u001b[K\u001b[H\u001b[mtop - 17:59:50 up 47 min,  2 users,  load average: 1.12, 0.69, 0.49\u001b[m\u001b[m\u001b[m\u001b[m\u001b[K\n",
      "Tasks:\u001b[m\u001b[m\u001b[1m 169 \u001b[m\u001b[mtotal,\u001b[m\u001b[m\u001b[1m   3 \u001b[m\u001b[mrunning,\u001b[m\u001b[m\u001b[1m 166 \u001b[m\u001b[msleeping,\u001b[m\u001b[m\u001b[1m   0 \u001b[m\u001b[mstopped,\u001b[m\u001b[m\u001b[1m   0 \u001b[m\u001b[mzombie\u001b[m\u001b[m\u001b[m\u001b[m\u001b[K\n",
      "%Cpu(s):\u001b[m\u001b[m\u001b[1m 16.8 \u001b[m\u001b[mus,\u001b[m\u001b[m\u001b[1m  5.9 \u001b[m\u001b[msy,\u001b[m\u001b[m\u001b[1m  0.0 \u001b[m\u001b[mni,\u001b[m\u001b[m\u001b[1m 76.4 \u001b[m\u001b[mid,\u001b[m\u001b[m\u001b[1m  0.6 \u001b[m\u001b[mwa,\u001b[m\u001b[m\u001b[1m  0.0 \u001b[m\u001b[mhi,\u001b[m\u001b[m\u001b[1m  0.3 \u001b[m\u001b[msi,\u001b[m\u001b[m\u001b[1m  0.0 \u001b[m\u001b[mst\u001b[m\u001b[m\u001b[m\u001b[m\u001b[K\n",
      "KiB Mem: \u001b[m\u001b[m\u001b[1m   880552 \u001b[m\u001b[mtotal,\u001b[m\u001b[m\u001b[1m   814048 \u001b[m\u001b[mused,\u001b[m\u001b[m\u001b[1m    66504 \u001b[m\u001b[mfree,\u001b[m\u001b[m\u001b[1m    11960 \u001b[m\u001b[mbuffers\u001b[m\u001b[m\u001b[m\u001b[m\u001b[K\n",
      "KiB Swap:\u001b[m\u001b[m\u001b[1m   102396 \u001b[m\u001b[mtotal,\u001b[m\u001b[m\u001b[1m    28716 \u001b[m\u001b[mused,\u001b[m\u001b[m\u001b[1m    73680 \u001b[m\u001b[mfree.\u001b[m\u001b[m\u001b[1m   263540 \u001b[m\u001b[mcached Mem\u001b[m\u001b[m\u001b[m\u001b[m\u001b[K\n",
      "\u001b[K\n",
      "\n",
      "\u001b[m\u001b[1m 1587 pi        20   0  431940 134788  71032 R  35.0 15.3   6:10.00 chromium-b+ \u001b[m\u001b[m\u001b[K\n",
      "\u001b[m 1213 pi        20   0  589364 160124 106784 S  19.8 18.2   5:18.47 chromium-b+ \u001b[m\u001b[m\u001b[K\n",
      "\u001b[m  702 root      20   0  151272  43948  21776 S   8.2  5.0   1:56.20 Xorg        \u001b[m\u001b[m\u001b[K\n",
      "\u001b[m 1656 pi        20   0  105304  28752   9204 S   7.9  3.3   0:09.04 python2     \u001b[m\u001b[m\u001b[K\n",
      "\u001b[m  607 root      20   0   43960  21036  11724 S   5.3  2.4   2:47.19 vncserver-+ \u001b[m\u001b[m\u001b[K\n",
      "\u001b[m  742 root      20   0   16288  11752  11412 S   2.6  1.3   0:22.11 vncagent    \u001b[m\u001b[m\u001b[K\n",
      "\u001b[m\u001b[1m  116 root      20   0       0      0      0 R   2.0  0.0   0:06.14 kworker/u8+ \u001b[m\u001b[m\u001b[K\n",
      "\u001b[m 1312 pi        20   0  667752 306268 115396 S   2.0 34.8   4:09.99 chromium-b+ \u001b[m\u001b[m\u001b[K\n",
      "\u001b[m   87 root     -51   0       0      0      0 D   1.3  0.0   0:09.17 irq/92-mmc1 \u001b[m\u001b[m\u001b[K\n",
      "\u001b[m 1494 pi        20   0   62884  36948  11244 S   0.7  4.2   0:08.83 jupyter-no+ \u001b[m\u001b[m\u001b[K\n",
      "\u001b[m 2598 pi        20   0    5112   2496   2100 S   0.7  0.3   0:01.30 top         \u001b[m\u001b[m\u001b[K\n",
      "\u001b[m\u001b[1m 2632 pi        20   0    5112   2528   2132 R   0.7  0.3   0:00.58 top         \u001b[m\u001b[m\u001b[K\n",
      "\u001b[m    7 root      20   0       0      0      0 S   0.3  0.0   0:01.97 rcu_sched   \u001b[m\u001b[m\u001b[K\n",
      "\u001b[m 1084 pi        20   0   95208  18784  14596 S   0.3  2.1   0:07.08 lxpanel     \u001b[m\u001b[m\u001b[K\n",
      "\u001b[m 1482 pi        20   0   47696  17456  14512 S   0.3  2.0   0:02.96 lxterminal  \u001b[m\u001b[m\u001b[K\n",
      "\u001b[m    1 root      20   0   23776   3148   2444 S   0.0  0.4   0:02.39 systemd     \u001b[m\u001b[m\u001b[K\n"
     ]
    },
    {
     "name": "stdout",
     "output_type": "stream",
     "text": [
      "\u001b[m    2 root      20   0       0      0      0 S   0.0  0.0   0:00.00 kthreadd    \u001b[m\u001b[m\u001b[K\u001b[H\u001b[mtop - 17:59:53 up 47 min,  2 users,  load average: 1.12, 0.69, 0.49\u001b[m\u001b[m\u001b[m\u001b[m\u001b[K\n",
      "\n",
      "%Cpu(s):\u001b[m\u001b[m\u001b[1m 22.1 \u001b[m\u001b[mus,\u001b[m\u001b[m\u001b[1m  5.1 \u001b[m\u001b[msy,\u001b[m\u001b[m\u001b[1m  0.0 \u001b[m\u001b[mni,\u001b[m\u001b[m\u001b[1m 72.6 \u001b[m\u001b[mid,\u001b[m\u001b[m\u001b[1m  0.1 \u001b[m\u001b[mwa,\u001b[m\u001b[m\u001b[1m  0.0 \u001b[m\u001b[mhi,\u001b[m\u001b[m\u001b[1m  0.2 \u001b[m\u001b[msi,\u001b[m\u001b[m\u001b[1m  0.0 \u001b[m\u001b[mst\u001b[m\u001b[m\u001b[m\u001b[m\u001b[K\n",
      "KiB Mem: \u001b[m\u001b[m\u001b[1m   880552 \u001b[m\u001b[mtotal,\u001b[m\u001b[m\u001b[1m   820620 \u001b[m\u001b[mused,\u001b[m\u001b[m\u001b[1m    59932 \u001b[m\u001b[mfree,\u001b[m\u001b[m\u001b[1m    11968 \u001b[m\u001b[mbuffers\u001b[m\u001b[m\u001b[m\u001b[m\u001b[K\n",
      "KiB Swap:\u001b[m\u001b[m\u001b[1m   102396 \u001b[m\u001b[mtotal,\u001b[m\u001b[m\u001b[1m    28716 \u001b[m\u001b[mused,\u001b[m\u001b[m\u001b[1m    73680 \u001b[m\u001b[mfree.\u001b[m\u001b[m\u001b[1m   269368 \u001b[m\u001b[mcached Mem\u001b[m\u001b[m\u001b[m\u001b[m\u001b[K\n",
      "\u001b[K\n",
      "\n",
      "\u001b[m\u001b[1m 1587 pi        20   0  440644 141152  76860 R  52.0 16.0   6:11.57 chromium-b+ \u001b[m\u001b[m\u001b[K\n",
      "\u001b[m 1213 pi        20   0  597556 168288 114948 S  21.2 19.1   5:19.11 chromium-b+ \u001b[m\u001b[m\u001b[K\n",
      "\u001b[m  607 root      20   0   43960  21036  11724 S  12.6  2.4   2:47.57 vncserver-+ \u001b[m\u001b[m\u001b[K\n",
      "\u001b[m\u001b[1m  702 root      20   0  151272  43948  21776 R   9.3  5.0   1:56.48 Xorg        \u001b[m\u001b[m\u001b[K\n",
      "\u001b[m 1656 pi        20   0  105304  28752   9204 S   7.0  3.3   0:09.25 python2     \u001b[m\u001b[m\u001b[K\n",
      "\u001b[m  742 root      20   0   16288  11752  11412 S   1.7  1.3   0:22.16 vncagent    \u001b[m\u001b[m\u001b[K\n",
      "\u001b[m  116 root      20   0       0      0      0 D   1.3  0.0   0:06.18 kworker/u8+ \u001b[m\u001b[m\u001b[K\n",
      "\u001b[m 1312 pi        20   0  667752 306404 115400 S   1.3 34.8   4:10.03 chromium-b+ \u001b[m\u001b[m\u001b[K\n",
      "\u001b[m   87 root     -51   0       0      0      0 S   1.0  0.0   0:09.20 irq/92-mmc1 \u001b[m\u001b[m\u001b[K\n",
      "\u001b[m\u001b[1m 2632 pi        20   0    5112   2528   2132 R   0.7  0.3   0:00.60 top         \u001b[m\u001b[m\u001b[K\n",
      "\u001b[m  483 root      20   0    2560   1588   1500 S   0.3  0.2   0:00.17 dhcpcd      \u001b[m\u001b[m\u001b[K\n",
      "\u001b[m 1283 pi        20   0  394500  88724  51132 S   0.3 10.1   0:29.15 chromium-b+ \u001b[m\u001b[m\u001b[K\n",
      "\u001b[m 1494 pi        20   0   62884  36948  11244 S   0.3  4.2   0:08.84 jupyter-no+ \u001b[m\u001b[m\u001b[K\n",
      "\u001b[m 2584 root      20   0       0      0      0 S   0.3  0.0   0:01.21 kworker/u8+ \u001b[m\u001b[m\u001b[K\n",
      "\u001b[m 2598 pi        20   0    5112   2496   2100 S   0.3  0.3   0:01.31 top         \u001b[m\u001b[m\u001b[K\n",
      "\n",
      "\u001b[H\u001b[mtop - 17:59:56 up 47 min,  2 users,  load average: 1.03, 0.68, 0.49\u001b[m\u001b[m\u001b[m\u001b[m\u001b[K\n",
      "Tasks:\u001b[m\u001b[m\u001b[1m 169 \u001b[m\u001b[mtotal,\u001b[m\u001b[m\u001b[1m   1 \u001b[m\u001b[mrunning,\u001b[m\u001b[m\u001b[1m 168 \u001b[m\u001b[msleeping,\u001b[m\u001b[m\u001b[1m   0 \u001b[m\u001b[mstopped,\u001b[m\u001b[m\u001b[1m   0 \u001b[m\u001b[mzombie\u001b[m\u001b[m\u001b[m\u001b[m\u001b[K\n",
      "%Cpu(s):\u001b[m\u001b[m\u001b[1m 19.7 \u001b[m\u001b[mus,\u001b[m\u001b[m\u001b[1m  2.4 \u001b[m\u001b[msy,\u001b[m\u001b[m\u001b[1m  0.0 \u001b[m\u001b[mni,\u001b[m\u001b[m\u001b[1m 77.9 \u001b[m\u001b[mid,\u001b[m\u001b[m\u001b[1m  0.0 \u001b[m\u001b[mwa,\u001b[m\u001b[m\u001b[1m  0.0 \u001b[m\u001b[mhi,\u001b[m\u001b[m\u001b[1m  0.1 \u001b[m\u001b[msi,\u001b[m\u001b[m\u001b[1m  0.0 \u001b[m\u001b[mst\u001b[m\u001b[m\u001b[m\u001b[m\u001b[K\n",
      "KiB Mem: \u001b[m\u001b[m\u001b[1m   880552 \u001b[m\u001b[mtotal,\u001b[m\u001b[m\u001b[1m   814856 \u001b[m\u001b[mused,\u001b[m\u001b[m\u001b[1m    65696 \u001b[m\u001b[mfree,\u001b[m\u001b[m\u001b[1m    11968 \u001b[m\u001b[mbuffers\u001b[m\u001b[m\u001b[m\u001b[m\u001b[K\n",
      "KiB Swap:\u001b[m\u001b[m\u001b[1m   102396 \u001b[m\u001b[mtotal,\u001b[m\u001b[m\u001b[1m    28716 \u001b[m\u001b[mused,\u001b[m\u001b[m\u001b[1m    73680 \u001b[m\u001b[mfree.\u001b[m\u001b[m\u001b[1m   263352 \u001b[m\u001b[mcached Mem\u001b[m\u001b[m\u001b[m\u001b[m\u001b[K\n",
      "\u001b[K\n",
      "\n",
      "\u001b[m 1587 pi        20   0  432968 135064  70876 S  44.0 15.3   6:12.90 chromium-b+ \u001b[m\u001b[m\u001b[K\n",
      "\u001b[m 1213 pi        20   0  588340 160328 106988 S  12.9 18.2   5:19.50 chromium-b+ \u001b[m\u001b[m\u001b[K\n",
      "\u001b[m  607 root      20   0   43960  21036  11724 S  12.2  2.4   2:47.94 vncserver-+ \u001b[m\u001b[m\u001b[K\n",
      "\u001b[m  702 root      20   0  151272  43948  21776 S   6.6  5.0   1:56.68 Xorg        \u001b[m\u001b[m\u001b[K\n",
      "\u001b[m 1656 pi        20   0  105304  28752   9204 S   6.3  3.3   0:09.44 python2     \u001b[m\u001b[m\u001b[K\n",
      "\u001b[m 1312 pi        20   0  667752 306504 115400 S   2.3 34.8   4:10.10 chromium-b+ \u001b[m\u001b[m\u001b[K\n",
      "\u001b[m  742 root      20   0   16288  11752  11412 S   1.3  1.3   0:22.20 vncagent    \u001b[m\u001b[m\u001b[K\n",
      "\u001b[m 2584 root      20   0       0      0      0 S   1.0  0.0   0:01.24 kworker/u8+ \u001b[m\u001b[m\u001b[K\n",
      "\u001b[m   87 root     -51   0       0      0      0 S   0.7  0.0   0:09.22 irq/92-mmc1 \u001b[m\u001b[m\u001b[K\n",
      "\u001b[m  116 root      20   0       0      0      0 S   0.7  0.0   0:06.20 kworker/u8+ \u001b[m\u001b[m\u001b[K\n",
      "\u001b[m 2598 pi        20   0    5112   2496   2100 S   0.7  0.3   0:01.33 top         \u001b[m\u001b[m\u001b[K\n",
      "\u001b[m    7 root      20   0       0      0      0 S   0.3  0.0   0:01.98 rcu_sched   \u001b[m\u001b[m\u001b[K\n",
      "\u001b[m   19 root      20   0       0      0      0 S   0.3  0.0   0:00.24 ksoftirqd/2 \u001b[m\u001b[m\u001b[K\n",
      "\u001b[m  282 root      20   0       0      0      0 S   0.3  0.0   0:01.66 brcmf_wdog+ \u001b[m\u001b[m\u001b[K\n",
      "\u001b[m 1084 pi        20   0   95208  18784  14596 S   0.3  2.1   0:07.09 lxpanel     \u001b[m\u001b[m\u001b[K\n",
      "\u001b[m 1482 pi        20   0   47696  17456  14512 S   0.3  2.0   0:02.97 lxterminal  \u001b[m\u001b[m\u001b[K\n",
      "\u001b[m 1494 pi        20   0   62884  36948  11244 S   0.3  4.2   0:08.85 jupyter-no+ \u001b[m\u001b[m\u001b[K\u001b[H\u001b[mtop - 17:59:59 up 47 min,  2 users,  load average: 1.03, 0.68, 0.49\u001b[m\u001b[m\u001b[m\u001b[m\u001b[K\n",
      "Tasks:\u001b[m\u001b[m\u001b[1m 169 \u001b[m\u001b[mtotal,\u001b[m\u001b[m\u001b[1m   3 \u001b[m\u001b[mrunning,\u001b[m\u001b[m\u001b[1m 166 \u001b[m\u001b[msleeping,\u001b[m\u001b[m\u001b[1m   0 \u001b[m\u001b[mstopped,\u001b[m\u001b[m\u001b[1m   0 \u001b[m\u001b[mzombie\u001b[m\u001b[m\u001b[m\u001b[m\u001b[K\n",
      "%Cpu(s):\u001b[m\u001b[m\u001b[1m 13.1 \u001b[m\u001b[mus,\u001b[m\u001b[m\u001b[1m  4.1 \u001b[m\u001b[msy,\u001b[m\u001b[m\u001b[1m  0.0 \u001b[m\u001b[mni,\u001b[m\u001b[m\u001b[1m 82.5 \u001b[m\u001b[mid,\u001b[m\u001b[m\u001b[1m  0.0 \u001b[m\u001b[mwa,\u001b[m\u001b[m\u001b[1m  0.0 \u001b[m\u001b[mhi,\u001b[m\u001b[m\u001b[1m  0.3 \u001b[m\u001b[msi,\u001b[m\u001b[m\u001b[1m  0.0 \u001b[m\u001b[mst\u001b[m\u001b[m\u001b[m\u001b[m\u001b[K\n",
      "KiB Mem: \u001b[m\u001b[m\u001b[1m   880552 \u001b[m\u001b[mtotal,\u001b[m\u001b[m\u001b[1m   815476 \u001b[m\u001b[mused,\u001b[m\u001b[m\u001b[1m    65076 \u001b[m\u001b[mfree,\u001b[m\u001b[m\u001b[1m    11968 \u001b[m\u001b[mbuffers\u001b[m\u001b[m\u001b[m\u001b[m\u001b[K\n",
      "KiB Swap:\u001b[m\u001b[m\u001b[1m   102396 \u001b[m\u001b[mtotal,\u001b[m\u001b[m\u001b[1m    28716 \u001b[m\u001b[mused,\u001b[m\u001b[m\u001b[1m    73680 \u001b[m\u001b[mfree.\u001b[m\u001b[m\u001b[1m   264424 \u001b[m\u001b[mcached Mem\u001b[m\u001b[m\u001b[m\u001b[m\u001b[K\n",
      "\u001b[K\n",
      "\n",
      "\u001b[m\u001b[1m 1587 pi        20   0  432964 135812  71960 R  32.1 15.4   6:13.87 chromium-b+ \u001b[m\u001b[m\u001b[K\n",
      "\u001b[m 1213 pi        20   0  589364 161416 108076 S  12.3 18.3   5:19.87 chromium-b+ \u001b[m\u001b[m\u001b[K\n",
      "\u001b[m 1656 pi        20   0  105304  28752   9204 S   7.0  3.3   0:09.65 python2     \u001b[m\u001b[m\u001b[K\n",
      "\u001b[m\u001b[1m  702 root      20   0  151272  43948  21776 R   6.6  5.0   1:56.88 Xorg        \u001b[m\u001b[m\u001b[K\n",
      "\u001b[m  607 root      20   0   43960  21036  11724 S   6.3  2.4   2:48.13 vncserver-+ \u001b[m\u001b[m\u001b[K\n",
      "\u001b[m  742 root      20   0   16288  11752  11412 S   1.7  1.3   0:22.25 vncagent    \u001b[m\u001b[m\u001b[K\n",
      "\u001b[m\u001b[1m 2632 pi        20   0    5112   2528   2132 R   1.0  0.3   0:00.64 top         \u001b[m\u001b[m\u001b[K\n",
      "\u001b[m   87 root     -51   0       0      0      0 S   0.7  0.0   0:09.24 irq/92-mmc1 \u001b[m\u001b[m\u001b[K\n",
      "\u001b[m  116 root      20   0       0      0      0 S   0.7  0.0   0:06.22 kworker/u8+ \u001b[m\u001b[m\u001b[K\n",
      "\u001b[m 1494 pi        20   0   62884  36948  11244 S   0.7  4.2   0:08.87 jupyter-no+ \u001b[m\u001b[m\u001b[K\n",
      "\u001b[m 2598 pi        20   0    5112   2496   2100 S   0.7  0.3   0:01.35 top         \u001b[m\u001b[m\u001b[K\n",
      "\u001b[m   91 root      20   0       0      0      0 S   0.3  0.0   0:00.31 kworker/2:1 \u001b[m\u001b[m\u001b[K\n",
      "\u001b[m 1312 pi        20   0  667752 306504 115400 S   0.3 34.8   4:10.11 chromium-b+ \u001b[m\u001b[m\u001b[K\n",
      "\u001b[m 2584 root      20   0       0      0      0 S   0.3  0.0   0:01.25 kworker/u8+ \u001b[m\u001b[m\u001b[K\n",
      "\u001b[m    1 root      20   0   23776   3148   2444 S   0.0  0.4   0:02.39 systemd     \u001b[m\u001b[m\u001b[K\n",
      "\u001b[m    2 root      20   0       0      0      0 S   0.0  0.0   0:00.00 kthreadd    \u001b[m\u001b[m\u001b[K\n",
      "\u001b[m    3 root      20   0       0      0      0 S   0.0  0.0   0:00.26 ksoftirqd/0 \u001b[m\u001b[m\u001b[K\u001b[H\u001b[mtop - 18:00:02 up 47 min,  2 users,  load average: 1.11, 0.70, 0.50\u001b[m\u001b[m\u001b[m\u001b[m\u001b[K\n",
      "Tasks:\u001b[m\u001b[m\u001b[1m 169 \u001b[m\u001b[mtotal,\u001b[m\u001b[m\u001b[1m   2 \u001b[m\u001b[mrunning,\u001b[m\u001b[m\u001b[1m 167 \u001b[m\u001b[msleeping,\u001b[m\u001b[m\u001b[1m   0 \u001b[m\u001b[mstopped,\u001b[m\u001b[m\u001b[1m   0 \u001b[m\u001b[mzombie\u001b[m\u001b[m\u001b[m\u001b[m\u001b[K\n",
      "%Cpu(s):\u001b[m\u001b[m\u001b[1m 13.7 \u001b[m\u001b[mus,\u001b[m\u001b[m\u001b[1m  4.2 \u001b[m\u001b[msy,\u001b[m\u001b[m\u001b[1m  0.0 \u001b[m\u001b[mni,\u001b[m\u001b[m\u001b[1m 82.0 \u001b[m\u001b[mid,\u001b[m\u001b[m\u001b[1m  0.0 \u001b[m\u001b[mwa,\u001b[m\u001b[m\u001b[1m  0.0 \u001b[m\u001b[mhi,\u001b[m\u001b[m\u001b[1m  0.1 \u001b[m\u001b[msi,\u001b[m\u001b[m\u001b[1m  0.0 \u001b[m\u001b[mst\u001b[m\u001b[m\u001b[m\u001b[m\u001b[K\n",
      "KiB Mem: \u001b[m\u001b[m\u001b[1m   880552 \u001b[m\u001b[mtotal,\u001b[m\u001b[m\u001b[1m   816592 \u001b[m\u001b[mused,\u001b[m\u001b[m\u001b[1m    63960 \u001b[m\u001b[mfree,\u001b[m\u001b[m\u001b[1m    11968 \u001b[m\u001b[mbuffers\u001b[m\u001b[m\u001b[m\u001b[m\u001b[K\n",
      "KiB Swap:\u001b[m\u001b[m\u001b[1m   102396 \u001b[m\u001b[mtotal,\u001b[m\u001b[m\u001b[1m    28716 \u001b[m\u001b[mused,\u001b[m\u001b[m\u001b[1m    73680 \u001b[m\u001b[mfree.\u001b[m\u001b[m\u001b[1m   265364 \u001b[m\u001b[mcached Mem\u001b[m\u001b[m\u001b[m\u001b[m\u001b[K\n",
      "\u001b[K\n",
      "\n",
      "\u001b[m 1587 pi        20   0  435012 137468  72824 S  26.0 15.6   6:14.66 chromium-b+ \u001b[m\u001b[m\u001b[K\n",
      "\u001b[m\u001b[1m 1213 pi        20   0  591444 164096 110752 R  14.5 18.6   5:20.31 chromium-b+ \u001b[m\u001b[m\u001b[K\n",
      "\u001b[m  607 root      20   0   43960  21036  11724 S   7.3  2.4   2:48.35 vncserver-+ \u001b[m\u001b[m\u001b[K\n",
      "\u001b[m  702 root      20   0  151304  43964  21792 S   6.9  5.0   1:57.09 Xorg        \u001b[m\u001b[m\u001b[K\n",
      "\u001b[m 1656 pi        20   0  105304  28752   9204 S   6.3  3.3   0:09.84 python2     \u001b[m\u001b[m\u001b[K\n",
      "\u001b[m  742 root      20   0   16288  11752  11412 S   1.6  1.3   0:22.30 vncagent    \u001b[m\u001b[m\u001b[K\n",
      "\u001b[m 1312 pi        20   0  667752 305728 115400 S   1.6 34.7   4:10.16 chromium-b+ \u001b[m\u001b[m\u001b[K\n",
      "\u001b[m  116 root      20   0       0      0      0 S   1.3  0.0   0:06.26 kworker/u8+ \u001b[m\u001b[m\u001b[K\n",
      "\u001b[m   87 root     -51   0       0      0      0 S   0.7  0.0   0:09.26 irq/92-mmc1 \u001b[m\u001b[m\u001b[K\n",
      "\u001b[m 1494 pi        20   0   62884  36948  11244 S   0.7  4.2   0:08.89 jupyter-no+ \u001b[m\u001b[m\u001b[K\n",
      "\u001b[m\u001b[1m 2632 pi        20   0    5112   2528   2132 R   0.7  0.3   0:00.66 top         \u001b[m\u001b[m\u001b[K\n",
      "\u001b[m    7 root      20   0       0      0      0 S   0.3  0.0   0:01.99 rcu_sched   \u001b[m\u001b[m\u001b[K\n",
      "\u001b[m 1084 pi        20   0   95208  18784  14596 S   0.3  2.1   0:07.10 lxpanel     \u001b[m\u001b[m\u001b[K\n",
      "\u001b[m 1482 pi        20   0   47696  17456  14512 S   0.3  2.0   0:02.98 lxterminal  \u001b[m\u001b[m\u001b[K\n",
      "\u001b[m 2598 pi        20   0    5112   2496   2100 S   0.3  0.3   0:01.36 top         \u001b[m\u001b[m\u001b[K\n",
      "\u001b[m    1 root      20   0   23776   3148   2444 S   0.0  0.4   0:02.39 systemd     \u001b[m\u001b[m\u001b[K\n"
     ]
    },
    {
     "name": "stdout",
     "output_type": "stream",
     "text": [
      "\u001b[m    2 root      20   0       0      0      0 S   0.0  0.0   0:00.00 kthreadd    \u001b[m\u001b[m\u001b[K\u001b[H\u001b[mtop - 18:00:05 up 47 min,  2 users,  load average: 1.10, 0.70, 0.50\u001b[m\u001b[m\u001b[m\u001b[m\u001b[K\n",
      "Tasks:\u001b[m\u001b[m\u001b[1m 169 \u001b[m\u001b[mtotal,\u001b[m\u001b[m\u001b[1m   3 \u001b[m\u001b[mrunning,\u001b[m\u001b[m\u001b[1m 166 \u001b[m\u001b[msleeping,\u001b[m\u001b[m\u001b[1m   0 \u001b[m\u001b[mstopped,\u001b[m\u001b[m\u001b[1m   0 \u001b[m\u001b[mzombie\u001b[m\u001b[m\u001b[m\u001b[m\u001b[K\n",
      "%Cpu(s):\u001b[m\u001b[m\u001b[1m 12.7 \u001b[m\u001b[mus,\u001b[m\u001b[m\u001b[1m  2.8 \u001b[m\u001b[msy,\u001b[m\u001b[m\u001b[1m  0.0 \u001b[m\u001b[mni,\u001b[m\u001b[m\u001b[1m 84.5 \u001b[m\u001b[mid,\u001b[m\u001b[m\u001b[1m  0.1 \u001b[m\u001b[mwa,\u001b[m\u001b[m\u001b[1m  0.0 \u001b[m\u001b[mhi,\u001b[m\u001b[m\u001b[1m  0.0 \u001b[m\u001b[msi,\u001b[m\u001b[m\u001b[1m  0.0 \u001b[m\u001b[mst\u001b[m\u001b[m\u001b[m\u001b[m\u001b[K\n",
      "KiB Mem: \u001b[m\u001b[m\u001b[1m   880552 \u001b[m\u001b[mtotal,\u001b[m\u001b[m\u001b[1m   814484 \u001b[m\u001b[mused,\u001b[m\u001b[m\u001b[1m    66068 \u001b[m\u001b[mfree,\u001b[m\u001b[m\u001b[1m    11976 \u001b[m\u001b[mbuffers\u001b[m\u001b[m\u001b[m\u001b[m\u001b[K\n",
      "KiB Swap:\u001b[m\u001b[m\u001b[1m   102396 \u001b[m\u001b[mtotal,\u001b[m\u001b[m\u001b[1m    28716 \u001b[m\u001b[mused,\u001b[m\u001b[m\u001b[1m    73680 \u001b[m\u001b[mfree.\u001b[m\u001b[m\u001b[1m   263300 \u001b[m\u001b[mcached Mem\u001b[m\u001b[m\u001b[m\u001b[m\u001b[K\n",
      "\u001b[K\n",
      "\n",
      "\u001b[m\u001b[1m 1587 pi        20   0  432708 135240  70804 R  29.5 15.4   6:15.55 chromium-b+ \u001b[m\u001b[m\u001b[K\n",
      "\u001b[m\u001b[1m 1213 pi        20   0  589140 160492 107148 R   9.6 18.2   5:20.60 chromium-b+ \u001b[m\u001b[m\u001b[K\n",
      "\u001b[m 1656 pi        20   0  105304  28752   9204 S   7.3  3.3   0:10.06 python2     \u001b[m\u001b[m\u001b[K\n",
      "\u001b[m  702 root      20   0  151304  43964  21792 S   6.3  5.0   1:57.28 Xorg        \u001b[m\u001b[m\u001b[K\n",
      "\u001b[m  607 root      20   0   43960  21036  11724 S   5.6  2.4   2:48.52 vncserver-+ \u001b[m\u001b[m\u001b[K\n",
      "\u001b[m  742 root      20   0   16288  11752  11412 S   1.0  1.3   0:22.33 vncagent    \u001b[m\u001b[m\u001b[K\n",
      "\u001b[m\u001b[1m 2632 pi        20   0    5112   2528   2132 R   1.0  0.3   0:00.69 top         \u001b[m\u001b[m\u001b[K\n",
      "\u001b[m  116 root      20   0       0      0      0 S   0.7  0.0   0:06.28 kworker/u8+ \u001b[m\u001b[m\u001b[K\n",
      "\u001b[m 1312 pi        20   0  667752 305728 115400 S   0.7 34.7   4:10.18 chromium-b+ \u001b[m\u001b[m\u001b[K\n",
      "\u001b[m 1494 pi        20   0   62884  36948  11244 S   0.7  4.2   0:08.91 jupyter-no+ \u001b[m\u001b[m\u001b[K\n",
      "\u001b[m 2598 pi        20   0    5112   2496   2100 S   0.7  0.3   0:01.38 top         \u001b[m\u001b[m\u001b[K\n",
      "\u001b[m   87 root     -51   0       0      0      0 S   0.3  0.0   0:09.27 irq/92-mmc1 \u001b[m\u001b[m\u001b[K\n",
      "\u001b[m 1079 pi        20   0   21488  10712   8172 S   0.3  1.2   0:01.89 openbox     \u001b[m\u001b[m\u001b[K\n",
      "\u001b[m 1283 pi        20   0  394500  88724  51132 S   0.3 10.1   0:29.16 chromium-b+ \u001b[m\u001b[m\u001b[K\n",
      "\u001b[m    1 root      20   0   23776   3148   2444 S   0.0  0.4   0:02.39 systemd     \u001b[m\u001b[m\u001b[K\n",
      "\u001b[m    2 root      20   0       0      0      0 S   0.0  0.0   0:00.00 kthreadd    \u001b[m\u001b[m\u001b[K\n",
      "\u001b[m    3 root      20   0       0      0      0 S   0.0  0.0   0:00.26 ksoftirqd/0 \u001b[m\u001b[m\u001b[K\u001b[H\u001b[mtop - 18:00:08 up 47 min,  2 users,  load average: 1.10, 0.70, 0.50\u001b[m\u001b[m\u001b[m\u001b[m\u001b[K\n",
      "Tasks:\u001b[m\u001b[m\u001b[1m 169 \u001b[m\u001b[mtotal,\u001b[m\u001b[m\u001b[1m   1 \u001b[m\u001b[mrunning,\u001b[m\u001b[m\u001b[1m 168 \u001b[m\u001b[msleeping,\u001b[m\u001b[m\u001b[1m   0 \u001b[m\u001b[mstopped,\u001b[m\u001b[m\u001b[1m   0 \u001b[m\u001b[mzombie\u001b[m\u001b[m\u001b[m\u001b[m\u001b[K\n",
      "%Cpu(s):\u001b[m\u001b[m\u001b[1m 14.4 \u001b[m\u001b[mus,\u001b[m\u001b[m\u001b[1m  1.7 \u001b[m\u001b[msy,\u001b[m\u001b[m\u001b[1m  0.0 \u001b[m\u001b[mni,\u001b[m\u001b[m\u001b[1m 83.8 \u001b[m\u001b[mid,\u001b[m\u001b[m\u001b[1m  0.0 \u001b[m\u001b[mwa,\u001b[m\u001b[m\u001b[1m  0.0 \u001b[m\u001b[mhi,\u001b[m\u001b[m\u001b[1m  0.1 \u001b[m\u001b[msi,\u001b[m\u001b[m\u001b[1m  0.0 \u001b[m\u001b[mst\u001b[m\u001b[m\u001b[m\u001b[m\u001b[K\n",
      "KiB Mem: \u001b[m\u001b[m\u001b[1m   880552 \u001b[m\u001b[mtotal,\u001b[m\u001b[m\u001b[1m   815104 \u001b[m\u001b[mused,\u001b[m\u001b[m\u001b[1m    65448 \u001b[m\u001b[mfree,\u001b[m\u001b[m\u001b[1m    11976 \u001b[m\u001b[mbuffers\u001b[m\u001b[m\u001b[m\u001b[m\u001b[K\n",
      "\n",
      "\u001b[K\n",
      "\n",
      "\u001b[m 1587 pi        20   0  432708 135036  70804 S  30.3 15.3   6:16.47 chromium-b+ \u001b[m\u001b[m\u001b[K\n",
      "\u001b[m 1213 pi        20   0  589140 160492 107148 S   9.2 18.2   5:20.88 chromium-b+ \u001b[m\u001b[m\u001b[K\n",
      "\u001b[m  702 root      20   0  151304  43964  21792 S   7.9  5.0   1:57.52 Xorg        \u001b[m\u001b[m\u001b[K\n",
      "\u001b[m  607 root      20   0   43960  21036  11724 S   7.6  2.4   2:48.75 vncserver-+ \u001b[m\u001b[m\u001b[K\n",
      "\u001b[m 1656 pi        20   0  105304  28752   9204 S   6.9  3.3   0:10.27 python2     \u001b[m\u001b[m\u001b[K\n",
      "\u001b[m 1312 pi        20   0  667752 305968 115400 S   1.6 34.7   4:10.23 chromium-b+ \u001b[m\u001b[m\u001b[K\n",
      "\u001b[m  116 root      20   0       0      0      0 S   0.7  0.0   0:06.30 kworker/u8+ \u001b[m\u001b[m\u001b[K\n",
      "\u001b[m  742 root      20   0   16288  11752  11412 S   0.7  1.3   0:22.35 vncagent    \u001b[m\u001b[m\u001b[K\n",
      "\u001b[m 1494 pi        20   0   62884  36948  11244 S   0.7  4.2   0:08.93 jupyter-no+ \u001b[m\u001b[m\u001b[K\n",
      "\u001b[m 2598 pi        20   0    5112   2496   2100 S   0.7  0.3   0:01.40 top         \u001b[m\u001b[m\u001b[K\n",
      "\u001b[m\u001b[1m 2632 pi        20   0    5112   2528   2132 R   0.7  0.3   0:00.71 top         \u001b[m\u001b[m\u001b[K\n",
      "\u001b[m   87 root     -51   0       0      0      0 S   0.3  0.0   0:09.28 irq/92-mmc1 \u001b[m\u001b[m\u001b[K\n",
      "\u001b[m  282 root      20   0       0      0      0 S   0.3  0.0   0:01.67 brcmf_wdog+ \u001b[m\u001b[m\u001b[K\n",
      "\u001b[m 1084 pi        20   0   95208  18784  14596 S   0.3  2.1   0:07.11 lxpanel     \u001b[m\u001b[m\u001b[K\n",
      "\u001b[m 1482 pi        20   0   47696  17456  14512 S   0.3  2.0   0:02.99 lxterminal  \u001b[m\u001b[m\u001b[K\n",
      "\u001b[m    1 root      20   0   23776   3148   2444 S   0.0  0.4   0:02.39 systemd     \u001b[m\u001b[m\u001b[K\n",
      "\u001b[m    2 root      20   0       0      0      0 S   0.0  0.0   0:00.00 kthreadd    \u001b[m\u001b[m\u001b[K\u001b[H\u001b[mtop - 18:00:11 up 48 min,  2 users,  load average: 1.01, 0.69, 0.50\u001b[m\u001b[m\u001b[m\u001b[m\u001b[K\n",
      "Tasks:\u001b[m\u001b[m\u001b[1m 169 \u001b[m\u001b[mtotal,\u001b[m\u001b[m\u001b[1m   2 \u001b[m\u001b[mrunning,\u001b[m\u001b[m\u001b[1m 167 \u001b[m\u001b[msleeping,\u001b[m\u001b[m\u001b[1m   0 \u001b[m\u001b[mstopped,\u001b[m\u001b[m\u001b[1m   0 \u001b[m\u001b[mzombie\u001b[m\u001b[m\u001b[m\u001b[m\u001b[K\n",
      "%Cpu(s):\u001b[m\u001b[m\u001b[1m 12.1 \u001b[m\u001b[mus,\u001b[m\u001b[m\u001b[1m  0.9 \u001b[m\u001b[msy,\u001b[m\u001b[m\u001b[1m  0.0 \u001b[m\u001b[mni,\u001b[m\u001b[m\u001b[1m 87.0 \u001b[m\u001b[mid,\u001b[m\u001b[m\u001b[1m  0.0 \u001b[m\u001b[mwa,\u001b[m\u001b[m\u001b[1m  0.0 \u001b[m\u001b[mhi,\u001b[m\u001b[m\u001b[1m  0.0 \u001b[m\u001b[msi,\u001b[m\u001b[m\u001b[1m  0.0 \u001b[m\u001b[mst\u001b[m\u001b[m\u001b[m\u001b[m\u001b[K\n",
      "KiB Mem: \u001b[m\u001b[m\u001b[1m   880552 \u001b[m\u001b[mtotal,\u001b[m\u001b[m\u001b[1m   815972 \u001b[m\u001b[mused,\u001b[m\u001b[m\u001b[1m    64580 \u001b[m\u001b[mfree,\u001b[m\u001b[m\u001b[1m    11976 \u001b[m\u001b[mbuffers\u001b[m\u001b[m\u001b[m\u001b[m\u001b[K\n",
      "\n",
      "\u001b[K\n",
      "\n",
      "\u001b[m\u001b[1m 1587 pi        20   0  432708 135780  71008 R  23.5 15.4   6:17.18 chromium-b+ \u001b[m\u001b[m\u001b[K\n",
      "\u001b[m 1213 pi        20   0  589140 160492 107148 S   7.0 18.2   5:21.09 chromium-b+ \u001b[m\u001b[m\u001b[K\n",
      "\u001b[m 1656 pi        20   0  105304  28752   9204 S   6.3  3.3   0:10.46 python2     \u001b[m\u001b[m\u001b[K\n",
      "\u001b[m  702 root      20   0  151304  43964  21792 S   6.0  5.0   1:57.70 Xorg        \u001b[m\u001b[m\u001b[K\n",
      "\u001b[m  607 root      20   0   43960  21036  11724 S   5.6  2.4   2:48.92 vncserver-+ \u001b[m\u001b[m\u001b[K\n",
      "\u001b[m  742 root      20   0   16288  11752  11412 S   0.7  1.3   0:22.37 vncagent    \u001b[m\u001b[m\u001b[K\n",
      "\u001b[m 2584 root      20   0       0      0      0 S   0.7  0.0   0:01.27 kworker/u8+ \u001b[m\u001b[m\u001b[K\n",
      "\u001b[m    7 root      20   0       0      0      0 S   0.3  0.0   0:02.00 rcu_sched   \u001b[m\u001b[m\u001b[K\n",
      "\u001b[m   87 root     -51   0       0      0      0 S   0.3  0.0   0:09.29 irq/92-mmc1 \u001b[m\u001b[m\u001b[K\n",
      "\u001b[m 1312 pi        20   0  667752 305968 115400 S   0.3 34.7   4:10.24 chromium-b+ \u001b[m\u001b[m\u001b[K\n",
      "\u001b[m 1494 pi        20   0   62884  36948  11244 S   0.3  4.2   0:08.94 jupyter-no+ \u001b[m\u001b[m\u001b[K\n",
      "\u001b[m 2598 pi        20   0    5112   2496   2100 S   0.3  0.3   0:01.41 top         \u001b[m\u001b[m\u001b[K\n",
      "\u001b[m\u001b[1m 2632 pi        20   0    5112   2528   2132 R   0.3  0.3   0:00.72 top         \u001b[m\u001b[m\u001b[K\n",
      "\u001b[m    1 root      20   0   23776   3148   2444 S   0.0  0.4   0:02.39 systemd     \u001b[m\u001b[m\u001b[K\n",
      "\u001b[m    2 root      20   0       0      0      0 S   0.0  0.0   0:00.00 kthreadd    \u001b[m\u001b[m\u001b[K\n",
      "\u001b[m    3 root      20   0       0      0      0 S   0.0  0.0   0:00.26 ksoftirqd/0 \u001b[m\u001b[m\u001b[K\n",
      "\u001b[m    5 root       0 -20       0      0      0 S   0.0  0.0   0:00.00 kworker/0:+ \u001b[m\u001b[m\u001b[K\u001b[H\u001b[mtop - 18:00:14 up 48 min,  2 users,  load average: 1.01, 0.69, 0.50\u001b[m\u001b[m\u001b[m\u001b[m\u001b[K\n",
      "Tasks:\u001b[m\u001b[m\u001b[1m 169 \u001b[m\u001b[mtotal,\u001b[m\u001b[m\u001b[1m   3 \u001b[m\u001b[mrunning,\u001b[m\u001b[m\u001b[1m 166 \u001b[m\u001b[msleeping,\u001b[m\u001b[m\u001b[1m   0 \u001b[m\u001b[mstopped,\u001b[m\u001b[m\u001b[1m   0 \u001b[m\u001b[mzombie\u001b[m\u001b[m\u001b[m\u001b[m\u001b[K\n",
      "%Cpu(s):\u001b[m\u001b[m\u001b[1m 13.7 \u001b[m\u001b[mus,\u001b[m\u001b[m\u001b[1m  2.7 \u001b[m\u001b[msy,\u001b[m\u001b[m\u001b[1m  0.0 \u001b[m\u001b[mni,\u001b[m\u001b[m\u001b[1m 83.6 \u001b[m\u001b[mid,\u001b[m\u001b[m\u001b[1m  0.0 \u001b[m\u001b[mwa,\u001b[m\u001b[m\u001b[1m  0.0 \u001b[m\u001b[mhi,\u001b[m\u001b[m\u001b[1m  0.1 \u001b[m\u001b[msi,\u001b[m\u001b[m\u001b[1m  0.0 \u001b[m\u001b[mst\u001b[m\u001b[m\u001b[m\u001b[m\u001b[K\n",
      "KiB Mem: \u001b[m\u001b[m\u001b[1m   880552 \u001b[m\u001b[mtotal,\u001b[m\u001b[m\u001b[1m   814972 \u001b[m\u001b[mused,\u001b[m\u001b[m\u001b[1m    65580 \u001b[m\u001b[mfree,\u001b[m\u001b[m\u001b[1m    11976 \u001b[m\u001b[mbuffers\u001b[m\u001b[m\u001b[m\u001b[m\u001b[K\n",
      "KiB Swap:\u001b[m\u001b[m\u001b[1m   102396 \u001b[m\u001b[mtotal,\u001b[m\u001b[m\u001b[1m    28716 \u001b[m\u001b[mused,\u001b[m\u001b[m\u001b[1m    73680 \u001b[m\u001b[mfree.\u001b[m\u001b[m\u001b[1m   262280 \u001b[m\u001b[mcached Mem\u001b[m\u001b[m\u001b[m\u001b[m\u001b[K\n",
      "\u001b[K\n",
      "\n",
      "\u001b[m\u001b[1m 1587 pi        20   0  431684 134896  69728 R  28.8 15.3   6:18.05 chromium-b+ \u001b[m\u001b[m\u001b[K\n",
      "\u001b[m 1213 pi        20   0  588116 161516 108172 S  13.3 18.3   5:21.49 chromium-b+ \u001b[m\u001b[m\u001b[K\n",
      "\u001b[m  702 root      20   0  151304  43964  21792 S   8.0  5.0   1:57.94 Xorg        \u001b[m\u001b[m\u001b[K\n",
      "\u001b[m 1656 pi        20   0  105304  28752   9204 S   6.3  3.3   0:10.65 python2     \u001b[m\u001b[m\u001b[K\n",
      "\u001b[m  607 root      20   0   43960  21036  11724 S   6.0  2.4   2:49.10 vncserver-+ \u001b[m\u001b[m\u001b[K\n",
      "\u001b[m  742 root      20   0   16288  11752  11412 S   1.3  1.3   0:22.41 vncagent    \u001b[m\u001b[m\u001b[K\n",
      "\u001b[m 1312 pi        20   0  667752 305968 115400 S   1.3 34.7   4:10.28 chromium-b+ \u001b[m\u001b[m\u001b[K\n",
      "\u001b[m\u001b[1m 2632 pi        20   0    5112   2528   2132 R   1.0  0.3   0:00.75 top         \u001b[m\u001b[m\u001b[K\n",
      "\u001b[m 2584 root      20   0       0      0      0 S   0.7  0.0   0:01.29 kworker/u8+ \u001b[m\u001b[m\u001b[K\n",
      "\u001b[m 2598 pi        20   0    5112   2496   2100 S   0.7  0.3   0:01.43 top         \u001b[m\u001b[m\u001b[K\n",
      "\u001b[m   87 root     -51   0       0      0      0 S   0.3  0.0   0:09.30 irq/92-mmc1 \u001b[m\u001b[m\u001b[K\n",
      "\u001b[m 1084 pi        20   0   95208  18784  14596 S   0.3  2.1   0:07.12 lxpanel     \u001b[m\u001b[m\u001b[K\n",
      "\u001b[m 1085 pi        20   0   76132  16064  13440 S   0.3  1.8   0:01.58 pcmanfm     \u001b[m\u001b[m\u001b[K\n",
      "\u001b[m 1494 pi        20   0   62884  36948  11244 S   0.3  4.2   0:08.95 jupyter-no+ \u001b[m\u001b[m\u001b[K\n",
      "\u001b[m    1 root      20   0   23776   3148   2444 S   0.0  0.4   0:02.39 systemd     \u001b[m\u001b[m\u001b[K\n",
      "\u001b[m    2 root      20   0       0      0      0 S   0.0  0.0   0:00.00 kthreadd    \u001b[m\u001b[m\u001b[K\n"
     ]
    },
    {
     "name": "stdout",
     "output_type": "stream",
     "text": [
      "\u001b[m    3 root      20   0       0      0      0 S   0.0  0.0   0:00.26 ksoftirqd/0 \u001b[m\u001b[m\u001b[K\u001b[H\u001b[mtop - 18:00:17 up 48 min,  2 users,  load average: 0.93, 0.68, 0.50\u001b[m\u001b[m\u001b[m\u001b[m\u001b[K\n",
      "Tasks:\u001b[m\u001b[m\u001b[1m 169 \u001b[m\u001b[mtotal,\u001b[m\u001b[m\u001b[1m   1 \u001b[m\u001b[mrunning,\u001b[m\u001b[m\u001b[1m 168 \u001b[m\u001b[msleeping,\u001b[m\u001b[m\u001b[1m   0 \u001b[m\u001b[mstopped,\u001b[m\u001b[m\u001b[1m   0 \u001b[m\u001b[mzombie\u001b[m\u001b[m\u001b[m\u001b[m\u001b[K\n",
      "%Cpu(s):\u001b[m\u001b[m\u001b[1m 25.0 \u001b[m\u001b[mus,\u001b[m\u001b[m\u001b[1m  2.6 \u001b[m\u001b[msy,\u001b[m\u001b[m\u001b[1m  0.0 \u001b[m\u001b[mni,\u001b[m\u001b[m\u001b[1m 71.8 \u001b[m\u001b[mid,\u001b[m\u001b[m\u001b[1m  0.6 \u001b[m\u001b[mwa,\u001b[m\u001b[m\u001b[1m  0.0 \u001b[m\u001b[mhi,\u001b[m\u001b[m\u001b[1m  0.0 \u001b[m\u001b[msi,\u001b[m\u001b[m\u001b[1m  0.0 \u001b[m\u001b[mst\u001b[m\u001b[m\u001b[m\u001b[m\u001b[K\n",
      "KiB Mem: \u001b[m\u001b[m\u001b[1m   880552 \u001b[m\u001b[mtotal,\u001b[m\u001b[m\u001b[1m   819196 \u001b[m\u001b[mused,\u001b[m\u001b[m\u001b[1m    61356 \u001b[m\u001b[mfree,\u001b[m\u001b[m\u001b[1m    11984 \u001b[m\u001b[mbuffers\u001b[m\u001b[m\u001b[m\u001b[m\u001b[K\n",
      "KiB Swap:\u001b[m\u001b[m\u001b[1m   102396 \u001b[m\u001b[mtotal,\u001b[m\u001b[m\u001b[1m    28716 \u001b[m\u001b[mused,\u001b[m\u001b[m\u001b[1m    73680 \u001b[m\u001b[mfree.\u001b[m\u001b[m\u001b[1m   265688 \u001b[m\u001b[mcached Mem\u001b[m\u001b[m\u001b[m\u001b[m\u001b[K\n",
      "\u001b[K\n",
      "\n",
      "\u001b[m 1587 pi        20   0  437060 139104  73364 S  77.5 15.8   6:20.40 chromium-b+ \u001b[m\u001b[m\u001b[K\n",
      "\u001b[m 1213 pi        20   0  592468 163860 110516 S  12.9 18.6   5:21.88 chromium-b+ \u001b[m\u001b[m\u001b[K\n",
      "\u001b[m  702 root      20   0  151304  43964  21792 S   7.3  5.0   1:58.16 Xorg        \u001b[m\u001b[m\u001b[K\n",
      "\u001b[m 1656 pi        20   0  105304  28752   9204 S   6.3  3.3   0:10.84 python2     \u001b[m\u001b[m\u001b[K\n",
      "\u001b[m  607 root      20   0   43960  21036  11724 S   5.9  2.4   2:49.28 vncserver-+ \u001b[m\u001b[m\u001b[K\n",
      "\u001b[m  742 root      20   0   16288  11752  11412 S   1.3  1.3   0:22.45 vncagent    \u001b[m\u001b[m\u001b[K\n",
      "\u001b[m  116 root      20   0       0      0      0 S   1.0  0.0   0:06.33 kworker/u8+ \u001b[m\u001b[m\u001b[K\n",
      "\u001b[m   87 root     -51   0       0      0      0 S   0.7  0.0   0:09.32 irq/92-mmc1 \u001b[m\u001b[m\u001b[K\n",
      "\u001b[m 1312 pi        20   0  667752 305968 115400 S   0.7 34.7   4:10.30 chromium-b+ \u001b[m\u001b[m\u001b[K\n",
      "\u001b[m 1494 pi        20   0   62884  36948  11244 S   0.7  4.2   0:08.97 jupyter-no+ \u001b[m\u001b[m\u001b[K\n",
      "\u001b[m    7 root      20   0       0      0      0 S   0.3  0.0   0:02.01 rcu_sched   \u001b[m\u001b[m\u001b[K\n",
      "\u001b[m   90 root      20   0       0      0      0 S   0.3  0.0   0:01.67 mmcqd/0     \u001b[m\u001b[m\u001b[K\n",
      "\u001b[m 1079 pi        20   0   21488  10712   8172 S   0.3  1.2   0:01.90 openbox     \u001b[m\u001b[m\u001b[K\n",
      "\u001b[m 1482 pi        20   0   47696  17456  14512 S   0.3  2.0   0:03.00 lxterminal  \u001b[m\u001b[m\u001b[K\n",
      "\u001b[m 2216 root      20   0       0      0      0 S   0.3  0.0   0:00.11 kworker/3:0 \u001b[m\u001b[m\u001b[K\n",
      "\u001b[m 2598 pi        20   0    5112   2496   2100 S   0.3  0.3   0:01.44 top         \u001b[m\u001b[m\u001b[K\n",
      "\u001b[m\u001b[1m 2632 pi        20   0    5112   2528   2132 R   0.3  0.3   0:00.76 top         \u001b[m\u001b[m\u001b[K\u001b[H\u001b[mtop - 18:00:20 up 48 min,  2 users,  load average: 1.09, 0.72, 0.51\u001b[m\u001b[m\u001b[m\u001b[m\u001b[K\n",
      "Tasks:\u001b[m\u001b[m\u001b[1m 169 \u001b[m\u001b[mtotal,\u001b[m\u001b[m\u001b[1m   2 \u001b[m\u001b[mrunning,\u001b[m\u001b[m\u001b[1m 167 \u001b[m\u001b[msleeping,\u001b[m\u001b[m\u001b[1m   0 \u001b[m\u001b[mstopped,\u001b[m\u001b[m\u001b[1m   0 \u001b[m\u001b[mzombie\u001b[m\u001b[m\u001b[m\u001b[m\u001b[K\n",
      "%Cpu(s):\u001b[m\u001b[m\u001b[1m 12.0 \u001b[m\u001b[mus,\u001b[m\u001b[m\u001b[1m  2.4 \u001b[m\u001b[msy,\u001b[m\u001b[m\u001b[1m  0.0 \u001b[m\u001b[mni,\u001b[m\u001b[m\u001b[1m 84.7 \u001b[m\u001b[mid,\u001b[m\u001b[m\u001b[1m  0.8 \u001b[m\u001b[mwa,\u001b[m\u001b[m\u001b[1m  0.0 \u001b[m\u001b[mhi,\u001b[m\u001b[m\u001b[1m  0.1 \u001b[m\u001b[msi,\u001b[m\u001b[m\u001b[1m  0.0 \u001b[m\u001b[mst\u001b[m\u001b[m\u001b[m\u001b[m\u001b[K\n",
      "KiB Mem: \u001b[m\u001b[m\u001b[1m   880552 \u001b[m\u001b[mtotal,\u001b[m\u001b[m\u001b[1m   816964 \u001b[m\u001b[mused,\u001b[m\u001b[m\u001b[1m    63588 \u001b[m\u001b[mfree,\u001b[m\u001b[m\u001b[1m    12000 \u001b[m\u001b[mbuffers\u001b[m\u001b[m\u001b[m\u001b[m\u001b[K\n",
      "KiB Swap:\u001b[m\u001b[m\u001b[1m   102396 \u001b[m\u001b[mtotal,\u001b[m\u001b[m\u001b[1m    28716 \u001b[m\u001b[mused,\u001b[m\u001b[m\u001b[1m    73680 \u001b[m\u001b[mfree.\u001b[m\u001b[m\u001b[1m   263292 \u001b[m\u001b[mcached Mem\u001b[m\u001b[m\u001b[m\u001b[m\u001b[K\n",
      "\u001b[K\n",
      "\n",
      "\u001b[m\u001b[1m 1587 pi        20   0  433732 136972  70736 R  28.2 15.6   6:21.25 chromium-b+ \u001b[m\u001b[m\u001b[K\n",
      "\u001b[m 1213 pi        20   0  589140 160712 107368 S   8.6 18.3   5:22.14 chromium-b+ \u001b[m\u001b[m\u001b[K\n",
      "\u001b[m 1656 pi        20   0  105304  28752   9204 S   6.6  3.3   0:11.04 python2     \u001b[m\u001b[m\u001b[K\n",
      "\u001b[m  607 root      20   0   43960  21036  11724 S   5.3  2.4   2:49.44 vncserver-+ \u001b[m\u001b[m\u001b[K\n",
      "\u001b[m  702 root      20   0  151304  43964  21792 S   5.0  5.0   1:58.31 Xorg        \u001b[m\u001b[m\u001b[K\n",
      "\u001b[m 1312 pi        20   0  667752 306204 115404 S   1.3 34.8   4:10.34 chromium-b+ \u001b[m\u001b[m\u001b[K\n",
      "\u001b[m  742 root      20   0   16288  11752  11412 S   1.0  1.3   0:22.48 vncagent    \u001b[m\u001b[m\u001b[K\n",
      "\u001b[m 2598 pi        20   0    5112   2496   2100 S   1.0  0.3   0:01.47 top         \u001b[m\u001b[m\u001b[K\n",
      "\u001b[m    6 root      20   0       0      0      0 S   0.7  0.0   0:09.76 kworker/u8+ \u001b[m\u001b[m\u001b[K\n",
      "\u001b[m\u001b[1m 2632 pi        20   0    5112   2528   2132 R   0.7  0.3   0:00.78 top         \u001b[m\u001b[m\u001b[K\n",
      "\u001b[m   87 root     -51   0       0      0      0 S   0.3  0.0   0:09.33 irq/92-mmc1 \u001b[m\u001b[m\u001b[K\n",
      "\u001b[m 1084 pi        20   0   95208  18784  14596 S   0.3  2.1   0:07.13 lxpanel     \u001b[m\u001b[m\u001b[K\n",
      "\u001b[m 1283 pi        20   0  394500  88764  51132 S   0.3 10.1   0:29.17 chromium-b+ \u001b[m\u001b[m\u001b[K\n",
      "\u001b[m 1482 pi        20   0   47696  17456  14512 S   0.3  2.0   0:03.01 lxterminal  \u001b[m\u001b[m\u001b[K\n",
      "\u001b[m 1494 pi        20   0   62884  36948  11244 S   0.3  4.2   0:08.98 jupyter-no+ \u001b[m\u001b[m\u001b[K\n",
      "\u001b[m    1 root      20   0   23776   3148   2444 S   0.0  0.4   0:02.39 systemd     \u001b[m\u001b[m\u001b[K\n",
      "\u001b[m    2 root      20   0       0      0      0 S   0.0  0.0   0:00.00 kthreadd    \u001b[m\u001b[m\u001b[K\u001b[H\u001b[mtop - 18:00:23 up 48 min,  2 users,  load average: 1.09, 0.72, 0.51\u001b[m\u001b[m\u001b[m\u001b[m\u001b[K\n",
      "Tasks:\u001b[m\u001b[m\u001b[1m 169 \u001b[m\u001b[mtotal,\u001b[m\u001b[m\u001b[1m   1 \u001b[m\u001b[mrunning,\u001b[m\u001b[m\u001b[1m 168 \u001b[m\u001b[msleeping,\u001b[m\u001b[m\u001b[1m   0 \u001b[m\u001b[mstopped,\u001b[m\u001b[m\u001b[1m   0 \u001b[m\u001b[mzombie\u001b[m\u001b[m\u001b[m\u001b[m\u001b[K\n",
      "%Cpu(s):\u001b[m\u001b[m\u001b[1m 22.5 \u001b[m\u001b[mus,\u001b[m\u001b[m\u001b[1m  2.2 \u001b[m\u001b[msy,\u001b[m\u001b[m\u001b[1m  0.0 \u001b[m\u001b[mni,\u001b[m\u001b[m\u001b[1m 75.3 \u001b[m\u001b[mid,\u001b[m\u001b[m\u001b[1m  0.0 \u001b[m\u001b[mwa,\u001b[m\u001b[m\u001b[1m  0.0 \u001b[m\u001b[mhi,\u001b[m\u001b[m\u001b[1m  0.0 \u001b[m\u001b[msi,\u001b[m\u001b[m\u001b[1m  0.0 \u001b[m\u001b[mst\u001b[m\u001b[m\u001b[m\u001b[m\u001b[K\n",
      "KiB Mem: \u001b[m\u001b[m\u001b[1m   880552 \u001b[m\u001b[mtotal,\u001b[m\u001b[m\u001b[1m   816840 \u001b[m\u001b[mused,\u001b[m\u001b[m\u001b[1m    63712 \u001b[m\u001b[mfree,\u001b[m\u001b[m\u001b[1m    12000 \u001b[m\u001b[mbuffers\u001b[m\u001b[m\u001b[m\u001b[m\u001b[K\n",
      "KiB Swap:\u001b[m\u001b[m\u001b[1m   102396 \u001b[m\u001b[mtotal,\u001b[m\u001b[m\u001b[1m    28716 \u001b[m\u001b[mused,\u001b[m\u001b[m\u001b[1m    73680 \u001b[m\u001b[mfree.\u001b[m\u001b[m\u001b[1m   263308 \u001b[m\u001b[mcached Mem\u001b[m\u001b[m\u001b[m\u001b[m\u001b[K\n",
      "\u001b[K\n",
      "\n",
      "\u001b[m 1587 pi        20   0  433732 137216  70736 S  52.0 15.6   6:22.82 chromium-b+ \u001b[m\u001b[m\u001b[K\n",
      "\u001b[m 1213 pi        20   0  589140 160712 107368 S  13.9 18.3   5:22.56 chromium-b+ \u001b[m\u001b[m\u001b[K\n",
      "\u001b[m  702 root      20   0  151304  43964  21792 S  13.6  5.0   1:58.72 Xorg        \u001b[m\u001b[m\u001b[K\n",
      "\u001b[m  607 root      20   0   43960  21036  11724 S  11.9  2.4   2:49.80 vncserver-+ \u001b[m\u001b[m\u001b[K\n",
      "\u001b[m 1656 pi        20   0  105304  28752   9204 S   6.6  3.3   0:11.24 python2     \u001b[m\u001b[m\u001b[K\n",
      "\u001b[m  742 root      20   0   16288  11752  11412 S   1.0  1.3   0:22.51 vncagent    \u001b[m\u001b[m\u001b[K\n",
      "\u001b[m  116 root      20   0       0      0      0 S   0.7  0.0   0:06.35 kworker/u8+ \u001b[m\u001b[m\u001b[K\n",
      "\u001b[m 1312 pi        20   0  667752 306204 115404 S   0.7 34.8   4:10.36 chromium-b+ \u001b[m\u001b[m\u001b[K\n",
      "\u001b[m 1494 pi        20   0   62884  36948  11244 S   0.7  4.2   0:09.00 jupyter-no+ \u001b[m\u001b[m\u001b[K\n",
      "\u001b[m\u001b[1m 2632 pi        20   0    5112   2528   2132 R   0.7  0.3   0:00.80 top         \u001b[m\u001b[m\u001b[K\n",
      "\u001b[m  282 root      20   0       0      0      0 S   0.3  0.0   0:01.68 brcmf_wdog+ \u001b[m\u001b[m\u001b[K\n",
      "\u001b[m 2347 root      20   0       0      0      0 S   0.3  0.0   0:00.15 kworker/1:2 \u001b[m\u001b[m\u001b[K\n",
      "\u001b[m 2598 pi        20   0    5112   2496   2100 S   0.3  0.3   0:01.48 top         \u001b[m\u001b[m\u001b[K\n",
      "\u001b[m    1 root      20   0   23776   3148   2444 S   0.0  0.4   0:02.39 systemd     \u001b[m\u001b[m\u001b[K\n",
      "\u001b[m    2 root      20   0       0      0      0 S   0.0  0.0   0:00.00 kthreadd    \u001b[m\u001b[m\u001b[K\n",
      "\u001b[m    3 root      20   0       0      0      0 S   0.0  0.0   0:00.26 ksoftirqd/0 \u001b[m\u001b[m\u001b[K\n",
      "\u001b[m    5 root       0 -20       0      0      0 S   0.0  0.0   0:00.00 kworker/0:+ \u001b[m\u001b[m\u001b[K\u001b[H\u001b[mtop - 18:00:26 up 48 min,  2 users,  load average: 1.01, 0.71, 0.51\u001b[m\u001b[m\u001b[m\u001b[m\u001b[K\n",
      "Tasks:\u001b[m\u001b[m\u001b[1m 169 \u001b[m\u001b[mtotal,\u001b[m\u001b[m\u001b[1m   3 \u001b[m\u001b[mrunning,\u001b[m\u001b[m\u001b[1m 166 \u001b[m\u001b[msleeping,\u001b[m\u001b[m\u001b[1m   0 \u001b[m\u001b[mstopped,\u001b[m\u001b[m\u001b[1m   0 \u001b[m\u001b[mzombie\u001b[m\u001b[m\u001b[m\u001b[m\u001b[K\n",
      "%Cpu(s):\u001b[m\u001b[m\u001b[1m 12.2 \u001b[m\u001b[mus,\u001b[m\u001b[m\u001b[1m  1.5 \u001b[m\u001b[msy,\u001b[m\u001b[m\u001b[1m  0.0 \u001b[m\u001b[mni,\u001b[m\u001b[m\u001b[1m 86.2 \u001b[m\u001b[mid,\u001b[m\u001b[m\u001b[1m  0.0 \u001b[m\u001b[mwa,\u001b[m\u001b[m\u001b[1m  0.0 \u001b[m\u001b[mhi,\u001b[m\u001b[m\u001b[1m  0.1 \u001b[m\u001b[msi,\u001b[m\u001b[m\u001b[1m  0.0 \u001b[m\u001b[mst\u001b[m\u001b[m\u001b[m\u001b[m\u001b[K\n",
      "\n",
      "\n",
      "\u001b[K\n",
      "\n",
      "\u001b[m\u001b[1m 1587 pi        20   0  433732 136988  70768 R  25.8 15.6   6:23.60 chromium-b+ \u001b[m\u001b[m\u001b[K\n",
      "\u001b[m 1213 pi        20   0  589140 162520 109176 S   7.0 18.5   5:22.77 chromium-b+ \u001b[m\u001b[m\u001b[K\n",
      "\u001b[m\u001b[1m 1656 pi        20   0  105304  28752   9204 R   7.0  3.3   0:11.45 python2     \u001b[m\u001b[m\u001b[K\n",
      "\u001b[m  607 root      20   0   43960  21036  11724 S   6.0  2.4   2:49.98 vncserver-+ \u001b[m\u001b[m\u001b[K\n",
      "\u001b[m  702 root      20   0  151304  43964  21792 S   5.6  5.0   1:58.89 Xorg        \u001b[m\u001b[m\u001b[K\n",
      "\u001b[m 1312 pi        20   0  667752 306380 115404 S   2.7 34.8   4:10.44 chromium-b+ \u001b[m\u001b[m\u001b[K\n",
      "\u001b[m 2598 pi        20   0    5112   2496   2100 S   1.0  0.3   0:01.51 top         \u001b[m\u001b[m\u001b[K\n",
      "\u001b[m    7 root      20   0       0      0      0 S   0.3  0.0   0:02.02 rcu_sched   \u001b[m\u001b[m\u001b[K\n",
      "\u001b[m   87 root     -51   0       0      0      0 S   0.3  0.0   0:09.34 irq/92-mmc1 \u001b[m\u001b[m\u001b[K\n",
      "\u001b[m  116 root      20   0       0      0      0 S   0.3  0.0   0:06.36 kworker/u8+ \u001b[m\u001b[m\u001b[K\n",
      "\u001b[m  742 root      20   0   16288  11752  11412 S   0.3  1.3   0:22.52 vncagent    \u001b[m\u001b[m\u001b[K\n",
      "\u001b[m 1084 pi        20   0   95208  18784  14596 S   0.3  2.1   0:07.14 lxpanel     \u001b[m\u001b[m\u001b[K\n",
      "\u001b[m 1482 pi        20   0   47696  17456  14512 S   0.3  2.0   0:03.02 lxterminal  \u001b[m\u001b[m\u001b[K\n",
      "\u001b[m 1494 pi        20   0   62884  36948  11244 S   0.3  4.2   0:09.01 jupyter-no+ \u001b[m\u001b[m\u001b[K\n",
      "\u001b[m 2582 root      20   0       0      0      0 S   0.3  0.0   0:00.07 kworker/0:0 \u001b[m\u001b[m\u001b[K\n",
      "\u001b[m\u001b[1m 2632 pi        20   0    5112   2528   2132 R   0.3  0.3   0:00.81 top         \u001b[m\u001b[m\u001b[K\n"
     ]
    },
    {
     "name": "stdout",
     "output_type": "stream",
     "text": [
      "\u001b[m    1 root      20   0   23776   3148   2444 S   0.0  0.4   0:02.39 systemd     \u001b[m\u001b[m\u001b[K\u001b[H\u001b[mtop - 18:00:29 up 48 min,  2 users,  load average: 1.01, 0.71, 0.51\u001b[m\u001b[m\u001b[m\u001b[m\u001b[K\n",
      "Tasks:\u001b[m\u001b[m\u001b[1m 169 \u001b[m\u001b[mtotal,\u001b[m\u001b[m\u001b[1m   2 \u001b[m\u001b[mrunning,\u001b[m\u001b[m\u001b[1m 167 \u001b[m\u001b[msleeping,\u001b[m\u001b[m\u001b[1m   0 \u001b[m\u001b[mstopped,\u001b[m\u001b[m\u001b[1m   0 \u001b[m\u001b[mzombie\u001b[m\u001b[m\u001b[m\u001b[m\u001b[K\n",
      "%Cpu(s):\u001b[m\u001b[m\u001b[1m 19.6 \u001b[m\u001b[mus,\u001b[m\u001b[m\u001b[1m  1.2 \u001b[m\u001b[msy,\u001b[m\u001b[m\u001b[1m  0.0 \u001b[m\u001b[mni,\u001b[m\u001b[m\u001b[1m 79.1 \u001b[m\u001b[mid,\u001b[m\u001b[m\u001b[1m  0.2 \u001b[m\u001b[mwa,\u001b[m\u001b[m\u001b[1m  0.0 \u001b[m\u001b[mhi,\u001b[m\u001b[m\u001b[1m  0.0 \u001b[m\u001b[msi,\u001b[m\u001b[m\u001b[1m  0.0 \u001b[m\u001b[mst\u001b[m\u001b[m\u001b[m\u001b[m\u001b[K\n",
      "KiB Mem: \u001b[m\u001b[m\u001b[1m   880552 \u001b[m\u001b[mtotal,\u001b[m\u001b[m\u001b[1m   817608 \u001b[m\u001b[mused,\u001b[m\u001b[m\u001b[1m    62944 \u001b[m\u001b[mfree,\u001b[m\u001b[m\u001b[1m    12008 \u001b[m\u001b[mbuffers\u001b[m\u001b[m\u001b[m\u001b[m\u001b[K\n",
      "KiB Swap:\u001b[m\u001b[m\u001b[1m   102396 \u001b[m\u001b[mtotal,\u001b[m\u001b[m\u001b[1m    28716 \u001b[m\u001b[mused,\u001b[m\u001b[m\u001b[1m    73680 \u001b[m\u001b[mfree.\u001b[m\u001b[m\u001b[1m   263312 \u001b[m\u001b[mcached Mem\u001b[m\u001b[m\u001b[m\u001b[m\u001b[K\n",
      "\u001b[K\n",
      "\n",
      "\u001b[m\u001b[1m 1587 pi        20   0  433732 137068  70768 R  45.7 15.6   6:24.98 chromium-b+ \u001b[m\u001b[m\u001b[K\n",
      "\u001b[m 1213 pi        20   0  589140 162544 109200 S  10.9 18.5   5:23.10 chromium-b+ \u001b[m\u001b[m\u001b[K\n",
      "\u001b[m  702 root      20   0  151304  43964  21792 S   9.9  5.0   1:59.19 Xorg        \u001b[m\u001b[m\u001b[K\n",
      "\u001b[m  607 root      20   0   43960  21036  11724 S   9.3  2.4   2:50.26 vncserver-+ \u001b[m\u001b[m\u001b[K\n",
      "\u001b[m 1656 pi        20   0  105304  28752   9204 S   6.6  3.3   0:11.65 python2     \u001b[m\u001b[m\u001b[K\n",
      "\u001b[m  742 root      20   0   16288  11752  11412 S   1.0  1.3   0:22.55 vncagent    \u001b[m\u001b[m\u001b[K\n",
      "\u001b[m 2598 pi        20   0    5112   2496   2100 S   0.7  0.3   0:01.53 top         \u001b[m\u001b[m\u001b[K\n",
      "\u001b[m\u001b[1m 2632 pi        20   0    5112   2528   2132 R   0.7  0.3   0:00.83 top         \u001b[m\u001b[m\u001b[K\n",
      "\u001b[m    6 root      20   0       0      0      0 S   0.3  0.0   0:09.77 kworker/u8+ \u001b[m\u001b[m\u001b[K\n",
      "\u001b[m   87 root     -51   0       0      0      0 S   0.3  0.0   0:09.35 irq/92-mmc1 \u001b[m\u001b[m\u001b[K\n",
      "\u001b[m  711 ntp       20   0    5684   3124   2968 S   0.3  0.4   0:00.45 ntpd        \u001b[m\u001b[m\u001b[K\n",
      "\u001b[m 1079 pi        20   0   21488  10712   8172 S   0.3  1.2   0:01.91 openbox     \u001b[m\u001b[m\u001b[K\n",
      "\u001b[m 1084 pi        20   0   95208  18784  14596 S   0.3  2.1   0:07.15 lxpanel     \u001b[m\u001b[m\u001b[K\n",
      "\u001b[m 1312 pi        20   0  667752 306380 115404 S   0.3 34.8   4:10.45 chromium-b+ \u001b[m\u001b[m\u001b[K\n",
      "\u001b[m 1494 pi        20   0   62884  36948  11244 S   0.3  4.2   0:09.02 jupyter-no+ \u001b[m\u001b[m\u001b[K\n",
      "\u001b[m    1 root      20   0   23776   3148   2444 S   0.0  0.4   0:02.39 systemd     \u001b[m\u001b[m\u001b[K\n",
      "\u001b[m    2 root      20   0       0      0      0 S   0.0  0.0   0:00.00 kthreadd    \u001b[m\u001b[m\u001b[K\u001b[H\u001b[mtop - 18:00:32 up 48 min,  2 users,  load average: 0.93, 0.70, 0.50\u001b[m\u001b[m\u001b[m\u001b[m\u001b[K\n",
      "Tasks:\u001b[m\u001b[m\u001b[1m 169 \u001b[m\u001b[mtotal,\u001b[m\u001b[m\u001b[1m   1 \u001b[m\u001b[mrunning,\u001b[m\u001b[m\u001b[1m 168 \u001b[m\u001b[msleeping,\u001b[m\u001b[m\u001b[1m   0 \u001b[m\u001b[mstopped,\u001b[m\u001b[m\u001b[1m   0 \u001b[m\u001b[mzombie\u001b[m\u001b[m\u001b[m\u001b[m\u001b[K\n",
      "%Cpu(s):\u001b[m\u001b[m\u001b[1m  8.2 \u001b[m\u001b[mus,\u001b[m\u001b[m\u001b[1m  1.5 \u001b[m\u001b[msy,\u001b[m\u001b[m\u001b[1m  0.0 \u001b[m\u001b[mni,\u001b[m\u001b[m\u001b[1m 90.3 \u001b[m\u001b[mid,\u001b[m\u001b[m\u001b[1m  0.0 \u001b[m\u001b[mwa,\u001b[m\u001b[m\u001b[1m  0.0 \u001b[m\u001b[mhi,\u001b[m\u001b[m\u001b[1m  0.0 \u001b[m\u001b[msi,\u001b[m\u001b[m\u001b[1m  0.0 \u001b[m\u001b[mst\u001b[m\u001b[m\u001b[m\u001b[m\u001b[K\n",
      "KiB Mem: \u001b[m\u001b[m\u001b[1m   880552 \u001b[m\u001b[mtotal,\u001b[m\u001b[m\u001b[1m   816716 \u001b[m\u001b[mused,\u001b[m\u001b[m\u001b[1m    63836 \u001b[m\u001b[mfree,\u001b[m\u001b[m\u001b[1m    12008 \u001b[m\u001b[mbuffers\u001b[m\u001b[m\u001b[m\u001b[m\u001b[K\n",
      "KiB Swap:\u001b[m\u001b[m\u001b[1m   102396 \u001b[m\u001b[mtotal,\u001b[m\u001b[m\u001b[1m    28716 \u001b[m\u001b[mused,\u001b[m\u001b[m\u001b[1m    73680 \u001b[m\u001b[mfree.\u001b[m\u001b[m\u001b[1m   261776 \u001b[m\u001b[mcached Mem\u001b[m\u001b[m\u001b[m\u001b[m\u001b[K\n",
      "\u001b[K\n",
      "\n",
      "\u001b[m 1587 pi        20   0  432196 135340  69232 S  14.9 15.4   6:25.43 chromium-b+ \u001b[m\u001b[m\u001b[K\n",
      "\u001b[m 1656 pi        20   0  105492  28964   9204 S   7.0  3.3   0:11.86 python2     \u001b[m\u001b[m\u001b[K\n",
      "\u001b[m 1213 pi        20   0  587604 161008 107664 S   6.3 18.3   5:23.29 chromium-b+ \u001b[m\u001b[m\u001b[K\n",
      "\u001b[m  607 root      20   0   43960  21036  11724 S   3.6  2.4   2:50.37 vncserver-+ \u001b[m\u001b[m\u001b[K\n",
      "\u001b[m  702 root      20   0  151304  43964  21792 S   3.6  5.0   1:59.30 Xorg        \u001b[m\u001b[m\u001b[K\n",
      "\u001b[m 1312 pi        20   0  667752 306380 115404 S   2.3 34.8   4:10.52 chromium-b+ \u001b[m\u001b[m\u001b[K\n",
      "\u001b[m    6 root      20   0       0      0      0 S   0.7  0.0   0:09.79 kworker/u8+ \u001b[m\u001b[m\u001b[K\n",
      "\u001b[m  742 root      20   0   16288  11752  11412 S   0.7  1.3   0:22.57 vncagent    \u001b[m\u001b[m\u001b[K\n",
      "\u001b[m\u001b[1m 2632 pi        20   0    5112   2528   2132 R   0.7  0.3   0:00.85 top         \u001b[m\u001b[m\u001b[K\n",
      "\u001b[m    3 root      20   0       0      0      0 S   0.3  0.0   0:00.27 ksoftirqd/0 \u001b[m\u001b[m\u001b[K\n",
      "\u001b[m 1482 pi        20   0   47696  17456  14512 S   0.3  2.0   0:03.03 lxterminal  \u001b[m\u001b[m\u001b[K\n",
      "\u001b[m 1494 pi        20   0   62884  36948  11244 S   0.3  4.2   0:09.03 jupyter-no+ \u001b[m\u001b[m\u001b[K\n",
      "\u001b[m 2598 pi        20   0    5112   2496   2100 S   0.3  0.3   0:01.54 top         \u001b[m\u001b[m\u001b[K\n",
      "\u001b[m    1 root      20   0   23776   3148   2444 S   0.0  0.4   0:02.39 systemd     \u001b[m\u001b[m\u001b[K\n",
      "\u001b[m    2 root      20   0       0      0      0 S   0.0  0.0   0:00.00 kthreadd    \u001b[m\u001b[m\u001b[K\n",
      "\u001b[m    5 root       0 -20       0      0      0 S   0.0  0.0   0:00.00 kworker/0:+ \u001b[m\u001b[m\u001b[K\n",
      "\u001b[m    7 root      20   0       0      0      0 S   0.0  0.0   0:02.02 rcu_sched   \u001b[m\u001b[m\u001b[K\u001b[H\u001b[mtop - 18:00:35 up 48 min,  2 users,  load average: 0.85, 0.68, 0.50\u001b[m\u001b[m\u001b[m\u001b[m\u001b[K\n",
      "\n",
      "%Cpu(s):\u001b[m\u001b[m\u001b[1m  5.5 \u001b[m\u001b[mus,\u001b[m\u001b[m\u001b[1m  0.8 \u001b[m\u001b[msy,\u001b[m\u001b[m\u001b[1m  0.0 \u001b[m\u001b[mni,\u001b[m\u001b[m\u001b[1m 93.7 \u001b[m\u001b[mid,\u001b[m\u001b[m\u001b[1m  0.1 \u001b[m\u001b[mwa,\u001b[m\u001b[m\u001b[1m  0.0 \u001b[m\u001b[mhi,\u001b[m\u001b[m\u001b[1m  0.0 \u001b[m\u001b[msi,\u001b[m\u001b[m\u001b[1m  0.0 \u001b[m\u001b[mst\u001b[m\u001b[m\u001b[m\u001b[m\u001b[K\n",
      "KiB Mem: \u001b[m\u001b[m\u001b[1m   880552 \u001b[m\u001b[mtotal,\u001b[m\u001b[m\u001b[1m   816468 \u001b[m\u001b[mused,\u001b[m\u001b[m\u001b[1m    64084 \u001b[m\u001b[mfree,\u001b[m\u001b[m\u001b[1m    12016 \u001b[m\u001b[mbuffers\u001b[m\u001b[m\u001b[m\u001b[m\u001b[K\n",
      "KiB Swap:\u001b[m\u001b[m\u001b[1m   102396 \u001b[m\u001b[mtotal,\u001b[m\u001b[m\u001b[1m    28716 \u001b[m\u001b[mused,\u001b[m\u001b[m\u001b[1m    73680 \u001b[m\u001b[mfree.\u001b[m\u001b[m\u001b[1m   261772 \u001b[m\u001b[mcached Mem\u001b[m\u001b[m\u001b[m\u001b[m\u001b[K\n",
      "\u001b[K\n",
      "\n",
      "\u001b[m 1587 pi        20   0  432196 135600  69492 S  10.9 15.4   6:25.76 chromium-b+ \u001b[m\u001b[m\u001b[K\n",
      "\u001b[m 1656 pi        20   0  105492  28964   9204 S   7.2  3.3   0:12.08 python2     \u001b[m\u001b[m\u001b[K\n",
      "\u001b[m 1213 pi        20   0  587604 159984 106640 S   2.6 18.2   5:23.37 chromium-b+ \u001b[m\u001b[m\u001b[K\n",
      "\u001b[m  607 root      20   0   43960  21036  11724 S   2.0  2.4   2:50.43 vncserver-+ \u001b[m\u001b[m\u001b[K\n",
      "\u001b[m  702 root      20   0  151304  43964  21792 S   2.0  5.0   1:59.36 Xorg        \u001b[m\u001b[m\u001b[K\n",
      "\u001b[m\u001b[1m 2632 pi        20   0    5112   2528   2132 R   1.0  0.3   0:00.88 top         \u001b[m\u001b[m\u001b[K\n",
      "\u001b[m 1312 pi        20   0  667752 306636 115404 S   0.7 34.8   4:10.54 chromium-b+ \u001b[m\u001b[m\u001b[K\n",
      "\u001b[m 1494 pi        20   0   62884  36948  11244 S   0.7  4.2   0:09.05 jupyter-no+ \u001b[m\u001b[m\u001b[K\n",
      "\u001b[m 2598 pi        20   0    5112   2496   2100 S   0.7  0.3   0:01.56 top         \u001b[m\u001b[m\u001b[K\n",
      "\u001b[m  282 root      20   0       0      0      0 S   0.3  0.0   0:01.69 brcmf_wdog+ \u001b[m\u001b[m\u001b[K\n",
      "\u001b[m  742 root      20   0   16288  11752  11412 S   0.3  1.3   0:22.58 vncagent    \u001b[m\u001b[m\u001b[K\n",
      "\u001b[m    1 root      20   0   23776   3148   2444 S   0.0  0.4   0:02.39 systemd     \u001b[m\u001b[m\u001b[K\n",
      "\u001b[m    2 root      20   0       0      0      0 S   0.0  0.0   0:00.00 kthreadd    \u001b[m\u001b[m\u001b[K\n",
      "\u001b[m    3 root      20   0       0      0      0 S   0.0  0.0   0:00.27 ksoftirqd/0 \u001b[m\u001b[m\u001b[K\n",
      "\u001b[m    5 root       0 -20       0      0      0 S   0.0  0.0   0:00.00 kworker/0:+ \u001b[m\u001b[m\u001b[K\n",
      "\u001b[m    6 root      20   0       0      0      0 S   0.0  0.0   0:09.79 kworker/u8+ \u001b[m\u001b[m\u001b[K\n",
      "\u001b[H\u001b[mtop - 18:00:38 up 48 min,  2 users,  load average: 0.85, 0.68, 0.50\u001b[m\u001b[m\u001b[m\u001b[m\u001b[K\n",
      "\n",
      "%Cpu(s):\u001b[m\u001b[m\u001b[1m  8.5 \u001b[m\u001b[mus,\u001b[m\u001b[m\u001b[1m  1.8 \u001b[m\u001b[msy,\u001b[m\u001b[m\u001b[1m  0.0 \u001b[m\u001b[mni,\u001b[m\u001b[m\u001b[1m 89.6 \u001b[m\u001b[mid,\u001b[m\u001b[m\u001b[1m  0.0 \u001b[m\u001b[mwa,\u001b[m\u001b[m\u001b[1m  0.0 \u001b[m\u001b[mhi,\u001b[m\u001b[m\u001b[1m  0.2 \u001b[m\u001b[msi,\u001b[m\u001b[m\u001b[1m  0.0 \u001b[m\u001b[mst\u001b[m\u001b[m\u001b[m\u001b[m\u001b[K\n",
      "KiB Mem: \u001b[m\u001b[m\u001b[1m   880552 \u001b[m\u001b[mtotal,\u001b[m\u001b[m\u001b[1m   816120 \u001b[m\u001b[mused,\u001b[m\u001b[m\u001b[1m    64432 \u001b[m\u001b[mfree,\u001b[m\u001b[m\u001b[1m    12016 \u001b[m\u001b[mbuffers\u001b[m\u001b[m\u001b[m\u001b[m\u001b[K\n",
      "KiB Swap:\u001b[m\u001b[m\u001b[1m   102396 \u001b[m\u001b[mtotal,\u001b[m\u001b[m\u001b[1m    28716 \u001b[m\u001b[mused,\u001b[m\u001b[m\u001b[1m    73680 \u001b[m\u001b[mfree.\u001b[m\u001b[m\u001b[1m   261780 \u001b[m\u001b[mcached Mem\u001b[m\u001b[m\u001b[m\u001b[m\u001b[K\n",
      "\u001b[K\n",
      "\n",
      "\u001b[m 1587 pi        20   0  432196 135816  69256 S  14.8 15.4   6:26.21 chromium-b+ \u001b[m\u001b[m\u001b[K\n",
      "\u001b[m 1656 pi        20   0  105492  28964   9204 S   7.6  3.3   0:12.31 python2     \u001b[m\u001b[m\u001b[K\n",
      "\u001b[m 1213 pi        20   0  587604 158960 105616 S   6.3 18.1   5:23.56 chromium-b+ \u001b[m\u001b[m\u001b[K\n",
      "\u001b[m  702 root      20   0  151304  43964  21792 S   3.0  5.0   1:59.45 Xorg        \u001b[m\u001b[m\u001b[K\n",
      "\u001b[m  607 root      20   0   43960  21036  11724 S   2.6  2.4   2:50.51 vncserver-+ \u001b[m\u001b[m\u001b[K\n",
      "\u001b[m 1312 pi        20   0  667752 305684 115404 S   2.6 34.7   4:10.62 chromium-b+ \u001b[m\u001b[m\u001b[K\n",
      "\u001b[m  742 root      20   0   16288  11752  11412 S   1.0  1.3   0:22.61 vncagent    \u001b[m\u001b[m\u001b[K\n",
      "\u001b[m\u001b[1m 2632 pi        20   0    5112   2528   2132 R   1.0  0.3   0:00.91 top         \u001b[m\u001b[m\u001b[K\n",
      "\u001b[m    6 root      20   0       0      0      0 S   0.7  0.0   0:09.81 kworker/u8+ \u001b[m\u001b[m\u001b[K\n",
      "\u001b[m 1494 pi        20   0   62884  36948  11244 S   0.7  4.2   0:09.07 jupyter-no+ \u001b[m\u001b[m\u001b[K\n",
      "\u001b[m    7 root      20   0       0      0      0 S   0.3  0.0   0:02.03 rcu_sched   \u001b[m\u001b[m\u001b[K\n",
      "\u001b[m   87 root     -51   0       0      0      0 S   0.3  0.0   0:09.36 irq/92-mmc1 \u001b[m\u001b[m\u001b[K\n",
      "\u001b[m  116 root      20   0       0      0      0 S   0.3  0.0   0:06.37 kworker/u8+ \u001b[m\u001b[m\u001b[K\n",
      "\u001b[m 1084 pi        20   0   95208  18784  14596 S   0.3  2.1   0:07.16 lxpanel     \u001b[m\u001b[m\u001b[K\n",
      "\u001b[m 1482 pi        20   0   47696  17456  14512 S   0.3  2.0   0:03.04 lxterminal  \u001b[m\u001b[m\u001b[K\n",
      "\u001b[m 2598 pi        20   0    5112   2496   2100 S   0.3  0.3   0:01.57 top         \u001b[m\u001b[m\u001b[K\n"
     ]
    },
    {
     "name": "stdout",
     "output_type": "stream",
     "text": [
      "\u001b[m    1 root      20   0   23776   3148   2444 S   0.0  0.4   0:02.39 systemd     \u001b[m\u001b[m\u001b[K\u001b[H\u001b[mtop - 18:00:41 up 48 min,  2 users,  load average: 0.78, 0.67, 0.50\u001b[m\u001b[m\u001b[m\u001b[m\u001b[K\n",
      "Tasks:\u001b[m\u001b[m\u001b[1m 169 \u001b[m\u001b[mtotal,\u001b[m\u001b[m\u001b[1m   2 \u001b[m\u001b[mrunning,\u001b[m\u001b[m\u001b[1m 167 \u001b[m\u001b[msleeping,\u001b[m\u001b[m\u001b[1m   0 \u001b[m\u001b[mstopped,\u001b[m\u001b[m\u001b[1m   0 \u001b[m\u001b[mzombie\u001b[m\u001b[m\u001b[m\u001b[m\u001b[K\n",
      "%Cpu(s):\u001b[m\u001b[m\u001b[1m  7.3 \u001b[m\u001b[mus,\u001b[m\u001b[m\u001b[1m  2.1 \u001b[m\u001b[msy,\u001b[m\u001b[m\u001b[1m  0.0 \u001b[m\u001b[mni,\u001b[m\u001b[m\u001b[1m 90.4 \u001b[m\u001b[mid,\u001b[m\u001b[m\u001b[1m  0.0 \u001b[m\u001b[mwa,\u001b[m\u001b[m\u001b[1m  0.0 \u001b[m\u001b[mhi,\u001b[m\u001b[m\u001b[1m  0.2 \u001b[m\u001b[msi,\u001b[m\u001b[m\u001b[1m  0.0 \u001b[m\u001b[mst\u001b[m\u001b[m\u001b[m\u001b[m\u001b[K\n",
      "KiB Mem: \u001b[m\u001b[m\u001b[1m   880552 \u001b[m\u001b[mtotal,\u001b[m\u001b[m\u001b[1m   816468 \u001b[m\u001b[mused,\u001b[m\u001b[m\u001b[1m    64084 \u001b[m\u001b[mfree,\u001b[m\u001b[m\u001b[1m    12016 \u001b[m\u001b[mbuffers\u001b[m\u001b[m\u001b[m\u001b[m\u001b[K\n",
      "\n",
      "\u001b[K\n",
      "\n",
      "\u001b[m 1587 pi        20   0  432196 136372  69524 S  16.2 15.5   6:26.70 chromium-b+ \u001b[m\u001b[m\u001b[K\n",
      "\u001b[m 1656 pi        20   0  105492  28964   9204 S   7.6  3.3   0:12.54 python2     \u001b[m\u001b[m\u001b[K\n",
      "\u001b[m\u001b[1m 1213 pi        20   0  587604 157936 104592 R   7.3 17.9   5:23.78 chromium-b+ \u001b[m\u001b[m\u001b[K\n",
      "\u001b[m  702 root      20   0  151304  43964  21792 S   3.6  5.0   1:59.56 Xorg        \u001b[m\u001b[m\u001b[K\n",
      "\u001b[m  607 root      20   0   43960  21036  11724 S   3.0  2.4   2:50.60 vncserver-+ \u001b[m\u001b[m\u001b[K\n",
      "\u001b[m  742 root      20   0   16288  11752  11412 S   1.0  1.3   0:22.64 vncagent    \u001b[m\u001b[m\u001b[K\n",
      "\u001b[m\u001b[1m 2632 pi        20   0    5112   2528   2132 R   1.0  0.3   0:00.94 top         \u001b[m\u001b[m\u001b[K\n",
      "\u001b[m  116 root      20   0       0      0      0 S   0.7  0.0   0:06.39 kworker/u8+ \u001b[m\u001b[m\u001b[K\n",
      "\u001b[m 2598 pi        20   0    5112   2496   2100 S   0.7  0.3   0:01.59 top         \u001b[m\u001b[m\u001b[K\n",
      "\u001b[m   87 root     -51   0       0      0      0 S   0.3  0.0   0:09.37 irq/92-mmc1 \u001b[m\u001b[m\u001b[K\n",
      "\u001b[m 1312 pi        20   0  667752 305684 115404 S   0.3 34.7   4:10.63 chromium-b+ \u001b[m\u001b[m\u001b[K\n",
      "\u001b[m 1482 pi        20   0   47696  17456  14512 S   0.3  2.0   0:03.05 lxterminal  \u001b[m\u001b[m\u001b[K\n",
      "\u001b[m 1494 pi        20   0   62884  36948  11244 S   0.3  4.2   0:09.08 jupyter-no+ \u001b[m\u001b[m\u001b[K\n",
      "\u001b[m    1 root      20   0   23776   3148   2444 S   0.0  0.4   0:02.39 systemd     \u001b[m\u001b[m\u001b[K\n",
      "\u001b[m    2 root      20   0       0      0      0 S   0.0  0.0   0:00.00 kthreadd    \u001b[m\u001b[m\u001b[K\n",
      "\u001b[m    3 root      20   0       0      0      0 S   0.0  0.0   0:00.27 ksoftirqd/0 \u001b[m\u001b[m\u001b[K\n",
      "\u001b[m    5 root       0 -20       0      0      0 S   0.0  0.0   0:00.00 kworker/0:+ \u001b[m\u001b[m\u001b[K\u001b[H\u001b[mtop - 18:00:44 up 48 min,  2 users,  load average: 0.78, 0.67, 0.50\u001b[m\u001b[m\u001b[m\u001b[m\u001b[K\n",
      "Tasks:\u001b[m\u001b[m\u001b[1m 169 \u001b[m\u001b[mtotal,\u001b[m\u001b[m\u001b[1m   4 \u001b[m\u001b[mrunning,\u001b[m\u001b[m\u001b[1m 165 \u001b[m\u001b[msleeping,\u001b[m\u001b[m\u001b[1m   0 \u001b[m\u001b[mstopped,\u001b[m\u001b[m\u001b[1m   0 \u001b[m\u001b[mzombie\u001b[m\u001b[m\u001b[m\u001b[m\u001b[K\n",
      "%Cpu(s):\u001b[m\u001b[m\u001b[1m 12.0 \u001b[m\u001b[mus,\u001b[m\u001b[m\u001b[1m  1.9 \u001b[m\u001b[msy,\u001b[m\u001b[m\u001b[1m  0.0 \u001b[m\u001b[mni,\u001b[m\u001b[m\u001b[1m 85.9 \u001b[m\u001b[mid,\u001b[m\u001b[m\u001b[1m  0.0 \u001b[m\u001b[mwa,\u001b[m\u001b[m\u001b[1m  0.0 \u001b[m\u001b[mhi,\u001b[m\u001b[m\u001b[1m  0.3 \u001b[m\u001b[msi,\u001b[m\u001b[m\u001b[1m  0.0 \u001b[m\u001b[mst\u001b[m\u001b[m\u001b[m\u001b[m\u001b[K\n",
      "\n",
      "KiB Swap:\u001b[m\u001b[m\u001b[1m   102396 \u001b[m\u001b[mtotal,\u001b[m\u001b[m\u001b[1m    28716 \u001b[m\u001b[mused,\u001b[m\u001b[m\u001b[1m    73680 \u001b[m\u001b[mfree.\u001b[m\u001b[m\u001b[1m   263044 \u001b[m\u001b[mcached Mem\u001b[m\u001b[m\u001b[m\u001b[m\u001b[K\n",
      "\u001b[K\n",
      "\n",
      "\u001b[m\u001b[1m 1587 pi        20   0  433476 137196  70600 R  25.4 15.6   6:27.47 chromium-b+ \u001b[m\u001b[m\u001b[K\n",
      "\u001b[m 1213 pi        20   0  588852 160992 107648 S   9.9 18.3   5:24.08 chromium-b+ \u001b[m\u001b[m\u001b[K\n",
      "\u001b[m 1656 pi        20   0  105492  28964   9204 S   7.6  3.3   0:12.77 python2     \u001b[m\u001b[m\u001b[K\n",
      "\u001b[m\u001b[1m  702 root      20   0  151272  43948  21776 R   5.6  5.0   1:59.73 Xorg        \u001b[m\u001b[m\u001b[K\n",
      "\u001b[m\u001b[1m  607 root      20   0   43960  21036  11724 R   4.3  2.4   2:50.73 vncserver-+ \u001b[m\u001b[m\u001b[K\n",
      "\u001b[m 1312 pi        20   0  667752 305940 115404 S   2.6 34.7   4:10.71 chromium-b+ \u001b[m\u001b[m\u001b[K\n",
      "\u001b[m  742 root      20   0   16288  11752  11412 S   1.3  1.3   0:22.68 vncagent    \u001b[m\u001b[m\u001b[K\n",
      "\u001b[m   87 root     -51   0       0      0      0 S   0.7  0.0   0:09.39 irq/92-mmc1 \u001b[m\u001b[m\u001b[K\n",
      "\u001b[m 1494 pi        20   0   62884  36948  11244 S   0.7  4.2   0:09.10 jupyter-no+ \u001b[m\u001b[m\u001b[K\n",
      "\u001b[m 2598 pi        20   0    5112   2496   2100 S   0.7  0.3   0:01.61 top         \u001b[m\u001b[m\u001b[K\n",
      "\u001b[m\u001b[1m 2632 pi        20   0    5112   2528   2132 R   0.7  0.3   0:00.96 top         \u001b[m\u001b[m\u001b[K\n",
      "\u001b[m    6 root      20   0       0      0      0 S   0.3  0.0   0:09.82 kworker/u8+ \u001b[m\u001b[m\u001b[K\n",
      "\u001b[m  116 root      20   0       0      0      0 S   0.3  0.0   0:06.40 kworker/u8+ \u001b[m\u001b[m\u001b[K\n",
      "\u001b[m 1084 pi        20   0   95208  18784  14596 S   0.3  2.1   0:07.17 lxpanel     \u001b[m\u001b[m\u001b[K\n",
      "\u001b[m    1 root      20   0   23776   3148   2444 S   0.0  0.4   0:02.39 systemd     \u001b[m\u001b[m\u001b[K\n",
      "\u001b[m    2 root      20   0       0      0      0 S   0.0  0.0   0:00.00 kthreadd    \u001b[m\u001b[m\u001b[K\n",
      "\u001b[m    3 root      20   0       0      0      0 S   0.0  0.0   0:00.27 ksoftirqd/0 \u001b[m\u001b[m\u001b[K\u001b[H\u001b[mtop - 18:00:47 up 48 min,  2 users,  load average: 0.88, 0.69, 0.51\u001b[m\u001b[m\u001b[m\u001b[m\u001b[K\n",
      "Tasks:\u001b[m\u001b[m\u001b[1m 169 \u001b[m\u001b[mtotal,\u001b[m\u001b[m\u001b[1m   3 \u001b[m\u001b[mrunning,\u001b[m\u001b[m\u001b[1m 166 \u001b[m\u001b[msleeping,\u001b[m\u001b[m\u001b[1m   0 \u001b[m\u001b[mstopped,\u001b[m\u001b[m\u001b[1m   0 \u001b[m\u001b[mzombie\u001b[m\u001b[m\u001b[m\u001b[m\u001b[K\n",
      "%Cpu(s):\u001b[m\u001b[m\u001b[1m 13.1 \u001b[m\u001b[mus,\u001b[m\u001b[m\u001b[1m  4.5 \u001b[m\u001b[msy,\u001b[m\u001b[m\u001b[1m  0.0 \u001b[m\u001b[mni,\u001b[m\u001b[m\u001b[1m 81.8 \u001b[m\u001b[mid,\u001b[m\u001b[m\u001b[1m  0.0 \u001b[m\u001b[mwa,\u001b[m\u001b[m\u001b[1m  0.0 \u001b[m\u001b[mhi,\u001b[m\u001b[m\u001b[1m  0.6 \u001b[m\u001b[msi,\u001b[m\u001b[m\u001b[1m  0.0 \u001b[m\u001b[mst\u001b[m\u001b[m\u001b[m\u001b[m\u001b[K\n",
      "KiB Mem: \u001b[m\u001b[m\u001b[1m   880552 \u001b[m\u001b[mtotal,\u001b[m\u001b[m\u001b[1m   819164 \u001b[m\u001b[mused,\u001b[m\u001b[m\u001b[1m    61388 \u001b[m\u001b[mfree,\u001b[m\u001b[m\u001b[1m    12016 \u001b[m\u001b[mbuffers\u001b[m\u001b[m\u001b[m\u001b[m\u001b[K\n",
      "KiB Swap:\u001b[m\u001b[m\u001b[1m   102396 \u001b[m\u001b[mtotal,\u001b[m\u001b[m\u001b[1m    28716 \u001b[m\u001b[mused,\u001b[m\u001b[m\u001b[1m    73680 \u001b[m\u001b[mfree.\u001b[m\u001b[m\u001b[1m   265452 \u001b[m\u001b[mcached Mem\u001b[m\u001b[m\u001b[m\u001b[m\u001b[K\n",
      "\u001b[K\n",
      "\n",
      "\u001b[m\u001b[1m 1587 pi        20   0  437060 139976  73264 R  34.4 15.9   6:28.51 chromium-b+ \u001b[m\u001b[m\u001b[K\n",
      "\u001b[m\u001b[1m 1213 pi        20   0  592436 163716 110372 R  13.2 18.6   5:24.48 chromium-b+ \u001b[m\u001b[m\u001b[K\n",
      "\u001b[m  607 root      20   0   43960  21036  11724 S   8.9  2.4   2:51.00 vncserver-+ \u001b[m\u001b[m\u001b[K\n",
      "\u001b[m  702 root      20   0  151272  43948  21776 S   6.6  5.0   1:59.93 Xorg        \u001b[m\u001b[m\u001b[K\n",
      "\u001b[m 1656 pi        20   0  105492  28964   9204 S   6.3  3.3   0:12.96 python2     \u001b[m\u001b[m\u001b[K\n",
      "\u001b[m    6 root      20   0       0      0      0 S   1.7  0.0   0:09.87 kworker/u8+ \u001b[m\u001b[m\u001b[K\n",
      "\u001b[m  742 root      20   0   16288  11752  11412 S   1.7  1.3   0:22.73 vncagent    \u001b[m\u001b[m\u001b[K\n",
      "\u001b[m\u001b[1m 2632 pi        20   0    5112   2528   2132 R   1.0  0.3   0:00.99 top         \u001b[m\u001b[m\u001b[K\n",
      "\u001b[m   87 root     -51   0       0      0      0 S   0.7  0.0   0:09.41 irq/92-mmc1 \u001b[m\u001b[m\u001b[K\n",
      "\u001b[m 1494 pi        20   0   62884  36948  11244 S   0.7  4.2   0:09.12 jupyter-no+ \u001b[m\u001b[m\u001b[K\n",
      "\u001b[m    7 root      20   0       0      0      0 S   0.3  0.0   0:02.04 rcu_sched   \u001b[m\u001b[m\u001b[K\n",
      "\u001b[m 1283 pi        20   0  394500  88764  51132 S   0.3 10.1   0:29.18 chromium-b+ \u001b[m\u001b[m\u001b[K\n",
      "\u001b[m 1312 pi        20   0  667752 305940 115404 S   0.3 34.7   4:10.72 chromium-b+ \u001b[m\u001b[m\u001b[K\n",
      "\u001b[m 2598 pi        20   0    5112   2496   2100 S   0.3  0.3   0:01.62 top         \u001b[m\u001b[m\u001b[K\n",
      "\n",
      "\n",
      "\u001b[H\u001b[mtop - 18:00:50 up 48 min,  2 users,  load average: 0.81, 0.68, 0.50\u001b[m\u001b[m\u001b[m\u001b[m\u001b[K\n",
      "Tasks:\u001b[m\u001b[m\u001b[1m 168 \u001b[m\u001b[mtotal,\u001b[m\u001b[m\u001b[1m   2 \u001b[m\u001b[mrunning,\u001b[m\u001b[m\u001b[1m 166 \u001b[m\u001b[msleeping,\u001b[m\u001b[m\u001b[1m   0 \u001b[m\u001b[mstopped,\u001b[m\u001b[m\u001b[1m   0 \u001b[m\u001b[mzombie\u001b[m\u001b[m\u001b[m\u001b[m\u001b[K\n",
      "%Cpu(s):\u001b[m\u001b[m\u001b[1m 16.7 \u001b[m\u001b[mus,\u001b[m\u001b[m\u001b[1m  4.2 \u001b[m\u001b[msy,\u001b[m\u001b[m\u001b[1m  0.0 \u001b[m\u001b[mni,\u001b[m\u001b[m\u001b[1m 78.6 \u001b[m\u001b[mid,\u001b[m\u001b[m\u001b[1m  0.0 \u001b[m\u001b[mwa,\u001b[m\u001b[m\u001b[1m  0.0 \u001b[m\u001b[mhi,\u001b[m\u001b[m\u001b[1m  0.6 \u001b[m\u001b[msi,\u001b[m\u001b[m\u001b[1m  0.0 \u001b[m\u001b[mst\u001b[m\u001b[m\u001b[m\u001b[m\u001b[K\n",
      "KiB Mem: \u001b[m\u001b[m\u001b[1m   880552 \u001b[m\u001b[mtotal,\u001b[m\u001b[m\u001b[1m   819180 \u001b[m\u001b[mused,\u001b[m\u001b[m\u001b[1m    61372 \u001b[m\u001b[mfree,\u001b[m\u001b[m\u001b[1m    12016 \u001b[m\u001b[mbuffers\u001b[m\u001b[m\u001b[m\u001b[m\u001b[K\n",
      "KiB Swap:\u001b[m\u001b[m\u001b[1m   102396 \u001b[m\u001b[mtotal,\u001b[m\u001b[m\u001b[1m    28716 \u001b[m\u001b[mused,\u001b[m\u001b[m\u001b[1m    73680 \u001b[m\u001b[mfree.\u001b[m\u001b[m\u001b[1m   265404 \u001b[m\u001b[mcached Mem\u001b[m\u001b[m\u001b[m\u001b[m\u001b[K\n",
      "\u001b[K\n",
      "\n",
      "\u001b[m 1587 pi        20   0  437060 139732  72944 S  36.0 15.9   6:29.60 chromium-b+ \u001b[m\u001b[m\u001b[K\n",
      "\u001b[m 1213 pi        20   0  592436 162260 108916 S  16.2 18.4   5:24.97 chromium-b+ \u001b[m\u001b[m\u001b[K\n",
      "\u001b[m\u001b[1m  702 root      20   0  151272  43948  21776 R   8.2  5.0   2:00.18 Xorg        \u001b[m\u001b[m\u001b[K\n",
      "\u001b[m 1656 pi        20   0  105492  28964   9204 S   6.9  3.3   0:13.17 python2     \u001b[m\u001b[m\u001b[K\n",
      "\u001b[m  607 root      20   0   43960  21036  11724 S   6.6  2.4   2:51.20 vncserver-+ \u001b[m\u001b[m\u001b[K\n",
      "\u001b[m 1312 pi        20   0  667752 306076 115408 S   3.6 34.8   4:10.83 chromium-b+ \u001b[m\u001b[m\u001b[K\n",
      "\u001b[m  742 root      20   0   16288  11752  11412 S   2.3  1.3   0:22.80 vncagent    \u001b[m\u001b[m\u001b[K\n",
      "\u001b[m 2584 root      20   0       0      0      0 S   1.6  0.0   0:01.34 kworker/u8+ \u001b[m\u001b[m\u001b[K\n",
      "\u001b[m   87 root     -51   0       0      0      0 S   1.0  0.0   0:09.44 irq/92-mmc1 \u001b[m\u001b[m\u001b[K\n",
      "\u001b[m 1494 pi        20   0   62884  36948  11244 S   0.7  4.2   0:09.14 jupyter-no+ \u001b[m\u001b[m\u001b[K\n",
      "\u001b[m 2598 pi        20   0    5112   2496   2100 S   0.7  0.3   0:01.64 top         \u001b[m\u001b[m\u001b[K\n",
      "\u001b[m 1153 pi        20   0    5844   2236   1992 S   0.3  0.3   0:00.10 xprop       \u001b[m\u001b[m\u001b[K\n",
      "\u001b[m 1482 pi        20   0   47696  17456  14512 S   0.3  2.0   0:03.06 lxterminal  \u001b[m\u001b[m\u001b[K\n",
      "\u001b[m\u001b[1m 2632 pi        20   0    5112   2528   2132 R   0.3  0.3   0:01.00 top         \u001b[m\u001b[m\u001b[K\n",
      "\n",
      "\n"
     ]
    },
    {
     "name": "stdout",
     "output_type": "stream",
     "text": [
      "\u001b[H\u001b[mtop - 18:00:53 up 48 min,  2 users,  load average: 0.81, 0.68, 0.50\u001b[m\u001b[m\u001b[m\u001b[m\u001b[K\n",
      "Tasks:\u001b[m\u001b[m\u001b[1m 168 \u001b[m\u001b[mtotal,\u001b[m\u001b[m\u001b[1m   1 \u001b[m\u001b[mrunning,\u001b[m\u001b[m\u001b[1m 167 \u001b[m\u001b[msleeping,\u001b[m\u001b[m\u001b[1m   0 \u001b[m\u001b[mstopped,\u001b[m\u001b[m\u001b[1m   0 \u001b[m\u001b[mzombie\u001b[m\u001b[m\u001b[m\u001b[m\u001b[K\n",
      "%Cpu(s):\u001b[m\u001b[m\u001b[1m 21.6 \u001b[m\u001b[mus,\u001b[m\u001b[m\u001b[1m  3.6 \u001b[m\u001b[msy,\u001b[m\u001b[m\u001b[1m  0.0 \u001b[m\u001b[mni,\u001b[m\u001b[m\u001b[1m 71.3 \u001b[m\u001b[mid,\u001b[m\u001b[m\u001b[1m  2.8 \u001b[m\u001b[mwa,\u001b[m\u001b[m\u001b[1m  0.0 \u001b[m\u001b[mhi,\u001b[m\u001b[m\u001b[1m  0.7 \u001b[m\u001b[msi,\u001b[m\u001b[m\u001b[1m  0.0 \u001b[m\u001b[mst\u001b[m\u001b[m\u001b[m\u001b[m\u001b[K\n",
      "KiB Mem: \u001b[m\u001b[m\u001b[1m   880552 \u001b[m\u001b[mtotal,\u001b[m\u001b[m\u001b[1m   820544 \u001b[m\u001b[mused,\u001b[m\u001b[m\u001b[1m    60008 \u001b[m\u001b[mfree,\u001b[m\u001b[m\u001b[1m    12032 \u001b[m\u001b[mbuffers\u001b[m\u001b[m\u001b[m\u001b[m\u001b[K\n",
      "KiB Swap:\u001b[m\u001b[m\u001b[1m   102396 \u001b[m\u001b[mtotal,\u001b[m\u001b[m\u001b[1m    28716 \u001b[m\u001b[mused,\u001b[m\u001b[m\u001b[1m    73680 \u001b[m\u001b[mfree.\u001b[m\u001b[m\u001b[1m   265296 \u001b[m\u001b[mcached Mem\u001b[m\u001b[m\u001b[m\u001b[m\u001b[K\n",
      "\u001b[K\n",
      "\n",
      "\u001b[m 1587 pi        20   0  435012 140360  73148 S  46.0 15.9   6:30.99 chromium-b+ \u001b[m\u001b[m\u001b[K\n",
      "\u001b[m  607 root      20   0   43960  21036  11724 S  23.5  2.4   2:51.91 vncserver-+ \u001b[m\u001b[m\u001b[K\n",
      "\u001b[m 1213 pi        20   0  590388 161448 108104 S  12.3 18.3   5:25.34 chromium-b+ \u001b[m\u001b[m\u001b[K\n",
      "\u001b[m  702 root      20   0  151272  43948  21776 S   7.6  5.0   2:00.41 Xorg        \u001b[m\u001b[m\u001b[K\n",
      "\u001b[m 1656 pi        20   0  105492  28964   9204 S   6.3  3.3   0:13.36 python2     \u001b[m\u001b[m\u001b[K\n",
      "\u001b[m  742 root      20   0   16288  11752  11412 S   1.3  1.3   0:22.84 vncagent    \u001b[m\u001b[m\u001b[K\n",
      "\u001b[m    6 root      20   0       0      0      0 S   1.0  0.0   0:09.90 kworker/u8+ \u001b[m\u001b[m\u001b[K\n",
      "\u001b[m   87 root     -51   0       0      0      0 S   1.0  0.0   0:09.47 irq/92-mmc1 \u001b[m\u001b[m\u001b[K\n",
      "\u001b[m\u001b[1m 2632 pi        20   0    5112   2528   2132 R   1.0  0.3   0:01.03 top         \u001b[m\u001b[m\u001b[K\n",
      "\u001b[m    7 root      20   0       0      0      0 S   0.3  0.0   0:02.05 rcu_sched   \u001b[m\u001b[m\u001b[K\n",
      "\u001b[m  282 root      20   0       0      0      0 S   0.3  0.0   0:01.70 brcmf_wdog+ \u001b[m\u001b[m\u001b[K\n",
      "\u001b[m 1079 pi        20   0   21488  10712   8172 S   0.3  1.2   0:01.92 openbox     \u001b[m\u001b[m\u001b[K\n",
      "\u001b[m 1084 pi        20   0   95208  18784  14596 S   0.3  2.1   0:07.18 lxpanel     \u001b[m\u001b[m\u001b[K\n",
      "\u001b[m 1312 pi        20   0  667752 306076 115408 S   0.3 34.8   4:10.84 chromium-b+ \u001b[m\u001b[m\u001b[K\n",
      "\u001b[m 2144 pi        20   0  435592 111032  73628 S   0.3 12.6   0:26.36 chromium-b+ \u001b[m\u001b[m\u001b[K\n",
      "\u001b[m 2584 root      20   0       0      0      0 S   0.3  0.0   0:01.35 kworker/u8+ \u001b[m\u001b[m\u001b[K\n",
      "\u001b[m 2598 pi        20   0    5112   2496   2100 S   0.3  0.3   0:01.65 top         \u001b[m\u001b[m\u001b[K\u001b[H\u001b[mtop - 18:00:56 up 48 min,  2 users,  load average: 0.83, 0.69, 0.51\u001b[m\u001b[m\u001b[m\u001b[m\u001b[K\n",
      "Tasks:\u001b[m\u001b[m\u001b[1m 168 \u001b[m\u001b[mtotal,\u001b[m\u001b[m\u001b[1m   3 \u001b[m\u001b[mrunning,\u001b[m\u001b[m\u001b[1m 165 \u001b[m\u001b[msleeping,\u001b[m\u001b[m\u001b[1m   0 \u001b[m\u001b[mstopped,\u001b[m\u001b[m\u001b[1m   0 \u001b[m\u001b[mzombie\u001b[m\u001b[m\u001b[m\u001b[m\u001b[K\n",
      "%Cpu(s):\u001b[m\u001b[m\u001b[1m 11.1 \u001b[m\u001b[mus,\u001b[m\u001b[m\u001b[1m  5.2 \u001b[m\u001b[msy,\u001b[m\u001b[m\u001b[1m  0.0 \u001b[m\u001b[mni,\u001b[m\u001b[m\u001b[1m 83.2 \u001b[m\u001b[mid,\u001b[m\u001b[m\u001b[1m  0.0 \u001b[m\u001b[mwa,\u001b[m\u001b[m\u001b[1m  0.0 \u001b[m\u001b[mhi,\u001b[m\u001b[m\u001b[1m  0.5 \u001b[m\u001b[msi,\u001b[m\u001b[m\u001b[1m  0.0 \u001b[m\u001b[mst\u001b[m\u001b[m\u001b[m\u001b[m\u001b[K\n",
      "KiB Mem: \u001b[m\u001b[m\u001b[1m   880552 \u001b[m\u001b[mtotal,\u001b[m\u001b[m\u001b[1m   817692 \u001b[m\u001b[mused,\u001b[m\u001b[m\u001b[1m    62860 \u001b[m\u001b[mfree,\u001b[m\u001b[m\u001b[1m    12032 \u001b[m\u001b[mbuffers\u001b[m\u001b[m\u001b[m\u001b[m\u001b[K\n",
      "KiB Swap:\u001b[m\u001b[m\u001b[1m   102396 \u001b[m\u001b[mtotal,\u001b[m\u001b[m\u001b[1m    28716 \u001b[m\u001b[mused,\u001b[m\u001b[m\u001b[1m    73680 \u001b[m\u001b[mfree.\u001b[m\u001b[m\u001b[1m   262224 \u001b[m\u001b[mcached Mem\u001b[m\u001b[m\u001b[m\u001b[m\u001b[K\n",
      "\u001b[K\n",
      "\n",
      "\u001b[m 1587 pi        20   0  431940 137176  69808 S  26.1 15.6   6:31.78 chromium-b+ \u001b[m\u001b[m\u001b[K\n",
      "\u001b[m\u001b[1m 1213 pi        20   0  587316 161040 107696 R  15.8 18.3   5:25.82 chromium-b+ \u001b[m\u001b[m\u001b[K\n",
      "\u001b[m\u001b[1m  702 root      20   0  151272  43948  21776 R   7.6  5.0   2:00.64 Xorg        \u001b[m\u001b[m\u001b[K\n",
      "\u001b[m 1656 pi        20   0  105492  28964   9204 S   6.9  3.3   0:13.57 python2     \u001b[m\u001b[m\u001b[K\n",
      "\u001b[m  607 root      20   0   43960  21036  11724 S   4.3  2.4   2:52.04 vncserver-+ \u001b[m\u001b[m\u001b[K\n",
      "\u001b[m 1312 pi        20   0  667752 306240 115408 S   2.6 34.8   4:10.92 chromium-b+ \u001b[m\u001b[m\u001b[K\n",
      "\u001b[m  742 root      20   0   16288  11752  11412 S   2.3  1.3   0:22.91 vncagent    \u001b[m\u001b[m\u001b[K\n",
      "\u001b[m  116 root      20   0       0      0      0 S   1.3  0.0   0:06.44 kworker/u8+ \u001b[m\u001b[m\u001b[K\n",
      "\u001b[m   87 root     -51   0       0      0      0 S   1.0  0.0   0:09.50 irq/92-mmc1 \u001b[m\u001b[m\u001b[K\n",
      "\u001b[m 1494 pi        20   0   62884  36948  11244 S   1.0  4.2   0:09.17 jupyter-no+ \u001b[m\u001b[m\u001b[K\n",
      "\u001b[m\u001b[1m 2632 pi        20   0    5112   2528   2132 R   1.0  0.3   0:01.06 top         \u001b[m\u001b[m\u001b[K\n",
      "\u001b[m 1482 pi        20   0   47908  17464  14512 S   0.7  2.0   0:03.08 lxterminal  \u001b[m\u001b[m\u001b[K\n",
      "\u001b[m 2598 pi        20   0    5112   2496   2100 S   0.7  0.3   0:01.67 top         \u001b[m\u001b[m\u001b[K\n",
      "\u001b[m 2584 root      20   0       0      0      0 S   0.3  0.0   0:01.36 kworker/u8+ \u001b[m\u001b[m\u001b[K\n",
      "\u001b[m    1 root      20   0   23776   3148   2444 S   0.0  0.4   0:02.39 systemd     \u001b[m\u001b[m\u001b[K\n",
      "\u001b[m    2 root      20   0       0      0      0 S   0.0  0.0   0:00.00 kthreadd    \u001b[m\u001b[m\u001b[K\n",
      "\u001b[m    3 root      20   0       0      0      0 S   0.0  0.0   0:00.27 ksoftirqd/0 \u001b[m\u001b[m\u001b[K\u001b[H\u001b[mtop - 18:00:59 up 48 min,  2 users,  load average: 0.83, 0.69, 0.51\u001b[m\u001b[m\u001b[m\u001b[m\u001b[K\n",
      "\n",
      "%Cpu(s):\u001b[m\u001b[m\u001b[1m 14.0 \u001b[m\u001b[mus,\u001b[m\u001b[m\u001b[1m  5.8 \u001b[m\u001b[msy,\u001b[m\u001b[m\u001b[1m  0.0 \u001b[m\u001b[mni,\u001b[m\u001b[m\u001b[1m 79.3 \u001b[m\u001b[mid,\u001b[m\u001b[m\u001b[1m  0.0 \u001b[m\u001b[mwa,\u001b[m\u001b[m\u001b[1m  0.0 \u001b[m\u001b[mhi,\u001b[m\u001b[m\u001b[1m  0.8 \u001b[m\u001b[msi,\u001b[m\u001b[m\u001b[1m  0.0 \u001b[m\u001b[mst\u001b[m\u001b[m\u001b[m\u001b[m\u001b[K\n",
      "KiB Mem: \u001b[m\u001b[m\u001b[1m   880552 \u001b[m\u001b[mtotal,\u001b[m\u001b[m\u001b[1m   819684 \u001b[m\u001b[mused,\u001b[m\u001b[m\u001b[1m    60868 \u001b[m\u001b[mfree,\u001b[m\u001b[m\u001b[1m    12032 \u001b[m\u001b[mbuffers\u001b[m\u001b[m\u001b[m\u001b[m\u001b[K\n",
      "KiB Swap:\u001b[m\u001b[m\u001b[1m   102396 \u001b[m\u001b[mtotal,\u001b[m\u001b[m\u001b[1m    28716 \u001b[m\u001b[mused,\u001b[m\u001b[m\u001b[1m    73680 \u001b[m\u001b[mfree.\u001b[m\u001b[m\u001b[1m   264472 \u001b[m\u001b[mcached Mem\u001b[m\u001b[m\u001b[m\u001b[m\u001b[K\n",
      "\u001b[K\n",
      "\n",
      "\u001b[m 1587 pi        20   0  433988 138760  71892 S  31.7 15.8   6:32.74 chromium-b+ \u001b[m\u001b[m\u001b[K\n",
      "\u001b[m 1213 pi        20   0  589364 163452 110108 S  19.5 18.6   5:26.41 chromium-b+ \u001b[m\u001b[m\u001b[K\n",
      "\u001b[m\u001b[1m  702 root      20   0  151272  43948  21776 R   8.2  5.0   2:00.89 Xorg        \u001b[m\u001b[m\u001b[K\n",
      "\u001b[m 1656 pi        20   0  105492  28964   9204 S   7.6  3.3   0:13.80 python2     \u001b[m\u001b[m\u001b[K\n",
      "\u001b[m\u001b[1m  607 root      20   0   43960  21036  11724 R   4.6  2.4   2:52.18 vncserver-+ \u001b[m\u001b[m\u001b[K\n",
      "\u001b[m  742 root      20   0   16288  11752  11412 S   2.3  1.3   0:22.98 vncagent    \u001b[m\u001b[m\u001b[K\n",
      "\u001b[m   87 root     -51   0       0      0      0 S   1.3  0.0   0:09.54 irq/92-mmc1 \u001b[m\u001b[m\u001b[K\n",
      "\u001b[m 2584 root      20   0       0      0      0 S   1.3  0.0   0:01.40 kworker/u8+ \u001b[m\u001b[m\u001b[K\n",
      "\u001b[m  116 root      20   0       0      0      0 S   0.7  0.0   0:06.46 kworker/u8+ \u001b[m\u001b[m\u001b[K\n",
      "\u001b[m 1494 pi        20   0   62884  36948  11244 S   0.7  4.2   0:09.19 jupyter-no+ \u001b[m\u001b[m\u001b[K\n",
      "\u001b[m\u001b[1m 2632 pi        20   0    5112   2528   2132 R   0.7  0.3   0:01.08 top         \u001b[m\u001b[m\u001b[K\n",
      "\u001b[m    7 root      20   0       0      0      0 S   0.3  0.0   0:02.06 rcu_sched   \u001b[m\u001b[m\u001b[K\n",
      "\u001b[m  457 avahi     20   0    3996   2304   2136 S   0.3  0.3   0:00.46 avahi-daem+ \u001b[m\u001b[m\u001b[K\n",
      "\u001b[m 1084 pi        20   0   95208  18784  14596 S   0.3  2.1   0:07.19 lxpanel     \u001b[m\u001b[m\u001b[K\n",
      "\u001b[m 1283 pi        20   0  394500  88764  51132 S   0.3 10.1   0:29.19 chromium-b+ \u001b[m\u001b[m\u001b[K\n",
      "\u001b[m 1312 pi        20   0  667752 306240 115408 S   0.3 34.8   4:10.93 chromium-b+ \u001b[m\u001b[m\u001b[K\n",
      "\u001b[m 1482 pi        20   0   47700  17456  14512 S   0.3  2.0   0:03.09 lxterminal  \u001b[m\u001b[m\u001b[K\u001b[H\u001b[mtop - 18:01:02 up 48 min,  2 users,  load average: 0.76, 0.68, 0.50\u001b[m\u001b[m\u001b[m\u001b[m\u001b[K\n",
      "Tasks:\u001b[m\u001b[m\u001b[1m 168 \u001b[m\u001b[mtotal,\u001b[m\u001b[m\u001b[1m   2 \u001b[m\u001b[mrunning,\u001b[m\u001b[m\u001b[1m 166 \u001b[m\u001b[msleeping,\u001b[m\u001b[m\u001b[1m   0 \u001b[m\u001b[mstopped,\u001b[m\u001b[m\u001b[1m   0 \u001b[m\u001b[mzombie\u001b[m\u001b[m\u001b[m\u001b[m\u001b[K\n",
      "%Cpu(s):\u001b[m\u001b[m\u001b[1m 11.9 \u001b[m\u001b[mus,\u001b[m\u001b[m\u001b[1m  3.7 \u001b[m\u001b[msy,\u001b[m\u001b[m\u001b[1m  0.0 \u001b[m\u001b[mni,\u001b[m\u001b[m\u001b[1m 77.2 \u001b[m\u001b[mid,\u001b[m\u001b[m\u001b[1m  7.2 \u001b[m\u001b[mwa,\u001b[m\u001b[m\u001b[1m  0.0 \u001b[m\u001b[mhi,\u001b[m\u001b[m\u001b[1m  0.1 \u001b[m\u001b[msi,\u001b[m\u001b[m\u001b[1m  0.0 \u001b[m\u001b[mst\u001b[m\u001b[m\u001b[m\u001b[m\u001b[K\n",
      "KiB Mem: \u001b[m\u001b[m\u001b[1m   880552 \u001b[m\u001b[mtotal,\u001b[m\u001b[m\u001b[1m   809848 \u001b[m\u001b[mused,\u001b[m\u001b[m\u001b[1m    70704 \u001b[m\u001b[mfree,\u001b[m\u001b[m\u001b[1m    12076 \u001b[m\u001b[mbuffers\u001b[m\u001b[m\u001b[m\u001b[m\u001b[K\n",
      "KiB Swap:\u001b[m\u001b[m\u001b[1m   102396 \u001b[m\u001b[mtotal,\u001b[m\u001b[m\u001b[1m    28716 \u001b[m\u001b[mused,\u001b[m\u001b[m\u001b[1m    73680 \u001b[m\u001b[mfree.\u001b[m\u001b[m\u001b[1m   258616 \u001b[m\u001b[mcached Mem\u001b[m\u001b[m\u001b[m\u001b[m\u001b[K\n",
      "\u001b[K\n",
      "\n",
      "\u001b[m 1587 pi        20   0  433476 138016  68820 S  18.6 15.7   6:33.30 chromium-b+ \u001b[m\u001b[m\u001b[K\n",
      "\u001b[m 1213 pi        20   0  579248 152904 107208 S  18.2 17.4   5:26.96 chromium-b+ \u001b[m\u001b[m\u001b[K\n",
      "\u001b[m 1656 pi        20   0  105492  28964   9204 S   6.6  3.3   0:14.00 python2     \u001b[m\u001b[m\u001b[K\n",
      "\u001b[m  702 root      20   0  151272  43948  21776 S   5.3  5.0   2:01.05 Xorg        \u001b[m\u001b[m\u001b[K\n",
      "\u001b[m  607 root      20   0   43960  21036  11724 S   4.3  2.4   2:52.31 vncserver-+ \u001b[m\u001b[m\u001b[K\n",
      "\u001b[m\u001b[1m 1494 pi        20   0   63704  37632  11244 R   3.6  4.3   0:09.30 jupyter-no+ \u001b[m\u001b[m\u001b[K\n",
      "\u001b[m  742 root      20   0   16288  11752  11412 S   1.7  1.3   0:23.03 vncagent    \u001b[m\u001b[m\u001b[K\n",
      "\u001b[m 1312 pi        20   0  667752 306492 115408 S   1.7 34.8   4:10.98 chromium-b+ \u001b[m\u001b[m\u001b[K\n",
      "\u001b[m 1283 pi        20   0  394500  88820  51132 S   1.0 10.1   0:29.22 chromium-b+ \u001b[m\u001b[m\u001b[K\n",
      "\u001b[m 2584 root      20   0       0      0      0 S   1.0  0.0   0:01.43 kworker/u8+ \u001b[m\u001b[m\u001b[K\n",
      "\u001b[m   87 root     -51   0       0      0      0 S   0.7  0.0   0:09.56 irq/92-mmc1 \u001b[m\u001b[m\u001b[K\n",
      "\u001b[m 2598 pi        20   0    5112   2496   2100 S   0.7  0.3   0:01.70 top         \u001b[m\u001b[m\u001b[K\n",
      "\u001b[m   90 root      20   0       0      0      0 S   0.3  0.0   0:01.68 mmcqd/0     \u001b[m\u001b[m\u001b[K\n",
      "\u001b[m  116 root      20   0       0      0      0 S   0.3  0.0   0:06.47 kworker/u8+ \u001b[m\u001b[m\u001b[K\n",
      "\u001b[m 1084 pi        20   0   95208  18784  14596 S   0.3  2.1   0:07.20 lxpanel     \u001b[m\u001b[m\u001b[K\n",
      "\u001b[m 1482 pi        20   0   47700  17456  14512 S   0.3  2.0   0:03.10 lxterminal  \u001b[m\u001b[m\u001b[K\n"
     ]
    },
    {
     "name": "stdout",
     "output_type": "stream",
     "text": [
      "\u001b[m\u001b[1m 2632 pi        20   0    5112   2528   2132 R   0.3  0.3   0:01.09 top         \u001b[m\u001b[m\u001b[K\u001b[H\u001b[mtop - 18:01:05 up 48 min,  2 users,  load average: 0.94, 0.72, 0.52\u001b[m\u001b[m\u001b[m\u001b[m\u001b[K\n",
      "Tasks:\u001b[m\u001b[m\u001b[1m 168 \u001b[m\u001b[mtotal,\u001b[m\u001b[m\u001b[1m   1 \u001b[m\u001b[mrunning,\u001b[m\u001b[m\u001b[1m 167 \u001b[m\u001b[msleeping,\u001b[m\u001b[m\u001b[1m   0 \u001b[m\u001b[mstopped,\u001b[m\u001b[m\u001b[1m   0 \u001b[m\u001b[mzombie\u001b[m\u001b[m\u001b[m\u001b[m\u001b[K\n",
      "%Cpu(s):\u001b[m\u001b[m\u001b[1m 21.4 \u001b[m\u001b[mus,\u001b[m\u001b[m\u001b[1m  2.9 \u001b[m\u001b[msy,\u001b[m\u001b[m\u001b[1m  0.0 \u001b[m\u001b[mni,\u001b[m\u001b[m\u001b[1m 75.0 \u001b[m\u001b[mid,\u001b[m\u001b[m\u001b[1m  0.5 \u001b[m\u001b[mwa,\u001b[m\u001b[m\u001b[1m  0.0 \u001b[m\u001b[mhi,\u001b[m\u001b[m\u001b[1m  0.2 \u001b[m\u001b[msi,\u001b[m\u001b[m\u001b[1m  0.0 \u001b[m\u001b[mst\u001b[m\u001b[m\u001b[m\u001b[m\u001b[K\n",
      "KiB Mem: \u001b[m\u001b[m\u001b[1m   880552 \u001b[m\u001b[mtotal,\u001b[m\u001b[m\u001b[1m   812616 \u001b[m\u001b[mused,\u001b[m\u001b[m\u001b[1m    67936 \u001b[m\u001b[mfree,\u001b[m\u001b[m\u001b[1m    12084 \u001b[m\u001b[mbuffers\u001b[m\u001b[m\u001b[m\u001b[m\u001b[K\n",
      "KiB Swap:\u001b[m\u001b[m\u001b[1m   102396 \u001b[m\u001b[mtotal,\u001b[m\u001b[m\u001b[1m    28716 \u001b[m\u001b[mused,\u001b[m\u001b[m\u001b[1m    73680 \u001b[m\u001b[mfree.\u001b[m\u001b[m\u001b[1m   262852 \u001b[m\u001b[mcached Mem\u001b[m\u001b[m\u001b[m\u001b[m\u001b[K\n",
      "\u001b[K\n",
      "\n",
      "\u001b[m 1587 pi        20   0  437572 140900  73224 S  48.6 16.0   6:34.77 chromium-b+ \u001b[m\u001b[m\u001b[K\n",
      "\u001b[m  607 root      20   0   43960  21036  11724 S  12.6  2.4   2:52.69 vncserver-+ \u001b[m\u001b[m\u001b[K\n",
      "\u001b[m 1494 pi        20   0   64828  38684  11244 S  10.6  4.4   0:09.62 jupyter-no+ \u001b[m\u001b[m\u001b[K\n",
      "\u001b[m 1213 pi        20   0  583344 155628 109932 S   9.3 17.7   5:27.24 chromium-b+ \u001b[m\u001b[m\u001b[K\n",
      "\u001b[m 1656 pi        20   0  105492  28964   9204 S   6.3  3.3   0:14.19 python2     \u001b[m\u001b[m\u001b[K\n",
      "\u001b[m  702 root      20   0  151272  43948  21776 S   5.6  5.0   2:01.22 Xorg        \u001b[m\u001b[m\u001b[K\n",
      "\u001b[m  742 root      20   0   16288  11752  11412 S   1.0  1.3   0:23.06 vncagent    \u001b[m\u001b[m\u001b[K\n",
      "\u001b[m\u001b[1m 2632 pi        20   0    5112   2528   2132 R   1.0  0.3   0:01.12 top         \u001b[m\u001b[m\u001b[K\n",
      "\u001b[m   87 root     -51   0       0      0      0 S   0.7  0.0   0:09.58 irq/92-mmc1 \u001b[m\u001b[m\u001b[K\n",
      "\u001b[m 2598 pi        20   0    5112   2496   2100 S   0.7  0.3   0:01.72 top         \u001b[m\u001b[m\u001b[K\n",
      "\u001b[m    3 root      20   0       0      0      0 S   0.3  0.0   0:00.28 ksoftirqd/0 \u001b[m\u001b[m\u001b[K\n",
      "\u001b[m  116 root      20   0       0      0      0 S   0.3  0.0   0:06.48 kworker/u8+ \u001b[m\u001b[m\u001b[K\n",
      "\u001b[m 1283 pi        20   0  394500  88820  51132 S   0.3 10.1   0:29.23 chromium-b+ \u001b[m\u001b[m\u001b[K\n",
      "\u001b[m 1312 pi        20   0  667752 306492 115408 S   0.3 34.8   4:10.99 chromium-b+ \u001b[m\u001b[m\u001b[K\n",
      "\u001b[m 1482 pi        20   0   47700  17456  14512 S   0.3  2.0   0:03.11 lxterminal  \u001b[m\u001b[m\u001b[K\n",
      "\u001b[m 2584 root      20   0       0      0      0 S   0.3  0.0   0:01.44 kworker/u8+ \u001b[m\u001b[m\u001b[K\n",
      "\u001b[m    1 root      20   0   23776   3148   2444 S   0.0  0.4   0:02.39 systemd     \u001b[m\u001b[m\u001b[K\u001b[?1l\u001b>\u001b[25;1H\n",
      "\u001b[K"
     ]
    }
   ],
   "source": [
    "!top"
   ]
  },
  {
   "cell_type": "markdown",
   "metadata": {},
   "source": [
    "**mkdir** est une commande qui permet de créer un dossier vide "
   ]
  },
  {
   "cell_type": "code",
   "execution_count": 11,
   "metadata": {},
   "outputs": [
    {
     "name": "stdout",
     "output_type": "stream",
     "text": [
      "BlueJ Projects\tGreenfoot Projects  oc-2017\t      Untitled.ipynb\r\n",
      "dossierA\tminecraft\t    Scratch Projects\r\n"
     ]
    }
   ],
   "source": [
    "!ls"
   ]
  },
  {
   "cell_type": "code",
   "execution_count": 12,
   "metadata": {},
   "outputs": [
    {
     "name": "stdout",
     "output_type": "stream",
     "text": [
      "mkdir: impossible de créer le répertoire « dossierA »: Le fichier existe\n",
      "BlueJ Projects\tGreenfoot Projects  oc-2017\t      Untitled.ipynb\n",
      "dossierA\tminecraft\t    Scratch Projects\n"
     ]
    }
   ],
   "source": [
    "!mkdir dossierA\n",
    "!ls"
   ]
  },
  {
   "cell_type": "markdown",
   "metadata": {},
   "source": [
    "**rmdir** est une commande qui permet de supprimer un dossier vide "
   ]
  },
  {
   "cell_type": "code",
   "execution_count": 15,
   "metadata": {},
   "outputs": [
    {
     "name": "stdout",
     "output_type": "stream",
     "text": [
      "rmdir: impossible de de supprimer « dossierA »: Aucun fichier ou dossier de ce type\n",
      "BlueJ Projects\t    minecraft  Scratch Projects\n",
      "Greenfoot Projects  oc-2017    Untitled.ipynb\n"
     ]
    }
   ],
   "source": [
    "!rmdir dossierA\n",
    "!ls "
   ]
  },
  {
   "cell_type": "markdown",
   "metadata": {},
   "source": [
    "**date** est une commande qui permet d'indiquer la date d'aujourd'hui et l'heure actuelle"
   ]
  },
  {
   "cell_type": "code",
   "execution_count": 17,
   "metadata": {},
   "outputs": [
    {
     "name": "stdout",
     "output_type": "stream",
     "text": [
      "lundi 28 mai 2018, 18:06:43 (UTC+0000)\r\n"
     ]
    }
   ],
   "source": [
    "!date"
   ]
  },
  {
   "cell_type": "markdown",
   "metadata": {},
   "source": [
    "**cal** est une commande qui permet d'afficher le calendrier du mois actuel"
   ]
  },
  {
   "cell_type": "code",
   "execution_count": 18,
   "metadata": {},
   "outputs": [
    {
     "name": "stdout",
     "output_type": "stream",
     "text": [
      "      Mai 2018        \r\n",
      "di lu ma me je ve sa  \r\n",
      "       1  2  3  4  5  \r\n",
      " 6  7  8  9 10 11 12  \r\n",
      "13 14 15 16 17 18 19  \r\n",
      "20 21 22 23 24 25 26  \r\n",
      "27 \u001b[7m28\u001b[m 29 30 31        \r\n",
      "                      \r\n"
     ]
    }
   ],
   "source": [
    "!cal"
   ]
  },
  {
   "cell_type": "markdown",
   "metadata": {},
   "source": [
    "**cal 2017** permet d'afficher le calendrier entier de 2017"
   ]
  },
  {
   "cell_type": "code",
   "execution_count": 19,
   "metadata": {},
   "outputs": [
    {
     "name": "stdout",
     "output_type": "stream",
     "text": [
      "                            2017\r\n",
      "      Janvier               Février                 Mars          \r\n",
      "di lu ma me je ve sa  di lu ma me je ve sa  di lu ma me je ve sa  \r\n",
      " 1  2  3  4  5  6  7            1  2  3  4            1  2  3  4  \r\n",
      " 8  9 10 11 12 13 14   5  6  7  8  9 10 11   5  6  7  8  9 10 11  \r\n",
      "15 16 17 18 19 20 21  12 13 14 15 16 17 18  12 13 14 15 16 17 18  \r\n",
      "22 23 24 25 26 27 28  19 20 21 22 23 24 25  19 20 21 22 23 24 25  \r\n",
      "29 30 31              26 27 28              26 27 28 29 30 31     \r\n",
      "                                                                  \r\n",
      "\r\n",
      "       Avril                  Mai                   Juin          \r\n",
      "di lu ma me je ve sa  di lu ma me je ve sa  di lu ma me je ve sa  \r\n",
      "                   1      1  2  3  4  5  6               1  2  3  \r\n",
      " 2  3  4  5  6  7  8   7  8  9 10 11 12 13   4  5  6  7  8  9 10  \r\n",
      " 9 10 11 12 13 14 15  14 15 16 17 18 19 20  11 12 13 14 15 16 17  \r\n",
      "16 17 18 19 20 21 22  21 22 23 24 25 26 27  18 19 20 21 22 23 24  \r\n",
      "23 24 25 26 27 28 29  28 29 30 31           25 26 27 28 29 30     \r\n",
      "30                                                                \r\n",
      "\r\n",
      "      Juillet                 Août               Septembre        \r\n",
      "di lu ma me je ve sa  di lu ma me je ve sa  di lu ma me je ve sa  \r\n",
      "                   1         1  2  3  4  5                  1  2  \r\n",
      " 2  3  4  5  6  7  8   6  7  8  9 10 11 12   3  4  5  6  7  8  9  \r\n",
      " 9 10 11 12 13 14 15  13 14 15 16 17 18 19  10 11 12 13 14 15 16  \r\n",
      "16 17 18 19 20 21 22  20 21 22 23 24 25 26  17 18 19 20 21 22 23  \r\n",
      "23 24 25 26 27 28 29  27 28 29 30 31        24 25 26 27 28 29 30  \r\n",
      "30 31                                                             \r\n",
      "\r\n",
      "      Octobre               Novembre              Décembre        \r\n",
      "di lu ma me je ve sa  di lu ma me je ve sa  di lu ma me je ve sa  \r\n",
      " 1  2  3  4  5  6  7            1  2  3  4                  1  2  \r\n",
      " 8  9 10 11 12 13 14   5  6  7  8  9 10 11   3  4  5  6  7  8  9  \r\n",
      "15 16 17 18 19 20 21  12 13 14 15 16 17 18  10 11 12 13 14 15 16  \r\n",
      "22 23 24 25 26 27 28  19 20 21 22 23 24 25  17 18 19 20 21 22 23  \r\n",
      "29 30 31              26 27 28 29 30        24 25 26 27 28 29 30  \r\n",
      "                                            31                    \r\n"
     ]
    }
   ],
   "source": [
    "!cal 2017"
   ]
  },
  {
   "cell_type": "markdown",
   "metadata": {},
   "source": [
    "**nano** est une commande qui permet de faire du traitement de texte"
   ]
  },
  {
   "cell_type": "code",
   "execution_count": 25,
   "metadata": {},
   "outputs": [
    {
     "name": "stdout",
     "output_type": "stream",
     "text": [
      "\u001b[19A\u001b[m2;15H\u001b[7m[ ligne 1/1 (100%), col. 1/1 (100%), car. 0/0 (0%) ]V\u001b[m Page suiv.\u001b[7m^U\u001b[m Coller    \u001b[7m^T\u001b[m Orthograp.                      \u001b[23;1H^G\u001b[m Aide\u001b[6C\u001b[7m^O\u001b[m Écrire    \u001b[7m^R\u001b[m Lire fich.\u001b[7m^Y\u001b[m Page préc.\u001b[7m^K\u001b[m Couper    \u001b[7m^C\u001b[m Pos. cur."
     ]
    }
   ],
   "source": [
    "!nano"
   ]
  },
  {
   "cell_type": "markdown",
   "metadata": {},
   "source": [
    "ajouter image "
   ]
  },
  {
   "cell_type": "markdown",
   "metadata": {},
   "source": [
    "Pour ajouter le calendrier dans un fichier il suffit de faire cela: **cal 100> cal100.txt**"
   ]
  },
  {
   "cell_type": "code",
   "execution_count": 34,
   "metadata": {},
   "outputs": [],
   "source": [
    "!cal 100> cal100.txt"
   ]
  },
  {
   "cell_type": "code",
   "execution_count": 35,
   "metadata": {},
   "outputs": [
    {
     "name": "stdout",
     "output_type": "stream",
     "text": [
      "\u001b[20A\u001b[1;72H\u001b[7mModifié\u001b[22;17H[ Il est maintenant possible de dé-justifier ! ]\u001b[24;56H\u001b[mDé-justif.    \u001b[7m^T\u001b[m Orthograp.                      \u001b[3;29H\u001b[m100\u001b[4;7HJanvier\u001b[4;29HFévrier\u001b[4;53HMars"
     ]
    }
   ],
   "source": [
    "!nano cal100.txt"
   ]
  },
  {
   "cell_type": "markdown",
   "metadata": {},
   "source": [
    "**users** ,**who** et **w** sont des commandes qui permettent de savoir qui sont les utilisateurs connectés sur la machine"
   ]
  },
  {
   "cell_type": "code",
   "execution_count": 36,
   "metadata": {},
   "outputs": [
    {
     "name": "stdout",
     "output_type": "stream",
     "text": [
      "pi       :0           2018-05-28 17:11 (:0)\r\n",
      "pi       tty1         2018-05-28 17:11\r\n"
     ]
    }
   ],
   "source": [
    "!who"
   ]
  },
  {
   "cell_type": "code",
   "execution_count": 32,
   "metadata": {},
   "outputs": [
    {
     "name": "stdout",
     "output_type": "stream",
     "text": [
      "pi pi\r\n"
     ]
    }
   ],
   "source": [
    "!users"
   ]
  },
  {
   "cell_type": "code",
   "execution_count": 33,
   "metadata": {},
   "outputs": [
    {
     "name": "stdout",
     "output_type": "stream",
     "text": [
      " 18:17:46 up  1:05,  2 users,  load average: 0.53, 0.73, 0.72\r\n",
      "USER     TTY      FROM             LOGIN@   IDLE   JCPU   PCPU WHAT\r\n",
      "pi       :0       :0               17:11   ?xdm?  29:40   0.43s /usr/bin/lxsess\r\n",
      "pi       tty1                      17:11    1:05m  0.38s  0.35s -bash\r\n"
     ]
    }
   ],
   "source": [
    "!w"
   ]
  },
  {
   "cell_type": "markdown",
   "metadata": {},
   "source": [
    "**echo** est une commande qui permet d'écrire des caractères dans le terminal"
   ]
  },
  {
   "cell_type": "code",
   "execution_count": 37,
   "metadata": {},
   "outputs": [
    {
     "name": "stdout",
     "output_type": "stream",
     "text": [
      "ni ni ni it it it\r\n"
     ]
    }
   ],
   "source": [
    "!echo ni ni ni it it it"
   ]
  },
  {
   "cell_type": "markdown",
   "metadata": {},
   "source": [
    "**cp** est une commande qui permet de copier et coller un fichier "
   ]
  },
  {
   "cell_type": "code",
   "execution_count": 39,
   "metadata": {},
   "outputs": [],
   "source": [
    "!echo ni ni ni>knight.txt"
   ]
  },
  {
   "cell_type": "code",
   "execution_count": 54,
   "metadata": {},
   "outputs": [
    {
     "name": "stdout",
     "output_type": "stream",
     "text": [
      "mkdir: impossible de créer le répertoire « Graal »: Le fichier existe\r\n"
     ]
    }
   ],
   "source": [
    "!mkdir Graal"
   ]
  },
  {
   "cell_type": "code",
   "execution_count": 41,
   "metadata": {},
   "outputs": [],
   "source": [
    "!cp knight.txt Graal"
   ]
  },
  {
   "cell_type": "code",
   "execution_count": 42,
   "metadata": {},
   "outputs": [
    {
     "name": "stdout",
     "output_type": "stream",
     "text": [
      "knight.txt\r\n"
     ]
    }
   ],
   "source": [
    "!ls Graal"
   ]
  },
  {
   "cell_type": "code",
   "execution_count": 43,
   "metadata": {},
   "outputs": [
    {
     "name": "stdout",
     "output_type": "stream",
     "text": [
      "BlueJ Projects\t   cal100.txt.save.2   minecraft\t Untitled.ipynb\r\n",
      "cal100.txt\t   Graal\t       nano.save\r\n",
      "cal100.txt.save    Greenfoot Projects  oc-2017\r\n",
      "cal100.txt.save.1  knight.txt\t       Scratch Projects\r\n"
     ]
    }
   ],
   "source": [
    "!ls"
   ]
  },
  {
   "cell_type": "markdown",
   "metadata": {},
   "source": [
    "**sudo** est un ajout au début de la commande pour s'accorder les droits super user juste pour une commande"
   ]
  },
  {
   "cell_type": "markdown",
   "metadata": {},
   "source": [
    "Les exemples de **sudo** seront après pour **open** et **pkill**"
   ]
  },
  {
   "cell_type": "markdown",
   "metadata": {},
   "source": [
    "**which** est une commande qui donne le chemin relativement à la source d'un fichier"
   ]
  },
  {
   "cell_type": "code",
   "execution_count": 44,
   "metadata": {},
   "outputs": [
    {
     "name": "stdout",
     "output_type": "stream",
     "text": [
      "/usr/bin/minecraft-pi\r\n"
     ]
    }
   ],
   "source": [
    "!which minecraft-pi"
   ]
  },
  {
   "cell_type": "markdown",
   "metadata": {},
   "source": [
    "**open** est une commande qui permet d'ouvrir un fichier en donnant le chemin "
   ]
  },
  {
   "cell_type": "code",
   "execution_count": 46,
   "metadata": {},
   "outputs": [],
   "source": [
    "! sudo open /usr/bin/minecraft-pi"
   ]
  },
  {
   "cell_type": "markdown",
   "metadata": {},
   "source": [
    "**kill** est une commande qui permet d'arrêter le processus en cours d'un logiciel en précisant son PID"
   ]
  },
  {
   "cell_type": "markdown",
   "metadata": {},
   "source": [
    "**pkill** est une commande qui permet d'arrêter le processus en cours d'un logiciel en précisant son vrai nom"
   ]
  },
  {
   "cell_type": "code",
   "execution_count": 48,
   "metadata": {},
   "outputs": [],
   "source": [
    "!sudo pkill minecraft-pi"
   ]
  },
  {
   "cell_type": "markdown",
   "metadata": {},
   "source": [
    "**mv** est une commande qui permet de déplacer un dossier dans un autre dossier"
   ]
  },
  {
   "cell_type": "code",
   "execution_count": 55,
   "metadata": {},
   "outputs": [
    {
     "name": "stdout",
     "output_type": "stream",
     "text": [
      "BlueJ Projects\t   cal100.txt.save.2   minecraft\t Untitled.ipynb\r\n",
      "cal100.txt\t   Graal\t       nano.save\r\n",
      "cal100.txt.save    Greenfoot Projects  oc-2017\r\n",
      "cal100.txt.save.1  knight.txt\t       Scratch Projects\r\n"
     ]
    }
   ],
   "source": [
    "!ls\n",
    "!mkdir Arthur\n",
    "!mv Arthur Graal"
   ]
  },
  {
   "cell_type": "code",
   "execution_count": 56,
   "metadata": {},
   "outputs": [
    {
     "name": "stdout",
     "output_type": "stream",
     "text": [
      "Arthur\r\n"
     ]
    }
   ],
   "source": [
    "!ls Graal"
   ]
  },
  {
   "cell_type": "markdown",
   "metadata": {},
   "source": [
    "**rm -r** efface un fichier et un dossier qu'il soit vide ou pas"
   ]
  },
  {
   "cell_type": "code",
   "execution_count": 58,
   "metadata": {},
   "outputs": [
    {
     "name": "stdout",
     "output_type": "stream",
     "text": [
      "rm: impossible de supprimer « Graal »: Aucun fichier ou dossier de ce type\n",
      "BlueJ Projects\t cal100.txt.save.1   knight.txt  oc-2017\n",
      "cal100.txt\t cal100.txt.save.2   minecraft\t Scratch Projects\n",
      "cal100.txt.save  Greenfoot Projects  nano.save\t Untitled.ipynb\n"
     ]
    }
   ],
   "source": [
    "!rm -r Graal\n",
    "!ls"
   ]
  },
  {
   "cell_type": "code",
   "execution_count": 59,
   "metadata": {},
   "outputs": [
    {
     "name": "stdout",
     "output_type": "stream",
     "text": [
      "BlueJ Projects\t cal100.txt.save.1   knight.txt  oc-2017\r\n",
      "cal100.txt\t cal100.txt.save.2   minecraft\t Scratch Projects\r\n",
      "cal100.txt.save  Greenfoot Projects  nano.save\t Untitled.ipynb\r\n"
     ]
    }
   ],
   "source": [
    "!ls"
   ]
  },
  {
   "cell_type": "markdown",
   "metadata": {},
   "source": [
    "**w3m** est une commande pour ouvrir une internet en texte"
   ]
  },
  {
   "cell_type": "code",
   "execution_count": 62,
   "metadata": {},
   "outputs": [
    {
     "name": "stdout",
     "output_type": "stream",
     "text": [
      "\u001b7\u001b[?47h\u001b[H\u001b[2J\u001b[24;1HOpening\u001b[Csocket...\u001b[1;1H\u001b[24;1Hgoogle.com contacted.\u001b[CWaiting\u001b[Cfor\u001b[Creply...\u001b[1;1H\u001b[24;31H\u001b[K\u001b[24;1HHTTP/1\u001b[C0 301 Moved Perm\u001b[Cnently\u001b[1;1H\u001b[24;18H\u001b[K\u001b[24;1HOpening socket...\u001b[1;1H\u001b[24;1Hwww.google.com contacted.\u001b[CWaiting\u001b[Cfor\u001b[Creply...\u001b[1;1H\u001b[24;16H\u001b[K\u001b[24;1HHTTP/1.0 200 OK\u001b[1;1H\u001b[24;1H\u001b[K3.35/4.81kb  70%\u001b[24;43H\u001b[7m |||||||||||||||||||||||||\u001b[m\u001b[24;69H\u001b[1;1H\u001b[1mSuche\u001b[m\u001b[C\u001b[34mBilder\u001b[m\u001b[m\u001b[C\u001b[34mMaps\u001b[m\u001b[m\u001b[C\u001b[34mPlay\u001b[m\u001b[m\u001b[C\u001b[34mYouTube\u001b[m\u001b[m\u001b[C\u001b[34mNews\u001b[m\u001b[m\u001b[C\u001b[34mGmail\u001b[m\u001b[m\u001b[C\u001b[34mDrive\u001b[m\u001b[m\u001b[C\u001b[4m\u001b[34mMehr\u001b[m\u001b[m\u001b[34m »\u001b[m\u001b[m\n",
      "\u001b[34mWebprotokoll\u001b[m\u001b[m\u001b[C|\u001b[C\u001b[34mEinstellungen\u001b[m\u001b[m\u001b[C|\u001b[C\u001b[34mAnmelden\u001b[m\u001b[m\u001b[4;30H\u001b[32m                    \u001b[m\u001b[m\u001b[5;30H\u001b[32m                    \u001b[m\u001b[m\u001b[6;30H\u001b[32mGoogle              \u001b[m\u001b[m\u001b[8;12H[\u001b[4m\u001b[31m                                                         \u001b[m\u001b[m]\u001b[C\u001b[34mErweitert\u001b[m\u001b[m\u001b[9;72H\u001b[34mSprachopt\u001b[m\u001b[m\u001b[10;26H\u001b[31m[Google-Suche][Auf gut Glück!]\u001b[m\u001b[m\u001b[12;12HGoogle\u001b[Cangeboten\u001b[Cin:\u001b[C\u001b[34mEnglish\u001b[m\u001b[m\u001b[C\u001b[34mFrançais\u001b[m\u001b[m\u001b[C\u001b[34mItaliano\u001b[m\u001b[m\u001b[C\u001b[34mRumantsch\u001b[m\u001b[m\u001b[13;6H\u001b[34mWerben mit GoogleLösungen für Unternehmen+GoogleÜber GoogleGoogle.ch\u001b[m\u001b[m\u001b[15;15H©\u001b[C2018\u001b[C-\u001b[C\u001b[34mDatenschutzerklärung\u001b[m\u001b[m\u001b[C-\u001b[C\u001b[34mNutzungsbedingungen\u001b[m\u001b[m\u001b[24;1H\u001b[K\u001b[7m≪ ↑ ↓ Viewing <Google>\u001b[m\u001b[1;1H\u001b[?1001s\u001b[?1000h\u001b[?1000l\u001b[?1001r\u001b[?1001s\u001b[?1000h\u001b[?1006h\u001b[1;1H\u001b[1mS\u001b[m\u001b[1;1H\u001b[24;18H\u001b[K\u001b[24;1H1/1 images loaded\u001b[1;1H\u001b[24;1H\u001b[7m≪ ↑ ↓ Viewing <Google>\u001b[m\u001b[1;1H\u001b[1;1H\u001b[1mS\u001b[m\u001b[1;1H\u001b[?1006l\u001b[?1000l\u001b[?1001r\u001b[?1001s\u001b[?1000h\u001b[?1000l\u001b[?1001r\u001b[?1001s\u001b[?1000h\u001b[?1006h\u001b[?1006l\u001b[?1000l\u001b[?1001r\u001b[?1001s\u001b[?1000h\u001b[?1000l\u001b[?1001r\u001b[?1001s\u001b[?1000h\u001b[?1006h"
     ]
    }
   ],
   "source": [
    "!w3m google.com"
   ]
  },
  {
   "cell_type": "markdown",
   "metadata": {},
   "source": [
    "Pour télécharger w3m, il faut l'installer ainsi"
   ]
  },
  {
   "cell_type": "code",
   "execution_count": null,
   "metadata": {},
   "outputs": [],
   "source": [
    "!sudo apt-get upgrade\n",
    "!sudo apt-get install w3m w3m-img"
   ]
  },
  {
   "cell_type": "markdown",
   "metadata": {},
   "source": [
    "**write** est une commande qui permet de parler avec la personne choisit"
   ]
  },
  {
   "cell_type": "code",
   "execution_count": 63,
   "metadata": {},
   "outputs": [
    {
     "name": "stdout",
     "output_type": "stream",
     "text": [
      "^C\r\n"
     ]
    }
   ],
   "source": [
    "!sudo write pi"
   ]
  },
  {
   "cell_type": "markdown",
   "metadata": {},
   "source": [
    "**su** est une commande qui permet de devenir le super user "
   ]
  },
  {
   "cell_type": "code",
   "execution_count": null,
   "metadata": {},
   "outputs": [],
   "source": [
    "!sudo su"
   ]
  },
  {
   "cell_type": "markdown",
   "metadata": {},
   "source": [
    "**man** est une particule à ajouter avant la commande que nous souhaitons comprendre"
   ]
  },
  {
   "cell_type": "code",
   "execution_count": 64,
   "metadata": {},
   "outputs": [
    {
     "name": "stdout",
     "output_type": "stream",
     "text": [
      "LS(1)                            User Commands                           LS(1)\r\n",
      "\r\n",
      "N\bNA\bAM\bME\bE\r\n",
      "       ls - list directory contents\r\n",
      "\r\n",
      "S\bSY\bYN\bNO\bOP\bPS\bSI\bIS\bS\r\n",
      "       l\bls\bs [_\bO_\bP_\bT_\bI_\bO_\bN]... [_\bF_\bI_\bL_\bE]...\r\n",
      "\r\n",
      "D\bDE\bES\bSC\bCR\bRI\bIP\bPT\bTI\bIO\bON\bN\r\n",
      "       List  information  about  the FILEs (the current directory by default).\r\n",
      "       Sort entries alphabetically if none of -\b-c\bcf\bft\btu\buv\bvS\bSU\bUX\bX nor -\b--\b-s\bso\bor\brt\bt  is  speci‐\r\n",
      "       fied.\r\n",
      "\r\n",
      "       Mandatory  arguments  to  long  options are mandatory for short options\r\n",
      "       too.\r\n",
      "\r\n",
      "       -\b-a\ba, -\b--\b-a\bal\bll\bl\r\n",
      "              do not ignore entries starting with .\r\n",
      "\r\n",
      "       -\b-A\bA, -\b--\b-a\bal\blm\bmo\bos\bst\bt-\b-a\bal\bll\bl\r\n",
      "              do not list implied . and ..\r\n",
      "\r\n",
      "       -\b--\b-a\bau\but\bth\bho\bor\br\r\n",
      "              with -\b-l\bl, print the author of each file\r\n",
      "\r\n",
      "       -\b-b\bb, -\b--\b-e\bes\bsc\bca\bap\bpe\be\r\n",
      "              print C-style escapes for nongraphic characters\r\n",
      "\r\n",
      "       -\b--\b-b\bbl\blo\boc\bck\bk-\b-s\bsi\biz\bze\be=_\bS_\bI_\bZ_\bE\r\n",
      "              scale sizes by SIZE before printing them; e.g., '--block-size=M'\r\n",
      "              prints sizes in units of 1,048,576 bytes; see SIZE format below\r\n",
      "\r\n",
      "       -\b-B\bB, -\b--\b-i\big\bgn\bno\bor\bre\be-\b-b\bba\bac\bck\bku\bup\bps\bs\r\n",
      "              do not list implied entries ending with ~\r\n",
      "\r\n",
      "       -\b-c\bc     with -\b-l\blt\bt: sort by, and show, ctime (time of last modification of\r\n",
      "              file status information); with -\b-l\bl: show ctime and sort by  name;\r\n",
      "              otherwise: sort by ctime, newest first\r\n",
      "\r\n",
      "       -\b-C\bC     list entries by columns\r\n",
      "\r\n",
      "       -\b--\b-c\bco\bol\blo\bor\br[=_\bW_\bH_\bE_\bN]\r\n",
      "              colorize  the  output;  WHEN can be 'never', 'auto', or 'always'\r\n",
      "              (the default); more info below\r\n",
      "\r\n",
      "       -\b-d\bd, -\b--\b-d\bdi\bir\bre\bec\bct\bto\bor\bry\by\r\n",
      "              list directories themselves, not their contents\r\n",
      "\r\n",
      "       -\b-D\bD, -\b--\b-d\bdi\bir\bre\bed\bd\r\n",
      "              generate output designed for Emacs' dired mode\r\n",
      "\r\n",
      "       -\b-f\bf     do not sort, enable -\b-a\baU\bU, disable -\b-l\bls\bs -\b--\b-c\bco\bol\blo\bor\br\r\n",
      "\r\n",
      "       -\b-F\bF, -\b--\b-c\bcl\bla\bas\bss\bsi\bif\bfy\by\r\n",
      "              append indicator (one of */=>@|) to entries\r\n",
      "\r\n",
      "       -\b--\b-f\bfi\bil\ble\be-\b-t\bty\byp\bpe\be\r\n",
      "              likewise, except do not append '*'\r\n",
      "\r\n",
      "       -\b--\b-f\bfo\bor\brm\bma\bat\bt=_\bW_\bO_\bR_\bD\r\n",
      "              across -\b-x\bx, commas -\b-m\bm, horizontal -\b-x\bx, long -\b-l\bl, single-column  -\b-1\b1,\r\n",
      "              verbose -\b-l\bl, vertical -\b-C\bC\r\n",
      "\r\n",
      "       -\b--\b-f\bfu\bul\bll\bl-\b-t\bti\bim\bme\be\r\n",
      "              like -\b-l\bl -\b--\b-t\bti\bim\bme\be-\b-s\bst\bty\byl\ble\be=_\bf_\bu_\bl_\bl_\b-_\bi_\bs_\bo\r\n",
      "\r\n",
      "       -\b-g\bg     like -\b-l\bl, but do not list owner\r\n",
      "\r\n",
      "       -\b--\b-g\bgr\bro\bou\bup\bp-\b-d\bdi\bir\bre\bec\bct\bto\bor\bri\bie\bes\bs-\b-f\bfi\bir\brs\bst\bt\r\n",
      "              group directories before files;\r\n",
      "\r\n",
      "              can   be  augmented  with  a  -\b--\b-s\bso\bor\brt\bt  option,  but  any  use  of\r\n",
      "              -\b--\b-s\bso\bor\brt\bt=_\bn_\bo_\bn_\be (-\b-U\bU) disables grouping\r\n",
      "\r\n",
      "       -\b-G\bG, -\b--\b-n\bno\bo-\b-g\bgr\bro\bou\bup\bp\r\n",
      "              in a long listing, don't print group names\r\n",
      "\r\n",
      "       -\b-h\bh, -\b--\b-h\bhu\bum\bma\ban\bn-\b-r\bre\bea\bad\bda\bab\bbl\ble\be\r\n",
      "              with -\b-l\bl and/or -\b-s\bs, print human readable sizes (e.g., 1K 234M 2G)\r\n",
      "\r\n",
      "       -\b--\b-s\bsi\bi   likewise, but use powers of 1000 not 1024\r\n",
      "\r\n",
      "       -\b-H\bH, -\b--\b-d\bde\ber\bre\bef\bfe\ber\bre\ben\bnc\bce\be-\b-c\bco\bom\bmm\bma\ban\bnd\bd-\b-l\bli\bin\bne\be\r\n",
      "              follow symbolic links listed on the command line\r\n",
      "\r\n",
      "       -\b--\b-d\bde\ber\bre\bef\bfe\ber\bre\ben\bnc\bce\be-\b-c\bco\bom\bmm\bma\ban\bnd\bd-\b-l\bli\bin\bne\be-\b-s\bsy\bym\bml\bli\bin\bnk\bk-\b-t\bto\bo-\b-d\bdi\bir\br\r\n",
      "              follow each command line symbolic link\r\n",
      "\r\n",
      "              that points to a directory\r\n",
      "\r\n",
      "       -\b--\b-h\bhi\bid\bde\be=_\bP_\bA_\bT_\bT_\bE_\bR_\bN\r\n",
      "              do not list implied entries matching shell  PATTERN  (overridden\r\n",
      "              by -\b-a\ba or -\b-A\bA)\r\n",
      "\r\n",
      "       -\b--\b-i\bin\bnd\bdi\bic\bca\bat\bto\bor\br-\b-s\bst\bty\byl\ble\be=_\bW_\bO_\bR_\bD\r\n",
      "              append indicator with style WORD to entry names: none (default),\r\n",
      "              slash (-\b-p\bp), file-type (-\b--\b-f\bfi\bil\ble\be-\b-t\bty\byp\bpe\be), classify (-\b-F\bF)\r\n",
      "\r\n",
      "       -\b-i\bi, -\b--\b-i\bin\bno\bod\bde\be\r\n",
      "              print the index number of each file\r\n",
      "\r\n",
      "       -\b-I\bI, -\b--\b-i\big\bgn\bno\bor\bre\be=_\bP_\bA_\bT_\bT_\bE_\bR_\bN\r\n",
      "              do not list implied entries matching shell PATTERN\r\n",
      "\r\n",
      "       -\b-k\bk, -\b--\b-k\bki\bib\bbi\bib\bby\byt\bte\bes\bs\r\n",
      "              default to 1024-byte blocks for disk usage\r\n",
      "\r\n",
      "       -\b-l\bl     use a long listing format\r\n",
      "\r\n",
      "       -\b-L\bL, -\b--\b-d\bde\ber\bre\bef\bfe\ber\bre\ben\bnc\bce\be\r\n",
      "              when showing file information for a symbolic link, show informa‐\r\n",
      "              tion  for  the file the link references rather than for the link\r\n",
      "              itself\r\n",
      "\r\n",
      "       -\b-m\bm     fill width with a comma separated list of entries\r\n",
      "\r\n",
      "       -\b-n\bn, -\b--\b-n\bnu\bum\bme\ber\bri\bic\bc-\b-u\bui\bid\bd-\b-g\bgi\bid\bd\r\n",
      "              like -\b-l\bl, but list numeric user and group IDs\r\n",
      "\r\n",
      "       -\b-N\bN, -\b--\b-l\bli\bit\bte\ber\bra\bal\bl\r\n",
      "              print raw entry names (don't treat e.g. control characters  spe‐\r\n",
      "              cially)\r\n",
      "\r\n",
      "       -\b-o\bo     like -\b-l\bl, but do not list group information\r\n",
      "\r\n",
      "       -\b-p\bp, -\b--\b-i\bin\bnd\bdi\bic\bca\bat\bto\bor\br-\b-s\bst\bty\byl\ble\be=_\bs_\bl_\ba_\bs_\bh\r\n",
      "              append / indicator to directories\r\n",
      "\r\n",
      "       -\b-q\bq, -\b--\b-h\bhi\bid\bde\be-\b-c\bco\bon\bnt\btr\bro\bol\bl-\b-c\bch\bha\bar\brs\bs\r\n",
      "              print ? instead of nongraphic characters\r\n",
      "\r\n",
      "       -\b--\b-s\bsh\bho\bow\bw-\b-c\bco\bon\bnt\btr\bro\bol\bl-\b-c\bch\bha\bar\brs\bs\r\n",
      "              show nongraphic characters as-is (the default, unless program is\r\n",
      "              'ls' and output is a terminal)\r\n",
      "\r\n",
      "       -\b-Q\bQ, -\b--\b-q\bqu\buo\bot\bte\be-\b-n\bna\bam\bme\be\r\n",
      "              enclose entry names in double quotes\r\n",
      "\r\n",
      "       -\b--\b-q\bqu\buo\bot\bti\bin\bng\bg-\b-s\bst\bty\byl\ble\be=_\bW_\bO_\bR_\bD\r\n",
      "              use quoting style WORD for entry names: literal, locale,  shell,\r\n",
      "              shell-always, c, escape\r\n",
      "\r\n",
      "       -\b-r\br, -\b--\b-r\bre\bev\bve\ber\brs\bse\be\r\n",
      "              reverse order while sorting\r\n",
      "\r\n",
      "       -\b-R\bR, -\b--\b-r\bre\bec\bcu\bur\brs\bsi\biv\bve\be\r\n",
      "              list subdirectories recursively\r\n",
      "\r\n",
      "       -\b-s\bs, -\b--\b-s\bsi\biz\bze\be\r\n",
      "              print the allocated size of each file, in blocks\r\n",
      "\r\n",
      "       -\b-S\bS     sort by file size\r\n",
      "\r\n",
      "       -\b--\b-s\bso\bor\brt\bt=_\bW_\bO_\bR_\bD\r\n",
      "              sort  by  WORD instead of name: none (-\b-U\bU), size (-\b-S\bS), time (-\b-t\bt),\r\n",
      "              version (-\b-v\bv), extension (-\b-X\bX)\r\n",
      "\r\n",
      "       -\b--\b-t\bti\bim\bme\be=_\bW_\bO_\bR_\bD\r\n",
      "              with -\b-l\bl, show time as WORD instead of default modification time:\r\n",
      "              atime or access or use (-\b-u\bu) ctime or status (-\b-c\bc); also use spec‐\r\n",
      "              ified time as sort key if -\b--\b-s\bso\bor\brt\bt=_\bt_\bi_\bm_\be\r\n",
      "\r\n",
      "       -\b--\b-t\bti\bim\bme\be-\b-s\bst\bty\byl\ble\be=_\bS_\bT_\bY_\bL_\bE\r\n",
      "              with -\b-l\bl, show times using style STYLE: full-iso, long-iso,  iso,\r\n",
      "              locale,  or  +FORMAT;  FORMAT  is interpreted like in 'date'; if\r\n",
      "              FORMAT  is  FORMAT1<newline>FORMAT2,  then  FORMAT1  applies  to\r\n",
      "              non-recent  files  and FORMAT2 to recent files; if STYLE is pre‐\r\n",
      "              fixed with 'posix-', STYLE takes effect only outside  the  POSIX\r\n",
      "              locale\r\n",
      "\r\n",
      "       -\b-t\bt     sort by modification time, newest first\r\n",
      "\r\n",
      "       -\b-T\bT, -\b--\b-t\bta\bab\bbs\bsi\biz\bze\be=_\bC_\bO_\bL_\bS\r\n",
      "              assume tab stops at each COLS instead of 8\r\n",
      "\r\n",
      "       -\b-u\bu     with  -\b-l\blt\bt:  sort by, and show, access time; with -\b-l\bl: show access\r\n",
      "              time and sort by name; otherwise: sort by access time\r\n",
      "\r\n",
      "       -\b-U\bU     do not sort; list entries in directory order\r\n",
      "\r\n",
      "       -\b-v\bv     natural sort of (version) numbers within text\r\n",
      "\r\n",
      "       -\b-w\bw, -\b--\b-w\bwi\bid\bdt\bth\bh=_\bC_\bO_\bL_\bS\r\n",
      "              assume screen width instead of current value\r\n",
      "\r\n",
      "       -\b-x\bx     list entries by lines instead of by columns\r\n",
      "\r\n",
      "       -\b-X\bX     sort alphabetically by entry extension\r\n",
      "\r\n",
      "       -\b-Z\bZ, -\b--\b-c\bco\bon\bnt\bte\bex\bxt\bt\r\n",
      "              print any security context of each file\r\n",
      "\r\n",
      "       -\b-1\b1     list one file per line\r\n",
      "\r\n",
      "       -\b--\b-h\bhe\bel\blp\bp display this help and exit\r\n",
      "\r\n",
      "       -\b--\b-v\bve\ber\brs\bsi\bio\bon\bn\r\n",
      "              output version information and exit\r\n",
      "\r\n",
      "       The SIZE argument is an integer and  optional  unit  (example:  10K  is\r\n",
      "       10*1024).   Units  are  K,M,G,T,P,E,Z,Y  (powers  of 1024) or KB,MB,...\r\n",
      "       (powers of 1000).\r\n",
      "\r\n",
      "       Using color to distinguish file types is disabled both by  default  and\r\n",
      "       with  -\b--\b-c\bco\bol\blo\bor\br=_\bn_\be_\bv_\be_\br.  With -\b--\b-c\bco\bol\blo\bor\br=_\ba_\bu_\bt_\bo, ls emits color codes only when\r\n",
      "       standard output is connected to a terminal.  The LS_COLORS  environment\r\n",
      "       variable can change the settings.  Use the dircolors command to set it.\r\n",
      "\r\n",
      "   E\bEx\bxi\bit\bt s\bst\bta\bat\btu\bus\bs:\b:\r\n",
      "       0      if OK,\r\n",
      "\r\n",
      "       1      if minor problems (e.g., cannot access subdirectory),\r\n",
      "\r\n",
      "       2      if serious trouble (e.g., cannot access command-line argument).\r\n",
      "\r\n",
      "A\bAU\bUT\bTH\bHO\bOR\bR\r\n",
      "       Written by Richard M. Stallman and David MacKenzie.\r\n",
      "\r\n",
      "R\bRE\bEP\bPO\bOR\bRT\bTI\bIN\bNG\bG B\bBU\bUG\bGS\bS\r\n",
      "       GNU coreutils online help: <http://www.gnu.org/software/coreutils/>\r\n",
      "       Report ls translation bugs to <http://translationproject.org/team/>\r\n",
      "\r\n",
      "C\bCO\bOP\bPY\bYR\bRI\bIG\bGH\bHT\bT\r\n",
      "       Copyright  ©  2014  Free Software Foundation, Inc.  License GPLv3+: GNU\r\n",
      "       GPL version 3 or later <http://gnu.org/licenses/gpl.html>.\r\n",
      "       This is free software: you are free  to  change  and  redistribute  it.\r\n",
      "       There is NO WARRANTY, to the extent permitted by law.\r\n",
      "\r\n",
      "S\bSE\bEE\bE A\bAL\bLS\bSO\bO\r\n",
      "       Full documentation at: <http://www.gnu.org/software/coreutils/ls>\r\n",
      "       or available locally via: info '(coreutils) ls invocation'\r\n",
      "\r\n",
      "GNU coreutils 8.23                March 2015                             LS(1)\r\n"
     ]
    }
   ],
   "source": [
    "!man ls"
   ]
  }
 ],
 "metadata": {
  "kernelspec": {
   "display_name": "Python 3",
   "language": "python",
   "name": "python3"
  },
  "language_info": {
   "codemirror_mode": {
    "name": "ipython",
    "version": 2
   },
   "file_extension": ".py",
   "mimetype": "text/x-python",
   "name": "python",
   "nbconvert_exporter": "python",
   "pygments_lexer": "ipython2",
   "version": "2.7.9"
  }
 },
 "nbformat": 4,
 "nbformat_minor": 2
}
