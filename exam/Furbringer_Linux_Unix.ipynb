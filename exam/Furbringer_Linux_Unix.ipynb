{
 "cells": [
  {
   "cell_type": "markdown",
   "metadata": {},
   "source": [
    "## Système d'exploitation LINUX"
   ]
  },
  {
   "cell_type": "raw",
   "metadata": {},
   "source": [
    "Gabriel Furbringer, Gymnase du Bugnon, le 29.05.2018"
   ]
  },
  {
   "cell_type": "markdown",
   "metadata": {},
   "source": [
    "Dans ce Jupyter notebook, nous parlerons de :"
   ]
  },
  {
   "cell_type": "markdown",
   "metadata": {},
   "source": [
    "- du systeme dexploitation LINUX\n",
    "- l'arborescence Linux \n",
    "- commandes unix"
   ]
  },
  {
   "cell_type": "markdown",
   "metadata": {},
   "source": [
    "Source: "
   ]
  },
  {
   "cell_type": "markdown",
   "metadata": {},
   "source": [
    "- https://doc.ubuntu-fr.org/arborescence\n",
    "- https://fr.wikipedia.org/wiki/Linux\n",
    "- https://fr.wikipedia.org/wiki/Noyau_Linux\n",
    "- https://fr.wikipedia.org/wiki/Noyau_de_syst%C3%A8me_d%27exploitation"
   ]
  },
  {
   "cell_type": "markdown",
   "metadata": {},
   "source": [
    "## Historique"
   ]
  },
  {
   "cell_type": "markdown",
   "metadata": {},
   "source": [
    "Le *Linux* est un noyau de système d'exploitation de type *UNIX*. Il est un logiciel libre développé essentiellement en *langage C*. Un noyau de système d'exploitation *\"gère les ressources de l’ordinateur et permet aux différents composants — matériels et logiciels — de communiquer entre eux.\"*\n",
    "\n",
    "C'est en 1991 que Linus Torvalds, étudiant finlandais commence le développement d'un noyau de système d'exploitation, autrement appelé *Linux*. \n",
    "\n",
    "Le mars 1994 sort la version *Linux* 1.0.\n",
    "\n",
    "<img src=\"https://raw.githubusercontent.com/Bugnon/oc-2017/master/exam/img_furb/linux.png\" width=\"200\">"
   ]
  },
  {
   "cell_type": "markdown",
   "metadata": {},
   "source": [
    "## L'arborescence LINUX"
   ]
  },
  {
   "cell_type": "markdown",
   "metadata": {},
   "source": [
    "Imagine tes répertoires et tes fichiers dans ton ordinateur comme un arbre. Il commence par la racine la source et  les dossiers important comme ***bin***, les dossiers sont le bois, parfois fin comme des branches, parfois solide comme le tronc; et les fichiers comme les feuilles.\n",
    "Et toutes les informations partant de la racine (indiquée par une barre oblique au départ), ont un chemin bien défini:\n"
   ]
  },
  {
   "cell_type": "markdown",
   "metadata": {},
   "source": [
    "<img src=\"https://raw.githubusercontent.com/Bugnon/oc-2017/master/exam/img_furb/arbre.png\" width=\"600\">"
   ]
  },
  {
   "cell_type": "code",
   "execution_count": 15,
   "metadata": {},
   "outputs": [
    {
     "name": "stdout",
     "output_type": "stream",
     "text": [
      "\u001b[0m\u001b[01;32m/bin/machinectl\u001b[0m*  \u001b[01;32m/bin/mktemp\u001b[0m*       \u001b[37;41m/bin/mount\u001b[0m*       \u001b[01;32m/bin/mt-gnu\u001b[0m*\r\n",
      "\u001b[01;32m/bin/mkdir\u001b[0m*       \u001b[01;32m/bin/modeline2fb\u001b[0m*  \u001b[01;32m/bin/mountpoint\u001b[0m*  \u001b[01;32m/bin/mv\u001b[0m*\r\n",
      "\u001b[01;32m/bin/mknod\u001b[0m*       \u001b[01;32m/bin/more\u001b[0m*         \u001b[01;36m/bin/mt\u001b[0m@\r\n"
     ]
    }
   ],
   "source": [
    "%ls /bin/m*"
   ]
  },
  {
   "cell_type": "code",
   "execution_count": 16,
   "metadata": {},
   "outputs": [
    {
     "name": "stdout",
     "output_type": "stream",
     "text": [
      "\u001b[0m\u001b[01;34mpi\u001b[0m/\r\n"
     ]
    }
   ],
   "source": [
    "%ls /home"
   ]
  },
  {
   "cell_type": "markdown",
   "metadata": {},
   "source": [
    "## Commande UNIX dans le terminal"
   ]
  },
  {
   "cell_type": "markdown",
   "metadata": {},
   "source": [
    "Les systèmes d&#39;exploitation de type UNIX permettent plusieurs commandes interéssantes.\n",
    "Elles sont stockés soit directement dans le shell du terminal ou parfois dans /bin ou dans /usr/bin.\n"
   ]
  },
  {
   "cell_type": "markdown",
   "metadata": {},
   "source": [
    "La plus part des commandes permettent de faire du traitement de dossier"
   ]
  },
  {
   "cell_type": "markdown",
   "metadata": {},
   "source": [
    "**Commandes:**"
   ]
  },
  {
   "cell_type": "code",
   "execution_count": 1,
   "metadata": {},
   "outputs": [
    {
     "name": "stdout",
     "output_type": "stream",
     "text": [
      "/home/pi/Documents/oc-2017/oc-2017/exam/Unix\n"
     ]
    }
   ],
   "source": [
    "#nessayez pas de comprendre tout de suite la ligne de code qui vient c'est uniquement pour ne\n",
    "#que votre ordi se remplisse de déchets, mais vous la comprendrez plus tard\n",
    "!mkdir Unix\n",
    "%cd Unix"
   ]
  },
  {
   "cell_type": "markdown",
   "metadata": {},
   "source": [
    "`pwd` est une commande qui permet d'afficher le chemin de notre position actuelle dans l'arborescence relativement à la source"
   ]
  },
  {
   "cell_type": "code",
   "execution_count": 2,
   "metadata": {},
   "outputs": [
    {
     "name": "stdout",
     "output_type": "stream",
     "text": [
      "/home/pi/Documents/oc-2017/oc-2017/exam/Unix\r\n"
     ]
    }
   ],
   "source": [
    "!pwd\n",
    "# nous sommes dans le dossier Unix qui est dans le dossier oc-2017, etc"
   ]
  },
  {
   "cell_type": "markdown",
   "metadata": {},
   "source": [
    "`cd` est une commande qui permet de se déplacer dans l'arborescence en avant *(par exemple \"/Documents/\")* et en arrière *( par exemple \" /../\" )*"
   ]
  },
  {
   "cell_type": "code",
   "execution_count": 3,
   "metadata": {},
   "outputs": [
    {
     "name": "stdout",
     "output_type": "stream",
     "text": [
      "/home/pi/Documents\n"
     ]
    }
   ],
   "source": [
    "#commencer cd par \"/\", permet de commencer à la source\n",
    "%cd /home/pi/Documents/"
   ]
  },
  {
   "cell_type": "code",
   "execution_count": 4,
   "metadata": {},
   "outputs": [
    {
     "name": "stdout",
     "output_type": "stream",
     "text": [
      "/home/pi/Documents\r\n"
     ]
    }
   ],
   "source": [
    "#nous sommes maintenant dans le dossier Documents\n",
    "!pwd"
   ]
  },
  {
   "cell_type": "markdown",
   "metadata": {},
   "source": [
    "`cd -` permet de revenir à la position précédente"
   ]
  },
  {
   "cell_type": "code",
   "execution_count": 5,
   "metadata": {},
   "outputs": [
    {
     "name": "stdout",
     "output_type": "stream",
     "text": [
      "/home/pi/Documents/oc-2017/oc-2017/exam/Unix\n"
     ]
    }
   ],
   "source": [
    "%cd -"
   ]
  },
  {
   "cell_type": "markdown",
   "metadata": {},
   "source": [
    "`ls` est une commande qui permet d'afficher la liste des fichiers d'un fichier"
   ]
  },
  {
   "cell_type": "code",
   "execution_count": 6,
   "metadata": {},
   "outputs": [
    {
     "name": "stdout",
     "output_type": "stream",
     "text": [
      "Benoit_OpenCV.ipynb\t\t   img_jonas\r\n",
      "Blanc_Github.ipynb\t\t   Jonas_Pythonintroduction-brouillon.ipynb\r\n",
      "Fleischer_LaTeX-NumPy.ipynb\t   Jonas_Pythonintroduction.ipynb\r\n",
      "Fleischer_LaTeX-NumPy.pdf\t   Nom_Sujet.ipynb\r\n",
      "Furbringer_Linux_Unix-Copy1.ipynb  Python_numpy.ipynb\r\n",
      "Furbringer_Linux_Unix.ipynb\t   README.md\r\n",
      "Furbringer_Linux_Unix.pdf\t   Samuel_PythonDonnées.ipynb\r\n",
      "img_benoit\t\t\t   trex.png\r\n",
      "img_furb\t\t\t   Unix\r\n",
      "img_gabriel\r\n"
     ]
    }
   ],
   "source": [
    "!ls ..\n",
    "# regardons le dossier des résumés de vos examens"
   ]
  },
  {
   "cell_type": "markdown",
   "metadata": {},
   "source": [
    "`top` est une commande qui permet de voir les logiciels qui sont entrain d'agir affichant entre autres leurs vrais noms et leurs *PID*"
   ]
  },
  {
   "cell_type": "code",
   "execution_count": 7,
   "metadata": {},
   "outputs": [],
   "source": [
    "#!top \n",
    "#nous ne le lancerons pas,car cela prendrait trop de place me voyez une image\n",
    "#mais essayez sur votre terminal et vous comprendrez mieux"
   ]
  },
  {
   "cell_type": "markdown",
   "metadata": {},
   "source": [
    "![top](https://raw.githubusercontent.com/Bugnon/oc-2017/master/exam/img_furb/top.png)"
   ]
  },
  {
   "cell_type": "markdown",
   "metadata": {},
   "source": [
    "`mkdir` est une commande qui permet de créer un dossier vide "
   ]
  },
  {
   "cell_type": "code",
   "execution_count": 8,
   "metadata": {},
   "outputs": [],
   "source": [
    "!ls"
   ]
  },
  {
   "cell_type": "code",
   "execution_count": 9,
   "metadata": {},
   "outputs": [
    {
     "name": "stdout",
     "output_type": "stream",
     "text": [
      "dossierA\r\n"
     ]
    }
   ],
   "source": [
    "!mkdir dossierA\n",
    "!ls\n",
    "# il n'yavait rien et à présent il y'a un dossier"
   ]
  },
  {
   "cell_type": "markdown",
   "metadata": {},
   "source": [
    "`rmdir` est une commande qui permet de supprimer un dossier vide "
   ]
  },
  {
   "cell_type": "code",
   "execution_count": 10,
   "metadata": {},
   "outputs": [],
   "source": [
    "!rmdir dossierA\n",
    "!ls \n",
    "#il n'est plus là"
   ]
  },
  {
   "cell_type": "markdown",
   "metadata": {},
   "source": [
    "`date` est une commande qui permet d'indiquer la date d'aujourd'hui et l'heure actuelle"
   ]
  },
  {
   "cell_type": "code",
   "execution_count": 1,
   "metadata": {},
   "outputs": [
    {
     "name": "stdout",
     "output_type": "stream",
     "text": [
      "mardi 29 mai 2018, 20:47:19 (UTC+0000)\r\n"
     ]
    }
   ],
   "source": [
    "!date\n",
    "#Est-ce juste?"
   ]
  },
  {
   "cell_type": "markdown",
   "metadata": {},
   "source": [
    "`cal` est une commande qui permet d'afficher le calendrier du mois actuel"
   ]
  },
  {
   "cell_type": "code",
   "execution_count": 12,
   "metadata": {},
   "outputs": [
    {
     "name": "stdout",
     "output_type": "stream",
     "text": [
      "      Mai 2018        \r\n",
      "di lu ma me je ve sa  \r\n",
      "       1  2  3  4  5  \r\n",
      " 6  7  8  9 10 11 12  \r\n",
      "13 14 15 16 17 18 19  \r\n",
      "20 21 22 23 24 25 26  \r\n",
      "27 28 \u001b[7m29\u001b[m 30 31        \r\n",
      "                      \r\n"
     ]
    }
   ],
   "source": [
    "!cal"
   ]
  },
  {
   "cell_type": "markdown",
   "metadata": {},
   "source": [
    "`cal 2017` permet d'afficher le calendrier entier de 2017"
   ]
  },
  {
   "cell_type": "code",
   "execution_count": 15,
   "metadata": {},
   "outputs": [
    {
     "name": "stdout",
     "output_type": "stream",
     "text": [
      "                            2017\r\n",
      "      Janvier               Février                 Mars          \r\n",
      "di lu ma me je ve sa  di lu ma me je ve sa  di lu ma me je ve sa  \r\n",
      " 1  2  3  4  5  6  7            1  2  3  4            1  2  3  4  \r\n",
      " 8  9 10 11 12 13 14   5  6  7  8  9 10 11   5  6  7  8  9 10 11  \r\n",
      "15 16 17 18 19 20 21  12 13 14 15 16 17 18  12 13 14 15 16 17 18  \r\n",
      "22 23 24 25 26 27 28  19 20 21 22 23 24 25  19 20 21 22 23 24 25  \r\n",
      "29 30 31              26 27 28              26 27 28 29 30 31     \r\n",
      "                                                                  \r\n",
      "\r\n",
      "       Avril                  Mai                   Juin          \r\n",
      "di lu ma me je ve sa  di lu ma me je ve sa  di lu ma me je ve sa  \r\n",
      "                   1      1  2  3  4  5  6               1  2  3  \r\n",
      " 2  3  4  5  6  7  8   7  8  9 10 11 12 13   4  5  6  7  8  9 10  \r\n",
      " 9 10 11 12 13 14 15  14 15 16 17 18 19 20  11 12 13 14 15 16 17  \r\n",
      "16 17 18 19 20 21 22  21 22 23 24 25 26 27  18 19 20 21 22 23 24  \r\n",
      "23 24 25 26 27 28 29  28 29 30 31           25 26 27 28 29 30     \r\n",
      "30                                                                \r\n",
      "\r\n",
      "      Juillet                 Août               Septembre        \r\n",
      "di lu ma me je ve sa  di lu ma me je ve sa  di lu ma me je ve sa  \r\n",
      "                   1         1  2  3  4  5                  1  2  \r\n",
      " 2  3  4  5  6  7  8   6  7  8  9 10 11 12   3  4  5  6  7  8  9  \r\n",
      " 9 10 11 12 13 14 15  13 14 15 16 17 18 19  10 11 12 13 14 15 16  \r\n",
      "16 17 18 19 20 21 22  20 21 22 23 24 25 26  17 18 19 20 21 22 23  \r\n",
      "23 24 25 26 27 28 29  27 28 29 30 31        24 25 26 27 28 29 30  \r\n",
      "30 31                                                             \r\n",
      "\r\n",
      "      Octobre               Novembre              Décembre        \r\n",
      "di lu ma me je ve sa  di lu ma me je ve sa  di lu ma me je ve sa  \r\n",
      " 1  2  3  4  5  6  7            1  2  3  4                  1  2  \r\n",
      " 8  9 10 11 12 13 14   5  6  7  8  9 10 11   3  4  5  6  7  8  9  \r\n",
      "15 16 17 18 19 20 21  12 13 14 15 16 17 18  10 11 12 13 14 15 16  \r\n",
      "22 23 24 25 26 27 28  19 20 21 22 23 24 25  17 18 19 20 21 22 23  \r\n",
      "29 30 31              26 27 28 29 30        24 25 26 27 28 29 30  \r\n",
      "                                            31                    \r\n"
     ]
    }
   ],
   "source": [
    "!cal 2017\n",
    "#essayez avec une année dans le futur pour savoir quel sera \n",
    "#le jour de la semaine où tombera votre date de fête"
   ]
  },
  {
   "cell_type": "markdown",
   "metadata": {},
   "source": [
    "`nano` est une commande qui ouvre une fenêtre pour faire du traitement de texte"
   ]
  },
  {
   "cell_type": "code",
   "execution_count": 16,
   "metadata": {},
   "outputs": [],
   "source": [
    "#!nano\n",
    "#Jupyter notebook n'arrive pas à afficher nano donc voici une image,\n",
    "# mais essayez dans votre terminal"
   ]
  },
  {
   "cell_type": "markdown",
   "metadata": {},
   "source": [
    "![castle](https://raw.githubusercontent.com/Bugnon/oc-2017/master/exam/img_furb/Castle.png)"
   ]
  },
  {
   "cell_type": "markdown",
   "metadata": {},
   "source": [
    "*c'est écrit: \" on peut tout faire en traitement de texte sur nano \" \n",
    ", puis c'est un chateau*"
   ]
  },
  {
   "cell_type": "markdown",
   "metadata": {},
   "source": [
    "Pour ajouter le calendrier dans un fichier il suffit de faire cela: `cal 100> cal100.txt`"
   ]
  },
  {
   "cell_type": "code",
   "execution_count": 17,
   "metadata": {},
   "outputs": [],
   "source": [
    "!cal 100 > cal100.txt"
   ]
  },
  {
   "cell_type": "code",
   "execution_count": 18,
   "metadata": {},
   "outputs": [],
   "source": [
    "#nano cal100.txt\n",
    "#faites cette commande dans votre terminal, quand vous êtes dans le dossier exam \n",
    "#regardez ce qu'il se passe"
   ]
  },
  {
   "cell_type": "markdown",
   "metadata": {},
   "source": [
    "`users`, `who` et `w` sont des commandes qui permettent de savoir qui sont les utilisateurs connectés sur la machine"
   ]
  },
  {
   "cell_type": "code",
   "execution_count": 19,
   "metadata": {},
   "outputs": [
    {
     "name": "stdout",
     "output_type": "stream",
     "text": [
      "pi       :0           2018-05-28 17:11 (:0)\r\n",
      "pi       tty1         2018-05-28 17:11\r\n"
     ]
    }
   ],
   "source": [
    "!who"
   ]
  },
  {
   "cell_type": "code",
   "execution_count": 20,
   "metadata": {},
   "outputs": [
    {
     "name": "stdout",
     "output_type": "stream",
     "text": [
      "pi pi\r\n"
     ]
    }
   ],
   "source": [
    "!users"
   ]
  },
  {
   "cell_type": "code",
   "execution_count": 21,
   "metadata": {},
   "outputs": [
    {
     "name": "stdout",
     "output_type": "stream",
     "text": [
      " 22:58:15 up  5:46,  2 users,  load average: 0.57, 0.85, 0.84\r\n",
      "USER     TTY      FROM             LOGIN@   IDLE   JCPU   PCPU WHAT\r\n",
      "pi       :0       :0               17:11   ?xdm?  37:12   1.56s /usr/bin/lxsess\r\n",
      "pi       tty1                      17:11    5:46m  0.38s  0.35s -bash\r\n"
     ]
    }
   ],
   "source": [
    "!w"
   ]
  },
  {
   "cell_type": "markdown",
   "metadata": {},
   "source": [
    "`echo` est une commande qui permet d'écrire des caractères dans le terminal"
   ]
  },
  {
   "cell_type": "code",
   "execution_count": 22,
   "metadata": {},
   "outputs": [
    {
     "name": "stdout",
     "output_type": "stream",
     "text": [
      "ni ni ni it it it\r\n"
     ]
    }
   ],
   "source": [
    "!echo ni ni ni it it it"
   ]
  },
  {
   "cell_type": "markdown",
   "metadata": {},
   "source": [
    "`cp` est une commande qui permet de copier et coller un fichier "
   ]
  },
  {
   "cell_type": "code",
   "execution_count": 23,
   "metadata": {},
   "outputs": [],
   "source": [
    "!echo ni ni ni>knight.txt\n",
    "#nous avons créé un fichier texte qui va être observé peu importe son intérieur"
   ]
  },
  {
   "cell_type": "code",
   "execution_count": 26,
   "metadata": {},
   "outputs": [
    {
     "name": "stdout",
     "output_type": "stream",
     "text": [
      "mkdir: impossible de créer le répertoire « Graal »: Le fichier existe\n",
      "cal100.txt  Graal  knight.txt\n"
     ]
    }
   ],
   "source": [
    "!mkdir Graal\n",
    "!ls\n",
    "#créons un dossier pour pouvoir copier notre fichier à l'intérieur"
   ]
  },
  {
   "cell_type": "code",
   "execution_count": 29,
   "metadata": {},
   "outputs": [],
   "source": [
    "!cp knight.txt Graal\n",
    "!cp cal100.txt Graal"
   ]
  },
  {
   "cell_type": "code",
   "execution_count": 30,
   "metadata": {},
   "outputs": [
    {
     "name": "stdout",
     "output_type": "stream",
     "text": [
      "cal100.txt  knight.txt\r\n"
     ]
    }
   ],
   "source": [
    "!ls Graal\n",
    "#dans le dossier Graal il y a les deux fichiers txt"
   ]
  },
  {
   "cell_type": "code",
   "execution_count": 31,
   "metadata": {},
   "outputs": [
    {
     "name": "stdout",
     "output_type": "stream",
     "text": [
      "cal100.txt  Graal  knight.txt\r\n"
     ]
    }
   ],
   "source": [
    "!ls\n",
    "#et dans le dossier qui contient Graal il y'a les deux fichiers txt"
   ]
  },
  {
   "cell_type": "markdown",
   "metadata": {},
   "source": [
    "`sudo` est un ajout au début de la commande pour s'accorder les droits super user juste pour une commande"
   ]
  },
  {
   "cell_type": "markdown",
   "metadata": {},
   "source": [
    "Les exemples de `sudo` seront après pour `open` et `pkill`"
   ]
  },
  {
   "cell_type": "markdown",
   "metadata": {},
   "source": [
    "`which` est une commande qui donne le chemin relativement à la source d'un fichier"
   ]
  },
  {
   "cell_type": "code",
   "execution_count": 44,
   "metadata": {},
   "outputs": [
    {
     "name": "stdout",
     "output_type": "stream",
     "text": [
      "/usr/bin/minecraft-pi\r\n"
     ]
    }
   ],
   "source": [
    "!which minecraft-pi"
   ]
  },
  {
   "cell_type": "markdown",
   "metadata": {},
   "source": [
    "`open` est une commande qui permet d'ouvrir un fichier en donnant le chemin "
   ]
  },
  {
   "cell_type": "code",
   "execution_count": 46,
   "metadata": {},
   "outputs": [],
   "source": [
    "! sudo open /usr/bin/minecraft-pi\n",
    "#Une fenêtre vient de s'ouvrir"
   ]
  },
  {
   "cell_type": "markdown",
   "metadata": {},
   "source": [
    "`kill` est une commande qui permet d'arrêter le processus en cours d'un logiciel en précisant son PID"
   ]
  },
  {
   "cell_type": "markdown",
   "metadata": {},
   "source": [
    "`pkill` est une commande qui permet d'arrêter le processus en cours d'un logiciel en précisant son vrai nom"
   ]
  },
  {
   "cell_type": "code",
   "execution_count": 48,
   "metadata": {},
   "outputs": [],
   "source": [
    "!sudo pkill minecraft-pi\n",
    "#Une fenêtre vient de se fermer"
   ]
  },
  {
   "cell_type": "markdown",
   "metadata": {},
   "source": [
    "`mv` est une commande qui permet de déplacer un dossier dans un autre dossier"
   ]
  },
  {
   "cell_type": "code",
   "execution_count": 32,
   "metadata": {},
   "outputs": [
    {
     "name": "stdout",
     "output_type": "stream",
     "text": [
      "cal100.txt  Graal  knight.txt\r\n"
     ]
    }
   ],
   "source": [
    "!ls\n",
    "!mkdir Arthur\n",
    "!mv Arthur Graal"
   ]
  },
  {
   "cell_type": "code",
   "execution_count": 33,
   "metadata": {},
   "outputs": [
    {
     "name": "stdout",
     "output_type": "stream",
     "text": [
      "Arthur\tcal100.txt  knight.txt\r\n"
     ]
    }
   ],
   "source": [
    "!ls Graal"
   ]
  },
  {
   "cell_type": "markdown",
   "metadata": {},
   "source": [
    "mais `mv` permet aussi le nom d'un dossier/fichier"
   ]
  },
  {
   "cell_type": "code",
   "execution_count": 36,
   "metadata": {},
   "outputs": [
    {
     "name": "stdout",
     "output_type": "stream",
     "text": [
      "[Errno 2] No such file or directory: 'Graal'\n",
      "/home/pi/Documents/oc-2017/oc-2017/exam/Unix/Graal\n",
      "mv: impossible d'évaluer « Arthur »: Aucun fichier ou dossier de ce type\n",
      "cal100.txt  King  knight.txt\n"
     ]
    }
   ],
   "source": [
    "%cd Graal\n",
    "!mv Arthur King\n",
    "!ls"
   ]
  },
  {
   "cell_type": "markdown",
   "metadata": {},
   "source": [
    "`rm -r` est une commande qui efface un fichier et un dossier qu'il soit vide ou pas"
   ]
  },
  {
   "cell_type": "code",
   "execution_count": 37,
   "metadata": {},
   "outputs": [
    {
     "name": "stdout",
     "output_type": "stream",
     "text": [
      "/home/pi/Documents/oc-2017/oc-2017/exam/Unix\n",
      "cal100.txt  knight.txt\n"
     ]
    }
   ],
   "source": [
    "%cd ..\n",
    "!rm -r Graal\n",
    "!ls"
   ]
  },
  {
   "cell_type": "markdown",
   "metadata": {},
   "source": [
    "`w3m` est une commande pour ouvrir une internet en texte"
   ]
  },
  {
   "cell_type": "code",
   "execution_count": 39,
   "metadata": {},
   "outputs": [],
   "source": [
    "#!w3m google.com\n",
    "#essayez et naviguez sur votre terminal"
   ]
  },
  {
   "cell_type": "markdown",
   "metadata": {},
   "source": [
    "Pour télécharger w3m, il faut l'installer ainsi:"
   ]
  },
  {
   "cell_type": "code",
   "execution_count": null,
   "metadata": {},
   "outputs": [],
   "source": [
    "!sudo apt-get upgrade\n",
    "!sudo apt-get install w3m w3m-img"
   ]
  },
  {
   "cell_type": "markdown",
   "metadata": {},
   "source": [
    "`write` est une commande qui permet de parler avec la personne choisit"
   ]
  },
  {
   "cell_type": "code",
   "execution_count": 63,
   "metadata": {},
   "outputs": [
    {
     "name": "stdout",
     "output_type": "stream",
     "text": [
      "^C\r\n"
     ]
    }
   ],
   "source": [
    "!sudo write pi"
   ]
  },
  {
   "cell_type": "markdown",
   "metadata": {},
   "source": [
    "`su` est une commande qui permet de devenir le super user "
   ]
  },
  {
   "cell_type": "code",
   "execution_count": null,
   "metadata": {},
   "outputs": [
    {
     "name": "stdout",
     "output_type": "stream",
     "text": [
      "root@raspberrypi:/home/pi/Documents/oc-2017/oc-2017/exam# "
     ]
    }
   ],
   "source": [
    "!sudo su\n",
    "#Mais faites attention, vous pourriez casser votre ordinateur\n",
    "#enrestant en super user et en faisant n'importe quoi"
   ]
  },
  {
   "cell_type": "markdown",
   "metadata": {},
   "source": [
    "`man` est une particule à ajouter avant la commande que nous souhaitons comprendre"
   ]
  },
  {
   "cell_type": "code",
   "execution_count": 42,
   "metadata": {
    "scrolled": true
   },
   "outputs": [
    {
     "name": "stdout",
     "output_type": "stream",
     "text": [
      "OPENVT(1)                          Linux 1.x                         OPENVT(1)\r\n",
      "\r\n",
      "N\bNA\bAM\bME\bE\r\n",
      "       openvt - start a program on a new virtual terminal (VT).\r\n",
      "\r\n",
      "S\bSY\bYN\bNO\bOP\bPS\bSI\bIS\bS\r\n",
      "       o\bop\bpe\ben\bnv\bvt\bt [-c vtnumber] [OPTIONS] [--] command\r\n",
      "\r\n",
      "D\bDE\bES\bSC\bCR\bRI\bIP\bPT\bTI\bIO\bON\bN\r\n",
      "       o\bop\bpe\ben\bnv\bvt\bt  will  find the first available VT, and run on it the given c\bco\bom\bm‐\b‐\r\n",
      "       m\bma\ban\bnd\bd with the given c\bco\bom\bmm\bma\ban\bnd\bd o\bop\bpt\bti\bio\bon\bns\bs, standard input, output  and  error\r\n",
      "       are  directed to that terminal. The current search path ($PATH) is used\r\n",
      "       to find the requested command. If no  command  is  specified  then  the\r\n",
      "       environment variable $SHELL is used.\r\n",
      "\r\n",
      "   O\bOP\bPT\bTI\bIO\bON\bNS\bS\r\n",
      "       _\b-_\bc_\b, _\b-_\b-_\bc_\bo_\bn_\bs_\bo_\bl_\be_\b=_\bV_\bT_\bN_\bU_\bM_\bB_\bE_\bR\r\n",
      "              Use  the  given  VT number and not the first available. Note you\r\n",
      "              must have write access to the supplied VT for this to work;\r\n",
      "\r\n",
      "       _\b-_\bf_\b, _\b-_\b-_\bf_\bo_\br_\bc_\be\r\n",
      "              Force opening a VT without checking whether  it  is  already  in\r\n",
      "              use;\r\n",
      "\r\n",
      "       _\b-_\be_\b, _\b-_\b-_\be_\bx_\be_\bc\r\n",
      "              Directly  execute  the  given  command,  without  forking.  This\r\n",
      "              option is meant for use in _\b/_\be_\bt_\bc_\b/_\bi_\bn_\bi_\bt_\bt_\ba_\bb.  If  you  want  to  use\r\n",
      "              this  feature in another context, be aware that o\bop\bpe\ben\bnv\bvt\bt has to be\r\n",
      "              a session leader in order for -e to work.  See s\bse\bet\bts\bsi\bid\bd(2) or s\bse\bet\bt‐\b‐\r\n",
      "              s\bsi\bid\bd(1) on how to achieve this.\r\n",
      "\r\n",
      "       _\b-_\bs_\b, _\b-_\b-_\bs_\bw_\bi_\bt_\bc_\bh\r\n",
      "              Switch  to  the  new VT when starting the command. The VT of the\r\n",
      "              new command will be made the new current VT;\r\n",
      "\r\n",
      "       _\b-_\bu_\b, _\b-_\b-_\bu_\bs_\be_\br\r\n",
      "              Figure out the owner of the current VT, and run  login  as  that\r\n",
      "              user.   Suitable to be called by init. Shouldn't be used with -c\r\n",
      "              or -l;\r\n",
      "\r\n",
      "       _\b-_\bl_\b, _\b-_\b-_\bl_\bo_\bg_\bi_\bn\r\n",
      "              Make the command a login shell. A - is prepended to the name  of\r\n",
      "              the command to be executed;\r\n",
      "\r\n",
      "       _\b-_\bv_\b, _\b-_\b-_\bv_\be_\br_\bb_\bo_\bs_\be\r\n",
      "              Be a bit more verbose;\r\n",
      "\r\n",
      "       _\b-_\bw_\b, _\b-_\b-_\bw_\ba_\bi_\bt\r\n",
      "              wait  for  command  to  complete. If -w and -s are used together\r\n",
      "              then o\bop\bpe\ben\bnv\bvt\bt will switch back to the  controlling  terminal  when\r\n",
      "              the command completes;\r\n",
      "\r\n",
      "       _\b-_\bV_\b, _\b-_\b-_\bv_\be_\br_\bs_\bi_\bo_\bn\r\n",
      "              print program version and exit;\r\n",
      "\r\n",
      "       _\b-_\bh_\b, _\b-_\b-_\bh_\be_\bl_\bp\r\n",
      "              show this text and exit.\r\n",
      "\r\n",
      "       _\b-_\b-     end of options to o\bop\bpe\ben\bnv\bvt\bt.\r\n",
      "\r\n",
      "N\bNO\bOT\bTE\bE\r\n",
      "       If  o\bop\bpe\ben\bnv\bvt\bt is compiled with a getopt_long() and you wish to set options\r\n",
      "       to the command to be run, then you must supply the end  of  options  --\r\n",
      "       flag before the command.\r\n",
      "\r\n",
      "E\bEX\bXA\bAM\bMP\bPL\bLE\bES\bS\r\n",
      "       o\bop\bpe\ben\bnv\bvt\bt  can  be used to start a shell on the next free VT, by using the\r\n",
      "       command:\r\n",
      "\r\n",
      "       _\bo_\bp_\be_\bn_\bv_\bt _\bb_\ba_\bs_\bh\r\n",
      "\r\n",
      "       To start the shell as a login shell, use:\r\n",
      "\r\n",
      "       _\bo_\bp_\be_\bn_\bv_\bt _\b-_\bl _\bb_\ba_\bs_\bh\r\n",
      "\r\n",
      "       To get a long listing you must supply the -- separator:\r\n",
      "\r\n",
      "       _\bo_\bp_\be_\bn_\bv_\bt _\b-_\b- _\bl_\bs _\b-_\bl\r\n",
      "\r\n",
      "H\bHI\bIS\bST\bTO\bOR\bRY\bY\r\n",
      "       Earlier,  o\bop\bpe\ben\bnv\bvt\bt  was  called  o\bop\bpe\ben\bn.   It  was  written  by  Jon  Tombs\r\n",
      "       <jon@gtex02.us.es or jon@robots.ox.ac.uk>.  The -w idea is from \"sam\".\r\n",
      "\r\n",
      "S\bSE\bEE\bE A\bAL\bLS\bSO\bO\r\n",
      "       c\bch\bhv\bvt\bt(1), d\bdo\bos\bsh\bhe\bel\bll\bl(8), l\blo\bog\bgi\bin\bn(1)\r\n",
      "\r\n",
      "19 Jul 1996                          V1.4                            OPENVT(1)\r\n"
     ]
    }
   ],
   "source": [
    "!man open\n",
    "#c'est très utile pour apprendre l'Unix"
   ]
  },
  {
   "cell_type": "code",
   "execution_count": 1,
   "metadata": {},
   "outputs": [
    {
     "name": "stdout",
     "output_type": "stream",
     "text": [
      "/home/pi/Documents/oc-2017/oc-2017\n",
      "rm: impossible de supprimer « Unix »: Aucun fichier ou dossier de ce type\r\n"
     ]
    }
   ],
   "source": [
    "%cd ..\n",
    "!rm -r Unix"
   ]
  },
  {
   "cell_type": "code",
   "execution_count": null,
   "metadata": {},
   "outputs": [],
   "source": []
  }
 ],
 "metadata": {
  "kernelspec": {
   "display_name": "Python 3",
   "language": "python",
   "name": "python3"
  },
  "language_info": {
   "codemirror_mode": {
    "name": "ipython",
    "version": 2
   },
   "file_extension": ".py",
   "mimetype": "text/x-python",
   "name": "python",
   "nbconvert_exporter": "python",
   "pygments_lexer": "ipython2",
   "version": "2.7.9"
  }
 },
 "nbformat": 4,
 "nbformat_minor": 2
}
