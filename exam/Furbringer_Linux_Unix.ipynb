{
 "cells": [
  {
   "cell_type": "markdown",
   "metadata": {},
   "source": [
    "## Exploitation LINUX"
   ]
  },
  {
   "cell_type": "markdown",
   "metadata": {},
   "source": [
    "Dans ce jupyter notebook, nous parlerons de :"
   ]
  },
  {
   "cell_type": "markdown",
   "metadata": {},
   "source": [
    "- l'arborescence Linux \n",
    "- commandes unix dans le terminal"
   ]
  },
  {
   "cell_type": "markdown",
   "metadata": {},
   "source": [
    "Source: "
   ]
  },
  {
   "cell_type": "markdown",
   "metadata": {},
   "source": [
    "- https://doc.ubuntu-fr.org/arborescence\n",
    "- https://fr.wikipedia.org/wiki/Linux\n",
    "- https://fr.wikipedia.org/wiki/Noyau_Linux\n",
    "- https://fr.wikipedia.org/wiki/Noyau_de_syst%C3%A8me_d%27exploitation"
   ]
  },
  {
   "cell_type": "markdown",
   "metadata": {},
   "source": [
    "## Historique"
   ]
  },
  {
   "cell_type": "markdown",
   "metadata": {},
   "source": [
    "Le *Linux* est un noyau de système d'exploitation de type *UNIX*. Il est un logiciel libre développé essentiellement en *langage C*. Un noyau de système d'exploitation *\"gère les ressources de l’ordinateur et permet aux différents composants — matériels et logiciels — de communiquer entre eux.\"*\n",
    "\n",
    "c'est 1991 que Linus Torvalds, étudiant finlandais commence le développement d'un noyau de système d'exploitation, autrement appelé *Linux*. \n",
    "\n",
    "Le mars 1994 sort la version *Linux* 1.0.\n",
    "- ![pinguin] (https://raw.githubusercontent.com/Bugnon/oc-2017/master/exam/img_furb/linux.png)"
   ]
  },
  {
   "cell_type": "markdown",
   "metadata": {},
   "source": [
    "## L'arborescence LINUX"
   ]
  },
  {
   "cell_type": "markdown",
   "metadata": {},
   "source": [
    "Imagine tes répertoires et tes fichiers dans ton ordinateur comme un arbre. Il commence par la racine la source et  les dossiers important comme ***bin***, les dossiers sont le bois, parfois fin comme des branches, parfois solide comme le tronc; et les fichiers comme les feuilles.\n",
    "Et toutes les informations partant de la racine (indiquée par une barre oblique au départ), ont un chemin bien défini\n"
   ]
  },
  {
   "cell_type": "markdown",
   "metadata": {},
   "source": [
    "![arbre] (https://raw.githubusercontent.com/Bugnon/oc-2017/master/exam/img_furb/arbre.png)"
   ]
  },
  {
   "cell_type": "markdown",
   "metadata": {},
   "source": [
    "## Commande UNIX dans le terminal"
   ]
  },
  {
   "cell_type": "markdown",
   "metadata": {},
   "source": [
    "Les systèmes d&#39;exploitation de type UNIX permettent plusieurs commandes interéssantes.\n",
    "Elles sont stockés soit directement dans le shell du terminal ou parfois dans /bin ou dans /usr/bin."
   ]
  },
  {
   "cell_type": "markdown",
   "metadata": {},
   "source": [
    "**Commandes:**"
   ]
  },
  {
   "cell_type": "markdown",
   "metadata": {},
   "source": [
    "**pwd** est une commande qui permet d'afficher le chemin de notre position actuelle dans l'arborescence relativement à la source"
   ]
  },
  {
   "cell_type": "code",
   "execution_count": 1,
   "metadata": {},
   "outputs": [
    {
     "name": "stdout",
     "output_type": "stream",
     "text": [
      "/home/pi/Documents/oc-2017/oc-2017/exam\r\n"
     ]
    }
   ],
   "source": [
    "!pwd"
   ]
  },
  {
   "cell_type": "markdown",
   "metadata": {},
   "source": [
    "**cd** est une commande qui permet de se déplacer dans l'arborescence en avant *(par exemple \"/Documents/\")* et en arrière *( par exemple \" /../\" )*"
   ]
  },
  {
   "cell_type": "code",
   "execution_count": 2,
   "metadata": {},
   "outputs": [
    {
     "name": "stdout",
     "output_type": "stream",
     "text": [
      "/home/pi/Documents\n"
     ]
    }
   ],
   "source": [
    "#commencer par / permet de commencer à la source\n",
    "%cd /home/pi/Documents/"
   ]
  },
  {
   "cell_type": "markdown",
   "metadata": {},
   "source": [
    "**cd -** permet de revenir à la position précédente"
   ]
  },
  {
   "cell_type": "code",
   "execution_count": 3,
   "metadata": {},
   "outputs": [
    {
     "name": "stdout",
     "output_type": "stream",
     "text": [
      "/home/pi/Documents/oc-2017/oc-2017/exam\n"
     ]
    }
   ],
   "source": [
    "%cd -"
   ]
  },
  {
   "cell_type": "markdown",
   "metadata": {},
   "source": [
    "ls est une commande qui permet d'afficher la liste des fichiers d'un fichier"
   ]
  },
  {
   "cell_type": "code",
   "execution_count": 4,
   "metadata": {},
   "outputs": [
    {
     "name": "stdout",
     "output_type": "stream",
     "text": [
      "Benoit_OpenCV.ipynb\t\t   img_gabriel\r\n",
      "Blanc_Github.ipynb\t\t   img_jonas\r\n",
      "Fleischer_LaTeX-NumPy.ipynb\t   Jonas_Pythonintroduction-brouillon.ipynb\r\n",
      "Fleischer_LaTeX-NumPy.pdf\t   Jonas_Pythonintroduction.ipynb\r\n",
      "Furbringer_Linux\t\t   Nom_Sujet.ipynb\r\n",
      "Furbringer_Linux_Unix-Copy1.ipynb  Python_numpy.ipynb\r\n",
      "Furbringer_Linux_Unix.ipynb\t   README.md\r\n",
      "img_benoit\t\t\t   Samuel_PythonDonnées.ipynb\r\n",
      "img_furb\t\t\t   trex.png\r\n"
     ]
    }
   ],
   "source": [
    "!ls"
   ]
  },
  {
   "cell_type": "markdown",
   "metadata": {},
   "source": [
    "**top** est une commande qui permet de voir les logiciels qui sont entrain d'agir affichant entre autres leurs vrais noms et leurs *PID*"
   ]
  },
  {
   "cell_type": "code",
   "execution_count": 1,
   "metadata": {},
   "outputs": [],
   "source": [
    "#!top \n",
    "#nous ne le lancerons pas,car cela prendrait trop de place me voyez une image"
   ]
  },
  {
   "cell_type": "markdown",
   "metadata": {},
   "source": [
    "![top] (https://raw.githubusercontent.com/Bugnon/oc-2017/master/exam/img_furb/top.png)"
   ]
  },
  {
   "cell_type": "markdown",
   "metadata": {},
   "source": [
    "**mkdir** est une commande qui permet de créer un dossier vide "
   ]
  },
  {
   "cell_type": "code",
   "execution_count": 5,
   "metadata": {},
   "outputs": [
    {
     "name": "stdout",
     "output_type": "stream",
     "text": [
      "Benoit_OpenCV.ipynb\t\t   img_gabriel\r\n",
      "Blanc_Github.ipynb\t\t   img_jonas\r\n",
      "Fleischer_LaTeX-NumPy.ipynb\t   Jonas_Pythonintroduction-brouillon.ipynb\r\n",
      "Fleischer_LaTeX-NumPy.pdf\t   Jonas_Pythonintroduction.ipynb\r\n",
      "Furbringer_Linux\t\t   Nom_Sujet.ipynb\r\n",
      "Furbringer_Linux_Unix-Copy1.ipynb  Python_numpy.ipynb\r\n",
      "Furbringer_Linux_Unix.ipynb\t   README.md\r\n",
      "img_benoit\t\t\t   Samuel_PythonDonnées.ipynb\r\n",
      "img_furb\t\t\t   trex.png\r\n"
     ]
    }
   ],
   "source": [
    "!ls"
   ]
  },
  {
   "cell_type": "code",
   "execution_count": 6,
   "metadata": {},
   "outputs": [
    {
     "name": "stdout",
     "output_type": "stream",
     "text": [
      "Benoit_OpenCV.ipynb\t\t   img_gabriel\r\n",
      "Blanc_Github.ipynb\t\t   img_jonas\r\n",
      "dossierA\t\t\t   Jonas_Pythonintroduction-brouillon.ipynb\r\n",
      "Fleischer_LaTeX-NumPy.ipynb\t   Jonas_Pythonintroduction.ipynb\r\n",
      "Fleischer_LaTeX-NumPy.pdf\t   Nom_Sujet.ipynb\r\n",
      "Furbringer_Linux\t\t   Python_numpy.ipynb\r\n",
      "Furbringer_Linux_Unix-Copy1.ipynb  README.md\r\n",
      "Furbringer_Linux_Unix.ipynb\t   Samuel_PythonDonnées.ipynb\r\n",
      "img_benoit\t\t\t   trex.png\r\n",
      "img_furb\r\n"
     ]
    }
   ],
   "source": [
    "!mkdir dossierA\n",
    "!ls\n",
    "#regardez en troisième position à la colonne de gauche"
   ]
  },
  {
   "cell_type": "markdown",
   "metadata": {},
   "source": [
    "**rmdir** est une commande qui permet de supprimer un dossier vide "
   ]
  },
  {
   "cell_type": "code",
   "execution_count": 7,
   "metadata": {},
   "outputs": [
    {
     "name": "stdout",
     "output_type": "stream",
     "text": [
      "Benoit_OpenCV.ipynb\t\t   img_gabriel\r\n",
      "Blanc_Github.ipynb\t\t   img_jonas\r\n",
      "Fleischer_LaTeX-NumPy.ipynb\t   Jonas_Pythonintroduction-brouillon.ipynb\r\n",
      "Fleischer_LaTeX-NumPy.pdf\t   Jonas_Pythonintroduction.ipynb\r\n",
      "Furbringer_Linux\t\t   Nom_Sujet.ipynb\r\n",
      "Furbringer_Linux_Unix-Copy1.ipynb  Python_numpy.ipynb\r\n",
      "Furbringer_Linux_Unix.ipynb\t   README.md\r\n",
      "img_benoit\t\t\t   Samuel_PythonDonnées.ipynb\r\n",
      "img_furb\t\t\t   trex.png\r\n"
     ]
    }
   ],
   "source": [
    "!rmdir dossierA\n",
    "!ls \n",
    "#il n'est plus là"
   ]
  },
  {
   "cell_type": "markdown",
   "metadata": {},
   "source": [
    "**date** est une commande qui permet d'indiquer la date d'aujourd'hui et l'heure actuelle"
   ]
  },
  {
   "cell_type": "code",
   "execution_count": 8,
   "metadata": {},
   "outputs": [
    {
     "name": "stdout",
     "output_type": "stream",
     "text": [
      "lundi 28 mai 2018, 22:03:27 (UTC+0000)\r\n"
     ]
    }
   ],
   "source": [
    "!date\n",
    "#Est-ce juste?"
   ]
  },
  {
   "cell_type": "markdown",
   "metadata": {},
   "source": [
    "**cal** est une commande qui permet d'afficher le calendrier du mois actuel"
   ]
  },
  {
   "cell_type": "code",
   "execution_count": 9,
   "metadata": {},
   "outputs": [
    {
     "name": "stdout",
     "output_type": "stream",
     "text": [
      "      Mai 2018        \r\n",
      "di lu ma me je ve sa  \r\n",
      "       1  2  3  4  5  \r\n",
      " 6  7  8  9 10 11 12  \r\n",
      "13 14 15 16 17 18 19  \r\n",
      "20 21 22 23 24 25 26  \r\n",
      "27 \u001b[7m28\u001b[m 29 30 31        \r\n",
      "                      \r\n"
     ]
    }
   ],
   "source": [
    "!cal"
   ]
  },
  {
   "cell_type": "markdown",
   "metadata": {},
   "source": [
    "**cal 2017** permet d'afficher le calendrier entier de 2017"
   ]
  },
  {
   "cell_type": "code",
   "execution_count": 10,
   "metadata": {},
   "outputs": [
    {
     "name": "stdout",
     "output_type": "stream",
     "text": [
      "                            2017\r\n",
      "      Janvier               Février                 Mars          \r\n",
      "di lu ma me je ve sa  di lu ma me je ve sa  di lu ma me je ve sa  \r\n",
      " 1  2  3  4  5  6  7            1  2  3  4            1  2  3  4  \r\n",
      " 8  9 10 11 12 13 14   5  6  7  8  9 10 11   5  6  7  8  9 10 11  \r\n",
      "15 16 17 18 19 20 21  12 13 14 15 16 17 18  12 13 14 15 16 17 18  \r\n",
      "22 23 24 25 26 27 28  19 20 21 22 23 24 25  19 20 21 22 23 24 25  \r\n",
      "29 30 31              26 27 28              26 27 28 29 30 31     \r\n",
      "                                                                  \r\n",
      "\r\n",
      "       Avril                  Mai                   Juin          \r\n",
      "di lu ma me je ve sa  di lu ma me je ve sa  di lu ma me je ve sa  \r\n",
      "                   1      1  2  3  4  5  6               1  2  3  \r\n",
      " 2  3  4  5  6  7  8   7  8  9 10 11 12 13   4  5  6  7  8  9 10  \r\n",
      " 9 10 11 12 13 14 15  14 15 16 17 18 19 20  11 12 13 14 15 16 17  \r\n",
      "16 17 18 19 20 21 22  21 22 23 24 25 26 27  18 19 20 21 22 23 24  \r\n",
      "23 24 25 26 27 28 29  28 29 30 31           25 26 27 28 29 30     \r\n",
      "30                                                                \r\n",
      "\r\n",
      "      Juillet                 Août               Septembre        \r\n",
      "di lu ma me je ve sa  di lu ma me je ve sa  di lu ma me je ve sa  \r\n",
      "                   1         1  2  3  4  5                  1  2  \r\n",
      " 2  3  4  5  6  7  8   6  7  8  9 10 11 12   3  4  5  6  7  8  9  \r\n",
      " 9 10 11 12 13 14 15  13 14 15 16 17 18 19  10 11 12 13 14 15 16  \r\n",
      "16 17 18 19 20 21 22  20 21 22 23 24 25 26  17 18 19 20 21 22 23  \r\n",
      "23 24 25 26 27 28 29  27 28 29 30 31        24 25 26 27 28 29 30  \r\n",
      "30 31                                                             \r\n",
      "\r\n",
      "      Octobre               Novembre              Décembre        \r\n",
      "di lu ma me je ve sa  di lu ma me je ve sa  di lu ma me je ve sa  \r\n",
      " 1  2  3  4  5  6  7            1  2  3  4                  1  2  \r\n",
      " 8  9 10 11 12 13 14   5  6  7  8  9 10 11   3  4  5  6  7  8  9  \r\n",
      "15 16 17 18 19 20 21  12 13 14 15 16 17 18  10 11 12 13 14 15 16  \r\n",
      "22 23 24 25 26 27 28  19 20 21 22 23 24 25  17 18 19 20 21 22 23  \r\n",
      "29 30 31              26 27 28 29 30        24 25 26 27 28 29 30  \r\n",
      "                                            31                    \r\n"
     ]
    }
   ],
   "source": [
    "!cal 2017\n",
    "#essayez avec une année dans le futur pour savoir quel sera \n",
    "#le jour de la semaine où tombera votre date de fête"
   ]
  },
  {
   "cell_type": "markdown",
   "metadata": {},
   "source": [
    "**nano** est une commande qui permet de faire du traitement de texte"
   ]
  },
  {
   "cell_type": "code",
   "execution_count": null,
   "metadata": {},
   "outputs": [],
   "source": [
    "#!nano\n",
    "#Jupyter notebook n'arrive pas à afficher nano donc voici une image,\n",
    "# mais essayez dans votre terminal"
   ]
  },
  {
   "cell_type": "markdown",
   "metadata": {},
   "source": [
    "![castle] (https://raw.githubusercontent.com/Bugnon/oc-2017/master/exam/img_furb/castle.png)"
   ]
  },
  {
   "cell_type": "markdown",
   "metadata": {},
   "source": [
    "Pour ajouter le calendrier dans un fichier il suffit de faire cela: **cal 100> cal100.txt**"
   ]
  },
  {
   "cell_type": "code",
   "execution_count": 34,
   "metadata": {},
   "outputs": [],
   "source": [
    "!cal 100 > cal100.txt"
   ]
  },
  {
   "cell_type": "code",
   "execution_count": 2,
   "metadata": {},
   "outputs": [],
   "source": [
    "#!nano cal100.txt\n",
    "# faites cette commande dans votre terminal, quand vous êtes dans le dossier exam \n",
    "#regardez ce qu'il se passe"
   ]
  },
  {
   "cell_type": "markdown",
   "metadata": {},
   "source": [
    "**users** ,**who** et **w** sont des commandes qui permettent de savoir qui sont les utilisateurs connectés sur la machine"
   ]
  },
  {
   "cell_type": "code",
   "execution_count": 36,
   "metadata": {},
   "outputs": [
    {
     "name": "stdout",
     "output_type": "stream",
     "text": [
      "pi       :0           2018-05-28 17:11 (:0)\r\n",
      "pi       tty1         2018-05-28 17:11\r\n"
     ]
    }
   ],
   "source": [
    "!who"
   ]
  },
  {
   "cell_type": "code",
   "execution_count": 32,
   "metadata": {},
   "outputs": [
    {
     "name": "stdout",
     "output_type": "stream",
     "text": [
      "pi pi\r\n"
     ]
    }
   ],
   "source": [
    "!users"
   ]
  },
  {
   "cell_type": "code",
   "execution_count": 33,
   "metadata": {},
   "outputs": [
    {
     "name": "stdout",
     "output_type": "stream",
     "text": [
      " 18:17:46 up  1:05,  2 users,  load average: 0.53, 0.73, 0.72\r\n",
      "USER     TTY      FROM             LOGIN@   IDLE   JCPU   PCPU WHAT\r\n",
      "pi       :0       :0               17:11   ?xdm?  29:40   0.43s /usr/bin/lxsess\r\n",
      "pi       tty1                      17:11    1:05m  0.38s  0.35s -bash\r\n"
     ]
    }
   ],
   "source": [
    "!w"
   ]
  },
  {
   "cell_type": "markdown",
   "metadata": {},
   "source": [
    "**echo** est une commande qui permet d'écrire des caractères dans le terminal"
   ]
  },
  {
   "cell_type": "code",
   "execution_count": 37,
   "metadata": {},
   "outputs": [
    {
     "name": "stdout",
     "output_type": "stream",
     "text": [
      "ni ni ni it it it\r\n"
     ]
    }
   ],
   "source": [
    "!echo ni ni ni it it it"
   ]
  },
  {
   "cell_type": "markdown",
   "metadata": {},
   "source": [
    "**cp** est une commande qui permet de copier et coller un fichier "
   ]
  },
  {
   "cell_type": "code",
   "execution_count": 39,
   "metadata": {},
   "outputs": [],
   "source": [
    "!echo ni ni ni>knight.txt"
   ]
  },
  {
   "cell_type": "code",
   "execution_count": 54,
   "metadata": {},
   "outputs": [
    {
     "name": "stdout",
     "output_type": "stream",
     "text": [
      "mkdir: impossible de créer le répertoire « Graal »: Le fichier existe\r\n"
     ]
    }
   ],
   "source": [
    "!mkdir Graal"
   ]
  },
  {
   "cell_type": "code",
   "execution_count": 41,
   "metadata": {},
   "outputs": [],
   "source": [
    "!cp knight.txt Graal\n",
    "!cp cal100.txt"
   ]
  },
  {
   "cell_type": "code",
   "execution_count": 42,
   "metadata": {},
   "outputs": [
    {
     "name": "stdout",
     "output_type": "stream",
     "text": [
      "knight.txt\r\n"
     ]
    }
   ],
   "source": [
    "!ls Graal"
   ]
  },
  {
   "cell_type": "code",
   "execution_count": 43,
   "metadata": {},
   "outputs": [
    {
     "name": "stdout",
     "output_type": "stream",
     "text": [
      "BlueJ Projects\t   cal100.txt.save.2   minecraft\t Untitled.ipynb\r\n",
      "cal100.txt\t   Graal\t       nano.save\r\n",
      "cal100.txt.save    Greenfoot Projects  oc-2017\r\n",
      "cal100.txt.save.1  knight.txt\t       Scratch Projects\r\n"
     ]
    }
   ],
   "source": [
    "!ls"
   ]
  },
  {
   "cell_type": "markdown",
   "metadata": {},
   "source": [
    "**sudo** est un ajout au début de la commande pour s'accorder les droits super user juste pour une commande"
   ]
  },
  {
   "cell_type": "markdown",
   "metadata": {},
   "source": [
    "Les exemples de **sudo** seront après pour **open** et **pkill**"
   ]
  },
  {
   "cell_type": "markdown",
   "metadata": {},
   "source": [
    "**which** est une commande qui donne le chemin relativement à la source d'un fichier"
   ]
  },
  {
   "cell_type": "code",
   "execution_count": 44,
   "metadata": {},
   "outputs": [
    {
     "name": "stdout",
     "output_type": "stream",
     "text": [
      "/usr/bin/minecraft-pi\r\n"
     ]
    }
   ],
   "source": [
    "!which minecraft-pi"
   ]
  },
  {
   "cell_type": "markdown",
   "metadata": {},
   "source": [
    "**open** est une commande qui permet d'ouvrir un fichier en donnant le chemin "
   ]
  },
  {
   "cell_type": "code",
   "execution_count": 46,
   "metadata": {},
   "outputs": [],
   "source": [
    "! sudo open /usr/bin/minecraft-pi\n",
    "#Une fenêtre vient de s'ouvrir"
   ]
  },
  {
   "cell_type": "markdown",
   "metadata": {},
   "source": [
    "**kill** est une commande qui permet d'arrêter le processus en cours d'un logiciel en précisant son PID"
   ]
  },
  {
   "cell_type": "markdown",
   "metadata": {},
   "source": [
    "**pkill** est une commande qui permet d'arrêter le processus en cours d'un logiciel en précisant son vrai nom"
   ]
  },
  {
   "cell_type": "code",
   "execution_count": 48,
   "metadata": {},
   "outputs": [],
   "source": [
    "!sudo pkill minecraft-pi\n",
    "#Une fenêtre vient de se fermer"
   ]
  },
  {
   "cell_type": "markdown",
   "metadata": {},
   "source": [
    "**mv** est une commande qui permet de déplacer un dossier dans un autre dossier"
   ]
  },
  {
   "cell_type": "code",
   "execution_count": 55,
   "metadata": {},
   "outputs": [
    {
     "name": "stdout",
     "output_type": "stream",
     "text": [
      "BlueJ Projects\t   cal100.txt.save.2   minecraft\t Untitled.ipynb\r\n",
      "cal100.txt\t   Graal\t       nano.save\r\n",
      "cal100.txt.save    Greenfoot Projects  oc-2017\r\n",
      "cal100.txt.save.1  knight.txt\t       Scratch Projects\r\n"
     ]
    }
   ],
   "source": [
    "!ls\n",
    "!mkdir Arthur\n",
    "!mv Arthur Graal"
   ]
  },
  {
   "cell_type": "code",
   "execution_count": 56,
   "metadata": {},
   "outputs": [
    {
     "name": "stdout",
     "output_type": "stream",
     "text": [
      "Arthur\r\n"
     ]
    }
   ],
   "source": [
    "!ls Graal"
   ]
  },
  {
   "cell_type": "markdown",
   "metadata": {},
   "source": [
    "**rm -r** efface un fichier et un dossier qu'il soit vide ou pas"
   ]
  },
  {
   "cell_type": "code",
   "execution_count": 58,
   "metadata": {},
   "outputs": [
    {
     "name": "stdout",
     "output_type": "stream",
     "text": [
      "rm: impossible de supprimer « Graal »: Aucun fichier ou dossier de ce type\n",
      "BlueJ Projects\t cal100.txt.save.1   knight.txt  oc-2017\n",
      "cal100.txt\t cal100.txt.save.2   minecraft\t Scratch Projects\n",
      "cal100.txt.save  Greenfoot Projects  nano.save\t Untitled.ipynb\n"
     ]
    }
   ],
   "source": [
    "!rm -r Graal\n",
    "!ls"
   ]
  },
  {
   "cell_type": "code",
   "execution_count": 59,
   "metadata": {},
   "outputs": [
    {
     "name": "stdout",
     "output_type": "stream",
     "text": [
      "BlueJ Projects\t cal100.txt.save.1   knight.txt  oc-2017\r\n",
      "cal100.txt\t cal100.txt.save.2   minecraft\t Scratch Projects\r\n",
      "cal100.txt.save  Greenfoot Projects  nano.save\t Untitled.ipynb\r\n"
     ]
    }
   ],
   "source": [
    "!ls"
   ]
  },
  {
   "cell_type": "markdown",
   "metadata": {},
   "source": [
    "**w3m** est une commande pour ouvrir une internet en texte"
   ]
  },
  {
   "cell_type": "code",
   "execution_count": 62,
   "metadata": {},
   "outputs": [
    {
     "name": "stdout",
     "output_type": "stream",
     "text": [
      "\u001b7\u001b[?47h\u001b[H\u001b[2J\u001b[24;1HOpening\u001b[Csocket...\u001b[1;1H\u001b[24;1Hgoogle.com contacted.\u001b[CWaiting\u001b[Cfor\u001b[Creply...\u001b[1;1H\u001b[24;31H\u001b[K\u001b[24;1HHTTP/1\u001b[C0 301 Moved Perm\u001b[Cnently\u001b[1;1H\u001b[24;18H\u001b[K\u001b[24;1HOpening socket...\u001b[1;1H\u001b[24;1Hwww.google.com contacted.\u001b[CWaiting\u001b[Cfor\u001b[Creply...\u001b[1;1H\u001b[24;16H\u001b[K\u001b[24;1HHTTP/1.0 200 OK\u001b[1;1H\u001b[24;1H\u001b[K3.35/4.81kb  70%\u001b[24;43H\u001b[7m |||||||||||||||||||||||||\u001b[m\u001b[24;69H\u001b[1;1H\u001b[1mSuche\u001b[m\u001b[C\u001b[34mBilder\u001b[m\u001b[m\u001b[C\u001b[34mMaps\u001b[m\u001b[m\u001b[C\u001b[34mPlay\u001b[m\u001b[m\u001b[C\u001b[34mYouTube\u001b[m\u001b[m\u001b[C\u001b[34mNews\u001b[m\u001b[m\u001b[C\u001b[34mGmail\u001b[m\u001b[m\u001b[C\u001b[34mDrive\u001b[m\u001b[m\u001b[C\u001b[4m\u001b[34mMehr\u001b[m\u001b[m\u001b[34m »\u001b[m\u001b[m\n",
      "\u001b[34mWebprotokoll\u001b[m\u001b[m\u001b[C|\u001b[C\u001b[34mEinstellungen\u001b[m\u001b[m\u001b[C|\u001b[C\u001b[34mAnmelden\u001b[m\u001b[m\u001b[4;30H\u001b[32m                    \u001b[m\u001b[m\u001b[5;30H\u001b[32m                    \u001b[m\u001b[m\u001b[6;30H\u001b[32mGoogle              \u001b[m\u001b[m\u001b[8;12H[\u001b[4m\u001b[31m                                                         \u001b[m\u001b[m]\u001b[C\u001b[34mErweitert\u001b[m\u001b[m\u001b[9;72H\u001b[34mSprachopt\u001b[m\u001b[m\u001b[10;26H\u001b[31m[Google-Suche][Auf gut Glück!]\u001b[m\u001b[m\u001b[12;12HGoogle\u001b[Cangeboten\u001b[Cin:\u001b[C\u001b[34mEnglish\u001b[m\u001b[m\u001b[C\u001b[34mFrançais\u001b[m\u001b[m\u001b[C\u001b[34mItaliano\u001b[m\u001b[m\u001b[C\u001b[34mRumantsch\u001b[m\u001b[m\u001b[13;6H\u001b[34mWerben mit GoogleLösungen für Unternehmen+GoogleÜber GoogleGoogle.ch\u001b[m\u001b[m\u001b[15;15H©\u001b[C2018\u001b[C-\u001b[C\u001b[34mDatenschutzerklärung\u001b[m\u001b[m\u001b[C-\u001b[C\u001b[34mNutzungsbedingungen\u001b[m\u001b[m\u001b[24;1H\u001b[K\u001b[7m≪ ↑ ↓ Viewing <Google>\u001b[m\u001b[1;1H\u001b[?1001s\u001b[?1000h\u001b[?1000l\u001b[?1001r\u001b[?1001s\u001b[?1000h\u001b[?1006h\u001b[1;1H\u001b[1mS\u001b[m\u001b[1;1H\u001b[24;18H\u001b[K\u001b[24;1H1/1 images loaded\u001b[1;1H\u001b[24;1H\u001b[7m≪ ↑ ↓ Viewing <Google>\u001b[m\u001b[1;1H\u001b[1;1H\u001b[1mS\u001b[m\u001b[1;1H\u001b[?1006l\u001b[?1000l\u001b[?1001r\u001b[?1001s\u001b[?1000h\u001b[?1000l\u001b[?1001r\u001b[?1001s\u001b[?1000h\u001b[?1006h\u001b[?1006l\u001b[?1000l\u001b[?1001r\u001b[?1001s\u001b[?1000h\u001b[?1000l\u001b[?1001r\u001b[?1001s\u001b[?1000h\u001b[?1006h"
     ]
    }
   ],
   "source": [
    "#!w3m google.com\n",
    "#essayez et naviguez sur votre terminal"
   ]
  },
  {
   "cell_type": "markdown",
   "metadata": {},
   "source": [
    "Pour télécharger w3m, il faut l'installer ainsi"
   ]
  },
  {
   "cell_type": "code",
   "execution_count": null,
   "metadata": {},
   "outputs": [],
   "source": [
    "!sudo apt-get upgrade\n",
    "!sudo apt-get install w3m w3m-img"
   ]
  },
  {
   "cell_type": "markdown",
   "metadata": {},
   "source": [
    "**write** est une commande qui permet de parler avec la personne choisit"
   ]
  },
  {
   "cell_type": "code",
   "execution_count": 63,
   "metadata": {},
   "outputs": [
    {
     "name": "stdout",
     "output_type": "stream",
     "text": [
      "^C\r\n"
     ]
    }
   ],
   "source": [
    "!sudo write pi"
   ]
  },
  {
   "cell_type": "markdown",
   "metadata": {},
   "source": [
    "**su** est une commande qui permet de devenir le super user "
   ]
  },
  {
   "cell_type": "code",
   "execution_count": null,
   "metadata": {},
   "outputs": [],
   "source": [
    "!sudo su"
   ]
  },
  {
   "cell_type": "markdown",
   "metadata": {},
   "source": [
    "**man** est une particule à ajouter avant la commande que nous souhaitons comprendre"
   ]
  },
  {
   "cell_type": "code",
   "execution_count": 64,
   "metadata": {},
   "outputs": [
    {
     "name": "stdout",
     "output_type": "stream",
     "text": [
      "LS(1)                            User Commands                           LS(1)\r\n",
      "\r\n",
      "N\bNA\bAM\bME\bE\r\n",
      "       ls - list directory contents\r\n",
      "\r\n",
      "S\bSY\bYN\bNO\bOP\bPS\bSI\bIS\bS\r\n",
      "       l\bls\bs [_\bO_\bP_\bT_\bI_\bO_\bN]... [_\bF_\bI_\bL_\bE]...\r\n",
      "\r\n",
      "D\bDE\bES\bSC\bCR\bRI\bIP\bPT\bTI\bIO\bON\bN\r\n",
      "       List  information  about  the FILEs (the current directory by default).\r\n",
      "       Sort entries alphabetically if none of -\b-c\bcf\bft\btu\buv\bvS\bSU\bUX\bX nor -\b--\b-s\bso\bor\brt\bt  is  speci‐\r\n",
      "       fied.\r\n",
      "\r\n",
      "       Mandatory  arguments  to  long  options are mandatory for short options\r\n",
      "       too.\r\n",
      "\r\n",
      "       -\b-a\ba, -\b--\b-a\bal\bll\bl\r\n",
      "              do not ignore entries starting with .\r\n",
      "\r\n",
      "       -\b-A\bA, -\b--\b-a\bal\blm\bmo\bos\bst\bt-\b-a\bal\bll\bl\r\n",
      "              do not list implied . and ..\r\n",
      "\r\n",
      "       -\b--\b-a\bau\but\bth\bho\bor\br\r\n",
      "              with -\b-l\bl, print the author of each file\r\n",
      "\r\n",
      "       -\b-b\bb, -\b--\b-e\bes\bsc\bca\bap\bpe\be\r\n",
      "              print C-style escapes for nongraphic characters\r\n",
      "\r\n",
      "       -\b--\b-b\bbl\blo\boc\bck\bk-\b-s\bsi\biz\bze\be=_\bS_\bI_\bZ_\bE\r\n",
      "              scale sizes by SIZE before printing them; e.g., '--block-size=M'\r\n",
      "              prints sizes in units of 1,048,576 bytes; see SIZE format below\r\n",
      "\r\n",
      "       -\b-B\bB, -\b--\b-i\big\bgn\bno\bor\bre\be-\b-b\bba\bac\bck\bku\bup\bps\bs\r\n",
      "              do not list implied entries ending with ~\r\n",
      "\r\n",
      "       -\b-c\bc     with -\b-l\blt\bt: sort by, and show, ctime (time of last modification of\r\n",
      "              file status information); with -\b-l\bl: show ctime and sort by  name;\r\n",
      "              otherwise: sort by ctime, newest first\r\n",
      "\r\n",
      "       -\b-C\bC     list entries by columns\r\n",
      "\r\n",
      "       -\b--\b-c\bco\bol\blo\bor\br[=_\bW_\bH_\bE_\bN]\r\n",
      "              colorize  the  output;  WHEN can be 'never', 'auto', or 'always'\r\n",
      "              (the default); more info below\r\n",
      "\r\n",
      "       -\b-d\bd, -\b--\b-d\bdi\bir\bre\bec\bct\bto\bor\bry\by\r\n",
      "              list directories themselves, not their contents\r\n",
      "\r\n",
      "       -\b-D\bD, -\b--\b-d\bdi\bir\bre\bed\bd\r\n",
      "              generate output designed for Emacs' dired mode\r\n",
      "\r\n",
      "       -\b-f\bf     do not sort, enable -\b-a\baU\bU, disable -\b-l\bls\bs -\b--\b-c\bco\bol\blo\bor\br\r\n",
      "\r\n",
      "       -\b-F\bF, -\b--\b-c\bcl\bla\bas\bss\bsi\bif\bfy\by\r\n",
      "              append indicator (one of */=>@|) to entries\r\n",
      "\r\n",
      "       -\b--\b-f\bfi\bil\ble\be-\b-t\bty\byp\bpe\be\r\n",
      "              likewise, except do not append '*'\r\n",
      "\r\n",
      "       -\b--\b-f\bfo\bor\brm\bma\bat\bt=_\bW_\bO_\bR_\bD\r\n",
      "              across -\b-x\bx, commas -\b-m\bm, horizontal -\b-x\bx, long -\b-l\bl, single-column  -\b-1\b1,\r\n",
      "              verbose -\b-l\bl, vertical -\b-C\bC\r\n",
      "\r\n",
      "       -\b--\b-f\bfu\bul\bll\bl-\b-t\bti\bim\bme\be\r\n",
      "              like -\b-l\bl -\b--\b-t\bti\bim\bme\be-\b-s\bst\bty\byl\ble\be=_\bf_\bu_\bl_\bl_\b-_\bi_\bs_\bo\r\n",
      "\r\n",
      "       -\b-g\bg     like -\b-l\bl, but do not list owner\r\n",
      "\r\n",
      "       -\b--\b-g\bgr\bro\bou\bup\bp-\b-d\bdi\bir\bre\bec\bct\bto\bor\bri\bie\bes\bs-\b-f\bfi\bir\brs\bst\bt\r\n",
      "              group directories before files;\r\n",
      "\r\n",
      "              can   be  augmented  with  a  -\b--\b-s\bso\bor\brt\bt  option,  but  any  use  of\r\n",
      "              -\b--\b-s\bso\bor\brt\bt=_\bn_\bo_\bn_\be (-\b-U\bU) disables grouping\r\n",
      "\r\n",
      "       -\b-G\bG, -\b--\b-n\bno\bo-\b-g\bgr\bro\bou\bup\bp\r\n",
      "              in a long listing, don't print group names\r\n",
      "\r\n",
      "       -\b-h\bh, -\b--\b-h\bhu\bum\bma\ban\bn-\b-r\bre\bea\bad\bda\bab\bbl\ble\be\r\n",
      "              with -\b-l\bl and/or -\b-s\bs, print human readable sizes (e.g., 1K 234M 2G)\r\n",
      "\r\n",
      "       -\b--\b-s\bsi\bi   likewise, but use powers of 1000 not 1024\r\n",
      "\r\n",
      "       -\b-H\bH, -\b--\b-d\bde\ber\bre\bef\bfe\ber\bre\ben\bnc\bce\be-\b-c\bco\bom\bmm\bma\ban\bnd\bd-\b-l\bli\bin\bne\be\r\n",
      "              follow symbolic links listed on the command line\r\n",
      "\r\n",
      "       -\b--\b-d\bde\ber\bre\bef\bfe\ber\bre\ben\bnc\bce\be-\b-c\bco\bom\bmm\bma\ban\bnd\bd-\b-l\bli\bin\bne\be-\b-s\bsy\bym\bml\bli\bin\bnk\bk-\b-t\bto\bo-\b-d\bdi\bir\br\r\n",
      "              follow each command line symbolic link\r\n",
      "\r\n",
      "              that points to a directory\r\n",
      "\r\n",
      "       -\b--\b-h\bhi\bid\bde\be=_\bP_\bA_\bT_\bT_\bE_\bR_\bN\r\n",
      "              do not list implied entries matching shell  PATTERN  (overridden\r\n",
      "              by -\b-a\ba or -\b-A\bA)\r\n",
      "\r\n",
      "       -\b--\b-i\bin\bnd\bdi\bic\bca\bat\bto\bor\br-\b-s\bst\bty\byl\ble\be=_\bW_\bO_\bR_\bD\r\n",
      "              append indicator with style WORD to entry names: none (default),\r\n",
      "              slash (-\b-p\bp), file-type (-\b--\b-f\bfi\bil\ble\be-\b-t\bty\byp\bpe\be), classify (-\b-F\bF)\r\n",
      "\r\n",
      "       -\b-i\bi, -\b--\b-i\bin\bno\bod\bde\be\r\n",
      "              print the index number of each file\r\n",
      "\r\n",
      "       -\b-I\bI, -\b--\b-i\big\bgn\bno\bor\bre\be=_\bP_\bA_\bT_\bT_\bE_\bR_\bN\r\n",
      "              do not list implied entries matching shell PATTERN\r\n",
      "\r\n",
      "       -\b-k\bk, -\b--\b-k\bki\bib\bbi\bib\bby\byt\bte\bes\bs\r\n",
      "              default to 1024-byte blocks for disk usage\r\n",
      "\r\n",
      "       -\b-l\bl     use a long listing format\r\n",
      "\r\n",
      "       -\b-L\bL, -\b--\b-d\bde\ber\bre\bef\bfe\ber\bre\ben\bnc\bce\be\r\n",
      "              when showing file information for a symbolic link, show informa‐\r\n",
      "              tion  for  the file the link references rather than for the link\r\n",
      "              itself\r\n",
      "\r\n",
      "       -\b-m\bm     fill width with a comma separated list of entries\r\n",
      "\r\n",
      "       -\b-n\bn, -\b--\b-n\bnu\bum\bme\ber\bri\bic\bc-\b-u\bui\bid\bd-\b-g\bgi\bid\bd\r\n",
      "              like -\b-l\bl, but list numeric user and group IDs\r\n",
      "\r\n",
      "       -\b-N\bN, -\b--\b-l\bli\bit\bte\ber\bra\bal\bl\r\n",
      "              print raw entry names (don't treat e.g. control characters  spe‐\r\n",
      "              cially)\r\n",
      "\r\n",
      "       -\b-o\bo     like -\b-l\bl, but do not list group information\r\n",
      "\r\n",
      "       -\b-p\bp, -\b--\b-i\bin\bnd\bdi\bic\bca\bat\bto\bor\br-\b-s\bst\bty\byl\ble\be=_\bs_\bl_\ba_\bs_\bh\r\n",
      "              append / indicator to directories\r\n",
      "\r\n",
      "       -\b-q\bq, -\b--\b-h\bhi\bid\bde\be-\b-c\bco\bon\bnt\btr\bro\bol\bl-\b-c\bch\bha\bar\brs\bs\r\n",
      "              print ? instead of nongraphic characters\r\n",
      "\r\n",
      "       -\b--\b-s\bsh\bho\bow\bw-\b-c\bco\bon\bnt\btr\bro\bol\bl-\b-c\bch\bha\bar\brs\bs\r\n",
      "              show nongraphic characters as-is (the default, unless program is\r\n",
      "              'ls' and output is a terminal)\r\n",
      "\r\n",
      "       -\b-Q\bQ, -\b--\b-q\bqu\buo\bot\bte\be-\b-n\bna\bam\bme\be\r\n",
      "              enclose entry names in double quotes\r\n",
      "\r\n",
      "       -\b--\b-q\bqu\buo\bot\bti\bin\bng\bg-\b-s\bst\bty\byl\ble\be=_\bW_\bO_\bR_\bD\r\n",
      "              use quoting style WORD for entry names: literal, locale,  shell,\r\n",
      "              shell-always, c, escape\r\n",
      "\r\n",
      "       -\b-r\br, -\b--\b-r\bre\bev\bve\ber\brs\bse\be\r\n",
      "              reverse order while sorting\r\n",
      "\r\n",
      "       -\b-R\bR, -\b--\b-r\bre\bec\bcu\bur\brs\bsi\biv\bve\be\r\n",
      "              list subdirectories recursively\r\n",
      "\r\n",
      "       -\b-s\bs, -\b--\b-s\bsi\biz\bze\be\r\n",
      "              print the allocated size of each file, in blocks\r\n",
      "\r\n",
      "       -\b-S\bS     sort by file size\r\n",
      "\r\n",
      "       -\b--\b-s\bso\bor\brt\bt=_\bW_\bO_\bR_\bD\r\n",
      "              sort  by  WORD instead of name: none (-\b-U\bU), size (-\b-S\bS), time (-\b-t\bt),\r\n",
      "              version (-\b-v\bv), extension (-\b-X\bX)\r\n",
      "\r\n",
      "       -\b--\b-t\bti\bim\bme\be=_\bW_\bO_\bR_\bD\r\n",
      "              with -\b-l\bl, show time as WORD instead of default modification time:\r\n",
      "              atime or access or use (-\b-u\bu) ctime or status (-\b-c\bc); also use spec‐\r\n",
      "              ified time as sort key if -\b--\b-s\bso\bor\brt\bt=_\bt_\bi_\bm_\be\r\n",
      "\r\n",
      "       -\b--\b-t\bti\bim\bme\be-\b-s\bst\bty\byl\ble\be=_\bS_\bT_\bY_\bL_\bE\r\n",
      "              with -\b-l\bl, show times using style STYLE: full-iso, long-iso,  iso,\r\n",
      "              locale,  or  +FORMAT;  FORMAT  is interpreted like in 'date'; if\r\n",
      "              FORMAT  is  FORMAT1<newline>FORMAT2,  then  FORMAT1  applies  to\r\n",
      "              non-recent  files  and FORMAT2 to recent files; if STYLE is pre‐\r\n",
      "              fixed with 'posix-', STYLE takes effect only outside  the  POSIX\r\n",
      "              locale\r\n",
      "\r\n",
      "       -\b-t\bt     sort by modification time, newest first\r\n",
      "\r\n",
      "       -\b-T\bT, -\b--\b-t\bta\bab\bbs\bsi\biz\bze\be=_\bC_\bO_\bL_\bS\r\n",
      "              assume tab stops at each COLS instead of 8\r\n",
      "\r\n",
      "       -\b-u\bu     with  -\b-l\blt\bt:  sort by, and show, access time; with -\b-l\bl: show access\r\n",
      "              time and sort by name; otherwise: sort by access time\r\n",
      "\r\n",
      "       -\b-U\bU     do not sort; list entries in directory order\r\n",
      "\r\n",
      "       -\b-v\bv     natural sort of (version) numbers within text\r\n",
      "\r\n",
      "       -\b-w\bw, -\b--\b-w\bwi\bid\bdt\bth\bh=_\bC_\bO_\bL_\bS\r\n",
      "              assume screen width instead of current value\r\n",
      "\r\n",
      "       -\b-x\bx     list entries by lines instead of by columns\r\n",
      "\r\n",
      "       -\b-X\bX     sort alphabetically by entry extension\r\n",
      "\r\n",
      "       -\b-Z\bZ, -\b--\b-c\bco\bon\bnt\bte\bex\bxt\bt\r\n",
      "              print any security context of each file\r\n",
      "\r\n",
      "       -\b-1\b1     list one file per line\r\n",
      "\r\n",
      "       -\b--\b-h\bhe\bel\blp\bp display this help and exit\r\n",
      "\r\n",
      "       -\b--\b-v\bve\ber\brs\bsi\bio\bon\bn\r\n",
      "              output version information and exit\r\n",
      "\r\n",
      "       The SIZE argument is an integer and  optional  unit  (example:  10K  is\r\n",
      "       10*1024).   Units  are  K,M,G,T,P,E,Z,Y  (powers  of 1024) or KB,MB,...\r\n",
      "       (powers of 1000).\r\n",
      "\r\n",
      "       Using color to distinguish file types is disabled both by  default  and\r\n",
      "       with  -\b--\b-c\bco\bol\blo\bor\br=_\bn_\be_\bv_\be_\br.  With -\b--\b-c\bco\bol\blo\bor\br=_\ba_\bu_\bt_\bo, ls emits color codes only when\r\n",
      "       standard output is connected to a terminal.  The LS_COLORS  environment\r\n",
      "       variable can change the settings.  Use the dircolors command to set it.\r\n",
      "\r\n",
      "   E\bEx\bxi\bit\bt s\bst\bta\bat\btu\bus\bs:\b:\r\n",
      "       0      if OK,\r\n",
      "\r\n",
      "       1      if minor problems (e.g., cannot access subdirectory),\r\n",
      "\r\n",
      "       2      if serious trouble (e.g., cannot access command-line argument).\r\n",
      "\r\n",
      "A\bAU\bUT\bTH\bHO\bOR\bR\r\n",
      "       Written by Richard M. Stallman and David MacKenzie.\r\n",
      "\r\n",
      "R\bRE\bEP\bPO\bOR\bRT\bTI\bIN\bNG\bG B\bBU\bUG\bGS\bS\r\n",
      "       GNU coreutils online help: <http://www.gnu.org/software/coreutils/>\r\n",
      "       Report ls translation bugs to <http://translationproject.org/team/>\r\n",
      "\r\n",
      "C\bCO\bOP\bPY\bYR\bRI\bIG\bGH\bHT\bT\r\n",
      "       Copyright  ©  2014  Free Software Foundation, Inc.  License GPLv3+: GNU\r\n",
      "       GPL version 3 or later <http://gnu.org/licenses/gpl.html>.\r\n",
      "       This is free software: you are free  to  change  and  redistribute  it.\r\n",
      "       There is NO WARRANTY, to the extent permitted by law.\r\n",
      "\r\n",
      "S\bSE\bEE\bE A\bAL\bLS\bSO\bO\r\n",
      "       Full documentation at: <http://www.gnu.org/software/coreutils/ls>\r\n",
      "       or available locally via: info '(coreutils) ls invocation'\r\n",
      "\r\n",
      "GNU coreutils 8.23                March 2015                             LS(1)\r\n"
     ]
    }
   ],
   "source": [
    "!man cd"
   ]
  }
 ],
 "metadata": {
  "kernelspec": {
   "display_name": "Python 3",
   "language": "python",
   "name": "python3"
  },
  "language_info": {
   "codemirror_mode": {
    "name": "ipython",
    "version": 2
   },
   "file_extension": ".py",
   "mimetype": "text/x-python",
   "name": "python",
   "nbconvert_exporter": "python",
   "pygments_lexer": "ipython2",
   "version": "2.7.9"
  }
 },
 "nbformat": 4,
 "nbformat_minor": 2
}
