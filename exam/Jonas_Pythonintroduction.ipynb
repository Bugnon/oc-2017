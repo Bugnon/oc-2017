{
 "cells": [
  {
   "cell_type": "markdown",
   "metadata": {},
   "source": [
    "# Introduction au language Python"
   ]
  },
  {
   "cell_type": "markdown",
   "metadata": {},
   "source": [
    "Jonas Grütter, Gymnase du Bugnon, le 27.05.18"
   ]
  },
  {
   "cell_type": "markdown",
   "metadata": {},
   "source": [
    "Sources: \n",
    "* [Pensez en Python](https://allen-downey.developpez.com/livres/python/pensez-python/) par Allen B. Downey, \n",
    "* The official home of the Python Programming Language (https://www.python.org/), \n",
    "* <a href='https://fr.wikipedia.org/wiki/Python_(langage)'>Python</a> sur Wikipedia\n",
    "\n",
    "Sources images:\n",
    "* Guido Van Rossum: Twitter (https://twitter.com/gvanrossum/)\n",
    "* Thonny: Printscreen \n",
    "* Mots-clès de Python: [Pensez en Python](https://allen-downey.developpez.com/livres/python/pensez-python/)\n",
    "* Instructions conditionnelles: quantrimang (https://quantrimang.com/lenh-if-ifelse-trong-python-141111)"
   ]
  },
  {
   "cell_type": "markdown",
   "metadata": {},
   "source": [
    "## Historique"
   ]
  },
  {
   "cell_type": "markdown",
   "metadata": {},
   "source": [
    "**Python** est un langage de programmation orienté objet créé en 1990 par le programmeur néerlandais **Guido Van Rossum**. Etant fan de la série télévisée **Monthy Python's Flying Circus**, il décide de nommer son langage Python. Il est possible de percevoir beaucoup d'allusions à cette série dans les livres d'apprentissages de ce langage (Pensez Python par Allen Downey par exemple).\n",
    "\n",
    "![guido](https://raw.githubusercontent.com/Bugnon/oc-2017/master/exam/img_jonas/guido.jpg)\n",
    "\n",
    "Le langage Python a été écrit dans le but d'être **simple à utiliser**. En effet, c'est un langage très facilement **lisible** et **abordable** qui fonctionne de manière très **logique**. Il y a par exemple bien moins de règles synthaxiques que dans d'autres langages moins abordables tels que le C, le Perl ou le Pascal. \n",
    "\n",
    "Python est un **langage interprété** et non compilé. C'est à dire que chaque ligne du code source est analysée une par une et exécutée ensuite par un interpréteur. Les langages interprétés sont très intêressant grâce à leur facilité de mise en oeuvre et à la portabilité des programmes (il est possible de les lancer sur chaque plateforme ou fonctionne l'interpréteur).\n",
    "\n",
    "Dans un langage compilé, le code écrit est compilé par un compilateur en code binaire facilement lisible par un ordinateur mais \"illisible\" par l'humain. Ensuite, le système d'exploitation lui-même va utilise le code binaire et les données d'entrée pour calculer les donnéees de sortie. Comme le langage compilé est directement exécuté sur l'ordinateur et qu'il n'a pas besoin d'interpréteur, il sera génerallement plus rapide qu'un langage interprété(pour le même programme).\n",
    "Ces deux types de langages présentent donc chacun des avantages et des inconvénients.\n",
    "\n",
    "Par sa **performance** et sa **facilité d'accès**, Python a vite gagné en popularité et est devenu le **4ème langage informatique le plus utilisé** en Mai 2018 selon le TIOBE Index (Source : [TIOBE Index](https://www.tiobe.com/tiobe-index/)). \n",
    "Ce langage est d'ailleurs fort recommandé pour faire ses **premiers pas en programmation** en raison de sa **facilité** et de son **utilité** dans la vie professionelle."
   ]
  },
  {
   "cell_type": "markdown",
   "metadata": {},
   "source": [
    "## Execution de commandes dans la console"
   ]
  },
  {
   "cell_type": "markdown",
   "metadata": {},
   "source": [
    "Quand Python est lancé dans un terminal Linux une invite >>> (**prompt** en anglais) est affiché sur l'écran. On peut y entrer une expression et avoir une réponse immédiate. Ici, dans ce notebook Jupyter, les entrées ne sont pas désignées par un prompt (>>>), mais par `In [i]`. La cellule qui contient la sortie s'appelle  `Out[i]`. Les cellulles correspondent donc à la console. Voici un exemple d'une simple addition:"
   ]
  },
  {
   "cell_type": "code",
   "execution_count": 1,
   "metadata": {},
   "outputs": [
    {
     "data": {
      "text/plain": [
       "2"
      ]
     },
     "execution_count": 1,
     "metadata": {},
     "output_type": "execute_result"
    }
   ],
   "source": [
    "1+1"
   ]
  },
  {
   "cell_type": "markdown",
   "metadata": {},
   "source": [
    "Ou encore le programme classique d'afficher 'hello world':"
   ]
  },
  {
   "cell_type": "code",
   "execution_count": 2,
   "metadata": {},
   "outputs": [
    {
     "name": "stdout",
     "output_type": "stream",
     "text": [
      "hello world\n"
     ]
    }
   ],
   "source": [
    "print('hello world')"
   ]
  },
  {
   "cell_type": "markdown",
   "metadata": {},
   "source": [
    "## Execution d'un script"
   ]
  },
  {
   "cell_type": "markdown",
   "metadata": {},
   "source": [
    "Python est un langage qui est particulièrement utilisé comme **langage de script**. C'est à dire que les gens l'utilisent de façon à exécuter des ordres prédéfinis sauvegardés dans un fichier. \n",
    "Il est donc possible d'utiliser Python comme langage de script en écrivant dans le script une liste d'ordre prédéfini(=un programme) et de laisser l'interpréteur interpréter le code. Il faut donc lancer le programme pour obtenir le résultat du code.\n",
    "Ces deux modes (consol et script) sont très facilement discernables dans l'interpéteur Thonny:\n",
    "\n",
    "![interptéteur](https://raw.githubusercontent.com/Bugnon/oc-2017/master/exam/img_jonas/Capture_thonny2.PNG)\n",
    "\n",
    "Dans Thonny, nous pouvons distinguer 3 régions.\n",
    "* L'__éditeur de script__ (en haut) dans lequel on écrit le code qui va être éxécuté lorsque le programme est lancé en appuyant sur le bouton d'execution (bouton vert).\n",
    "* La __fenêtre de console__ (en bas) ou les instructions sont éxécutées directements.\n",
    "* La __fenêtre des variables__ (à droite) ou les variables sont affichés."
   ]
  },
  {
   "cell_type": "markdown",
   "metadata": {},
   "source": [
    "## Chaque valeur a un type"
   ]
  },
  {
   "cell_type": "markdown",
   "metadata": {},
   "source": [
    "Une valeur est une untité d'information de base. Par exemple:\n",
    " * nombre entier (123)\n",
    " * nombre à virgule (1.23)\n",
    " * chaîne de caractères ('123')\n",
    " * valeur logique (True)\n",
    "\n",
    "Pour vérifier à quel type appartient votre valeur, il est possible d'utiliser la fonction prédéfinie nommée `type()`, qui renvoie le type de la valeur."
   ]
  },
  {
   "cell_type": "markdown",
   "metadata": {},
   "source": [
    "Les **entiers** (en anglais integers) appartiennent au type **int**."
   ]
  },
  {
   "cell_type": "code",
   "execution_count": 10,
   "metadata": {},
   "outputs": [
    {
     "data": {
      "text/plain": [
       "int"
      ]
     },
     "execution_count": 10,
     "metadata": {},
     "output_type": "execute_result"
    }
   ],
   "source": [
    "type(123)"
   ]
  },
  {
   "cell_type": "markdown",
   "metadata": {},
   "source": [
    "Les **nombres à virgule flottante** (en anglais floating-point numbers) appartiennent au type **float**."
   ]
  },
  {
   "cell_type": "code",
   "execution_count": 3,
   "metadata": {},
   "outputs": [
    {
     "data": {
      "text/plain": [
       "float"
      ]
     },
     "execution_count": 3,
     "metadata": {},
     "output_type": "execute_result"
    }
   ],
   "source": [
    "type(1.23)"
   ]
  },
  {
   "cell_type": "markdown",
   "metadata": {},
   "source": [
    "Les **chaînes de caractères** (en anglais strings) appartiennent au type **str**."
   ]
  },
  {
   "cell_type": "code",
   "execution_count": 14,
   "metadata": {},
   "outputs": [
    {
     "data": {
      "text/plain": [
       "str"
      ]
     },
     "execution_count": 14,
     "metadata": {},
     "output_type": "execute_result"
    }
   ],
   "source": [
    "type('spam and eggs')"
   ]
  },
  {
   "cell_type": "markdown",
   "metadata": {},
   "source": [
    "**Attention!** Des chiffres entre guillemets comme '42' sont du type str et non int. Même chose pour des nombres à virgule flottante entre guillemets. "
   ]
  },
  {
   "cell_type": "code",
   "execution_count": 1,
   "metadata": {},
   "outputs": [
    {
     "data": {
      "text/plain": [
       "(str, str)"
      ]
     },
     "execution_count": 1,
     "metadata": {},
     "output_type": "execute_result"
    }
   ],
   "source": [
    "type('42'), type('42.0')"
   ]
  },
  {
   "cell_type": "markdown",
   "metadata": {},
   "source": [
    "Comme nous le verrons plus tard, les **valeurs logiques** (True, False) appartiennent au type **bool**. "
   ]
  },
  {
   "cell_type": "code",
   "execution_count": 3,
   "metadata": {},
   "outputs": [
    {
     "data": {
      "text/plain": [
       "bool"
      ]
     },
     "execution_count": 3,
     "metadata": {},
     "output_type": "execute_result"
    }
   ],
   "source": [
    "type(True)"
   ]
  },
  {
   "cell_type": "markdown",
   "metadata": {},
   "source": [
    "## Une variable peut stocker une valeur"
   ]
  },
  {
   "cell_type": "markdown",
   "metadata": {},
   "source": [
    "Une variable est **une place dans la mémoire de l'ordinateur pour stocker une valeur**. Une des fonctionnalités les plus importantes d'un langage informatique est de pouvoir mémoriser et manipuler des valeurs. Une variable est un **nom qui fait référance à une valeur**.\n",
    " \n",
    "Pour pouvoir créer une nouvelle variable, il faut utiliser l'**instruction d'affectaion** qui est le signe `=` et qui a la forme `var = valeur`. Voici la défintion de 4 variables:"
   ]
  },
  {
   "cell_type": "code",
   "execution_count": 7,
   "metadata": {},
   "outputs": [
    {
     "name": "stdout",
     "output_type": "stream",
     "text": [
      "123 1.23 123 True\n"
     ]
    }
   ],
   "source": [
    "a = 123\n",
    "b = 1.23\n",
    "c = '123'\n",
    "d = True\n",
    "print(a, b, c, d)"
   ]
  },
  {
   "cell_type": "markdown",
   "metadata": {},
   "source": [
    "Ici, nous affectons une **chaine de caractères** à la variable `meal`. Il est important de voir que lorsque nous imprimons cette variable, c'est la chaine de caractères affectée qui est imprimée.\n",
    "La première ligne est une instruction d'affectation qui donne un valeur à `meal` et la deuxième ligne est uine instruction print qui affiche la valeur de `meal`."
   ]
  },
  {
   "cell_type": "code",
   "execution_count": 22,
   "metadata": {},
   "outputs": [
    {
     "name": "stdout",
     "output_type": "stream",
     "text": [
      "spam and saussage\n"
     ]
    }
   ],
   "source": [
    "meal = 'spam and saussage'\n",
    "print(meal)"
   ]
  },
  {
   "cell_type": "markdown",
   "metadata": {},
   "source": [
    "**Attention** à ne pas mettre la variable entre guillemets lors de son utilisation, car cela impliquerait que c'est une chaine de caractéres et donc une nouvelle valeur du type str."
   ]
  },
  {
   "cell_type": "code",
   "execution_count": 1,
   "metadata": {},
   "outputs": [
    {
     "name": "stdout",
     "output_type": "stream",
     "text": [
      "meal <class 'str'>\n"
     ]
    }
   ],
   "source": [
    "meal = 'spam and saussage'\n",
    "print('meal', type(\"meal\"))"
   ]
  },
  {
   "cell_type": "markdown",
   "metadata": {},
   "source": [
    "Il est bien sûr aussi possible d'assigner des valeurs de **type int** et **float** à des variables."
   ]
  },
  {
   "cell_type": "code",
   "execution_count": 1,
   "metadata": {},
   "outputs": [
    {
     "name": "stdout",
     "output_type": "stream",
     "text": [
      "42 3.1415926\n"
     ]
    }
   ],
   "source": [
    "number = 42 \n",
    "pi = 3.1415926\n",
    "print(number, pi)"
   ]
  },
  {
   "cell_type": "markdown",
   "metadata": {},
   "source": [
    "### Noms de variables"
   ]
  },
  {
   "cell_type": "markdown",
   "metadata": {},
   "source": [
    "Pour pouvoir se retrouver facilement dans un programme, il est important de donner un **nom significatif** aux variables afin de pouvoir exprimer leur **utilité**. Les noms de variables peuvent être aussi long que l'on veut, ils peuvent contenir des chiffres et des lettres et des lettres majuscules. Il est par contre coutume d'utiliser des noms de variables **courts** et **sans majuscule** afin de se simplifier la vie.\n",
    "\n",
    "Il y a par contre certaines règles à adopter pour les noms de variable:"
   ]
  },
  {
   "cell_type": "markdown",
   "metadata": {},
   "source": [
    "Le nom d'une variable ne peut **pas commencer par un chiffre**."
   ]
  },
  {
   "cell_type": "code",
   "execution_count": 28,
   "metadata": {},
   "outputs": [
    {
     "ename": "SyntaxError",
     "evalue": "invalid token (<ipython-input-28-9b050cc100d0>, line 1)",
     "output_type": "error",
     "traceback": [
      "\u001b[0;36m  File \u001b[0;32m\"<ipython-input-28-9b050cc100d0>\"\u001b[0;36m, line \u001b[0;32m1\u001b[0m\n\u001b[0;31m    007agent = 'James Bond'\u001b[0m\n\u001b[0m      ^\u001b[0m\n\u001b[0;31mSyntaxError\u001b[0m\u001b[0;31m:\u001b[0m invalid token\n"
     ]
    }
   ],
   "source": [
    "007agent = 'James Bond'"
   ]
  },
  {
   "cell_type": "markdown",
   "metadata": {},
   "source": [
    "Certains **caractères** comme l'arobase ne sont **pas autorisés**"
   ]
  },
  {
   "cell_type": "code",
   "execution_count": 29,
   "metadata": {},
   "outputs": [
    {
     "ename": "SyntaxError",
     "evalue": "invalid syntax (<ipython-input-29-c2dfb8674d34>, line 1)",
     "output_type": "error",
     "traceback": [
      "\u001b[0;36m  File \u001b[0;32m\"<ipython-input-29-c2dfb8674d34>\"\u001b[0;36m, line \u001b[0;32m1\u001b[0m\n\u001b[0;31m    food@home = 'spam'\u001b[0m\n\u001b[0m        ^\u001b[0m\n\u001b[0;31mSyntaxError\u001b[0m\u001b[0;31m:\u001b[0m invalid syntax\n"
     ]
    }
   ],
   "source": [
    "food@home = 'spam'"
   ]
  },
  {
   "cell_type": "markdown",
   "metadata": {},
   "source": [
    "Une variable ne peut pas être nommée comme un des **mots-clés** de Python. L'interpréteur utilise certains mots pour reconnaître la structure du programme. Ces mots-clés sont les suivants:\n",
    "\n",
    "![mots-clés](https://raw.githubusercontent.com/Bugnon/oc-2017/master/exam/img_jonas/mots_clés.PNG)\n",
    "\n",
    "Pour pouvoir les **reconnaître** sans avoir besoin de les apprendre, ils s'affichent d'une **autre couleur** que le code standard."
   ]
  },
  {
   "cell_type": "code",
   "execution_count": 30,
   "metadata": {},
   "outputs": [
    {
     "ename": "SyntaxError",
     "evalue": "invalid syntax (<ipython-input-30-52d83cb458e6>, line 1)",
     "output_type": "error",
     "traceback": [
      "\u001b[0;36m  File \u001b[0;32m\"<ipython-input-30-52d83cb458e6>\"\u001b[0;36m, line \u001b[0;32m1\u001b[0m\n\u001b[0;31m    finally = 'We still eat spam'\u001b[0m\n\u001b[0m          ^\u001b[0m\n\u001b[0;31mSyntaxError\u001b[0m\u001b[0;31m:\u001b[0m invalid syntax\n"
     ]
    }
   ],
   "source": [
    "finally = 'We still eat spam'"
   ]
  },
  {
   "cell_type": "markdown",
   "metadata": {},
   "source": [
    "Pour donner un **nom composé à une variable**, il est d'usage d'utiliser le caractèrre de soulignement `_`."
   ]
  },
  {
   "cell_type": "code",
   "execution_count": 62,
   "metadata": {},
   "outputs": [],
   "source": [
    "dish_of_the_day = 'spam and tomato'"
   ]
  },
  {
   "cell_type": "markdown",
   "metadata": {},
   "source": [
    "## Expressions"
   ]
  },
  {
   "cell_type": "markdown",
   "metadata": {},
   "source": [
    "Une expression est une combinaison de valeurs, de variables, d'opérateurs et de fonctions qui est évaluée en suivant les règles de priorité et d'associativité du langage de programmation pour retourner une nouvelle valeur. (Source : [Expressions](https://fr.wikipedia.org/wiki/Expression_(informatique)) sur Wikipédia)"
   ]
  },
  {
   "cell_type": "markdown",
   "metadata": {},
   "source": [
    "### Opérateurs arithmétiques"
   ]
  },
  {
   "cell_type": "markdown",
   "metadata": {},
   "source": [
    "Il est nécessaire de parler des **opérateurs arithmétiques**. Python est un langage qui fournit des opérateurs arithmétiques **permettant de faire des calculs**. Ce sont des **symboles** spéciaux qui représentent des calculs."
   ]
  },
  {
   "cell_type": "markdown",
   "metadata": {},
   "source": [
    "L'opérateur `+` représente **l'addition**"
   ]
  },
  {
   "cell_type": "code",
   "execution_count": 35,
   "metadata": {},
   "outputs": [
    {
     "data": {
      "text/plain": [
       "84"
      ]
     },
     "execution_count": 35,
     "metadata": {},
     "output_type": "execute_result"
    }
   ],
   "source": [
    "42 + 42"
   ]
  },
  {
   "cell_type": "markdown",
   "metadata": {},
   "source": [
    "L'opérateur `-` représente la **soustraction**"
   ]
  },
  {
   "cell_type": "code",
   "execution_count": 59,
   "metadata": {},
   "outputs": [
    {
     "data": {
      "text/plain": [
       "42"
      ]
     },
     "execution_count": 59,
     "metadata": {},
     "output_type": "execute_result"
    }
   ],
   "source": [
    "50 - 8"
   ]
  },
  {
   "cell_type": "markdown",
   "metadata": {},
   "source": [
    "L'opérateur `*` représente la multiplication"
   ]
  },
  {
   "cell_type": "code",
   "execution_count": 37,
   "metadata": {},
   "outputs": [
    {
     "data": {
      "text/plain": [
       "42"
      ]
     },
     "execution_count": 37,
     "metadata": {},
     "output_type": "execute_result"
    }
   ],
   "source": [
    "21 * 2"
   ]
  },
  {
   "cell_type": "markdown",
   "metadata": {},
   "source": [
    "L'opérateur `/` représente la **division** et renvoie une valeur de **type float** afin d'exprimer le **chiffre à virgule**"
   ]
  },
  {
   "cell_type": "code",
   "execution_count": 14,
   "metadata": {},
   "outputs": [
    {
     "name": "stdout",
     "output_type": "stream",
     "text": [
      "14.333333333333334 <class 'float'>\n"
     ]
    }
   ],
   "source": [
    "x = 43 / 3\n",
    "print(x, type(x))"
   ]
  },
  {
   "cell_type": "markdown",
   "metadata": {},
   "source": [
    "L'opérateur `//` représente la **division entière**, le résultat sera de **type int**. Il est à noter que l'arrondie se fait toujours vers le bas."
   ]
  },
  {
   "cell_type": "code",
   "execution_count": 15,
   "metadata": {},
   "outputs": [
    {
     "name": "stdout",
     "output_type": "stream",
     "text": [
      "14 <class 'int'>\n"
     ]
    }
   ],
   "source": [
    "x = 43 // 3\n",
    "print(x, type(x))"
   ]
  },
  {
   "cell_type": "markdown",
   "metadata": {},
   "source": [
    "L'opérateur `**` représente l'**exponentiation**."
   ]
  },
  {
   "cell_type": "code",
   "execution_count": 61,
   "metadata": {},
   "outputs": [
    {
     "data": {
      "text/plain": [
       "8"
      ]
     },
     "execution_count": 61,
     "metadata": {},
     "output_type": "execute_result"
    }
   ],
   "source": [
    "2**3"
   ]
  },
  {
   "cell_type": "markdown",
   "metadata": {},
   "source": [
    "L'opérateur **%** représente **l'opérateur modulo**. Il effectue la **division** et renvoie le **reste**  "
   ]
  },
  {
   "cell_type": "code",
   "execution_count": 81,
   "metadata": {},
   "outputs": [
    {
     "data": {
      "text/plain": [
       "2"
      ]
     },
     "execution_count": 81,
     "metadata": {},
     "output_type": "execute_result"
    }
   ],
   "source": [
    "42 % 5"
   ]
  },
  {
   "cell_type": "markdown",
   "metadata": {},
   "source": [
    "Le langage de programmation Python **respecte les règles de priorité** dans les opérations."
   ]
  },
  {
   "cell_type": "code",
   "execution_count": 4,
   "metadata": {},
   "outputs": [
    {
     "data": {
      "text/plain": [
       "(8.0, 5.5)"
      ]
     },
     "execution_count": 4,
     "metadata": {},
     "output_type": "execute_result"
    }
   ],
   "source": [
    "5 + 6 / 2, (5+6)/2"
   ]
  },
  {
   "cell_type": "markdown",
   "metadata": {},
   "source": [
    "L'opérateur `+` dans le contexte d'une chaînes de caractères est définit comme la **concaténation**."
   ]
  },
  {
   "cell_type": "code",
   "execution_count": 41,
   "metadata": {},
   "outputs": [
    {
     "data": {
      "text/plain": [
       "'Monty Python'"
      ]
     },
     "execution_count": 41,
     "metadata": {},
     "output_type": "execute_result"
    }
   ],
   "source": [
    "\"Monty\" + \" \" + \"Python\""
   ]
  },
  {
   "cell_type": "markdown",
   "metadata": {},
   "source": [
    "L'opérateur `*` dans le contexte d'une chaînes de caractères est définit comme la **répétition**."
   ]
  },
  {
   "cell_type": "code",
   "execution_count": 44,
   "metadata": {},
   "outputs": [
    {
     "data": {
      "text/plain": [
       "'spamspamspamspamspamspamspamspamspamspam'"
      ]
     },
     "execution_count": 44,
     "metadata": {},
     "output_type": "execute_result"
    }
   ],
   "source": [
    "\"spam\" * 10"
   ]
  },
  {
   "cell_type": "markdown",
   "metadata": {},
   "source": [
    "### Expessions boléennes"
   ]
  },
  {
   "cell_type": "markdown",
   "metadata": {},
   "source": [
    "Une **expression boléenne** est une expression qui est soit **vraie**, soit **fausse**.\n",
    "Si l'expression est **vraie**, elle renvoie **True** (vrai). Si elle est **fausse**, elle renvoie **False** (faux). Les opérateurs utilisés ici sont dit **relationnels**."
   ]
  },
  {
   "cell_type": "markdown",
   "metadata": {},
   "source": [
    "L'opérateur **==** est **vrai** si les valeurs sont **égales**."
   ]
  },
  {
   "cell_type": "code",
   "execution_count": 2,
   "metadata": {},
   "outputs": [
    {
     "data": {
      "text/plain": [
       "(True, False)"
      ]
     },
     "execution_count": 2,
     "metadata": {},
     "output_type": "execute_result"
    }
   ],
   "source": [
    "42 == 42, \"spam\" == \"tasty meal\""
   ]
  },
  {
   "cell_type": "markdown",
   "metadata": {},
   "source": [
    "L'opérateur != est **vrai** si les valeurs ne sont **pas égales**."
   ]
  },
  {
   "cell_type": "code",
   "execution_count": 69,
   "metadata": {},
   "outputs": [
    {
     "data": {
      "text/plain": [
       "False"
      ]
     },
     "execution_count": 69,
     "metadata": {},
     "output_type": "execute_result"
    }
   ],
   "source": [
    "42 != 42"
   ]
  },
  {
   "cell_type": "markdown",
   "metadata": {},
   "source": [
    "L'opérateur < est **vrai** si la valeur de gauche est **strictement inférieur** à celle de droite. L'opérateur > test l'inverse."
   ]
  },
  {
   "cell_type": "code",
   "execution_count": 24,
   "metadata": {},
   "outputs": [
    {
     "data": {
      "text/plain": [
       "(True, False)"
      ]
     },
     "execution_count": 24,
     "metadata": {},
     "output_type": "execute_result"
    }
   ],
   "source": [
    "12 < 13,  12 > 13"
   ]
  },
  {
   "cell_type": "markdown",
   "metadata": {},
   "source": [
    "L'opérateur <= est **vrai** si la valeur de gauche est **inférieure ou égale** à celle de droite. L'opérateur >= test l'inverse."
   ]
  },
  {
   "cell_type": "code",
   "execution_count": 25,
   "metadata": {},
   "outputs": [
    {
     "data": {
      "text/plain": [
       "(True, False)"
      ]
     },
     "execution_count": 25,
     "metadata": {},
     "output_type": "execute_result"
    }
   ],
   "source": [
    "12 <= 12, 12 >= 13"
   ]
  },
  {
   "cell_type": "markdown",
   "metadata": {},
   "source": [
    "**True** et **False** sont des **valeurs** appartenant au **type bool**. Ce ne sont pas des chaînes de caractères."
   ]
  },
  {
   "cell_type": "code",
   "execution_count": 76,
   "metadata": {},
   "outputs": [
    {
     "data": {
      "text/plain": [
       "bool"
      ]
     },
     "execution_count": 76,
     "metadata": {},
     "output_type": "execute_result"
    }
   ],
   "source": [
    "type(True)"
   ]
  },
  {
   "cell_type": "markdown",
   "metadata": {},
   "source": [
    "### Opérateurs logiques"
   ]
  },
  {
   "cell_type": "markdown",
   "metadata": {},
   "source": [
    "Il y a 3 opérateurs logiques dans Python. Ces opérateurs sont `and`, `or` et `not`."
   ]
  },
  {
   "cell_type": "markdown",
   "metadata": {},
   "source": [
    "Le mot `and` se traduit par le mot **et** en français. Une expression contenant l'opérateur logique `and` ne sera vraie que si toutes les conditions sont vraies "
   ]
  },
  {
   "cell_type": "code",
   "execution_count": 5,
   "metadata": {},
   "outputs": [
    {
     "data": {
      "text/plain": [
       "(True, False)"
      ]
     },
     "execution_count": 5,
     "metadata": {},
     "output_type": "execute_result"
    }
   ],
   "source": [
    "12 < 42 and 20 < 42, 12 < 42 and 43 < 42"
   ]
  },
  {
   "cell_type": "markdown",
   "metadata": {},
   "source": [
    "L'opérateur `or` se traduit par le mot **ou**. Une expression contenant cet opérateur logique sera vraie si l'une des condition est vraie."
   ]
  },
  {
   "cell_type": "code",
   "execution_count": 88,
   "metadata": {},
   "outputs": [
    {
     "data": {
      "text/plain": [
       "True"
      ]
     },
     "execution_count": 88,
     "metadata": {},
     "output_type": "execute_result"
    }
   ],
   "source": [
    "12 == 13 or 12 < 13"
   ]
  },
  {
   "cell_type": "markdown",
   "metadata": {},
   "source": [
    "L'opérateur `not` se traduit par le mot **non**. C'est une opérateur qui nie une expression boléenne. Une expression contenant `?not` n'est vraie que si elle est fausse  lorsqu'elle ne contient pas le `not`."
   ]
  },
  {
   "cell_type": "code",
   "execution_count": 2,
   "metadata": {},
   "outputs": [
    {
     "data": {
      "text/plain": [
       "False"
      ]
     },
     "execution_count": 2,
     "metadata": {},
     "output_type": "execute_result"
    }
   ],
   "source": [
    "not 12 == 12"
   ]
  },
  {
   "cell_type": "markdown",
   "metadata": {},
   "source": [
    "### Application des expressions avec des variables"
   ]
  },
  {
   "cell_type": "markdown",
   "metadata": {},
   "source": [
    "Les expressions montrées précedemment  sont d'une très grande utilité lorsque l'on les utilise avec des variables. En effet, cela permet de gagner du temps."
   ]
  },
  {
   "cell_type": "markdown",
   "metadata": {},
   "source": [
    "Ici, pour le même calcul, il suffira juste de changer la valeur affectée à la variable pour pouvoir obtenir le résultat de ce même calcul avec un autre nombre."
   ]
  },
  {
   "cell_type": "code",
   "execution_count": 90,
   "metadata": {},
   "outputs": [
    {
     "name": "stdout",
     "output_type": "stream",
     "text": [
      "50.0\n"
     ]
    }
   ],
   "source": [
    "x = 10 \n",
    "calcul = x**2*50/100\n",
    "print(calcul)"
   ]
  },
  {
   "cell_type": "markdown",
   "metadata": {},
   "source": [
    "ou encore"
   ]
  },
  {
   "cell_type": "code",
   "execution_count": 102,
   "metadata": {},
   "outputs": [
    {
     "name": "stdout",
     "output_type": "stream",
     "text": [
      "2 heures 22 minutes\n"
     ]
    }
   ],
   "source": [
    "minutes = 142\n",
    "heures = minutes //  60 \n",
    "reste = minutes - heures * 60\n",
    "print(heures, \"heures\", reste, \"minutes\")"
   ]
  },
  {
   "cell_type": "markdown",
   "metadata": {},
   "source": [
    "## Structure de contrôle\n",
    "En programmation informatique, une structure de contrôle est une instruction particulière qui peut dévier le flot de contrôle du programme.\n",
    "\n",
    "Source : [Structure de contrôle](https://fr.wikipedia.org/wiki/Structure_de_contrôle) sur Wikipédia"
   ]
  },
  {
   "cell_type": "markdown",
   "metadata": {},
   "source": [
    "## Instruction conditionnelle\n",
    "Source : <a href='https://fr.wikipedia.org/wiki/Instruction_conditionnelle_(programmation)'> Instruction conditionnelle</a> sur Wikipédia"
   ]
  },
  {
   "cell_type": "markdown",
   "metadata": {},
   "source": [
    "Le **flux d'exécution** est **l'ordre dans lequel les instructions sont exécutées**. L'exécution commence toujours par la première instruction du programme et les autres instructions sont exécutées une par une dans l'ordre de haut en bas.\n",
    "\n",
    "Il est important de savoir qu'un **appel de fonction** est comme un **détour dans le flux d'exécution**. Au lieu de passer à l'instruction suivante, le flux se dirige dans le corps de la fonction dans laquelle il exécute les instructions. Après cela, il reprend son 'chemin' là ou il s'était interrompu plus tôt.\n",
    "\n",
    "Pour réussir à **mieux comprendre un programme**, il est souvent préférable de le **lire dans l'ordre de son flux d'exécution** et non dans l'ordre dans lequel il a été écrit.\n",
    "\n",
    "Il est important de savoir que lorsque l'on fait tourner un programme, **il n'y pas forcément toutes les instructions qui sont exécutées**. Certaines ne sont exécutées que **sous certaines conditions**. Il va donc y avoir dans le programme des **instructions conditionnelles** qui vont 'tester' la valeur. La direction que prendra le flux d'exécution dépend du résultat du test. Il faut donc vérifier des conditions et modifier le comportement du programme en conséquence.\n",
    "\n",
    "Nous allons voir ici 3 mots-clés pour contrôler le flux conditionnel: **if**, **else**, et **elif**."
   ]
  },
  {
   "cell_type": "markdown",
   "metadata": {},
   "source": [
    "### If, else, elif"
   ]
  },
  {
   "cell_type": "markdown",
   "metadata": {},
   "source": [
    "La **structure** des exécutions condititionelles sont dites **composées**. Cela veut dire qu'il y a un **en-tête**, suivi d'un **corps d'identité**. Il n'y pas de limite sur le nombre d'instruction pouvant apparaître dans le corps d'identité, mais il est obligatoire d'en mettre au moins une. Il est toutefois possible d'utiliser l'instruction `pass` qui dit qu'il ne faut rien faire.\n",
    "\n",
    "![mots-clés](https://raw.githubusercontent.com/Bugnon/oc-2017/master/exam/img_jonas/if-else-elif.jpg)\n",
    "\n",
    "Utilisez ce shéma pour comprendre les explications ci-dessous."
   ]
  },
  {
   "cell_type": "markdown",
   "metadata": {},
   "source": [
    "L'instruction `if` est la forme la plus **simple des instructions conditionnelles**. Le mot `if` est traduit par le mot *si* en français.\n",
    "\n",
    "Après l'instruction conditionelle, il faut placer une **expression boléenne** qui est appelée condition. Si elle est vraie, le flux d'exécution se dirigera de manière à exécuter l'instruction donnée après le if. Sinon, l'instruction corresponddant à l'altérnative `else` est exécutée."
   ]
  },
  {
   "cell_type": "code",
   "execution_count": 16,
   "metadata": {},
   "outputs": [
    {
     "name": "stdout",
     "output_type": "stream",
     "text": [
      "eggs\n"
     ]
    }
   ],
   "source": [
    "hungry = True\n",
    "if hungry:\n",
    "    print('eggs')\n",
    "else:\n",
    "    print('spam')"
   ]
  },
  {
   "cell_type": "markdown",
   "metadata": {},
   "source": [
    "Mais si la condition n'est pas vrai, l'instruction correspondant à l'alternative est executée."
   ]
  },
  {
   "cell_type": "code",
   "execution_count": 18,
   "metadata": {},
   "outputs": [
    {
     "name": "stdout",
     "output_type": "stream",
     "text": [
      "spam\n"
     ]
    }
   ],
   "source": [
    "hungry = False\n",
    "if hungry:\n",
    "    print('eggs')\n",
    "else:\n",
    "    print('spam')"
   ]
  },
  {
   "cell_type": "markdown",
   "metadata": {},
   "source": [
    "L'instruction `else` est l'**instruction alternative** du `if`. Le `else` peut être traduit en français par sinon. Cela veut dire que lorsqu'on place une instruction `if` et que l'expression boléenne qui la suit est fausse, alors le programme exécutera le corps d'identité suivant le `else`. "
   ]
  },
  {
   "cell_type": "markdown",
   "metadata": {},
   "source": [
    "Pour ètre plus clair, prenons un autre exemple: "
   ]
  },
  {
   "cell_type": "code",
   "execution_count": 6,
   "metadata": {},
   "outputs": [
    {
     "name": "stdout",
     "output_type": "stream",
     "text": [
      "x n'est pas divisble par trois\n"
     ]
    }
   ],
   "source": [
    "x = 4\n",
    "if x % 3 == 0:\n",
    "    print(\"x est divisible par trois\")\n",
    "else:\n",
    "    print(\"x n'est pas divisble par trois\")"
   ]
  },
  {
   "cell_type": "markdown",
   "metadata": {},
   "source": [
    "Dans cet exemple, l'expression boléenne suivant le `if` test si le nombre x est divisible par 3. Si le reste de la division de x par 3 est égal à 0, le programme exécute les instructions suivant le if et non celles suivant le `else`. En revanche, si le nombre n'est pas divisible par 3, la deuxième série d'instructions sera exécutée. \n",
    "\n",
    "Il est important de savoir que comme l'expression boléenne est soit vraie, soit fausse, **une seule des branches alternative sera exécutée**."
   ]
  },
  {
   "cell_type": "markdown",
   "metadata": {},
   "source": [
    "L'instruction `elif` est une abréviation de `else if`. Elle est utile quand il y a **plus de deux possibilités** et que nous avons besoin de **plus de deux branches**.\n",
    "\n",
    "Le code ci-dessous montre bien que l'on peut avoir besoin de plus de deux branches, mais il n'est pas écrit de manière optimale:"
   ]
  },
  {
   "cell_type": "code",
   "execution_count": 7,
   "metadata": {},
   "outputs": [
    {
     "name": "stdout",
     "output_type": "stream",
     "text": [
      "x est plus grand que y\n"
     ]
    }
   ],
   "source": [
    "x = 6\n",
    "y = 4\n",
    "if x < y:\n",
    "    print(\"x est plus petit que y\")\n",
    "else:\n",
    "    if x > y:\n",
    "        print(\"x est plus grand que y\")\n",
    "    else: \n",
    "        if x == y:\n",
    "            print(\"x est égal à y\")"
   ]
  },
  {
   "cell_type": "markdown",
   "metadata": {},
   "source": [
    "Il est possible de voir par la que les structures conditionnelles peuvent être **imbriquées** les unes dans les autres. La première branche (ligne 4-5) contient une simple instruction. La deuxième (ligne 7-12), qui contient elle-même une instruction if et else, a deux branches elle aussi (ligne 8-12). \n",
    "\n",
    "Dans ce cas la, ces deux branches (ligne 8-12) contiennent de simples instructions, mais elles auraient pu elles ausssi contenir encore des instructions conditionelles et ainsi de suite. **Les conditions imbriquées rendent le code très difficile à lire**. L'instruction `elif`  et les connecteurs logiques permettent de les éviter et donc écrire le code de manière plus claire.\n",
    "\n",
    "Réécrivons le code ci-dessus de manière plus claire grâce à l'instruction `elif`:"
   ]
  },
  {
   "cell_type": "code",
   "execution_count": 8,
   "metadata": {},
   "outputs": [
    {
     "name": "stdout",
     "output_type": "stream",
     "text": [
      "x est plus grand que y\n"
     ]
    }
   ],
   "source": [
    "x = 6\n",
    "y = 4\n",
    "if x < y:\n",
    "    print(\"x est plus petit que y\")\n",
    "elif x > y:\n",
    "    print(\"x est plus grand que y\")  \n",
    "else:\n",
    "    print(\"x est égal à y\")"
   ]
  },
  {
   "cell_type": "markdown",
   "metadata": {},
   "source": [
    "Dans ce cas là, chaque condition est vérifiée dans l'ordre. Dès qu'une condition est vraie, la branche correspondante est exécutée. Même si plusieurs conditions sont vraies, seule la branche de la première condition vraie est exécutée. Il ets encore important de noter qu'il n'y a pas de limite du nombre d'instruction `elif` à mettre et la clause `else` à la fin n'est pas obligatoire."
   ]
  },
  {
   "cell_type": "markdown",
   "metadata": {},
   "source": [
    "### La boucle"
   ]
  },
  {
   "cell_type": "markdown",
   "metadata": {},
   "source": [
    "En Python, l'instruction `for` sert à itèrer sur les éléments d'une séquence (liste, chaîne de caractère,etc.) dans l'ordre dans lequel ils apparaissent dans la séquence (Source : [L'instruction for](https://docs.python.org/fr/3/reference/compound_stmts.html#the-for-statement)).\n",
    "\n",
    "L'utilisation d'une instruction 'for element in sequence' suivi d'une instruction correspondante, peut se traduire comme ceci: **Pour tous éléments de la séquence, il faut répéter la même instruction donnée**. On parle donc de **boucle** car il faut répéter la même instruction pour chaque éléments.\n",
    "\n",
    "Prenons par exemple le menu quotidien et original des Monty Python. Dans cet exemple, je demande que, pour tous les éléments de la liste nommée menu, il faut imprimer le nom de l'élément ainsi que le nombre de lettre de l'élément grâce à la fonction `len()`."
   ]
  },
  {
   "cell_type": "code",
   "execution_count": 11,
   "metadata": {},
   "outputs": [
    {
     "name": "stdout",
     "output_type": "stream",
     "text": [
      "spam 4\n",
      "eggs 4\n",
      "saussage 8\n",
      "ham 3\n"
     ]
    }
   ],
   "source": [
    "menu = ['spam', 'eggs', 'saussage', 'ham']\n",
    "for item in menu:\n",
    "    print(item, len(item))"
   ]
  },
  {
   "cell_type": "markdown",
   "metadata": {},
   "source": [
    "Il est aussi possible d'utiliser l'instruction `for` pour une chaine de caractères. Dans cet exemple, je demande que chaque caractère soit imprimé un par un."
   ]
  },
  {
   "cell_type": "code",
   "execution_count": 21,
   "metadata": {},
   "outputs": [
    {
     "name": "stdout",
     "output_type": "stream",
     "text": [
      "s\n",
      "p\n",
      "a\n",
      "m\n"
     ]
    }
   ],
   "source": [
    "dish = 'spam'\n",
    "for car in dish:\n",
    "    print(car)"
   ]
  },
  {
   "cell_type": "markdown",
   "metadata": {},
   "source": [
    "La fonction `range(n)` génère génère une liste contenant une simple progression arithmétique contenant n éléments (de 0 à n-1). Lorsque l'on l'utilise avec l'instruction `for`, cela donne la possibilité de répéter une action un nombre de fois donné. Ici, je demande d'imprimer le mot spam 4 fois:"
   ]
  },
  {
   "cell_type": "code",
   "execution_count": 29,
   "metadata": {},
   "outputs": [
    {
     "name": "stdout",
     "output_type": "stream",
     "text": [
      "spam\n",
      "spam\n",
      "spam\n",
      "spam\n"
     ]
    }
   ],
   "source": [
    "for i in range (4):\n",
    "    print(\"spam\")"
   ]
  },
  {
   "cell_type": "markdown",
   "metadata": {},
   "source": [
    "Lorsque l'on combine les fonctions `range()` et `len()`, il est aussi possible d'intéragir avec une liste par exemple:"
   ]
  },
  {
   "cell_type": "code",
   "execution_count": 23,
   "metadata": {},
   "outputs": [
    {
     "name": "stdout",
     "output_type": "stream",
     "text": [
      "0 eggs , It's tasty\n",
      "1 saussage , It's tasty\n",
      "2 ham , It's tasty\n",
      "3 spam , It's tasty\n"
     ]
    }
   ],
   "source": [
    "menu = ['eggs', 'saussage', 'ham', 'spam']\n",
    "n = len(menu)\n",
    "for i in range(n):\n",
    "    print(i, menu[i], \", It's tasty\")"
   ]
  },
  {
   "cell_type": "markdown",
   "metadata": {},
   "source": [
    "Dans ce dernier exemple, pour chaque élément de la liste, j'ai imprimé le numéro qu'il porte dans la liste, le nom de l'élément et j'ai encore affirmé que l'élément était bon à manger. "
   ]
  }
 ],
 "metadata": {
  "kernelspec": {
   "display_name": "Python 3",
   "language": "python",
   "name": "python3"
  },
  "language_info": {
   "codemirror_mode": {
    "name": "ipython",
    "version": 3
   },
   "file_extension": ".py",
   "mimetype": "text/x-python",
   "name": "python",
   "nbconvert_exporter": "python",
   "pygments_lexer": "ipython3",
   "version": "3.4.2"
  }
 },
 "nbformat": 4,
 "nbformat_minor": 2
}
