{
 "cells": [
  {
   "cell_type": "markdown",
   "metadata": {},
   "source": [
    "# Gestion de versions collaborative avec Git et GitHub\n",
    "\n",
    "Auteur: Ludovic Blanc, Gymnase du Bugnon, 3MOCINFO <br/>\n",
    "Date: Mai 2018\n",
    "\n",
    "# Gestion de versions avec Git\n",
    "<img src='https://raw.githubusercontent.com/Bugnon/oc-2017/master/bla/exam/Git_logo.png' style=\"float:right;width:400px;\">\n",
    "\n",
    "\n",
    "Sources et références:\n",
    "* https://fr.wikipedia.org/wiki/Git\n",
    "* https://cours-web.ch/git/\n",
    "* https://gist.github.com/aquelito/8596717\n",
    "\n",
    "Git est un **logiciel de gestion de versions décentralisé**. C'est un logiciel **libre** créé en **2005** par Linus Torvalds, auteur du noyau Linux. En 2016, il s’agit du logiciel de gestion de versions le plus populaire qui est utilisé par plus de douze millions de personnes.\n",
    "C'est un outil en **ligne de commande**. Pour du meilleur confort d'utilisation, il existe plusieurs logiciel et services en ligne offrant une interface graphique.\n",
    "\n",
    "\n",
    "Il est codé en **c, Shell Unix, Perl, Tcl et GNU Bash**.\n",
    "\n",
    "Il utilise un système de connexion **pair à pair**. C'est-à-dire que le code informatique développé est stocké non seulement sur l’ordinateur de chaque contributeur du projet, mais il peut également l'être sur un serveur dédié. \n",
    "\n",
    "Voici quelques-uns des avantages que Git apporte:\n",
    "- Permet à un grand nombre de collaborateurs de travailler sur un même projet, en offrant une bonne gestion des modifications.\n",
    "- Permet de synchroniser un projet entre plusieurs collaborateurs, en ayant l’assurance que tous les fichiers soient à jour.\n",
    "- Permet d’avoir un historique précis de tous les changements et modifications d’un projet. Cela permet de clarifier les questions récurrentes: _“Où est la dernière version du fichier X?”_ et _“Qu’est-ce qui a été changé entre les révisions 41 et 42”?_.\n",
    "\n",
    "\n",
    "Annecdote selon magazine PC World: « quand on lui a demandé pourquoi il avait appelé son logiciel “git”, qui est à peu près l'équivalent de “connard” en argot britannique, Linus Torvalds a répondu “je ne suis qu'un sale égocentrique, donc j'appelle tous mes projets d'après ma propre personne. D'abord Linux, puis Git.”»"
   ]
  },
  {
   "cell_type": "markdown",
   "metadata": {},
   "source": [
    "### Commandes\n",
    "\n",
    "Git dispose notamment des commandes suivantes:\n",
    "- `git status`\n",
    "- `git init` \n",
    "- `git clone`\n",
    "- `git add` \n",
    "- `git commit`\n",
    "- `git push` \n",
    "- `git pull`\n",
    "- `git branch`\n",
    "- `git checkout`\n",
    "\n",
    "Je vais expliquer leur fonctionnement de \"base\". La meilleur documentation reste l'aide en ligne de commande:\n",
    "\n",
    "`git help config` <br/>\n",
    "`git help push` <br/>\n",
    "`git help pull` <br/>\n",
    "`git help branch`\n"
   ]
  },
  {
   "cell_type": "markdown",
   "metadata": {},
   "source": [
    "### Configuration lors de la première utilisation\n",
    "Pour savoir qui modifie les fichiers et fait des opérations sur Git, il faut préciser son pseudo et son email.\n",
    "* Identity Name\n",
    "\n",
    "`git config --global user.name \"yourname\"` Il faut mettre son pseudo entre les guillemets.\n",
    "\n",
    "* Identity Email\n",
    "\n",
    "`git config --global user.email \"your@email.com\"` Il faut mettre son email entre les guillemets.\n",
    "\n",
    "On peut executer la commande suivante pour connaître ses réglages personnels:"
   ]
  },
  {
   "cell_type": "code",
   "execution_count": 6,
   "metadata": {},
   "outputs": [],
   "source": [
    "#!git config --list\n",
    "\n",
    "# (Je ne l'execute pas pour des raisons de confidentialité.)"
   ]
  },
  {
   "cell_type": "markdown",
   "metadata": {},
   "source": [
    "#### Exemple d'application\n",
    "\n",
    "Nous allons montrer dans ce Jupyter notebook, comment utiliser Git. Dabord nous allons créer un nouveau dossier dans lequel nous allons créer un nouveau répositoire Git. \n",
    "\n",
    "Ce notebook jupyter se trouve (pendant que je travail dessus) dans le dossier **gitdemo**. Vérifions cela avec `pwd`."
   ]
  },
  {
   "cell_type": "code",
   "execution_count": 1,
   "metadata": {},
   "outputs": [
    {
     "name": "stdout",
     "output_type": "stream",
     "text": [
      "/Users/ludovicblanc/Desktop/info/gitdemo\r\n"
     ]
    }
   ],
   "source": [
    "!pwd"
   ]
  },
  {
   "cell_type": "markdown",
   "metadata": {},
   "source": [
    "En ce moment ce dossier ne contient pas de sous-dossiers cachés. Vérifions cela avec `ls -la`."
   ]
  },
  {
   "cell_type": "code",
   "execution_count": 2,
   "metadata": {},
   "outputs": [
    {
     "name": "stdout",
     "output_type": "stream",
     "text": [
      "total 48\r\n",
      "drwxr-xr-x@  4 ludovicblanc  staff    128 28 mai 11:26 \u001b[34m.\u001b[m\u001b[m\r\n",
      "drwxr-xr-x  11 ludovicblanc  staff    352 28 mai 11:18 \u001b[34m..\u001b[m\u001b[m\r\n",
      "-rw-r--r--@  1 ludovicblanc  staff   6148 28 mai 11:26 .DS_Store\r\n",
      "-rw-r--r--@  1 ludovicblanc  staff  14348 28 mai 11:25 gitdemo.ipynb\r\n"
     ]
    }
   ],
   "source": [
    "!ls -la"
   ]
  },
  {
   "cell_type": "markdown",
   "metadata": {},
   "source": [
    "Maintenant nous allons créer un nouveau répertoire dans ce dossier. Nous utilisons `git init`"
   ]
  },
  {
   "cell_type": "code",
   "execution_count": 3,
   "metadata": {},
   "outputs": [
    {
     "name": "stdout",
     "output_type": "stream",
     "text": [
      "Initialized empty Git repository in /Users/ludovicblanc/Desktop/info/gitdemo/.git/\r\n"
     ]
    }
   ],
   "source": [
    "!git init"
   ]
  },
  {
   "cell_type": "markdown",
   "metadata": {},
   "source": [
    "Maintenant nous devrions voir un dossier cachés `.git`"
   ]
  },
  {
   "cell_type": "code",
   "execution_count": 4,
   "metadata": {},
   "outputs": [
    {
     "name": "stdout",
     "output_type": "stream",
     "text": [
      "total 48\r\n",
      "drwxr-xr-x@  5 ludovicblanc  staff    160 28 mai 11:27 \u001b[34m.\u001b[m\u001b[m\r\n",
      "drwxr-xr-x  11 ludovicblanc  staff    352 28 mai 11:18 \u001b[34m..\u001b[m\u001b[m\r\n",
      "-rw-r--r--@  1 ludovicblanc  staff   6148 28 mai 11:26 .DS_Store\r\n",
      "drwxr-xr-x   9 ludovicblanc  staff    288 28 mai 11:27 \u001b[34m.git\u001b[m\u001b[m\r\n",
      "-rw-r--r--@  1 ludovicblanc  staff  14348 28 mai 11:25 gitdemo.ipynb\r\n"
     ]
    }
   ],
   "source": [
    "!ls -la"
   ]
  },
  {
   "cell_type": "markdown",
   "metadata": {},
   "source": [
    "Que se trouve dans ce dossier `.git`? Allons voir avec `ls -la .git`"
   ]
  },
  {
   "cell_type": "code",
   "execution_count": 5,
   "metadata": {},
   "outputs": [
    {
     "name": "stdout",
     "output_type": "stream",
     "text": [
      "total 24\r\n",
      "drwxr-xr-x   9 ludovicblanc  staff  288 28 mai 11:27 \u001b[34m.\u001b[m\u001b[m\r\n",
      "drwxr-xr-x@  5 ludovicblanc  staff  160 28 mai 11:27 \u001b[34m..\u001b[m\u001b[m\r\n",
      "-rw-r--r--   1 ludovicblanc  staff   23 28 mai 11:27 HEAD\r\n",
      "-rw-r--r--   1 ludovicblanc  staff  137 28 mai 11:27 config\r\n",
      "-rw-r--r--   1 ludovicblanc  staff   73 28 mai 11:27 description\r\n",
      "drwxr-xr-x  12 ludovicblanc  staff  384 28 mai 11:27 \u001b[34mhooks\u001b[m\u001b[m\r\n",
      "drwxr-xr-x   3 ludovicblanc  staff   96 28 mai 11:27 \u001b[34minfo\u001b[m\u001b[m\r\n",
      "drwxr-xr-x   4 ludovicblanc  staff  128 28 mai 11:27 \u001b[34mobjects\u001b[m\u001b[m\r\n",
      "drwxr-xr-x   4 ludovicblanc  staff  128 28 mai 11:27 \u001b[34mrefs\u001b[m\u001b[m\r\n"
     ]
    }
   ],
   "source": [
    "!ls -la .git"
   ]
  },
  {
   "cell_type": "markdown",
   "metadata": {},
   "source": [
    "Ce sont les fichiers de configuration, de description, et de gestion des données. Affichons un de ces fichiers avec `cat .git/config`. Regardons maintenant le status de ce nouveau répertoire git avec la commande `git status`\n"
   ]
  },
  {
   "cell_type": "code",
   "execution_count": 6,
   "metadata": {},
   "outputs": [
    {
     "name": "stdout",
     "output_type": "stream",
     "text": [
      "[core]\r\n",
      "\trepositoryformatversion = 0\r\n",
      "\tfilemode = true\r\n",
      "\tbare = false\r\n",
      "\tlogallrefupdates = true\r\n",
      "\tignorecase = true\r\n",
      "\tprecomposeunicode = true\r\n"
     ]
    }
   ],
   "source": [
    "cat .git/config"
   ]
  },
  {
   "cell_type": "code",
   "execution_count": 7,
   "metadata": {},
   "outputs": [
    {
     "name": "stdout",
     "output_type": "stream",
     "text": [
      "On branch master\r\n",
      "\r\n",
      "No commits yet\r\n",
      "\r\n",
      "Untracked files:\r\n",
      "  (use \"git add <file>...\" to include in what will be committed)\r\n",
      "\r\n",
      "\t\u001b[31m.DS_Store\u001b[m\r\n",
      "\t\u001b[31mgitdemo.ipynb\u001b[m\r\n",
      "\r\n",
      "nothing added to commit but untracked files present (use \"git add\" to track)\r\n"
     ]
    }
   ],
   "source": [
    "!git status"
   ]
  },
  {
   "cell_type": "markdown",
   "metadata": {},
   "source": [
    "Nous avons des fichier non-suivi par Git. Ajoutons le avec `git add *` et vérifions de nouveau le status. Le ficher (ce notebook Jupyter) apparait maintenant en vert."
   ]
  },
  {
   "cell_type": "code",
   "execution_count": 8,
   "metadata": {},
   "outputs": [],
   "source": [
    "!git add *"
   ]
  },
  {
   "cell_type": "code",
   "execution_count": 9,
   "metadata": {},
   "outputs": [
    {
     "name": "stdout",
     "output_type": "stream",
     "text": [
      "On branch master\r\n",
      "\r\n",
      "No commits yet\r\n",
      "\r\n",
      "Changes to be committed:\r\n",
      "  (use \"git rm --cached <file>...\" to unstage)\r\n",
      "\r\n",
      "\t\u001b[32mnew file:   gitdemo.ipynb\u001b[m\r\n",
      "\r\n",
      "Untracked files:\r\n",
      "  (use \"git add <file>...\" to include in what will be committed)\r\n",
      "\r\n",
      "\t\u001b[31m.DS_Store\u001b[m\r\n",
      "\r\n"
     ]
    }
   ],
   "source": [
    "!git status"
   ]
  },
  {
   "cell_type": "markdown",
   "metadata": {},
   "source": [
    "Ajoutons le ficher avec `git commit -m 'message'`"
   ]
  },
  {
   "cell_type": "code",
   "execution_count": 10,
   "metadata": {},
   "outputs": [
    {
     "name": "stdout",
     "output_type": "stream",
     "text": [
      "[master (root-commit) f76942f] initial commit of Jupyter notebook\r\n",
      " 1 file changed, 533 insertions(+)\r\n",
      " create mode 100644 gitdemo.ipynb\r\n"
     ]
    }
   ],
   "source": [
    "!git commit -m 'initial commit of Jupyter notebook'"
   ]
  },
  {
   "cell_type": "code",
   "execution_count": 11,
   "metadata": {},
   "outputs": [
    {
     "name": "stdout",
     "output_type": "stream",
     "text": [
      "On branch master\r\n",
      "Untracked files:\r\n",
      "  (use \"git add <file>...\" to include in what will be committed)\r\n",
      "\r\n",
      "\t\u001b[31m.DS_Store\u001b[m\r\n",
      "\r\n",
      "nothing added to commit but untracked files present (use \"git add\" to track)\r\n"
     ]
    }
   ],
   "source": [
    "!git status"
   ]
  },
  {
   "cell_type": "markdown",
   "metadata": {},
   "source": [
    "Le notebook Jupyter est constamment sauvegardé. Essayons de créer un nouveau ficher. Ecrivons le calendrier de ce mois dans un fichier `cal.txt`."
   ]
  },
  {
   "cell_type": "code",
   "execution_count": 12,
   "metadata": {},
   "outputs": [
    {
     "name": "stdout",
     "output_type": "stream",
     "text": [
      "      Mai 2018        \r\n",
      "Di Lu Ma Me Je Ve Sa  \r\n",
      "       1  2  3  4  5  \r\n",
      " 6  7  8  9 10 11 12  \r\n",
      "13 14 15 16 17 18 19  \r\n",
      "20 21 22 23 24 25 26  \r\n",
      "27 \u001b[7m28\u001b[m 29 30 31        \r\n",
      "                      \r\n"
     ]
    }
   ],
   "source": [
    "!cal"
   ]
  },
  {
   "cell_type": "code",
   "execution_count": 13,
   "metadata": {},
   "outputs": [
    {
     "name": "stdout",
     "output_type": "stream",
     "text": [
      "On branch master\r\n",
      "Changes not staged for commit:\r\n",
      "  (use \"git add <file>...\" to update what will be committed)\r\n",
      "  (use \"git checkout -- <file>...\" to discard changes in working directory)\r\n",
      "\r\n",
      "\t\u001b[31mmodified:   gitdemo.ipynb\u001b[m\r\n",
      "\r\n",
      "Untracked files:\r\n",
      "  (use \"git add <file>...\" to include in what will be committed)\r\n",
      "\r\n",
      "\t\u001b[31m.DS_Store\u001b[m\r\n",
      "\t\u001b[31m.ipynb_checkpoints/\u001b[m\r\n",
      "\t\u001b[31mcal.txt\u001b[m\r\n",
      "\r\n",
      "no changes added to commit (use \"git add\" and/or \"git commit -a\")\r\n"
     ]
    }
   ],
   "source": [
    "!cal > cal.txt\n",
    "!git status"
   ]
  },
  {
   "cell_type": "markdown",
   "metadata": {},
   "source": [
    "Maintenant nous pouvons ajouter et intégrer `cal.txt` à Git."
   ]
  },
  {
   "cell_type": "code",
   "execution_count": 14,
   "metadata": {},
   "outputs": [],
   "source": [
    "!git add cal.txt"
   ]
  },
  {
   "cell_type": "code",
   "execution_count": 15,
   "metadata": {},
   "outputs": [
    {
     "name": "stdout",
     "output_type": "stream",
     "text": [
      "[master 9361f0d] added calender text file\r\n",
      " 1 file changed, 8 insertions(+)\r\n",
      " create mode 100644 cal.txt\r\n"
     ]
    }
   ],
   "source": [
    "!git commit -m 'added calender text file'"
   ]
  },
  {
   "cell_type": "code",
   "execution_count": 16,
   "metadata": {},
   "outputs": [
    {
     "name": "stdout",
     "output_type": "stream",
     "text": [
      "On branch master\r\n",
      "Changes not staged for commit:\r\n",
      "  (use \"git add <file>...\" to update what will be committed)\r\n",
      "  (use \"git checkout -- <file>...\" to discard changes in working directory)\r\n",
      "\r\n",
      "\t\u001b[31mmodified:   gitdemo.ipynb\u001b[m\r\n",
      "\r\n",
      "Untracked files:\r\n",
      "  (use \"git add <file>...\" to include in what will be committed)\r\n",
      "\r\n",
      "\t\u001b[31m.DS_Store\u001b[m\r\n",
      "\t\u001b[31m.ipynb_checkpoints/\u001b[m\r\n",
      "\r\n",
      "no changes added to commit (use \"git add\" and/or \"git commit -a\")\r\n"
     ]
    }
   ],
   "source": [
    "!git status"
   ]
  },
  {
   "cell_type": "markdown",
   "metadata": {},
   "source": [
    "### Cloner un dossier existant \n",
    "Si on veut cloner un dossier provenant par exemple de GitHub, on utilise la fonction `$git clone`. \n",
    "Par exemple, le répertoire `oc-2017` où on a stocké les exercices durant l'année, peut être copié de cette manière:"
   ]
  },
  {
   "cell_type": "code",
   "execution_count": 1,
   "metadata": {},
   "outputs": [
    {
     "name": "stdout",
     "output_type": "stream",
     "text": [
      "Cloning into 'oc-2017'...\n",
      "remote: Counting objects: 1088, done.\u001b[K\n",
      "remote: Compressing objects: 100% (105/105), done.\u001b[K\n",
      "remote: Total 1088 (delta 76), reused 57 (delta 26), pack-reused 956\u001b[K\n",
      "Receiving objects: 100% (1088/1088), 27.25 MiB | 4.09 MiB/s, done.\n",
      "Resolving deltas: 100% (486/486), done.\n"
     ]
    }
   ],
   "source": [
    "!git clone https://github.com/Bugnon/oc-2017"
   ]
  },
  {
   "cell_type": "markdown",
   "metadata": {},
   "source": [
    "Maintenant tout le répertoire est cloné. \n",
    "### Git push et Git pull\n",
    "`$git push` permet d'uploader les nouvelles révisions et `$git pull` permet de downloader les dernières modifications distantes du projet"
   ]
  },
  {
   "cell_type": "markdown",
   "metadata": {},
   "source": [
    "## Déveloper avec Git\n",
    "\n",
    "Comme dit précédemment, Git à l'avantage d'être pratique à utiliser pour les projets nécessitant beaucoup de collaborateur. Pourquoi? C'est simple à comprendre: Il y a un système de **branche**. \n",
    "![Branche schéma](https://raw.githubusercontent.com/Bugnon/oc-2017/master/bla/exam/git_merge_often.png) \n",
    "_Source de l'image: [kentnguyen.com](http://kentnguyen.com/development/visualized-git-practices-for-team/)_\n",
    "\n",
    "Si je veux ajouter une nouvelle fonctionnalité (ou corriger un beug), je crée une nouvelle **branche** (par exemple: my_branch) afin de ne pas modifier le projet \"final\" situé sur la branche principale (**master**). \n",
    "\n",
    "Après, dès que ces fonctionnalités sont fonctionnelles, on peut fusionner (**merge**) la nouvelle branche sur la principale. \n",
    "\n",
    "Par exemple sur le code de dévellopement de Git lui même, il y a 5 branches (voici un aperçu graphique sur GitHub):\n",
    "\n",
    "![git_branches](https://raw.githubusercontent.com/Bugnon/oc-2017/master/bla/exam/Capture%20d’écran%202018-05-28%20à%2018.32.59.120.png) \n",
    "\n",
    "L'OpenSource est mis en avant avec Git (et GitHub). Même si on est pas administrateur d'un projet, mais qu'on a quand même envie de contribuer en enlevant des erreurs ou en ajoutant des fonctionnalité, on a déjà accès au code. De plus, on peut faire un **Pull request**. C'est un peu comme une branche mais n'importe qui peut en proposer. En faisant le pull request, on donne accès au \"supplément de code\" et le(s) administrateur(s) du projet on le choix d'intégrer ou non ce nouveau code à la branche master.\n",
    "_Sur la capture décran ci-dessus, on voit que pour \"améliorer\" Git, il y a 134 Pull requests. (certaines ont été acceptées, d'autres non)_"
   ]
  },
  {
   "cell_type": "markdown",
   "metadata": {},
   "source": [
    "Mettons cela en application:\n",
    "\n",
    "imaginons qu'en plus du calendrier du mois de mai, on veut aujouter tout le calendrier de 2018. Mais on aimerait pas modifier tout de suite la branche master."
   ]
  },
  {
   "cell_type": "code",
   "execution_count": 3,
   "metadata": {},
   "outputs": [
    {
     "name": "stdout",
     "output_type": "stream",
     "text": [
      "                            2018\r\n",
      "      Janvier               Février                 Mars          \r\n",
      "Di Lu Ma Me Je Ve Sa  Di Lu Ma Me Je Ve Sa  Di Lu Ma Me Je Ve Sa  \r\n",
      "    1  2  3  4  5  6               1  2  3               1  2  3  \r\n",
      " 7  8  9 10 11 12 13   4  5  6  7  8  9 10   4  5  6  7  8  9 10  \r\n",
      "14 15 16 17 18 19 20  11 12 13 14 15 16 17  11 12 13 14 15 16 17  \r\n",
      "21 22 23 24 25 26 27  18 19 20 21 22 23 24  18 19 20 21 22 23 24  \r\n",
      "28 29 30 31           25 26 27 28           25 26 27 28 29 30 31  \r\n",
      "                                                                  \r\n",
      "\r\n",
      "       Avril                  Mai                   Juin          \r\n",
      "Di Lu Ma Me Je Ve Sa  Di Lu Ma Me Je Ve Sa  Di Lu Ma Me Je Ve Sa  \r\n",
      " 1  2  3  4  5  6  7         1  2  3  4  5                  1  2  \r\n",
      " 8  9 10 11 12 13 14   6  7  8  9 10 11 12   3  4  5  6  7  8  9  \r\n",
      "15 16 17 18 19 20 21  13 14 15 16 17 18 19  10 11 12 13 14 15 16  \r\n",
      "22 23 24 25 26 27 28  20 21 22 23 24 25 26  17 18 19 20 21 22 23  \r\n",
      "29 30                 27 \u001b[7m28\u001b[m 29 30 31        24 25 26 27 28 29 30  \r\n",
      "                                                                  \r\n",
      "\r\n",
      "      Juillet                 Août               Septembre        \r\n",
      "Di Lu Ma Me Je Ve Sa  Di Lu Ma Me Je Ve Sa  Di Lu Ma Me Je Ve Sa  \r\n",
      " 1  2  3  4  5  6  7            1  2  3  4                     1  \r\n",
      " 8  9 10 11 12 13 14   5  6  7  8  9 10 11   2  3  4  5  6  7  8  \r\n",
      "15 16 17 18 19 20 21  12 13 14 15 16 17 18   9 10 11 12 13 14 15  \r\n",
      "22 23 24 25 26 27 28  19 20 21 22 23 24 25  16 17 18 19 20 21 22  \r\n",
      "29 30 31              26 27 28 29 30 31     23 24 25 26 27 28 29  \r\n",
      "                                            30                    \r\n",
      "\r\n",
      "      Octobre               Novembre              Décembre        \r\n",
      "Di Lu Ma Me Je Ve Sa  Di Lu Ma Me Je Ve Sa  Di Lu Ma Me Je Ve Sa  \r\n",
      "    1  2  3  4  5  6               1  2  3                     1  \r\n",
      " 7  8  9 10 11 12 13   4  5  6  7  8  9 10   2  3  4  5  6  7  8  \r\n",
      "14 15 16 17 18 19 20  11 12 13 14 15 16 17   9 10 11 12 13 14 15  \r\n",
      "21 22 23 24 25 26 27  18 19 20 21 22 23 24  16 17 18 19 20 21 22  \r\n",
      "28 29 30 31           25 26 27 28 29 30     23 24 25 26 27 28 29  \r\n",
      "                                            30 31                 \r\n"
     ]
    }
   ],
   "source": [
    "!cal 2018 "
   ]
  },
  {
   "cell_type": "markdown",
   "metadata": {},
   "source": [
    "Pour cela, on crée une nouvelle branche."
   ]
  },
  {
   "cell_type": "code",
   "execution_count": 5,
   "metadata": {},
   "outputs": [],
   "source": [
    "!git branch cal_2018"
   ]
  },
  {
   "cell_type": "markdown",
   "metadata": {},
   "source": [
    "Pour connaître **toutes les branches** du projet, on peut utiliser `git branch -a`\n",
    "\n",
    "Maintenant il faut se déplacer de master à cal_2018."
   ]
  },
  {
   "cell_type": "code",
   "execution_count": 7,
   "metadata": {},
   "outputs": [
    {
     "name": "stdout",
     "output_type": "stream",
     "text": [
      "M\tgitdemo.ipynb\r\n",
      "Switched to branch 'cal_2018'\r\n"
     ]
    }
   ],
   "source": [
    "!git checkout cal_2018"
   ]
  },
  {
   "cell_type": "markdown",
   "metadata": {},
   "source": [
    "Ensuite on ajoute le calendrier dans un document texte et ajoute (**add**) et **commit**."
   ]
  },
  {
   "cell_type": "code",
   "execution_count": 20,
   "metadata": {
    "scrolled": true
   },
   "outputs": [
    {
     "name": "stdout",
     "output_type": "stream",
     "text": [
      "On branch cal_2018\r\n",
      "Changes not staged for commit:\r\n",
      "  (use \"git add <file>...\" to update what will be committed)\r\n",
      "  (use \"git checkout -- <file>...\" to discard changes in working directory)\r\n",
      "\r\n",
      "\t\u001b[31mmodified:   cal_2018.txt\u001b[m\r\n",
      "\t\u001b[31mmodified:   gitdemo.ipynb\u001b[m\r\n",
      "\r\n",
      "Untracked files:\r\n",
      "  (use \"git add <file>...\" to include in what will be committed)\r\n",
      "\r\n",
      "\t\u001b[31m.DS_Store\u001b[m\r\n",
      "\t\u001b[31m.ipynb_checkpoints/\u001b[m\r\n",
      "\t\u001b[31moc-2017/\u001b[m\r\n",
      "\r\n",
      "no changes added to commit (use \"git add\" and/or \"git commit -a\")\r\n"
     ]
    }
   ],
   "source": [
    "!cal 2018 > cal_2018.txt\n",
    "!git status"
   ]
  },
  {
   "cell_type": "code",
   "execution_count": 22,
   "metadata": {
    "scrolled": true
   },
   "outputs": [
    {
     "name": "stdout",
     "output_type": "stream",
     "text": [
      "[cal_2018 f34a202] added calender 2018 text file in branch \"cal_2018\"\r\n",
      " 1 file changed, 36 insertions(+), 36 deletions(-)\r\n",
      " rewrite cal_2018.txt (63%)\r\n"
     ]
    }
   ],
   "source": [
    "!git add cal_2018.txt\n",
    "!git commit -m 'added calender 2018 text file in branch \"cal_2018\"'"
   ]
  },
  {
   "cell_type": "markdown",
   "metadata": {},
   "source": [
    "Maintenant que notre \"fonctionnalité\" fonctionne,  nous pouvons l'ajouter sur **master**."
   ]
  },
  {
   "cell_type": "code",
   "execution_count": 23,
   "metadata": {
    "scrolled": true
   },
   "outputs": [
    {
     "name": "stdout",
     "output_type": "stream",
     "text": [
      "M\tgitdemo.ipynb\n",
      "Switched to branch 'master'\n",
      "Updating 9361f0d..f34a202\n",
      "Fast-forward\n",
      " cal_2018.txt | 36 \u001b[32m++++++++++++++++++++++++++++++++++++\u001b[m\n",
      " 1 file changed, 36 insertions(+)\n",
      " create mode 100644 cal_2018.txt\n"
     ]
    }
   ],
   "source": [
    "!git checkout master\n",
    "!git merge cal_2018"
   ]
  },
  {
   "cell_type": "markdown",
   "metadata": {},
   "source": [
    "Pour aller plus loin, on pourrait **supprimer la branche**. Pour cela, il faudrait utiliser `git branch -d cal_2018`, et pour **supprimer un document** de Git, il faut utiliser `git rm nom_du_fichier`\n",
    "\n",
    "Pour voir les dernières modifications entre le dernier commit et l'espace actuel de travail:"
   ]
  },
  {
   "cell_type": "code",
   "execution_count": 7,
   "metadata": {},
   "outputs": [
    {
     "name": "stdout",
     "output_type": "stream",
     "text": [
      "\u001b[1mdiff --git a/bla/output/06_3_Blue.jpg b/bla/output/06_3_Blue.jpg\u001b[m\r\n",
      "\u001b[1mindex 30d70a9..d9e0c70 100644\u001b[m\r\n",
      "Binary files a/bla/output/06_3_Blue.jpg and b/bla/output/06_3_Blue.jpg differ\r\n",
      "\u001b[1mdiff --git a/bla/output/06_3_Green.jpg b/bla/output/06_3_Green.jpg\u001b[m\r\n",
      "\u001b[1mindex 0e52ba7..0a9d23a 100644\u001b[m\r\n",
      "Binary files a/bla/output/06_3_Green.jpg and b/bla/output/06_3_Green.jpg differ\r\n",
      "\u001b[1mdiff --git a/bla/output/06_3_Red.jpg b/bla/output/06_3_Red.jpg\u001b[m\r\n",
      "\u001b[1mindex 0106d9c..d417b80 100644\u001b[m\r\n",
      "Binary files a/bla/output/06_3_Red.jpg and b/bla/output/06_3_Red.jpg differ\r\n",
      "\u001b[1mdiff --git a/exam/Blanc_Git_GitHub.ipynb b/exam/Blanc_Git_GitHub.ipynb\u001b[m\r\n",
      "\u001b[1mindex 3c8480a..62999b5 100644\u001b[m\r\n",
      "\u001b[1m--- a/exam/Blanc_Git_GitHub.ipynb\u001b[m\r\n",
      "\u001b[1m+++ b/exam/Blanc_Git_GitHub.ipynb\u001b[m\r\n",
      "\u001b[36m@@ -21,6 +21,7 @@\u001b[m\r\n",
      "     \"Sources et références:\\n\",\u001b[m\r\n",
      "     \"* https://fr.wikipedia.org/wiki/Git\\n\",\u001b[m\r\n",
      "     \"* https://cours-web.ch/git/\\n\",\u001b[m\r\n",
      "\u001b[32m+\u001b[m\u001b[32m    \"* https://gist.github.com/aquelito/8596717\\n\",\u001b[m\r\n",
      "     \"\\n\",\u001b[m\r\n",
      "     \"Git est un **logiciel de gestion de versions décentralisé**. C'est un logiciel **libre** créé en **2005** par Linus Torvalds, auteur du noyau Linux. En 2016, il s’agit du logiciel de gestion de versions le plus populaire qui est utilisé par plus de douze millions de personnes.\\n\",\u001b[m\r\n",
      "     \"C'est un outil en **ligne de commande**. Pour du meilleur confort d'utilisation, il existe plusieurs logiciel et services en ligne offrant une interface graphique.\\n\",\u001b[m\r\n",
      "\u001b[36m@@ -36,7 +37,7 @@\u001b[m\r\n",
      "     \"- Permet d’avoir un historique précis de tous les changements et modifications d’un projet. Cela permet de clarifier les questions récurrentes: _“Où est la dernière version du fichier X?”_ et _“Qu’est-ce qui a été changé entre les révisions 41 et 42”?_.\\n\",\u001b[m\r\n",
      "     \"\\n\",\u001b[m\r\n",
      "     \"\\n\",\u001b[m\r\n",
      "\u001b[31m-    \"Annecdote selon magazine PC World: _« quand on lui a demandé pourquoi il avait appelé son logiciel “git”, qui est à peu près l'équivalent de “connard” en argot britannique, Linus Torvalds a répondu “je ne suis qu'un sale égocentrique, donc j'appelle tous mes projets d'après ma propre personne. D'abord Linux, puis Git.”»_\"\u001b[m\r\n",
      "\u001b[32m+\u001b[m\u001b[32m    \"Annecdote selon magazine PC World: « quand on lui a demandé pourquoi il avait appelé son logiciel “git”, qui est à peu près l'équivalent de “connard” en argot britannique, Linus Torvalds a répondu “je ne suis qu'un sale égocentrique, donc j'appelle tous mes projets d'après ma propre personne. D'abord Linux, puis Git.”»\"\u001b[m\r\n",
      "    ]\u001b[m\r\n",
      "   },\u001b[m\r\n",
      "   {\u001b[m\r\n",
      "\u001b[36m@@ -59,7 +60,42 @@\u001b[m\r\n",
      "     \"- `git push` \\n\",\u001b[m\r\n",
      "     \"- `git pull`\\n\",\u001b[m\r\n",
      "     \"- `git branch`\\n\",\u001b[m\r\n",
      "\u001b[31m-    \"- `git checkout`\"\u001b[m\r\n",
      "\u001b[32m+\u001b[m\u001b[32m    \"- `git checkout`\\n\",\u001b[m\r\n",
      "\u001b[32m+\u001b[m\u001b[32m    \"\\n\",\u001b[m\r\n",
      "\u001b[32m+\u001b[m\u001b[32m    \"Je vais expliquer leur fonctionnement de \\\"base\\\". La meilleur documentation reste l'aide en ligne de commande:\\n\",\u001b[m\r\n",
      "\u001b[32m+\u001b[m\u001b[32m    \"\\n\",\u001b[m\r\n",
      "\u001b[32m+\u001b[m\u001b[32m    \"`git help config` <br/>\\n\",\u001b[m\r\n",
      "\u001b[32m+\u001b[m\u001b[32m    \"`git help push` <br/>\\n\",\u001b[m\r\n",
      "\u001b[32m+\u001b[m\u001b[32m    \"`git help pull` <br/>\\n\",\u001b[m\r\n",
      "\u001b[32m+\u001b[m\u001b[32m    \"`git help branch`\\n\"\u001b[m\r\n",
      "\u001b[32m+\u001b[m\u001b[32m   ]\u001b[m\r\n",
      "\u001b[32m+\u001b[m\u001b[32m  },\u001b[m\r\n",
      "\u001b[32m+\u001b[m\u001b[32m  {\u001b[m\r\n",
      "\u001b[32m+\u001b[m\u001b[32m   \"cell_type\": \"markdown\",\u001b[m\r\n",
      "\u001b[32m+\u001b[m\u001b[32m   \"metadata\": {},\u001b[m\r\n",
      "\u001b[32m+\u001b[m\u001b[32m   \"source\": [\u001b[m\r\n",
      "\u001b[32m+\u001b[m\u001b[32m    \"### Configuration lors de la première utilisation\\n\",\u001b[m\r\n",
      "\u001b[32m+\u001b[m\u001b[32m    \"Pour savoir qui modifie les fichiers et fait des opérations sur Git, il faut préciser son pseudo et son email.\\n\",\u001b[m\r\n",
      "\u001b[32m+\u001b[m\u001b[32m    \"* Identity Name\\n\",\u001b[m\r\n",
      "\u001b[32m+\u001b[m\u001b[32m    \"\\n\",\u001b[m\r\n",
      "\u001b[32m+\u001b[m\u001b[32m    \"`git config --global user.name \\\"yourname\\\"` Il faut mettre son pseudo entre les guillemets.\\n\",\u001b[m\r\n",
      "\u001b[32m+\u001b[m\u001b[32m    \"\\n\",\u001b[m\r\n",
      "\u001b[32m+\u001b[m\u001b[32m    \"* Identity Email\\n\",\u001b[m\r\n",
      "\u001b[32m+\u001b[m\u001b[32m    \"\\n\",\u001b[m\r\n",
      "\u001b[32m+\u001b[m\u001b[32m    \"`git config --global user.email \\\"your@email.com\\\"` Il faut mettre son email entre les guillemets.\\n\",\u001b[m\r\n",
      "\u001b[32m+\u001b[m\u001b[32m    \"\\n\",\u001b[m\r\n",
      "\u001b[32m+\u001b[m\u001b[32m    \"On peut executer la fonction suivante pour connaître ses réglages personnels:\"\u001b[m\r\n",
      "\u001b[32m+\u001b[m\u001b[32m   ]\u001b[m\r\n",
      "\u001b[32m+\u001b[m\u001b[32m  },\u001b[m\r\n",
      "\u001b[32m+\u001b[m\u001b[32m  {\u001b[m\r\n",
      "\u001b[32m+\u001b[m\u001b[32m   \"cell_type\": \"code\",\u001b[m\r\n",
      "\u001b[32m+\u001b[m\u001b[32m   \"execution_count\": 5,\u001b[m\r\n",
      "\u001b[32m+\u001b[m\u001b[32m   \"metadata\": {},\u001b[m\r\n",
      "\u001b[32m+\u001b[m\u001b[32m   \"outputs\": [],\u001b[m\r\n",
      "\u001b[32m+\u001b[m\u001b[32m   \"source\": [\u001b[m\r\n",
      "\u001b[32m+\u001b[m\u001b[32m    \"#!git config --list\\n\",\u001b[m\r\n",
      "\u001b[32m+\u001b[m\u001b[32m    \"\\n\",\u001b[m\r\n",
      "\u001b[32m+\u001b[m\u001b[32m    \"# (Je ne l'execute pas pour des raisons de confidentialité.)\"\u001b[m\r\n",
      "    ]\u001b[m\r\n",
      "   },\u001b[m\r\n",
      "   {\u001b[m\r\n",
      "\u001b[36m@@ -627,6 +663,8 @@\u001b[m\r\n",
      "    \"cell_type\": \"markdown\",\u001b[m\r\n",
      "    \"metadata\": {},\u001b[m\r\n",
      "    \"source\": [\u001b[m\r\n",
      "\u001b[32m+\u001b[m\u001b[32m    \"Pour connaître toutes les branches du projet, on peut utiliser `git branch -a`\\n\",\u001b[m\r\n",
      "\u001b[32m+\u001b[m\u001b[32m    \"\\n\",\u001b[m\r\n",
      "     \"Maintenant il faut se déplacer de master à cal_2018.\"\u001b[m\r\n",
      "    ]\u001b[m\r\n",
      "   },\u001b[m\r\n",
      "\u001b[36m@@ -745,6 +783,15 @@\u001b[m\r\n",
      "     \"!git merge cal_2018\"\u001b[m\r\n",
      "    ]\u001b[m\r\n",
      "   },\u001b[m\r\n",
      "\u001b[32m+\u001b[m\u001b[32m  {\u001b[m\r\n",
      "\u001b[32m+\u001b[m\u001b[32m   \"cell_type\": \"markdown\",\u001b[m\r\n",
      "\u001b[32m+\u001b[m\u001b[32m   \"metadata\": {},\u001b[m\r\n",
      "\u001b[32m+\u001b[m\u001b[32m   \"source\": [\u001b[m\r\n",
      "\u001b[32m+\u001b[m\u001b[32m    \"Pour aller plus loin, on pourrait supprimer la branche. Pour cela, il faudrait utiliser `git branch -d cal_2018`, et pour supprimer un document de Git, il faut utiliser `git rm nom_du_fichier`\\n\",\u001b[m\r\n",
      "\u001b[32m+\u001b[m\u001b[32m    \"\\n\",\u001b[m\r\n",
      "\u001b[32m+\u001b[m\u001b[32m    \"Une dernière \"\u001b[m\r\n",
      "\u001b[32m+\u001b[m\u001b[32m   ]\u001b[m\r\n",
      "\u001b[32m+\u001b[m\u001b[32m  },\u001b[m\r\n",
      "   {\u001b[m\r\n",
      "    \"cell_type\": \"markdown\",\u001b[m\r\n",
      "    \"metadata\": {},\u001b[m\r\n"
     ]
    }
   ],
   "source": [
    "!git diff HEAD"
   ]
  },
  {
   "cell_type": "markdown",
   "metadata": {},
   "source": [
    "## Collaboration avec GitHub\n",
    "<img src='https://raw.githubusercontent.com/Bugnon/oc-2017/master/bla/exam/Github_logo.png' style=\"float:right;width:150px;\">\n",
    "\n",
    "GitHub est un service web offrant l’hébergement de projets utilisant Git, lancé en 2008, GitHub offre de nombreuses fonctionnalités facilitant la communication et la collaboration. Cette plateforme est très pratique car c'est une interface graphique, simplifiant grandement l'accèsibilité. Elle est aussi comme un réseau social:\n",
    "- On peut suivre des personnes\n",
    "- On peut suivre l'évolution d'un projet\n",
    "\n",
    "De plus, le service est gratuit pour les privés. Le code de tout les projets y est visible ce qui, encore une fois, permet le côté OpenSource. On peut aussi voir les pull requests et des **issues**. Les issues sont une sorte de chat ou on peut discuter des problèmes et de leurs soulutions d'un projet.\n",
    "\n",
    "Voici l'illustration de l'interface graphique avec le dossier de classe.\n",
    "\n",
    "![interface graphique](https://raw.githubusercontent.com/Bugnon/oc-2017/master/bla/exam/Capture%20d’écran%202018-05-28%20à%2019.23.32.447:2.png) "
   ]
  },
  {
   "cell_type": "markdown",
   "metadata": {},
   "source": [
    "La plupart des logiciels et modules python qu'on a utilisé durant l'année sont en déveleppement sur GitHub. Ils sont donc OpenSource.\n",
    "\n",
    "Je vous recommande d'aller jeter un coup d'œil aux liens suivants:\n",
    "\n",
    "- https://github.com/jupyter/notebook\n",
    "- https://github.com/opencv/opencv\n",
    "- https://github.com/numpy/numpy\n",
    "- https://github.com/python/cpython\n",
    "- https://github.com/git/git\n",
    "- https://github.com/martinohanlon/mcpi\n",
    "- https://github.com/RPi-Distro/thonny\n",
    "- https://github.com/RPi-Distro\n",
    "\n",
    "On voit qu'il y a plein de Pull requests et d'issues."
   ]
  }
 ],
 "metadata": {
  "kernelspec": {
   "display_name": "Python 3",
   "language": "python",
   "name": "python3"
  },
  "language_info": {
   "codemirror_mode": {
    "name": "ipython",
    "version": 3
   },
   "file_extension": ".py",
   "mimetype": "text/x-python",
   "name": "python",
   "nbconvert_exporter": "python",
   "pygments_lexer": "ipython3",
   "version": "3.6.2"
  }
 },
 "nbformat": 4,
 "nbformat_minor": 2
}
