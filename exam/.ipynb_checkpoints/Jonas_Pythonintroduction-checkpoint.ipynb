{
 "cells": [
  {
   "cell_type": "markdown",
   "metadata": {},
   "source": [
    "# Python Introduction"
   ]
  },
  {
   "cell_type": "markdown",
   "metadata": {},
   "source": [
    "## Historique"
   ]
  },
  {
   "cell_type": "markdown",
   "metadata": {},
   "source": [
    "Python est un langage de programmation orienté objet créé en 1990 par le programmeur néerlandais **Guido Van Rossum**. Etant fan de la série télévisée **Monthy Python's Flying Circus**, il décide de nommer son langage Python. Il est possible de percevoir beaucoup d'allusions à cette série dans les livres d'apprentissages de ce langage (Pensez Python par Allen Downey par exemple).\n",
    "![guido](img_jonas/guido.jpg)\n",
    "Le langage Python a été écrit dans le but d'être simple à utiliser. En effet, c'est un langage très facilement lisible et abordable qui fonctionne de manière très logique. Il y a par exemple bien moins de règles synthaxiques que dans d'autres langages moins abordables tels que le C, le Perl ou le Pascal. Python est un langage interprété et non complié (expliquer différences)."
   ]
  },
  {
   "cell_type": "markdown",
   "metadata": {},
   "source": [
    "![guido](img_jonas/guido.jpg)"
   ]
  },
  {
   "cell_type": "markdown",
   "metadata": {},
   "source": [
    "## Script/Console"
   ]
  },
  {
   "cell_type": "markdown",
   "metadata": {},
   "source": [
    "Python est un langage qui est particulièrement utilisé comme langage de script. C'est à dire que les gens l'utilisent de façon à exécuter des ordres prédéfinis sauvegardés dans un fichier."
   ]
  },
  {
   "cell_type": "markdown",
   "metadata": {},
   "source": [
    "## Variables"
   ]
  },
  {
   "cell_type": "markdown",
   "metadata": {},
   "source": [
    "## Expressions"
   ]
  },
  {
   "cell_type": "markdown",
   "metadata": {},
   "source": [
    "arithnmétiques\n",
    "comparaisons\n",
    "logiques\n",
    "import math (sin, cos, pi)"
   ]
  },
  {
   "cell_type": "markdown",
   "metadata": {},
   "source": [
    "## Flux"
   ]
  },
  {
   "cell_type": "markdown",
   "metadata": {},
   "source": [
    "if else elif\n",
    "\n",
    "for i in range(n)\n",
    "for item in list\n",
    "for car in string"
   ]
  },
  {
   "cell_type": "code",
   "execution_count": 3,
   "metadata": {},
   "outputs": [
    {
     "name": "stdout",
     "output_type": "stream",
     "text": [
      "spam\n",
      "eggs\n",
      "saussage\n",
      "ham\n"
     ]
    }
   ],
   "source": [
    "menu = ['spam', 'eggs', 'saussage', 'ham']\n",
    "for item in menu:\n",
    "    print(item)"
   ]
  },
  {
   "cell_type": "markdown",
   "metadata": {},
   "source": [
    "### L'instruction if"
   ]
  },
  {
   "cell_type": "markdown",
   "metadata": {},
   "source": [
    "### L'instruction else"
   ]
  },
  {
   "cell_type": "markdown",
   "metadata": {},
   "source": [
    "### L'instruction elif"
   ]
  },
  {
   "cell_type": "code",
   "execution_count": null,
   "metadata": {},
   "outputs": [],
   "source": []
  }
 ],
 "metadata": {
  "kernelspec": {
   "display_name": "Python 3",
   "language": "python",
   "name": "python3"
  },
  "language_info": {
   "codemirror_mode": {
    "name": "ipython",
    "version": 3
   },
   "file_extension": ".py",
   "mimetype": "text/x-python",
   "name": "python",
   "nbconvert_exporter": "python",
   "pygments_lexer": "ipython3",
   "version": "3.4.2"
  }
 },
 "nbformat": 4,
 "nbformat_minor": 2
}
