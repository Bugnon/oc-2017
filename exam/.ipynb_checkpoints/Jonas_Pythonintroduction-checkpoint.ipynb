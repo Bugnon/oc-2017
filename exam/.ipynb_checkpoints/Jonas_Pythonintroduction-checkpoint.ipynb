{
 "cells": [
  {
   "cell_type": "markdown",
   "metadata": {},
   "source": [
    "# Python Introduction"
   ]
  },
  {
   "cell_type": "markdown",
   "metadata": {},
   "source": [
    "## Historique"
   ]
  },
  {
   "cell_type": "markdown",
   "metadata": {},
   "source": [
    "Python est un langage de programmation orienté objet créé en 1990 par le programmeur néerlandais **Guido Van Rossum**. Etant fan de la série télévisée **Monthy Python's Flying Circus**, il décide de nommer son langage Python. Il est possible de percevoir beaucoup d'allusions à cette série dans les livres d'apprentissages de ce langage (Pensez Python par Allen Downey par exemple).\n",
    "\n",
    "![guido](img_jonas/guido.jpg)\n",
    "\n",
    "Le langage Python a été écrit dans le but d'être **simple à utiliser**. En effet, c'est un langage très facilement **lisible** et **abordable** qui fonctionne de manière très **logique**. Il y a par exemple bien moins de règles synthaxiques que dans d'autres langages moins abordables tels que le C, le Perl ou le Pascal. Python est un **langage interprété** et non compilé. C'est à dire que chaque ligne du code source est analysée une par une et exécutée ensuite par un interpréteur. Les langages interprétés sont très intêressant grâce à leur facilité de mise en oeuvre et à la portabilité des programmes (il est possible de les lancer sur chaque plateforme ou fonctionne l'interpréteur). \n",
    "Dans un langage compilé, le code écrit est compilé par un compilateur en code binaire facilement lisible par un ordinateur amis illisible par l'humain. Ensuite, le système d'exploitation lui-même va utilise le code binaire et les données d'entrée pour calculer les donnéees de sortie. omme le langage compilé est directement exécuté sur l'ordinateur et qu'il n'a pas besoin d'interpréteur, il sera génerallement plus rapide qu'un langage interprété(pour le même programme).\n",
    "Ces deux types de lanages présentent donc chacun des avantages et des inconvénients\n",
    "\n",
    "Par sa **performance** et sa **facilité d'accès**, Python a vite gagné en popularité et est devenu le **4ème langage informatique le plus utilisé** en Mai 2018 selon le TIOBE Index. \n",
    "Ce langage est d'ailleurs fort recommandé pour faire ses **premiers pas en programmation** en raison de sa **facilité** et de son **utilité** dans la vie professionelle."
   ]
  },
  {
   "cell_type": "markdown",
   "metadata": {},
   "source": [
    "## Script/Console"
   ]
  },
  {
   "cell_type": "markdown",
   "metadata": {},
   "source": [
    "Python est un langage qui est particulièrement utilisé comme langage de script. C'est à dire que les gens l'utilisent de façon à exécuter des ordres prédéfinis sauvegardés dans un fichier. \n",
    "Il est donc possible d'utiliser Python comme langage de script en écrivant dans le script une liste d'ordre prédéfini(=un programme) et de laisser l'interpréteur interpréter le code. Il faut donc lancer le programme pour obtenir le résultat du code.\n",
    "Python peut aussi être utilisé directement sur la console. C'est à dire que l'interpréteur a aussi un mode ou il est possible de voir directement le résultat du code. \n",
    "Ces deux modes sont très facilement discernables dans l'interpéteur Thonny:\n",
    "\n",
    "![interptéteur](img_jonas/Capture_THonny.PNG)\n",
    "\n",
    "L'endroit indiqué par la **flèche rouge** de l'image est le **script** dans lequel on écrit le code qui va être éxécuté lorsque le programme est lancé.\n",
    "L'endroit indiqué par la **flèche bleue** de l'image est la **console**. C'est donc l'endroit ou les instructions sont éxécutées directements.\n",
    "\n",
    "La console est générallement très utile pour tester des choses que l'on va mettre dans le scripte. L'utilisation de la console permet ainsi de se faciliter la vie en ne changeant pas à chaque fois le scripte lorsque l'on veut tetster quelque chose."
   ]
  },
  {
   "cell_type": "markdown",
   "metadata": {},
   "source": [
    "## Variables"
   ]
  },
  {
   "cell_type": "markdown",
   "metadata": {},
   "source": [
    "## Expressions"
   ]
  },
  {
   "cell_type": "markdown",
   "metadata": {},
   "source": [
    "arithnmétiques\n",
    "comparaisons\n",
    "logiques\n",
    "import math (sin, cos, pi)"
   ]
  },
  {
   "cell_type": "markdown",
   "metadata": {},
   "source": [
    "## Flux"
   ]
  },
  {
   "cell_type": "markdown",
   "metadata": {},
   "source": [
    "if else elif\n",
    "\n",
    "for i in range(n)\n",
    "for item in list\n",
    "for car in string"
   ]
  },
  {
   "cell_type": "code",
   "execution_count": 3,
   "metadata": {},
   "outputs": [
    {
     "name": "stdout",
     "output_type": "stream",
     "text": [
      "spam\n",
      "eggs\n",
      "saussage\n",
      "ham\n"
     ]
    }
   ],
   "source": [
    "menu = ['spam', 'eggs', 'saussage', 'ham']\n",
    "for item in menu:\n",
    "    print(item)"
   ]
  },
  {
   "cell_type": "markdown",
   "metadata": {},
   "source": [
    "### L'instruction if"
   ]
  },
  {
   "cell_type": "markdown",
   "metadata": {},
   "source": [
    "### L'instruction else"
   ]
  },
  {
   "cell_type": "markdown",
   "metadata": {},
   "source": [
    "### L'instruction elif"
   ]
  },
  {
   "cell_type": "code",
   "execution_count": null,
   "metadata": {},
   "outputs": [],
   "source": []
  }
 ],
 "metadata": {
  "kernelspec": {
   "display_name": "Python 3",
   "language": "python",
   "name": "python3"
  },
  "language_info": {
   "codemirror_mode": {
    "name": "ipython",
    "version": 3
   },
   "file_extension": ".py",
   "mimetype": "text/x-python",
   "name": "python",
   "nbconvert_exporter": "python",
   "pygments_lexer": "ipython3",
   "version": "3.4.2"
  }
 },
 "nbformat": 4,
 "nbformat_minor": 2
}
