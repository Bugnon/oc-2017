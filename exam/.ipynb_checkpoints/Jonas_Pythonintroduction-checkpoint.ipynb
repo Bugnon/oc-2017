{
 "cells": [
  {
   "cell_type": "markdown",
   "metadata": {},
   "source": [
    "# Python Introduction"
   ]
  },
  {
   "cell_type": "markdown",
   "metadata": {},
   "source": [
    "## Historique"
   ]
  },
  {
   "cell_type": "markdown",
   "metadata": {},
   "source": [
    "**Python** est un langage de programmation orienté objet créé en 1990 par le programmeur néerlandais **Guido Van Rossum**. Etant fan de la série télévisée **Monthy Python's Flying Circus**, il décide de nommer son langage Python. Il est possible de percevoir beaucoup d'allusions à cette série dans les livres d'apprentissages de ce langage (Pensez Python par Allen Downey par exemple).\n",
    "\n",
    "![guido](img_jonas/guido.jpg)\n",
    "\n",
    "Le langage Python a été écrit dans le but d'être **simple à utiliser**. En effet, c'est un langage très facilement **lisible** et **abordable** qui fonctionne de manière très **logique**. Il y a par exemple bien moins de règles synthaxiques que dans d'autres langages moins abordables tels que le C, le Perl ou le Pascal. Python est un **langage interprété** et non compilé. C'est à dire que chaque ligne du code source est analysée une par une et exécutée ensuite par un interpréteur. Les langages interprétés sont très intêressant grâce à leur facilité de mise en oeuvre et à la portabilité des programmes (il est possible de les lancer sur chaque plateforme ou fonctionne l'interpréteur). \n",
    "Dans un langage compilé, le code écrit est compilé par un compilateur en code binaire facilement lisible par un ordinateur mais illisible par l'humain. Ensuite, le système d'exploitation lui-même va utilise le code binaire et les données d'entrée pour calculer les donnéees de sortie. Comme le langage compilé est directement exécuté sur l'ordinateur et qu'il n'a pas besoin d'interpréteur, il sera génerallement plus rapide qu'un langage interprété(pour le même programme).\n",
    "Ces deux types de lanages présentent donc chacun des avantages et des inconvénients\n",
    "\n",
    "Par sa **performance** et sa **facilité d'accès**, Python a vite gagné en popularité et est devenu le **4ème langage informatique le plus utilisé** en Mai 2018 selon le TIOBE Index. \n",
    "Ce langage est d'ailleurs fort recommandé pour faire ses **premiers pas en programmation** en raison de sa **facilité** et de son **utilité** dans la vie professionelle."
   ]
  },
  {
   "cell_type": "markdown",
   "metadata": {},
   "source": [
    "## Script/Console"
   ]
  },
  {
   "cell_type": "markdown",
   "metadata": {},
   "source": [
    "Python est un langage qui est particulièrement utilisé comme langage de script. C'est à dire que les gens l'utilisent de façon à exécuter des ordres prédéfinis sauvegardés dans un fichier. \n",
    "Il est donc possible d'utiliser Python comme langage de script en écrivant dans le script une liste d'ordre prédéfini(=un programme) et de laisser l'interpréteur interpréter le code. Il faut donc lancer le programme pour obtenir le résultat du code.\n",
    "Python peut aussi être utilisé directement sur la console. C'est à dire que l'interpréteur a aussi un mode ou il est possible de voir directement le résultat du code. \n",
    "Ces deux modes sont très facilement discernables dans l'interpéteur Thonny:\n",
    "\n",
    "![interptéteur](img_jonas/Capture_THonny.PNG)\n",
    "\n",
    "L'endroit indiqué par la **flèche rouge** de l'image est le **script** dans lequel on écrit le code qui va être éxécuté lorsque le programme est lancé.\n",
    "L'endroit indiqué par la **flèche bleue** de l'image est la **console**. C'est donc l'endroit ou les instructions sont éxécutées directements.\n",
    "\n",
    "La console est générallement très utile pour tester des choses que l'on va mettre dans le scripte. L'utilisation de la console permet ainsi de se faciliter la vie en ne changeant pas à chaque fois le scripte lorsque l'on veut tetster quelque chose."
   ]
  },
  {
   "cell_type": "markdown",
   "metadata": {},
   "source": [
    "## Variables"
   ]
  },
  {
   "cell_type": "markdown",
   "metadata": {},
   "source": [
    "### Définition d'une valeur"
   ]
  },
  {
   "cell_type": "markdown",
   "metadata": {},
   "source": [
    "Avant de définir ce qu'est une variable, il est indispensable de définir ce qu'est une valeur. Une valeur est l'une des choses indispensables avec lesquelles fonctionnent un programme. Elle peut être de différents types. En efffet, une valeur peut être un nombre entier, un nombre à virgule ou une chaîne de caractères.\n",
    "\n",
    "Pour vérifier à quel type appartient votre valeur, il est possible d'utiliser la fonction prédéfinie nommée 'type()', qui renvoie le type de la valeur indiquée:"
   ]
  },
  {
   "cell_type": "markdown",
   "metadata": {},
   "source": [
    "Les **entiers** (en anglais integers) appartiennent au type **int**."
   ]
  },
  {
   "cell_type": "code",
   "execution_count": 10,
   "metadata": {},
   "outputs": [
    {
     "data": {
      "text/plain": [
       "int"
      ]
     },
     "execution_count": 10,
     "metadata": {},
     "output_type": "execute_result"
    }
   ],
   "source": [
    "type(42)"
   ]
  },
  {
   "cell_type": "markdown",
   "metadata": {},
   "source": [
    "Les **nombres à virgule flottante** (en anglais floating-point numbers) appartiennent au type **float**."
   ]
  },
  {
   "cell_type": "code",
   "execution_count": 11,
   "metadata": {},
   "outputs": [
    {
     "data": {
      "text/plain": [
       "float"
      ]
     },
     "execution_count": 11,
     "metadata": {},
     "output_type": "execute_result"
    }
   ],
   "source": [
    "type(42.0)"
   ]
  },
  {
   "cell_type": "markdown",
   "metadata": {},
   "source": [
    "Les **chaînes de caractères** (en anglais strings) appartiennent au type **str**."
   ]
  },
  {
   "cell_type": "code",
   "execution_count": 14,
   "metadata": {},
   "outputs": [
    {
     "data": {
      "text/plain": [
       "str"
      ]
     },
     "execution_count": 14,
     "metadata": {},
     "output_type": "execute_result"
    }
   ],
   "source": [
    "type('spam and eggs')"
   ]
  },
  {
   "cell_type": "markdown",
   "metadata": {},
   "source": [
    "**Attention!** Des chiffres entre guillemets comme '42' sont du type str et non int "
   ]
  },
  {
   "cell_type": "code",
   "execution_count": 15,
   "metadata": {},
   "outputs": [
    {
     "data": {
      "text/plain": [
       "str"
      ]
     },
     "execution_count": 15,
     "metadata": {},
     "output_type": "execute_result"
    }
   ],
   "source": [
    "type('42')"
   ]
  },
  {
   "cell_type": "markdown",
   "metadata": {},
   "source": [
    "Même chose pour des nombres à virgule flottante entre guillemets"
   ]
  },
  {
   "cell_type": "code",
   "execution_count": 16,
   "metadata": {},
   "outputs": [
    {
     "data": {
      "text/plain": [
       "str"
      ]
     },
     "execution_count": 16,
     "metadata": {},
     "output_type": "execute_result"
    }
   ],
   "source": [
    "type('42.0')"
   ]
  },
  {
   "cell_type": "markdown",
   "metadata": {},
   "source": [
    "### Définition d'une variable"
   ]
  },
  {
   "cell_type": "markdown",
   "metadata": {},
   "source": [
    " Une des fonctionnalités les plus importantes d'un langage informatique est de pouvoir utiliser et manipuler des variables. **Une variable est un nom qui fait référance à une valeur**.\n",
    " \n",
    " Pour pouvoir créer une nouvelle variable, il faut créer une **instruction d'affectaion** à l'aide du signe **=**.\n",
    " \n",
    " Cela fonctionne d'une manière **logique**.\n",
    " "
   ]
  },
  {
   "cell_type": "markdown",
   "metadata": {},
   "source": [
    "Ici, nous affectons une **chaine de caractères** à la variable meal. Il est important de voir que lorsque nous imprimons cette variable, c'est la chaine de caractéres affectée qui est imprimée.\n",
    "La première ligne est une instruction d'affectation qui donne un valeur à *meal* et la deuxième ligne est uine instruction print qui affiche la valeur de *meal*."
   ]
  },
  {
   "cell_type": "code",
   "execution_count": 22,
   "metadata": {},
   "outputs": [
    {
     "name": "stdout",
     "output_type": "stream",
     "text": [
      "spam and saussage\n"
     ]
    }
   ],
   "source": [
    "meal = 'spam and saussage'\n",
    "print(meal)"
   ]
  },
  {
   "cell_type": "markdown",
   "metadata": {},
   "source": [
    "**Attention** à ne pas mettre la variable entre guillemet lors de son utilisation, car cela impliquerait que c'est une chaine de caractéres et donc une nouvelle valeur du type str."
   ]
  },
  {
   "cell_type": "code",
   "execution_count": 25,
   "metadata": {},
   "outputs": [
    {
     "name": "stdout",
     "output_type": "stream",
     "text": [
      "meal\n"
     ]
    }
   ],
   "source": [
    "meal = 'spam and saussage'\n",
    "print('meal')"
   ]
  },
  {
   "cell_type": "markdown",
   "metadata": {},
   "source": [
    "Il est bien sûr aussi possible d'assigner des valeurs de **type int** et **float** à des variables."
   ]
  },
  {
   "cell_type": "code",
   "execution_count": 26,
   "metadata": {},
   "outputs": [],
   "source": [
    "number = 42 \n",
    "pi = 3.1415926"
   ]
  },
  {
   "cell_type": "markdown",
   "metadata": {},
   "source": [
    "### Noms de variables"
   ]
  },
  {
   "cell_type": "markdown",
   "metadata": {},
   "source": [
    "Pour pouvoir s'y retrouver facilement dans un programme, il est important de donner un nom significatif aux variables afin de pouvoir exprimer leur utilité. Les noms de variables peuvent être aussi long que l'on veut, ils peuvent contenir des chiffres et des lettres et des lettres majuscules. Il est par contre coutume d'utiliser des noms de variables courts et sans majuscule afin de se simplifier la vie.\n",
    "\n",
    "Il y a par contre certaines règles à adopter pour les noms de variable:"
   ]
  },
  {
   "cell_type": "markdown",
   "metadata": {},
   "source": [
    "Le nom d'une variable ne peut **pas commencer par un chiffre**."
   ]
  },
  {
   "cell_type": "code",
   "execution_count": 28,
   "metadata": {},
   "outputs": [
    {
     "ename": "SyntaxError",
     "evalue": "invalid token (<ipython-input-28-9b050cc100d0>, line 1)",
     "output_type": "error",
     "traceback": [
      "\u001b[0;36m  File \u001b[0;32m\"<ipython-input-28-9b050cc100d0>\"\u001b[0;36m, line \u001b[0;32m1\u001b[0m\n\u001b[0;31m    007agent = 'James Bond'\u001b[0m\n\u001b[0m      ^\u001b[0m\n\u001b[0;31mSyntaxError\u001b[0m\u001b[0;31m:\u001b[0m invalid token\n"
     ]
    }
   ],
   "source": [
    "007agent = 'James Bond'"
   ]
  },
  {
   "cell_type": "markdown",
   "metadata": {},
   "source": [
    "Certains **caractères** comme l'arobase ne sont **pas autorisés**"
   ]
  },
  {
   "cell_type": "code",
   "execution_count": 29,
   "metadata": {},
   "outputs": [
    {
     "ename": "SyntaxError",
     "evalue": "invalid syntax (<ipython-input-29-c2dfb8674d34>, line 1)",
     "output_type": "error",
     "traceback": [
      "\u001b[0;36m  File \u001b[0;32m\"<ipython-input-29-c2dfb8674d34>\"\u001b[0;36m, line \u001b[0;32m1\u001b[0m\n\u001b[0;31m    food@home = 'spam'\u001b[0m\n\u001b[0m        ^\u001b[0m\n\u001b[0;31mSyntaxError\u001b[0m\u001b[0;31m:\u001b[0m invalid syntax\n"
     ]
    }
   ],
   "source": [
    "food@home = 'spam'"
   ]
  },
  {
   "cell_type": "markdown",
   "metadata": {},
   "source": [
    "Les variables ne peuvent **pas être nommés comme les mots-clés de Python**. L'interpréteur utilise certains mots pour reconnaître la structure du prgramme. Ces mots-clés sont les suivants:\n",
    "\n",
    "![mots-clés](img_jonas/mots_clés.PNG)\n",
    "\n",
    "Pour pouvoir les **reconnaître** sans avoir besoin de les apprendre, ils s'affichent d'une **autre couleur** que le code standard."
   ]
  },
  {
   "cell_type": "code",
   "execution_count": 30,
   "metadata": {},
   "outputs": [
    {
     "ename": "SyntaxError",
     "evalue": "invalid syntax (<ipython-input-30-52d83cb458e6>, line 1)",
     "output_type": "error",
     "traceback": [
      "\u001b[0;36m  File \u001b[0;32m\"<ipython-input-30-52d83cb458e6>\"\u001b[0;36m, line \u001b[0;32m1\u001b[0m\n\u001b[0;31m    finally = 'We still eat spam'\u001b[0m\n\u001b[0m          ^\u001b[0m\n\u001b[0;31mSyntaxError\u001b[0m\u001b[0;31m:\u001b[0m invalid syntax\n"
     ]
    }
   ],
   "source": [
    "finally = 'We still eat spam'"
   ]
  },
  {
   "cell_type": "markdown",
   "metadata": {},
   "source": [
    "Pour donner un **nom composé à une variable**, il est d'usage d'utiliser le caractèrre de soulignement **_**."
   ]
  },
  {
   "cell_type": "code",
   "execution_count": 62,
   "metadata": {},
   "outputs": [],
   "source": [
    "dish_of_the_day = 'spam and tomato'"
   ]
  },
  {
   "cell_type": "markdown",
   "metadata": {},
   "source": [
    "## Expressions"
   ]
  },
  {
   "cell_type": "markdown",
   "metadata": {},
   "source": [
    "Une expression est une combinaison de littéraux, de variables, d'opérateurs et de fonction qui est calculée en suivant les règles de priorité et d'associativité du langage de programmation pour retourner une nouvelle valeur. (Source:wikipedia)"
   ]
  },
  {
   "cell_type": "markdown",
   "metadata": {},
   "source": [
    "### Opérateurs arithmétiques"
   ]
  },
  {
   "cell_type": "markdown",
   "metadata": {},
   "source": [
    "Il est nécessaire de parler des **opérateurs arithmétiques**.Python est un langage qui fournit des opérateurs arithmétiques **permettant de faire des calculs**. Ce sont des **symboles** spéciaux qui représentent des calculs."
   ]
  },
  {
   "cell_type": "markdown",
   "metadata": {},
   "source": [
    "L'opérateur **+** représente **l'addition**"
   ]
  },
  {
   "cell_type": "code",
   "execution_count": 35,
   "metadata": {},
   "outputs": [
    {
     "data": {
      "text/plain": [
       "84"
      ]
     },
     "execution_count": 35,
     "metadata": {},
     "output_type": "execute_result"
    }
   ],
   "source": [
    "42 + 42"
   ]
  },
  {
   "cell_type": "markdown",
   "metadata": {},
   "source": [
    "L'opérateur **-** représente la **soustraction**"
   ]
  },
  {
   "cell_type": "code",
   "execution_count": 59,
   "metadata": {},
   "outputs": [
    {
     "data": {
      "text/plain": [
       "42"
      ]
     },
     "execution_count": 59,
     "metadata": {},
     "output_type": "execute_result"
    }
   ],
   "source": [
    "50 - 8"
   ]
  },
  {
   "cell_type": "markdown",
   "metadata": {},
   "source": [
    "L'opérateur * représente la multiplication"
   ]
  },
  {
   "cell_type": "code",
   "execution_count": 37,
   "metadata": {},
   "outputs": [
    {
     "data": {
      "text/plain": [
       "42"
      ]
     },
     "execution_count": 37,
     "metadata": {},
     "output_type": "execute_result"
    }
   ],
   "source": [
    "21 * 2"
   ]
  },
  {
   "cell_type": "markdown",
   "metadata": {},
   "source": [
    "L'opérateur **/** représente la **division** et renvoie une valeur de **type float** afin d'exprimer le **chiffre à virgule**"
   ]
  },
  {
   "cell_type": "code",
   "execution_count": 52,
   "metadata": {},
   "outputs": [
    {
     "data": {
      "text/plain": [
       "14.0"
      ]
     },
     "execution_count": 52,
     "metadata": {},
     "output_type": "execute_result"
    }
   ],
   "source": [
    "42 / 3"
   ]
  },
  {
   "cell_type": "code",
   "execution_count": 57,
   "metadata": {},
   "outputs": [
    {
     "data": {
      "text/plain": [
       "float"
      ]
     },
     "execution_count": 57,
     "metadata": {},
     "output_type": "execute_result"
    }
   ],
   "source": [
    "type(42/3)"
   ]
  },
  {
   "cell_type": "code",
   "execution_count": 53,
   "metadata": {},
   "outputs": [
    {
     "data": {
      "text/plain": [
       "2.8"
      ]
     },
     "execution_count": 53,
     "metadata": {},
     "output_type": "execute_result"
    }
   ],
   "source": [
    "14 / 5"
   ]
  },
  {
   "cell_type": "markdown",
   "metadata": {},
   "source": [
    "L'opérateur **//** représente la **division entière**, le résultat sera de **type int**. Il est à noter que l'arrondie se fait toujours en dessous."
   ]
  },
  {
   "cell_type": "code",
   "execution_count": 54,
   "metadata": {},
   "outputs": [
    {
     "data": {
      "text/plain": [
       "14"
      ]
     },
     "execution_count": 54,
     "metadata": {},
     "output_type": "execute_result"
    }
   ],
   "source": [
    "42 // 3"
   ]
  },
  {
   "cell_type": "code",
   "execution_count": 55,
   "metadata": {},
   "outputs": [
    {
     "data": {
      "text/plain": [
       "2"
      ]
     },
     "execution_count": 55,
     "metadata": {},
     "output_type": "execute_result"
    }
   ],
   "source": [
    "14 // 5"
   ]
  },
  {
   "cell_type": "code",
   "execution_count": 58,
   "metadata": {},
   "outputs": [
    {
     "data": {
      "text/plain": [
       "int"
      ]
     },
     "execution_count": 58,
     "metadata": {},
     "output_type": "execute_result"
    }
   ],
   "source": [
    "type (14//5)"
   ]
  },
  {
   "cell_type": "markdown",
   "metadata": {},
   "source": [
    "L'opérateur ** représente L'exponentiation. Attention, dans python l'opérateur ^ a une autre fonction."
   ]
  },
  {
   "cell_type": "code",
   "execution_count": 61,
   "metadata": {},
   "outputs": [
    {
     "data": {
      "text/plain": [
       "8"
      ]
     },
     "execution_count": 61,
     "metadata": {},
     "output_type": "execute_result"
    }
   ],
   "source": [
    "2**3"
   ]
  },
  {
   "cell_type": "markdown",
   "metadata": {},
   "source": [
    "L'opérateur **%** représente **l'opérateur modulo**. Il effectue la **division** et renvoie le **reste**  "
   ]
  },
  {
   "cell_type": "code",
   "execution_count": 81,
   "metadata": {},
   "outputs": [
    {
     "data": {
      "text/plain": [
       "2"
      ]
     },
     "execution_count": 81,
     "metadata": {},
     "output_type": "execute_result"
    }
   ],
   "source": [
    "42 % 5"
   ]
  },
  {
   "cell_type": "markdown",
   "metadata": {},
   "source": [
    "Le langage de programmation Python respecte les règles de priorité dans les opérations."
   ]
  },
  {
   "cell_type": "code",
   "execution_count": 82,
   "metadata": {},
   "outputs": [
    {
     "data": {
      "text/plain": [
       "8.0"
      ]
     },
     "execution_count": 82,
     "metadata": {},
     "output_type": "execute_result"
    }
   ],
   "source": [
    "5 + 6 / 2"
   ]
  },
  {
   "cell_type": "code",
   "execution_count": 83,
   "metadata": {},
   "outputs": [
    {
     "data": {
      "text/plain": [
       "5.5"
      ]
     },
     "execution_count": 83,
     "metadata": {},
     "output_type": "execute_result"
    }
   ],
   "source": [
    "(5+6)/2"
   ]
  },
  {
   "cell_type": "markdown",
   "metadata": {},
   "source": [
    "### Expessions boléennes"
   ]
  },
  {
   "cell_type": "markdown",
   "metadata": {},
   "source": [
    "Une **expression boléenne** est une expression qui est soit **vraie**, soit **fausse**.\n",
    "Si l'expression est **vraie**, elle renvoie **True** (vrai). Si elle est **fausse**, elle renvoie **False** (faux). Les opérateurs utilisés ici sont dit **relationnels**."
   ]
  },
  {
   "cell_type": "markdown",
   "metadata": {},
   "source": [
    "L'opérateur **==** est vrai si les valeurs sont égales."
   ]
  },
  {
   "cell_type": "code",
   "execution_count": 68,
   "metadata": {},
   "outputs": [
    {
     "data": {
      "text/plain": [
       "True"
      ]
     },
     "execution_count": 68,
     "metadata": {},
     "output_type": "execute_result"
    }
   ],
   "source": [
    "42 == 42"
   ]
  },
  {
   "cell_type": "code",
   "execution_count": 67,
   "metadata": {},
   "outputs": [
    {
     "data": {
      "text/plain": [
       "False"
      ]
     },
     "execution_count": 67,
     "metadata": {},
     "output_type": "execute_result"
    }
   ],
   "source": [
    "\"spam\" == \"tasty meal\""
   ]
  },
  {
   "cell_type": "markdown",
   "metadata": {},
   "source": [
    "L'opérateur != est vrai si les valeurs ne sont pas égales"
   ]
  },
  {
   "cell_type": "code",
   "execution_count": 69,
   "metadata": {},
   "outputs": [
    {
     "data": {
      "text/plain": [
       "False"
      ]
     },
     "execution_count": 69,
     "metadata": {},
     "output_type": "execute_result"
    }
   ],
   "source": [
    "42 != 42"
   ]
  },
  {
   "cell_type": "markdown",
   "metadata": {},
   "source": [
    "L'opérateur < est vrai si la valeur de gauche est strictement inférieur à celle de droite. L'opérateur > test l'inverse."
   ]
  },
  {
   "cell_type": "code",
   "execution_count": 72,
   "metadata": {},
   "outputs": [
    {
     "data": {
      "text/plain": [
       "True"
      ]
     },
     "execution_count": 72,
     "metadata": {},
     "output_type": "execute_result"
    }
   ],
   "source": [
    "12 < 13 "
   ]
  },
  {
   "cell_type": "code",
   "execution_count": 73,
   "metadata": {},
   "outputs": [
    {
     "data": {
      "text/plain": [
       "False"
      ]
     },
     "execution_count": 73,
     "metadata": {},
     "output_type": "execute_result"
    }
   ],
   "source": [
    "12 > 13"
   ]
  },
  {
   "cell_type": "markdown",
   "metadata": {},
   "source": [
    "L'opérateur <= est vrai si la valeur de gauche est inférieure ou égale à celle de droite. L'opérateur >= test l'inverse."
   ]
  },
  {
   "cell_type": "code",
   "execution_count": 74,
   "metadata": {},
   "outputs": [
    {
     "data": {
      "text/plain": [
       "True"
      ]
     },
     "execution_count": 74,
     "metadata": {},
     "output_type": "execute_result"
    }
   ],
   "source": [
    "12 <= 12"
   ]
  },
  {
   "cell_type": "code",
   "execution_count": 75,
   "metadata": {},
   "outputs": [
    {
     "data": {
      "text/plain": [
       "False"
      ]
     },
     "execution_count": 75,
     "metadata": {},
     "output_type": "execute_result"
    }
   ],
   "source": [
    "12 >= 13"
   ]
  },
  {
   "cell_type": "markdown",
   "metadata": {},
   "source": [
    "True et False sont des valeurs appartenant au type bool. Ce ne sont pas des chaînes de caractères."
   ]
  },
  {
   "cell_type": "code",
   "execution_count": 76,
   "metadata": {},
   "outputs": [
    {
     "data": {
      "text/plain": [
       "bool"
      ]
     },
     "execution_count": 76,
     "metadata": {},
     "output_type": "execute_result"
    }
   ],
   "source": [
    "type(True)"
   ]
  },
  {
   "cell_type": "markdown",
   "metadata": {},
   "source": [
    "### Opérateurs logiques"
   ]
  },
  {
   "cell_type": "markdown",
   "metadata": {},
   "source": [
    "Il y a 3 opérateurs logiques dans Python. Ces opérateurs sont **and**, **or** et **not**."
   ]
  },
  {
   "cell_type": "markdown",
   "metadata": {},
   "source": [
    "Le mot **and** se traduit par le mot **et** en français. Une expression contenant le'opérateur logique and ne sera vraie que si toutes les conditions sont vraies "
   ]
  },
  {
   "cell_type": "code",
   "execution_count": 86,
   "metadata": {},
   "outputs": [
    {
     "data": {
      "text/plain": [
       "True"
      ]
     },
     "execution_count": 86,
     "metadata": {},
     "output_type": "execute_result"
    }
   ],
   "source": [
    "12 < 42 and 20 < 42"
   ]
  },
  {
   "cell_type": "code",
   "execution_count": 87,
   "metadata": {},
   "outputs": [
    {
     "data": {
      "text/plain": [
       "False"
      ]
     },
     "execution_count": 87,
     "metadata": {},
     "output_type": "execute_result"
    }
   ],
   "source": [
    "12 < 42 and 43 < 42"
   ]
  },
  {
   "cell_type": "markdown",
   "metadata": {},
   "source": [
    "L'opérateur **or** se traduit par le mot **ou**. Une expression contenant cet opérateur logique sera vraie si l'une des condition est vraie."
   ]
  },
  {
   "cell_type": "code",
   "execution_count": 88,
   "metadata": {},
   "outputs": [
    {
     "data": {
      "text/plain": [
       "True"
      ]
     },
     "execution_count": 88,
     "metadata": {},
     "output_type": "execute_result"
    }
   ],
   "source": [
    "12 == 13 or 12 < 13"
   ]
  },
  {
   "cell_type": "markdown",
   "metadata": {},
   "source": [
    "L'opérateur **not** se traduit par le mot **non**. C'est une opérateur qui nie une expression boléenne. Une expression contenant *not* n'est vraie que si elle est fausse sans contenir le *not*. "
   ]
  },
  {
   "cell_type": "code",
   "execution_count": 89,
   "metadata": {},
   "outputs": [
    {
     "data": {
      "text/plain": [
       "False"
      ]
     },
     "execution_count": 89,
     "metadata": {},
     "output_type": "execute_result"
    }
   ],
   "source": [
    "not 12 == 12"
   ]
  },
  {
   "cell_type": "markdown",
   "metadata": {},
   "source": [
    "### Application des expressions avec des variables"
   ]
  },
  {
   "cell_type": "markdown",
   "metadata": {},
   "source": [
    "Les expressions montrées précedemment  sont d'une très grande utilité lorsque l'on les utilise avec des variables. En effet, cela permet de gagner du temps."
   ]
  },
  {
   "cell_type": "markdown",
   "metadata": {},
   "source": [
    "Ici, pour le même calcul, il suffira juste de changer la valauer affectée à la variable pour pouvoir obtenir le résultat de ce même calcul avec un autre nombre."
   ]
  },
  {
   "cell_type": "code",
   "execution_count": 90,
   "metadata": {},
   "outputs": [
    {
     "name": "stdout",
     "output_type": "stream",
     "text": [
      "50.0\n"
     ]
    }
   ],
   "source": [
    "x = 10 \n",
    "calcul = x**2*50/100\n",
    "print(calcul)"
   ]
  },
  {
   "cell_type": "markdown",
   "metadata": {},
   "source": [
    "ou encore"
   ]
  },
  {
   "cell_type": "code",
   "execution_count": 102,
   "metadata": {},
   "outputs": [
    {
     "name": "stdout",
     "output_type": "stream",
     "text": [
      "2 heures 22 minutes\n"
     ]
    }
   ],
   "source": [
    "minutes = 142\n",
    "heures = minutes //  60 \n",
    "reste = minutes - heures * 60\n",
    "print(heures, \"heures\", reste, \"minutes\")"
   ]
  },
  {
   "cell_type": "markdown",
   "metadata": {},
   "source": [
    "## Flux"
   ]
  },
  {
   "cell_type": "markdown",
   "metadata": {},
   "source": [
    "Le flux d'exécution est l'ordre dans lequel les instructions sont exécutées. L'exécution commence toujours par la première instruction du programme et les autres instructions sont exécutées une par une dans l'ordre de haut en bas.\n",
    "\n",
    "Il est important de savoir qu'un appel de fonction est comme un détour dans le flux d'exécution. Au lieu de passer à l'instruction suivante, le flux se dirige dans le corps de la fonction dans laquelle il exécute les instrucitons. Après cela, il reprend son 'chemin' la ou il s'était interrompu plus tôt.\n",
    "\n",
    "Pour réussir à mieux comprendre un programme, il est souvent préférable de le lire dans l'ordre de son flux d'exécution et non dans l'ordre dans lequel il aété écrit."
   ]
  },
  {
   "cell_type": "markdown",
   "metadata": {},
   "source": [
    "### Exécution conditionelle"
   ]
  },
  {
   "cell_type": "markdown",
   "metadata": {},
   "source": [
    "Il est important de savoir que lorsque l'on fait tourner un programme, il n'y pas forcément toutes les instructions qui sont exécutées. Certaines ne sont exécutées que sous certaines conditions. Il va donc y avoir dans le programme des instructions conditionnelles qui vont 'tester' la valeur. La direction que prendra le flux d'exécution dépend du résultat du test. Il faut donc vérifier des conditions et modifier le comportement du programme en conséquence.\n",
    "\n",
    "Il y a trois instructions conditionelles importantes. Ce sont le **if**, le **else** et le **elif**.  "
   ]
  },
  {
   "cell_type": "markdown",
   "metadata": {},
   "source": [
    "### L'instruction if"
   ]
  },
  {
   "cell_type": "markdown",
   "metadata": {},
   "source": [
    "L'instruction if est la forme laplus simple des instructions conditionnelles. Le mot *if* est traduit par le mot *si* en français.\n",
    "\n",
    "Il faut mettre apès l'instruction une expression boléenne qui est appelée condition. Si elle est vraie, le flux d'exécution se dirigera de manière à exécuter l'instruction donnée après le if. Sinon, rien ne se passe."
   ]
  },
  {
   "cell_type": "code",
   "execution_count": 107,
   "metadata": {},
   "outputs": [],
   "source": [
    "if x == 0:\n",
    "    print(\"x est égal à 0\")"
   ]
  },
  {
   "cell_type": "markdown",
   "metadata": {},
   "source": [
    "La structure des exécutions condititionelles sont dites composées. Cela veut dire qu'il y a un en-tête, suivi d'un corps d'identité. Il n'y pas de limite sur le nombre d'instruction pouvant apparaître dans le corps d'identité, mais il est obligatoire d'en mettre au moins une. Il est toutefois possible d'utiliser l'instruction *pass* qui dit qu'il ne faut rien faire."
   ]
  },
  {
   "cell_type": "code",
   "execution_count": 109,
   "metadata": {},
   "outputs": [],
   "source": [
    "if x < 0:\n",
    "    pass"
   ]
  },
  {
   "cell_type": "markdown",
   "metadata": {},
   "source": [
    "Cela veut dire qu'il ne faut traiter que les valeurs positives."
   ]
  },
  {
   "cell_type": "markdown",
   "metadata": {},
   "source": [
    "### L'instruction else"
   ]
  },
  {
   "cell_type": "markdown",
   "metadata": {},
   "source": [
    "L'instruction **else** est l'**instruction alternative** du if. Le else peut être traduit en français par sinon. Cela veut dire que lorsqu'on place une instruction if et que l'expression boléenne qui la suit est fausse, alors le programme exécutera le corps d'identité suivant le else. \n",
    "\n",
    "Pour être plus clair, regardons l'exemple qui suit:"
   ]
  },
  {
   "cell_type": "code",
   "execution_count": 6,
   "metadata": {},
   "outputs": [
    {
     "name": "stdout",
     "output_type": "stream",
     "text": [
      "x n'est pas divisble par trois\n"
     ]
    }
   ],
   "source": [
    "x = 4\n",
    "\n",
    "if x % 3 == 0:\n",
    "    print(\"x est divisible par trois\")\n",
    "\n",
    "else:\n",
    "    print(\"x n'est pas divisble par trois\")"
   ]
  },
  {
   "cell_type": "markdown",
   "metadata": {},
   "source": [
    "Dans cet exemple, l'expression boléenne suivant le if test si le nombre x est divisible par 3. Si le reste de la division de x par 3 est égal à 0, le programme exécute les instructions suivant le if et non celles suivant le else. En revanche, si le nombre n'est pas divisible par 3, la deuxième série d'instructions sera exécutée. \n",
    "\n",
    "Il est important de savoir que comme l'expression boléenne est soit vraie, soit fausse, une seule des branches alternative sera exécutée."
   ]
  },
  {
   "cell_type": "markdown",
   "metadata": {},
   "source": [
    "### L'instruction elif"
   ]
  },
  {
   "cell_type": "markdown",
   "metadata": {},
   "source": [
    "if else elif\n",
    "\n",
    "for i in range(n)\n",
    "for item in list\n",
    "for car in string"
   ]
  },
  {
   "cell_type": "code",
   "execution_count": 3,
   "metadata": {},
   "outputs": [
    {
     "name": "stdout",
     "output_type": "stream",
     "text": [
      "spam\n",
      "eggs\n",
      "saussage\n",
      "ham\n"
     ]
    }
   ],
   "source": [
    "menu = ['spam', 'eggs', 'saussage', 'ham']\n",
    "for item in menu:\n",
    "    print(item)"
   ]
  },
  {
   "cell_type": "code",
   "execution_count": 112,
   "metadata": {},
   "outputs": [
    {
     "name": "stdout",
     "output_type": "stream",
     "text": [
      "s\n",
      "p\n",
      "a\n",
      "m\n",
      " \n",
      "a\n",
      "n\n",
      "d\n",
      " \n",
      "e\n",
      "g\n",
      "g\n",
      "s\n"
     ]
    }
   ],
   "source": [
    "dish = 'spam and eggs'\n",
    "for car in dish:\n",
    "    print(car)"
   ]
  }
 ],
 "metadata": {
  "kernelspec": {
   "display_name": "Python 3",
   "language": "python",
   "name": "python3"
  },
  "language_info": {
   "codemirror_mode": {
    "name": "ipython",
    "version": 3
   },
   "file_extension": ".py",
   "mimetype": "text/x-python",
   "name": "python",
   "nbconvert_exporter": "python",
   "pygments_lexer": "ipython3",
   "version": "3.4.2"
  }
 },
 "nbformat": 4,
 "nbformat_minor": 2
}
