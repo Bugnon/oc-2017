{
 "cells": [
  {
   "cell_type": "markdown",
   "metadata": {},
   "source": [
    "# OpenCV"
   ]
  },
  {
   "cell_type": "markdown",
   "metadata": {},
   "source": [
    "### Lancement d'OpenCV avec jupyter notebook"
   ]
  },
  {
   "cell_type": "markdown",
   "metadata": {},
   "source": [
    "- Il faut se placer dans l'environnement virtuel à l'aide du terminal:  \n",
    "$source start_py3cv3.sh\n",
    "\n",
    "- Puis se placer dans le dossier où l'on veut créer notre notebook avec:  \n",
    "$cd"
   ]
  },
  {
   "cell_type": "code",
   "execution_count": 5,
   "metadata": {},
   "outputs": [],
   "source": [
    "# Ensuite, il faut importer les modules nécessaires au bon fonctionnement d'OpenCV:  \n",
    "\n",
    "%matplotlib inline\n",
    "import cv2\n",
    "import numpy as np\n",
    "import matplotlib.pyplot as plt"
   ]
  },
  {
   "cell_type": "code",
   "execution_count": 6,
   "metadata": {},
   "outputs": [],
   "source": [
    "# Pour faire apparraître les images on définit la fonction suivante:\n",
    "\n",
    "def show(img):\n",
    "    #vérification de la dimension de l'image (dim3=couleur; dim2=noir et blanc)\n",
    "    if len(img.shape)==3: \n",
    "        img2 = cv2.cvtColor(img, cv2.COLOR_BGR2RGB) #convertion du mode de couleur\n",
    "        plot = plt.imshow(img2)\n",
    "    else:\n",
    "        plot = plt.imshow(img, cmap = 'gray')"
   ]
  },
  {
   "cell_type": "code",
   "execution_count": 7,
   "metadata": {},
   "outputs": [],
   "source": [
    "# Pour faire apparaître les histograms on définit la fonction suivante:\n",
    "\n",
    "def histogram(hist, title):\n",
    "    plt.figure()\n",
    "    plt.title(title)\n",
    "    plt.xlabel(\"Bins\") #Nom échelle des x\n",
    "    plt.ylabel(\"# of Pixels\") #Nom échelle des y\n",
    "    plt.plot(hist)\n",
    "    plt.xlim([0, 256])\n",
    "    plt.show()"
   ]
  },
  {
   "cell_type": "markdown",
   "metadata": {},
   "source": [
    "### Image basics"
   ]
  },
  {
   "cell_type": "markdown",
   "metadata": {},
   "source": [
    "- Système de couleur RGB:  \n",
    "-Noir (0,0,0)  \n",
    "-Blanc (225,225,225)  \n",
    "-Rouge (225,0,0)  \n",
    "-Vert (0,225,0)  \n",
    "-Bleu (0,0,225)  \n",
    "\n",
    "\n",
    "- img.shape: donne les dimensions de l'image (y, x, nombre de canals).  \n",
    "\n",
    "\n",
    "- cv2.imread('abc.jpg'):cette fonction lit l'image mais ne l'affiche pas.  \n",
    "\n",
    "\n",
    "- cv2.imshow('abc.jpg'):cette foction affiche l'image.  \n",
    "\n",
    "\n",
    "- Position des pixels:  \n",
    "-(0,0) le pixel se trouve tout en haut à gauche de l'image.   \n",
    "-(3,7) le pixel se trouve sur la troisième colonne en partant de la droite et sur la septième ligne en partant du haut.   \n",
    "-($x_{max}$,0) le pixel se trouve tout en haut à droite.  \n",
    "-(0,$y_{max}$) le pixel se trouve tout en bas à gauche.  \n",
    "($x_{max}$,$y_{max}$) le pixel se trouve tout en bas à droite."
   ]
  },
  {
   "cell_type": "markdown",
   "metadata": {},
   "source": [
    "### Drawing"
   ]
  },
  {
   "cell_type": "markdown",
   "metadata": {},
   "source": []
  }
 ],
 "metadata": {
  "kernelspec": {
   "display_name": "Python 3",
   "language": "python",
   "name": "python3"
  },
  "language_info": {
   "codemirror_mode": {
    "name": "ipython",
    "version": 3
   },
   "file_extension": ".py",
   "mimetype": "text/x-python",
   "name": "python",
   "nbconvert_exporter": "python",
   "pygments_lexer": "ipython3",
   "version": "3.4.2"
  }
 },
 "nbformat": 4,
 "nbformat_minor": 2
}
