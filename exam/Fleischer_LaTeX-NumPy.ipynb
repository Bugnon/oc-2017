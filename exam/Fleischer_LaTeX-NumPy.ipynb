{
 "cells": [
  {
   "cell_type": "markdown",
   "metadata": {},
   "source": [
    "# NumPy et LaTeX\n",
    "Dans ce notebook Jupyter, nous allons présenter \n",
    "* la mise en page d'expressions mathématique avec **LaTeX**\n",
    "* la bibliothèque pour le calcul numérique **NumPy**\n",
    "* l'utilisation des arrays numpy dans **OpenCV**\n",
    "\n",
    "Le notebook Jupyter est un outil puissant pour développer, tester et documenter des algorithmes, des applications mathématiques ou tout simplement du code informatique. Il permet de combiner dans un seul document:\n",
    "* documentation (avec Markdown)\n",
    "* code et son résultat\n",
    "* images\n",
    "* formules mathématiques (avec LaTex)"
   ]
  },
  {
   "cell_type": "markdown",
   "metadata": {},
   "source": [
    "## LaTeX\n",
    "Sources et références:\n",
    "* http://data-blog.udacity.com/posts/2016/10/latex-primer/\n",
    "* https://fr.wikibooks.org/wiki/LaTeX/Écrire_des_mathématiques\n",
    "\n",
    "LaTeX est un outil puissant pour mettre en forme des formules mathématiques. Il permet de produire des documents scientifiques de grande qualité typographique, principalement des livres et des articles scientifiques. LaTeX est largement utilisé dans le monde scientifique pour les publications dans les domaines de\n",
    "* mathématiques\n",
    "* physique\n",
    "* informatique\n",
    "* chimie\n",
    "\n",
    "Contrairement aux traitements de texte habituels, ce n'est pas un système WYSIWIG (what you see is what you get). La mise en forme se fait par des balises.\n",
    "**LaTeX** entre donc dans la catégorie des langages à balises comme le **HTML** pour la descriptions des pages web, ou sa version simplifié **Markdown** pour les pages README.md sur GitHub."
   ]
  },
  {
   "cell_type": "markdown",
   "metadata": {},
   "source": [
    "### Formules en ligne et formules centrées\n",
    "Les formules en ligne sont entourées par un simple symbol dollar `$`. Par exemple la formule de Pythagore s'écrit en LaTex `$c = \\sqrt{a^2 + b^2}$` et donne le résultat $c = \\sqrt{a^2 + b^2}$ intégré dans le texte en ligne.\n",
    "\n",
    "Pour faire apparaitre une formule seul sur une ligne et centré, il faut entourer la formule LaTeX par un double symbole dollar `$$`.  L'expression LaTeX `$$c = \\sqrt{a^2 + b^2}$` donne le résultat \n",
    "$$c = \\sqrt{a^2 + b^2}$$\n",
    "\n",
    "Le placement des formules est différent selon le mode en ligne ou en mode centré. L'expression `$e^x = \\sum_{n=0}^\\infty \\frac{x^n}{n!}$` donne ceci  en mode en ligne $e^x = \\sum_{n=0}^\\infty \\frac{x^n}{n!}$ et ceci en mode centré\n",
    "$$e^x = \\sum_{n=0}^\\infty \\frac{x^n}{n!}$$"
   ]
  },
  {
   "cell_type": "markdown",
   "metadata": {},
   "source": [
    "### Puissances et indices\n",
    "* le symbole chapeau `^` est utilisé pour exprimer une puissance. Par exemple `$x^2$` donne $x^2$\n",
    "* le symbole tiret bas `_` est utilisé pour exprimer un indice. Par exemple `$x_1$` donne $x_1$\n",
    "* les accolades `{...}` sont utilisées pour groupes des expressions. Par exeemple `$x^{2+n}$` donne $x^{2+n}$\n",
    "* puissance et indice peuvent être combinées. Par exemple `$x_{ij} ^{4j}$` donne $x_{ij}^{4j}$"
   ]
  },
  {
   "cell_type": "markdown",
   "metadata": {},
   "source": [
    "### Fractions\n",
    "Pour écrire une fraction, il faut utiliser la balise `\\frac`. En fait, la plupart des balises spéciales de LaTeX utilisent la barre oblique en arrière `\\`. Donc par exemple, `$\\frac x 2` donne $\\frac x 2$\n",
    "\n",
    "Toutefois, il est plus sûr d'utiliser des accolades pour grouper le numérateur et le dénominateur. Par exemple `$\\frac{12-z}{x-4}$` donne \n",
    "$$\\frac{12-z}{x-4}$$"
   ]
  },
  {
   "cell_type": "markdown",
   "metadata": {},
   "source": [
    "### Symboles mathématiques\n",
    "Quelques symboles utiles :\n",
    "- `\\cdot` (center dot)  : $\\cdot$\n",
    "- `\\times` (multiplication) : $\\times$\n",
    "- `\\alpha` (lettre grèque): $\\alpha$\n",
    "- `\\beta`  : $\\beta$\n",
    "- `\\theta` : $\\theta$\n",
    "- `\\infty` (infinité) : $\\infty$\n",
    "- `\\approx` : $\\approx$\n",
    "- `\\leq` (less or equal) : $\\leq$\n",
    "- `\\geq` (greater or equal) : $\\geq$\n",
    "- `\\neq` (not equal) : $\\neq$"
   ]
  },
  {
   "cell_type": "markdown",
   "metadata": {},
   "source": [
    "### Trigonomètrie\n",
    "LaTeX peut être utiliser pour écrire des fonctions trigonomètriques, avec les balises `\\sin`, `\\cos`, `\\tan`, et `\\cot`.\n",
    "Exemples :\n",
    "- `\\sin(4x)` donne $\\sin(4x)$\n",
    "- `\\cos(z^2)` donne $\\cos(z^2)$\n",
    "- `\\tan\\alpha` donne $\\tan\\alpha$\n",
    "\n",
    "Notons que les parenthèses ne sont pas nécessaires."
   ]
  },
  {
   "cell_type": "markdown",
   "metadata": {},
   "source": [
    "### Matrices\n",
    "Alors, pour ce qui est des matrices, cela se complique un peu. On va utiliser les balises `\\begin {type}` et `\\end {type}` en indiquant quel est le type.\n",
    "Les types possibles sont entre-autre :\n",
    "- `matrix`\n",
    "- `pmatrix` (parenthesis)\n",
    "- `bmatrix` (brackets)\n",
    "- `vmatrix` (\n",
    "- `Vmatrix`\n",
    "\n",
    "Nous verrons plus tard les différences.\n",
    "L'interieur d'une matrice s'écrit comme suit : `a & b \\\\ c & d'.\n",
    "* l'esperluette `&` indique un changement de colonne \n",
    "* la barre oblique en arrière double `\\\\` indique un changement de ligne\n",
    "\n",
    "Donc, pour créer un matrice, on va écrire `\\begin{matrix} a & b \\\\ c & d \\end{matrix`, ce qui donne\n",
    "\n",
    "$$\\begin{matrix} a & b \\\\ c & d \\end{matrix}$$\n",
    "\n",
    "Les différents types de matrice sont donc :\n",
    "\n",
    "- matrix : $\\begin {matrix} a & b \\\\ c & d \\end {matrix}$\n",
    "- pmatrix : $\\begin {pmatrix} a & b \\\\ c & d \\end {pmatrix}$\n",
    "- bmatrix : $\\begin {bmatrix} a & b \\\\ c & d \\end {bmatrix}$\n",
    "- vmatrix : $\\begin {vmatrix} a & b \\\\ c & d \\end {vmatrix}$\n",
    "- Vmatrix : $\\begin {Vmatrix} a & b \\\\ c & d \\end {Vmatrix}$\n",
    "\n",
    "On peut faire toute sorte de matrices, $2\\times2$, $3\\times3$, $1\\times2$, $2\\times3$, etc.\n",
    "\n",
    "Il suffit de jouer avec les `&` et les `\\\\` :\n",
    "\n",
    "$\\begin{array}{c c}\\begin {bmatrix} 1 & 3 \\\\ 5 & 9 \\end {bmatrix} \n",
    "&\\begin {pmatrix} 1 & 37 & 12 \\\\ 5 & 1 & 6 \\end {pmatrix}\n",
    "&\\begin {vmatrix} 1 & 37 & 12 \\\\ 5 & 1 & 6 \\\\ 13 & 3 & 8\\end {vmatrix} \\end{array}$"
   ]
  },
  {
   "cell_type": "markdown",
   "metadata": {},
   "source": [
    "### Vecteurs\n",
    "Les vecteurs sont juste une forme de matrice.\n",
    "Pour écrire un vecteur 3D, il sufffit d'ecrire une matrice de type pmatrix et de dimension 1x3 :\n",
    "\n",
    "`\\begin{pmatrix} 1 \\\\ 2 \\\\ 3 \\end{pmatrix}` donne\n",
    "$\\begin{pmatrix} 1 \\\\ 2 \\\\ 3 \\end{pmatrix}$\n",
    "\n",
    "Pour la notation algèbrique, c'est comme ceci :\n",
    "`\\vec{v}` donne $\\vec{v}$"
   ]
  },
  {
   "cell_type": "markdown",
   "metadata": {},
   "source": [
    "## NumPy"
   ]
  },
  {
   "cell_type": "markdown",
   "metadata": {},
   "source": [
    "**NumPy** est une extenseion du language de programmation Python, destinée à manipuler des matrices ou tableaux multidimensionnels ainsi que des fonctions mathématiques opérants sur ces tableaux.\n",
    "\n",
    "Sources et références:\n",
    "* https://fr.wikipedia.org/wiki/NumPy\n",
    "* https://docs.scipy.org/doc/numpy/user/quickstart.html\n",
    "* https://docs.scipy.org/doc/numpy/numpy-ref-1.14.2.pdf (1333 pages)\n",
    "* https://docs.scipy.org/doc/numpy/numpy-user-1.14.2.pdf (143 pages)"
   ]
  },
  {
   "cell_type": "markdown",
   "metadata": {},
   "source": [
    "### Création de tableau"
   ]
  },
  {
   "cell_type": "markdown",
   "metadata": {},
   "source": [
    "Il existe plusieurs manière de les créer, la première étant de transformer une liste Pyhton en tableau numpy. La convention est d'importer NumPy sous le nom de `np`."
   ]
  },
  {
   "cell_type": "code",
   "execution_count": 1,
   "metadata": {},
   "outputs": [
    {
     "data": {
      "text/plain": [
       "array([1, 2, 3])"
      ]
     },
     "execution_count": 1,
     "metadata": {},
     "output_type": "execute_result"
    }
   ],
   "source": [
    "import numpy as np\n",
    "x = np.array([1, 2, 3])\n",
    "x"
   ]
  },
  {
   "cell_type": "markdown",
   "metadata": {},
   "source": [
    "C'est également possible de produire des plages séquentielles."
   ]
  },
  {
   "cell_type": "code",
   "execution_count": 3,
   "metadata": {},
   "outputs": [
    {
     "data": {
      "text/plain": [
       "array([0, 1, 2, 3, 4, 5, 6, 7, 8, 9])"
      ]
     },
     "execution_count": 3,
     "metadata": {},
     "output_type": "execute_result"
    }
   ],
   "source": [
    "y = np.arange(10)\n",
    "y"
   ]
  },
  {
   "cell_type": "markdown",
   "metadata": {},
   "source": [
    " "
   ]
  },
  {
   "cell_type": "markdown",
   "metadata": {},
   "source": [
    "\n",
    "\n",
    "\n",
    "Le type de base de NumPy est `ndarray`"
   ]
  },
  {
   "cell_type": "code",
   "execution_count": 4,
   "metadata": {},
   "outputs": [
    {
     "data": {
      "text/plain": [
       "numpy.ndarray"
      ]
     },
     "execution_count": 4,
     "metadata": {},
     "output_type": "execute_result"
    }
   ],
   "source": [
    "type(x)"
   ]
  },
  {
   "cell_type": "markdown",
   "metadata": {},
   "source": [
    "### Type de données"
   ]
  },
  {
   "cell_type": "markdown",
   "metadata": {},
   "source": [
    "Contrairement à une liste Python, dans un tableau NumPy tous les éléments ont le même type.\n",
    "\n",
    "Les types les plus utiles sont :\n",
    "- `float_` : Nombre à virgule\n",
    "- `int8` : Nombre entier 8 bits (-128...127)\n",
    "- `uint8` : Nombre entier 8 bits non-signe (unsigned) (0...255) utilisé dans OpenCV pour représenter les pixels RGB\n",
    "\n",
    "La liste complète: https://docs.scipy.org/doc/numpy-1.10.1/user/basics.types.html"
   ]
  },
  {
   "cell_type": "code",
   "execution_count": 5,
   "metadata": {},
   "outputs": [
    {
     "data": {
      "text/plain": [
       "array([1, 2, 3], dtype=uint8)"
      ]
     },
     "execution_count": 5,
     "metadata": {},
     "output_type": "execute_result"
    }
   ],
   "source": [
    "x = np.array([1, 2, 3], dtype=np.uint8)\n",
    "x"
   ]
  },
  {
   "cell_type": "markdown",
   "metadata": {},
   "source": [
    "### Matrice nulle\n",
    "Une matrice nulle est une matrice dont tout les coefficients sonts nulles. La fonction suivante produit une tel matrice nulle\n",
    "`np.zeros(dims, dtype = \"type\"`\n",
    "- dims : Dimensions de la matrice, elle doit être sous la forme d'un tuple.\n",
    "- dtype : Type de valeur contenue dans la matrice"
   ]
  },
  {
   "cell_type": "code",
   "execution_count": 6,
   "metadata": {},
   "outputs": [
    {
     "name": "stdout",
     "output_type": "stream",
     "text": [
      "[[0 0 0]\n",
      " [0 0 0]\n",
      " [0 0 0]]\n"
     ]
    }
   ],
   "source": [
    "M = np.zeros((3, 3), dtype=\"int_\")\n",
    "print(M)"
   ]
  },
  {
   "cell_type": "markdown",
   "metadata": {},
   "source": [
    "On peut ajouter autant de dimensions que l'on veut. Si l'on voulait faire un matrice **OpenCV** pour contenir une image icône de 64x64 pixels, avec les 3 octets RVB, on pourait le faire comme cela : "
   ]
  },
  {
   "cell_type": "markdown",
   "metadata": {},
   "source": [
    " "
   ]
  },
  {
   "cell_type": "markdown",
   "metadata": {},
   "source": [
    " "
   ]
  },
  {
   "cell_type": "code",
   "execution_count": 7,
   "metadata": {},
   "outputs": [],
   "source": [
    "M = np.zeros((64, 64, 3), dtype=\"uint8\")"
   ]
  },
  {
   "cell_type": "markdown",
   "metadata": {},
   "source": [
    "La Matrice M est en 3 dimensions et contient que des zéros, donc représente une image ou tout les 64x64 pixels sont noirs. \n",
    "\n",
    "On peut utiliser la méthode np.ones qui fonctionne de la même manière mais qui remplit la matrice de 1."
   ]
  },
  {
   "cell_type": "code",
   "execution_count": 8,
   "metadata": {},
   "outputs": [
    {
     "name": "stdout",
     "output_type": "stream",
     "text": [
      "[[1 1 1]\n",
      " [1 1 1]\n",
      " [1 1 1]]\n"
     ]
    }
   ],
   "source": [
    "M = np.ones((3, 3), dtype=\"int_\")\n",
    "print(M)"
   ]
  },
  {
   "cell_type": "markdown",
   "metadata": {},
   "source": [
    "On peut aussi créer une matrice à partir des valeurs que l'on veut mettre dedans. Si l'on veut une matrice comme celle-ci :\n",
    "\n",
    "$\\begin{pmatrix}1 & 0 & 3\\\\0 & 1 & 4\\\\4 & 1 & 0\\end{pmatrix}$\n",
    "\n",
    "Il faut faire cela :"
   ]
  },
  {
   "cell_type": "code",
   "execution_count": 9,
   "metadata": {},
   "outputs": [],
   "source": [
    "M = np.int_([[1, 0, 3], \n",
    "             [0, 1, 4], \n",
    "             [4, 1, 0]])"
   ]
  },
  {
   "cell_type": "markdown",
   "metadata": {},
   "source": [
    "le int_ permet de définir le type, voir ci-dessus pour avoir une liste des types."
   ]
  },
  {
   "cell_type": "code",
   "execution_count": 10,
   "metadata": {},
   "outputs": [
    {
     "name": "stdout",
     "output_type": "stream",
     "text": [
      "[['1' '1' '1']\n",
      " ['1' '1' '1']\n",
      " ['1' '1' '1']]\n"
     ]
    }
   ],
   "source": [
    "M = np.ones((3, 3), dtype = \"string_\")\n",
    "print(M)"
   ]
  },
  {
   "cell_type": "markdown",
   "metadata": {},
   "source": [
    "### Opérations matricielles\n",
    "**NumPy** permet d'aditionner et de soustraire simplement des matrices, il suffit d'utiliser les signes habituels."
   ]
  },
  {
   "cell_type": "code",
   "execution_count": 11,
   "metadata": {},
   "outputs": [
    {
     "name": "stdout",
     "output_type": "stream",
     "text": [
      "[[3 4]\n",
      " [6 9]]\n"
     ]
    }
   ],
   "source": [
    "M1 = np.int_([[1, 0], \n",
    "              [3, 4]]) \n",
    "M2 = np.int_([[2, 4],\n",
    "              [3, 5]])\n",
    "print(M1 + M2)"
   ]
  },
  {
   "cell_type": "markdown",
   "metadata": {},
   "source": [
    "Ce qui représente l'opération d'addition de matrices:\n",
    "\n",
    "$$\\begin{pmatrix}1&0\\\\3&4\\end{pmatrix} + \\begin{pmatrix}2&4\\\\3&5\\end{pmatrix} = \\begin{pmatrix}3&4\\\\6&9\\end{pmatrix}$$"
   ]
  },
  {
   "cell_type": "code",
   "execution_count": 12,
   "metadata": {},
   "outputs": [
    {
     "name": "stdout",
     "output_type": "stream",
     "text": [
      "[[-1 -4]\n",
      " [ 0 -1]]\n"
     ]
    }
   ],
   "source": [
    "print(M1 - M2)"
   ]
  },
  {
   "cell_type": "markdown",
   "metadata": {},
   "source": [
    "Ce qui représtante la soustraction de matrices:\n",
    "\n",
    "$$\\begin{pmatrix}1&0\\\\3&4\\end{pmatrix} - \\begin{pmatrix}2&4\\\\3&5\\end{pmatrix} = \\begin{pmatrix}-1&-4\\\\0&-1\\end{pmatrix}$$\n",
    "\n",
    "NumPy permet aussi de faire des opérations plus complèxes, comme le produit de deux matrices (dot) :"
   ]
  },
  {
   "cell_type": "code",
   "execution_count": 13,
   "metadata": {},
   "outputs": [
    {
     "name": "stdout",
     "output_type": "stream",
     "text": [
      "[[ 2  4]\n",
      " [18 32]]\n"
     ]
    }
   ],
   "source": [
    "print(M1.dot(M2))"
   ]
  },
  {
   "cell_type": "markdown",
   "metadata": {},
   "source": [
    "$$\\begin{pmatrix}1&0\\\\3&4\\end{pmatrix} \\cdot \\begin{pmatrix}2&4\\\\3&5\\end{pmatrix} = \n",
    "\\begin{pmatrix}\n",
    "1 \\cdot 2 + 0 \\cdot 3&\n",
    "1 \\cdot 4 + 0 \\cdot 5\\\\\n",
    "3 \\cdot 2 + 4 \\cdot 3&\n",
    "3 \\cdot 4 + 4 \\cdot 5\\end{pmatrix} = \\begin{pmatrix}2&4\\\\18&32\\end{pmatrix}$$\n",
    "\n",
    "Le module d'algèbre linéaire de NumPy `linalg` apporte quelques outils interessants, comme un moyen de calculer le déterminant d'une matrice:"
   ]
  },
  {
   "cell_type": "code",
   "execution_count": 14,
   "metadata": {},
   "outputs": [
    {
     "name": "stdout",
     "output_type": "stream",
     "text": [
      "4.0\n"
     ]
    }
   ],
   "source": [
    "print(np.linalg.det(M1))"
   ]
  },
  {
   "cell_type": "markdown",
   "metadata": {},
   "source": [
    "ou de calculer l'inverse d'une matrice avec l'opérateur `inv`:"
   ]
  },
  {
   "cell_type": "code",
   "execution_count": 15,
   "metadata": {},
   "outputs": [
    {
     "name": "stdout",
     "output_type": "stream",
     "text": [
      "[[-2.5  2. ]\n",
      " [ 1.5 -1. ]]\n",
      "[[0 0]\n",
      " [0 1]]\n"
     ]
    }
   ],
   "source": [
    "Minv = np.linalg.inv(M2)\n",
    "print(Minv)\n",
    "print(M2.dot(Minv).astype(\"int_\"))"
   ]
  },
  {
   "cell_type": "markdown",
   "metadata": {},
   "source": [
    "La matrice inverse de $\\begin{pmatrix}2&4\\\\3&5\\end{pmatrix}$ est donc $\\begin{pmatrix}-2,5&2\\\\1,5&-1\\end{pmatrix}$ on peut le vérifier en multipliant les deux matrices entre-elles. Cela donne bien la matrice unité.\n",
    "\n",
    "(J'ai changé le format de la matrice en int_ car l'opération pour trouver l'inverse crée des nombres à virgules et par exmple à la place d'obtenir zéro, on obtient $\\approx 4,4 \\times 10^{-16}$ ce qui revient à zéro. Mais pour plus de lisibilité, j'ai changé le format.)"
   ]
  },
  {
   "cell_type": "markdown",
   "metadata": {},
   "source": [
    "## Utilisation de NumPy dans OpenCV"
   ]
  },
  {
   "cell_type": "markdown",
   "metadata": {},
   "source": [
    "L'une des raisons principales pour lesquels nous utilisons **NumPy**, c'est pour son utilisté dans **OpenCV**. Les images, chez **OpenCV**, sont sous forme de matrices. Donc **NumPy** permet de créer des images, de travailler dessus, des les transformer, etc."
   ]
  },
  {
   "cell_type": "code",
   "execution_count": 2,
   "metadata": {},
   "outputs": [],
   "source": [
    "import cv2\n",
    "import matplotlib.pyplot as plt\n",
    "\n",
    "def pltShow(img):\n",
    "    img = cv2.cvtColor(img, cv2.COLOR_BGR2RGB)\n",
    "    plt.imshow(img)"
   ]
  },
  {
   "cell_type": "markdown",
   "metadata": {},
   "source": [
    "### Créations d'images vièrges\n",
    "Les images sont des matrices 3d sous la forme largeur x hauteur x cannaux. La largeur et la hauteur définisse la taille de l'image et donc le nombre de pixel qu'elle contient, et les cannaux sont le nombre de couleur contenu dans un pixel. Une image en RGB a 3 cannaux, un pour le rouge, un pour le vert et un pour le bleu.\n",
    "\n",
    "L'intentité d'une couleur ne s'entend que de 0-255. C'est pourquoi on utilise le type uint8.\n",
    "\n",
    "Imaginons que l'on veut créer une image BGR noire 100x50, on peut le faire comme cela :"
   ]
  },
  {
   "cell_type": "code",
   "execution_count": 3,
   "metadata": {},
   "outputs": [
    {
     "data": {
      "image/png": "[encoded data removed]",
      "text/plain": [
       "<matplotlib.figure.Figure at 0x745a69b0>"
      ]
     },
     "metadata": {},
     "output_type": "display_data"
    }
   ],
   "source": [
    "N = np.zeros([100, 50, 3], dtype=\"uint8\")\n",
    "pltShow(N)"
   ]
  },
  {
   "cell_type": "markdown",
   "metadata": {},
   "source": [
    "### Transformations\n"
   ]
  },
  {
   "cell_type": "markdown",
   "metadata": {},
   "source": [
    "**NumPy** permet de créer des matrices de transformation affines, comme la translation ou la rotation. A l'aide de la fonction `warpAffine()`de **cv2**.\n",
    "\n",
    "Source et référence : \n",
    "- https://docs.opencv.org/3.0-beta/doc/py_tutorials/py_imgproc/py_geometric_transformations/py_geometric_transformations.html\n",
    "\n",
    "#### Translation\n",
    "La matrice de translation dans **OpenCV** s'écrit comme cela : \n",
    "$$\\begin{pmatrix}1&0&t_x\\\\0&1&ty\\end{pmatrix}$$\n",
    "$t_x$ et $t_y$ sont les valeurs de la transaltion respectivement en x et en y. \n",
    "Donc si l'on veut créer une matrice de translation qui déplace l'image de 50 pixel en x et 25 pixel en y, il faut que la matrice soit comme ceci :"
   ]
  },
  {
   "cell_type": "code",
   "execution_count": 4,
   "metadata": {},
   "outputs": [
    {
     "data": {
      "image/png": "[encoded data removed]",
      "text/plain": [
       "<matplotlib.figure.Figure at 0x6b1c6070>"
      ]
     },
     "metadata": {},
     "output_type": "display_data"
    }
   ],
   "source": [
    "T = np.float32([[1, 0, 50],\n",
    "               [0, 1, 25]])\n",
    "image = cv2.imread(\"./img_gabriel/cube.jpg\")\n",
    "\n",
    "(h, w) = image.shape[:2]\n",
    "\n",
    "pltShow(image)"
   ]
  },
  {
   "cell_type": "code",
   "execution_count": 5,
   "metadata": {},
   "outputs": [
    {
     "data": {
      "image/png": "[encoded data removed]",
      "text/plain": [
       "<matplotlib.figure.Figure at 0x70253bb0>"
      ]
     },
     "metadata": {},
     "output_type": "display_data"
    }
   ],
   "source": [
    "imageT = cv2.warpAffine(image, T, (w, h))\n",
    "pltShow(imageT)"
   ]
  },
  {
   "cell_type": "markdown",
   "metadata": {},
   "source": [
    "#### Rotation et echelle\n",
    "La matrice dde rotation est habituellement sous cette forme :\n",
    "$$\\begin{pmatrix} cos\\theta&-sin\\theta\\\\sin\\theta&cos\\theta\\end{pmatrix}$$\n",
    "Toutefois, dans **OpenCV**, la matrice de rotation prends aussi en compte le point de rotation et l'echelle de l'image.\n",
    "Cela donne donc, \n",
    "$$\\begin{pmatrix}h\\cos\\theta & h\\sin\\theta & (1-h\\cos\\theta)\\cdot a-h\\sin\\theta\\cdot b\\\\\n",
    "                -h\\sin\\theta & h\\cos\\theta & h\\sin\\theta\\cdot a + (1-h\\cos\\theta)\\cdot b\\end{pmatrix}$$\n",
    "avec :\n",
    "- $(a, b)$ : le point de rotation\n",
    "- $\\theta$ : l'angle de rotation (Dans le sens contraire des aiguilles d'une montre\n",
    "- h : L'echelle de l'image \n",
    "\n",
    "Ce qui est un peu complexe. C'est pourquoi cv2 offre une méthode pour générer une matrice de rotation simplement :\n",
    "\n",
    "`cv2.getRotationMatrix2D((a, b), θ, h)`\n",
    "\n",
    "Si l'on veut tourner notre image de 30° autours des points $(40, 50)$, voila comment l'on doit créer la matrice de rotation :"
   ]
  },
  {
   "cell_type": "code",
   "execution_count": 6,
   "metadata": {},
   "outputs": [],
   "source": [
    "R = cv2.getRotationMatrix2D((40, 50), 30, 1)"
   ]
  },
  {
   "cell_type": "code",
   "execution_count": 7,
   "metadata": {},
   "outputs": [
    {
     "data": {
      "image/png": "[encoded data removed]",
      "text/plain": [
       "<matplotlib.figure.Figure at 0x6b13a170>"
      ]
     },
     "metadata": {},
     "output_type": "display_data"
    }
   ],
   "source": [
    "imageR = cv2.warpAffine(image, R, (w, h))\n",
    "pltShow(imageR)"
   ]
  },
  {
   "cell_type": "markdown",
   "metadata": {},
   "source": [
    "**NumPy** permet aussi de coller des images les unes à coté des autres, pour cela il faut utiliser la méthode `np.hstack([img1, img2])`"
   ]
  },
  {
   "cell_type": "code",
   "execution_count": 8,
   "metadata": {},
   "outputs": [
    {
     "data": {
      "image/png": "[encoded data removed]",
      "text/plain": [
       "<matplotlib.figure.Figure at 0x6b1ac6d0>"
      ]
     },
     "metadata": {},
     "output_type": "display_data"
    }
   ],
   "source": [
    "stacked = np.hstack([image, imageT, imageR])\n",
    "pltShow(stacked)"
   ]
  }
 ],
 "metadata": {
  "kernelspec": {
   "display_name": "Python 3",
   "language": "python",
   "name": "python3"
  },
  "language_info": {
   "codemirror_mode": {
    "name": "ipython",
    "version": 3
   },
   "file_extension": ".py",
   "mimetype": "text/x-python",
   "name": "python",
   "nbconvert_exporter": "python",
   "pygments_lexer": "ipython3",
   "version": "3.4.2"
  }
 },
 "nbformat": 4,
 "nbformat_minor": 2
}
