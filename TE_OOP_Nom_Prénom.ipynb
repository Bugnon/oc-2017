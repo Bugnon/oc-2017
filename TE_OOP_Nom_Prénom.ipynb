{
 "cells": [
  {
   "cell_type": "markdown",
   "metadata": {},
   "source": [
    "# TE Object-Oriented Programming (OOP)"
   ]
  },
  {
   "cell_type": "markdown",
   "metadata": {},
   "source": [
    "Traivail écrit sur Object-Oriented Programming (OOP)\n",
    "* Nom: \n",
    "* Prénom:\n",
    "* Classe: OC informatique\n",
    "* Date: 8 mai 2018"
   ]
  },
  {
   "cell_type": "markdown",
   "metadata": {},
   "source": [
    "# Variables de classe, Variables d'instance (Jonas)"
   ]
  },
  {
   "cell_type": "markdown",
   "metadata": {},
   "source": [
    "Complétez la definition de la classe __Humain__ avec les méthodes:\n",
    "* __init()__\n",
    "* __str()__\n",
    "* __imc()__\n",
    "* __corpulence()__\n",
    "\n",
    "Dans votre calcul vous devez utiliser \n",
    "* les 3 __variables de classe__ (genres, interpretations, limites)  et \n",
    "* les 4 __variables d'instance__ (nom, poids, taille, genre)"
   ]
  },
  {
   "cell_type": "code",
   "execution_count": 3,
   "metadata": {},
   "outputs": [],
   "source": [
    "class Humain():\n",
    "    '''Décrit un humain avec nom, taille, poids, et genre (m/f).'''\n",
    "    \n",
    "    genres = ('homme', 'femme')\n",
    "    interpretations = ('anorexique', 'maigre', 'normal', 'obèse')\n",
    "    limites = [16.5, 18.5, 25, 100]\n",
    "    \n",
    "    def __init__(self, nom, poids, taille, genre):\n",
    "        \"\"\"Definit une instance de la classe Humain.\"\"\"\n",
    "        pass\n",
    "\n",
    "    def __str__(self):\n",
    "        \"\"\"Retourne une description de l'instance.\"\"\"\n",
    "        pass\n",
    "    \n",
    "    def imc(self):\n",
    "        \"\"\"Calcule l'indice de masse corporelle (poids_kg/taille_m**2)\"\"\"\n",
    "        pass\n",
    "        \n",
    "    def corpulence(self):\n",
    "        \"\"\"Evalue la corpulence: anorexique <16.5, maigre <18.5, normale <25, obèse\"\"\"\n",
    "        pass"
   ]
  },
  {
   "cell_type": "markdown",
   "metadata": {},
   "source": [
    "Exemples"
   ]
  },
  {
   "cell_type": "code",
   "execution_count": 22,
   "metadata": {},
   "outputs": [
    {
     "name": "stdout",
     "output_type": "stream",
     "text": [
      "Steve : homme de 150 kg et de taille 1.75 m\n",
      "Cindy : femme de 50 kg et de taille 1.8 m\n",
      "Billy : femme de 75 kg et de taille 1.75 m\n",
      "\n",
      "Steve imc = 48.9 obèse\n",
      "Cindy imc = 15.4 anorexique\n",
      "Billy imc = 24.4 normal\n"
     ]
    }
   ],
   "source": [
    "steve = Humain('Steve', 150, 1.75, 0)\n",
    "cindy = Humain('Cindy', 50, 1.80, 1)\n",
    "billy = Humain('Billy', 75, 1.75, 1)\n",
    "\n",
    "print(steve.nom, \":\", steve)\n",
    "print(cindy.nom, \":\", cindy)\n",
    "print(billy.nom, \":\", billy)\n",
    "print()\n",
    "print(steve.nom, \"imc =\", steve.imc(), steve.corpulence())\n",
    "print(cindy.nom, \"imc =\", cindy.imc(), cindy.corpulence())\n",
    "print(billy.nom, \"imc =\", billy.imc(), billy.corpulence())"
   ]
  },
  {
   "cell_type": "markdown",
   "metadata": {},
   "source": [
    "# Méthodes spéciales de comparaison (Albert)"
   ]
  },
  {
   "cell_type": "markdown",
   "metadata": {},
   "source": [
    "Créez des définitions pour\n",
    "* une classe __Vec3__,\n",
    "* une méthode pour imprimer `__str__(self)`\n",
    "* une méthode __norm()__ pour calculer longeur\n",
    "* six méthodes speciales de comparaison (<, <=,  ==, !=, >=, >)\n",
    "\n",
    "Qui permet d'obtenir les résultats ci-dessous"
   ]
  },
  {
   "cell_type": "code",
   "execution_count": 4,
   "metadata": {},
   "outputs": [],
   "source": [
    "import math\n",
    "\n",
    "class Vec3():\n",
    "    def __init__(self, x, y, z):\n",
    "        \"\"\"Initialise un vecteur avec les 3 composantes (x, y, z).\"\"\"\n",
    "        pass\n",
    "        \n",
    "    def __str__(self):\n",
    "        \"\"\"Retourne une represation sous forme 'Vec3(x, y, z)'\"\"\"\n",
    "        pass\n",
    "    \n",
    "    def norm(self):\n",
    "        \"\"\"Calcule la norme (la longueur) du vecteur.\"\"\"\n",
    "        pass\n",
    "        \n",
    "    def __lt__(self, other):\n",
    "        pass\n",
    "\n",
    "    def __le__(self, other):\n",
    "        pass\n",
    "\n",
    "    def __eq__(self, other):\n",
    "        pass\n",
    "\n",
    "    def __ne__(self, other):\n",
    "        pass\n",
    "\n",
    "    def __ge__(self, other):\n",
    "        pass\n",
    "\n",
    "    def __gt__(self, other):\n",
    "        pass"
   ]
  },
  {
   "cell_type": "markdown",
   "metadata": {},
   "source": [
    "Exemple"
   ]
  },
  {
   "cell_type": "code",
   "execution_count": 24,
   "metadata": {},
   "outputs": [
    {
     "name": "stdout",
     "output_type": "stream",
     "text": [
      "Vec3(1,1,1) Vec3(1,-1,2)\n",
      "1.7320508075688772 2.449489742783178\n",
      "True True False True False False\n"
     ]
    }
   ],
   "source": [
    "a = Vec3(1, 1 ,1)\n",
    "b = Vec3(1, -1, 2)\n",
    "print(a, b)\n",
    "print(a.norm(), b.norm())\n",
    "print(a<b, a<=b, a==b, a!=b, a>=b, a>b)"
   ]
  },
  {
   "cell_type": "markdown",
   "metadata": {},
   "source": [
    "# Héritage (Gabriel F.)"
   ]
  },
  {
   "cell_type": "markdown",
   "metadata": {},
   "source": [
    "Definissez\n",
    "* une class __Polygon__\n",
    "* une variable de classe __names__ avec la valeur ('triangle', 'rectangle', 'pentagon', 'hexagon')\n",
    "* une méthode `__init__(self, n, s)` qui initialise le polygone\n",
    "* une méthode __str()__ qui affiche le mot _triangle, rectangle, pentagon, hexagon_ si n<=6\n",
    "* une méthode __perimeter()__ qui calcule le périmètre (n * s)\n",
    "* une méthode __angle()__ qui calcule l'angle interne (180-360/n)\n",
    "* des sous-classes __Triangle__, __Square__, __Pentagon__, basées sur __Polygon__\n",
    "* qui utilisent la méthode `super().__init__(n, s)` pour accéder a une méthode de la classe parent\n",
    "\n",
    "Qui affiche les valeurs ci-dessous"
   ]
  },
  {
   "cell_type": "code",
   "execution_count": 5,
   "metadata": {},
   "outputs": [],
   "source": [
    "class Polygon():\n",
    "    names = ('triangle', 'rectangle', 'pentagon', 'hexagon')\n",
    "    \n",
    "    def __init__(self, n=3, s=1):\n",
    "        pass\n",
    "\n",
    "    def __str__(self):\n",
    "        pass\n",
    "\n",
    "    def perimeter(self):\n",
    "        pass\n",
    "\n",
    "    def angle(self):\n",
    "        pass\n",
    "\n",
    "class Triangle(Polygon):\n",
    "    pass\n",
    "\n",
    "class Square(Polygon):\n",
    "    pass\n",
    "\n",
    "class Pentagon(Polygon):\n",
    "    pass"
   ]
  },
  {
   "cell_type": "markdown",
   "metadata": {},
   "source": [
    "Exemples"
   ]
  },
  {
   "cell_type": "code",
   "execution_count": 13,
   "metadata": {},
   "outputs": [
    {
     "name": "stdout",
     "output_type": "stream",
     "text": [
      "name           side      perimeter      angle\n",
      "triangle       3         9              60.0\n",
      "rectangle      2         8              90.0\n",
      "pentagon       1         5              108.0\n"
     ]
    }
   ],
   "source": [
    "print('{:15}{:10}{:15}{}'.format('name', 'side', 'perimeter', 'angle'))\n",
    "for p in (Triangle(3), Square(2), Pentagon(1)):\n",
    "    print('{:15}{:<10}{:<15}{}'.format(str(p), p.s, p.perimeter(), p.angle()))"
   ]
  },
  {
   "cell_type": "markdown",
   "metadata": {},
   "source": [
    "# Code Morse (Ludovic)"
   ]
  },
  {
   "cell_type": "markdown",
   "metadata": {},
   "source": [
    "Définissez les 2 méthodes:\n",
    "* toMorse(self)\n",
    "* fromMorse(self)"
   ]
  },
  {
   "cell_type": "code",
   "execution_count": 11,
   "metadata": {},
   "outputs": [],
   "source": [
    "class Morse(str):\n",
    "    codes = {'a':'.-', 'b':'-...', 'c':'-.-.', 'd':'-..', 'e':'.', 'f':'..-.', 'g':'--.', 'h':'....', \n",
    "         'i':'..', 'j':'.---', 'k':'-.-', 'l':'.-..', 'm':'--', 'n':'-.', 'o':'---', 'p':'.--.', 'q':'--.-', \n",
    "         'r':'.-.', 's':'...', 't':'-', 'u':'..-', 'v':'...-', 'w':'.--', 'x':'-..-', 'y':'-.--', 'z':'--..'}\n",
    "    \n",
    "    inv_codes = {m: c for c, m in Morse.codes.items()}\n",
    "    \n",
    "    def __init__(self, msg):\n",
    "        self.msg = msg\n",
    "\n",
    "    def toMorse(self):\n",
    "        \"\"\"Transforme une chaine en code Morse\"\"\"\n",
    "        pass\n",
    "    \n",
    "    def fromMorse(self):\n",
    "        \"\"\"Transforme un code Morse en chaine de caractères\"\"\"\n",
    "        pass"
   ]
  },
  {
   "cell_type": "markdown",
   "metadata": {},
   "source": [
    "Exemples"
   ]
  },
  {
   "cell_type": "code",
   "execution_count": 108,
   "metadata": {},
   "outputs": [
    {
     "name": "stdout",
     "output_type": "stream",
     "text": [
      "SOS\n",
      "... --- ... \n"
     ]
    }
   ],
   "source": [
    "s = Morse('SOS')\n",
    "print(s)\n",
    "print(s.toMorse())"
   ]
  },
  {
   "cell_type": "code",
   "execution_count": 112,
   "metadata": {},
   "outputs": [
    {
     "name": "stdout",
     "output_type": "stream",
     "text": [
      "hello\n",
      ".... . .-.. .-.. --- \n"
     ]
    }
   ],
   "source": [
    "h = Morse('hello')\n",
    "print(h)\n",
    "print(h.toMorse())"
   ]
  },
  {
   "cell_type": "code",
   "execution_count": 111,
   "metadata": {},
   "outputs": [
    {
     "name": "stdout",
     "output_type": "stream",
     "text": [
      "hello\n"
     ]
    }
   ],
   "source": [
    "print(Morse('.... . .-.. .-.. ---').fromMorse())"
   ]
  },
  {
   "cell_type": "markdown",
   "metadata": {},
   "source": [
    "# Extension d'un module"
   ]
  },
  {
   "cell_type": "markdown",
   "metadata": {},
   "source": [
    "Une classe peut étendre un module existant. \n",
    "\n",
    "Créez une nouvelle classe __FrenchDate__ basé sur _datetime.date_ qui redefinit la fonction `__str__(self)` pour imprimer une date avec le mois écrit en lettres en français."
   ]
  },
  {
   "cell_type": "code",
   "execution_count": 6,
   "metadata": {},
   "outputs": [],
   "source": [
    "import datetime\n",
    "\n",
    "class FrenchDate(datetime.date):\n",
    "    months = ('janvier', 'février', 'mars', 'avril', 'mai', 'juin', \n",
    "              'juillet', 'aout', 'septembre', 'octobre', 'novembre', 'décembre')\n",
    "    \n",
    "    def __str__(self):\n",
    "        pass"
   ]
  },
  {
   "cell_type": "markdown",
   "metadata": {},
   "source": [
    "Exemple"
   ]
  },
  {
   "cell_type": "code",
   "execution_count": 121,
   "metadata": {},
   "outputs": [
    {
     "name": "stdout",
     "output_type": "stream",
     "text": [
      "23 mai 1999\n"
     ]
    }
   ],
   "source": [
    "fd = FrenchDate(1999, 5, 23)\n",
    "print(fd)"
   ]
  },
  {
   "cell_type": "markdown",
   "metadata": {},
   "source": [
    "Créez une nouvelle classe __JapaneseDate__ basé sur _datetime.date_ qui imprime une date sous deux formes:\n",
    "* avec des symboles japonaises : 2000年2月23日 (vous pouvez copier-coller ces caractères)\n",
    "* en phonétique (romaji) : 2000-nen-2-gatsu-23-nichi"
   ]
  },
  {
   "cell_type": "code",
   "execution_count": 126,
   "metadata": {},
   "outputs": [],
   "source": [
    "class JapaneseDate(datetime.date):\n",
    "    def __str__(self):\n",
    "        pass\n",
    "    \n",
    "    def romaji(self):\n",
    "        pass"
   ]
  },
  {
   "cell_type": "markdown",
   "metadata": {},
   "source": [
    "Exemple"
   ]
  },
  {
   "cell_type": "code",
   "execution_count": 123,
   "metadata": {},
   "outputs": [
    {
     "name": "stdout",
     "output_type": "stream",
     "text": [
      "2000年2月23日\n",
      "2000-nen-2-gatsu-23-nichi\n"
     ]
    }
   ],
   "source": [
    "jd = JapaneseDate(2000, 2, 23)\n",
    "print(jd)\n",
    "print(jd.romaji())"
   ]
  }
 ],
 "metadata": {
  "kernelspec": {
   "display_name": "Python 3",
   "language": "python",
   "name": "python3"
  },
  "language_info": {
   "codemirror_mode": {
    "name": "ipython",
    "version": 3
   },
   "file_extension": ".py",
   "mimetype": "text/x-python",
   "name": "python",
   "nbconvert_exporter": "python",
   "pygments_lexer": "ipython3",
   "version": "3.4.2"
  }
 },
 "nbformat": 4,
 "nbformat_minor": 2
}
