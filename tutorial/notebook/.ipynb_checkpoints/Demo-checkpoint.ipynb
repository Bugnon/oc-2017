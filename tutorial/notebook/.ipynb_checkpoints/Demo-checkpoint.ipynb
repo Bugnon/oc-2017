{
 "cells": [
  {
   "cell_type": "markdown",
   "metadata": {},
   "source": [
    "# Loops\n",
    "Looping can be done with the command `for i in range(n)`"
   ]
  },
  {
   "cell_type": "code",
   "execution_count": 8,
   "metadata": {},
   "outputs": [
    {
     "name": "stdout",
     "output_type": "stream",
     "text": [
      "(0, 0, 0)\n",
      "(1, 1, 1)\n",
      "(2, 4, 8)\n",
      "(3, 9, 27)\n",
      "(4, 16, 64)\n",
      "(5, 25, 125)\n",
      "(6, 36, 216)\n",
      "(7, 49, 343)\n",
      "(8, 64, 512)\n",
      "(9, 81, 729)\n"
     ]
    }
   ],
   "source": [
    "for i in range(10):\n",
    "    print(i, i**2, i**3)"
   ]
  },
  {
   "cell_type": "markdown",
   "metadata": {},
   "source": [
    "# Types\n",
    "Python objects can have many types"
   ]
  },
  {
   "cell_type": "code",
   "execution_count": 9,
   "metadata": {},
   "outputs": [
    {
     "name": "stdout",
     "output_type": "stream",
     "text": [
      "(1, <type 'int'>)\n",
      "(1.1, <type 'float'>)\n",
      "(True, <type 'bool'>)\n",
      "('abc', <type 'str'>)\n",
      "((1, 2), <type 'tuple'>)\n",
      "([1, 2], <type 'list'>)\n"
     ]
    }
   ],
   "source": [
    "for i in (1, 1.1, True, \"abc\", (1, 2), [1, 2]):\n",
    "    print(i, type(i))"
   ]
  },
  {
   "cell_type": "code",
   "execution_count": 1,
   "metadata": {},
   "outputs": [],
   "source": [
    "import numpy as np"
   ]
  },
  {
   "cell_type": "code",
   "execution_count": 6,
   "metadata": {},
   "outputs": [
    {
     "data": {
      "text/plain": [
       "array([0, 1, 2])"
      ]
     },
     "execution_count": 6,
     "metadata": {},
     "output_type": "execute_result"
    }
   ],
   "source": [
    "np.arange(3)"
   ]
  }
 ],
 "metadata": {
  "kernelspec": {
   "display_name": "Python 2",
   "language": "python",
   "name": "python2"
  },
  "language_info": {
   "codemirror_mode": {
    "name": "ipython",
    "version": 2
   },
   "file_extension": ".py",
   "mimetype": "text/x-python",
   "name": "python",
   "nbconvert_exporter": "python",
   "pygments_lexer": "ipython2",
   "version": "2.7.9"
  }
 },
 "nbformat": 4,
 "nbformat_minor": 2
}
