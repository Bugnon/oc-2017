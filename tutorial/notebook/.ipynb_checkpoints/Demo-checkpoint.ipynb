{
 "cells": [
  {
   "cell_type": "markdown",
   "metadata": {},
   "source": [
    "# Loops\n",
    "Looping can be done with the command `for i in range(n)`"
   ]
  },
  {
   "cell_type": "code",
   "execution_count": 8,
   "metadata": {},
   "outputs": [
    {
     "name": "stdout",
     "output_type": "stream",
     "text": [
      "(0, 0, 0)\n",
      "(1, 1, 1)\n",
      "(2, 4, 8)\n",
      "(3, 9, 27)\n",
      "(4, 16, 64)\n",
      "(5, 25, 125)\n",
      "(6, 36, 216)\n",
      "(7, 49, 343)\n",
      "(8, 64, 512)\n",
      "(9, 81, 729)\n"
     ]
    }
   ],
   "source": [
    "for i in range(10):\n",
    "    print(i, i**2, i**3)"
   ]
  },
  {
   "cell_type": "markdown",
   "metadata": {},
   "source": [
    "# Types\n",
    "Python objects can have many types"
   ]
  },
  {
   "cell_type": "code",
   "execution_count": 3,
   "metadata": {},
   "outputs": [
    {
     "name": "stdout",
     "output_type": "stream",
     "text": [
      "1 <class 'int'>\n",
      "1.1 <class 'float'>\n",
      "True <class 'bool'>\n",
      "abc <class 'str'>\n",
      "(1, 2) <class 'tuple'>\n",
      "[1, 2] <class 'list'>\n"
     ]
    }
   ],
   "source": [
    "for i in (1, 1.1, True, \"abc\", (1, 2), [1, 2]):\n",
    "    print(i, type(i))"
   ]
  },
  {
   "cell_type": "code",
   "execution_count": 10,
   "metadata": {},
   "outputs": [
    {
     "name": "stdout",
     "output_type": "stream",
     "text": [
      "1      has type <class 'int'>\n",
      "1.1    has type <class 'float'>\n",
      "True   has type <class 'bool'>\n",
      "abc    has type <class 'str'>\n",
      "(1, 2) has type <class 'tuple'>\n",
      "[1, 2] has type <class 'list'>\n"
     ]
    }
   ],
   "source": [
    "for i in (1, 1.1, True, \"abc\", (1, 2), [1, 2]):\n",
    "    print(\"{!s:6} has type {}\".format(i, type(i)))"
   ]
  }
 ],
 "metadata": {
  "kernelspec": {
   "display_name": "Python 3",
   "language": "python",
   "name": "python3"
  },
  "language_info": {
   "codemirror_mode": {
    "name": "ipython",
    "version": 3
   },
   "file_extension": ".py",
   "mimetype": "text/x-python",
   "name": "python",
   "nbconvert_exporter": "python",
   "pygments_lexer": "ipython3",
   "version": "3.4.2"
  }
 },
 "nbformat": 4,
 "nbformat_minor": 2
}
