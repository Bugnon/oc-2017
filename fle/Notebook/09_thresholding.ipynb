{
 "cells": [
  {
   "cell_type": "markdown",
   "metadata": {},
   "source": [
    "# Chapter 9 Thresholding\n",
    "Thresholding is a binarisation of an image, transforming it's pixels in 0 or 255."
   ]
  },
  {
   "cell_type": "code",
   "execution_count": 15,
   "metadata": {},
   "outputs": [],
   "source": [
    "import numpy as np\n",
    "import mahotas\n",
    "import cv2\n",
    "\n",
    "image = cv2.imread(\"../images/LEGO.jpg\")"
   ]
  },
  {
   "cell_type": "markdown",
   "metadata": {},
   "source": [
    "Importing basic modules and reading the image.\n",
    "## Simple Thresholding"
   ]
  },
  {
   "cell_type": "code",
   "execution_count": 16,
   "metadata": {},
   "outputs": [],
   "source": [
    "gray = cv2.cvtColor(image, cv2.COLOR_BGR2GRAY)\n",
    "blurred = cv2.GaussianBlur(gray, (5, 5), 0)\n",
    "(T, inverse) = cv2.threshold(blurred, 155, 255, cv2.THRESH_BINARY_INV) \n",
    "simple = cv2.bitwise_and(gray, gray, mask = inverse)"
   ]
  },
  {
   "cell_type": "markdown",
   "metadata": {},
   "source": [
    "Create a simple thresholding image.\n",
    "## Adaptive Thresholding"
   ]
  },
  {
   "cell_type": "code",
   "execution_count": 17,
   "metadata": {},
   "outputs": [],
   "source": [
    "adapt = cv2.adaptiveThreshold(blurred, 255, cv2.ADAPTIVE_THRESH_MEAN_C, cv2.THRESH_BINARY_INV, 11, 4)"
   ]
  },
  {
   "cell_type": "markdown",
   "metadata": {},
   "source": [
    "## Otsu and riddler-calvard"
   ]
  },
  {
   "cell_type": "code",
   "execution_count": 18,
   "metadata": {},
   "outputs": [],
   "source": [
    "T = mahotas.thresholding.otsu(blurred)\n",
    "thres3 = gray.copy()\n",
    "thres3[thres3 > T] = 255\n",
    "thres3[thres3 < T] = 0\n",
    "otsu = cv2.bitwise_not(thres3)\n",
    "\n",
    "T = mahotas.thresholding.rc(blurred)\n",
    "thres3 = gray.copy()\n",
    "thres3[thres3 > T] = 255\n",
    "thres3[thres3 < T] = 0\n",
    "rc = cv2.bitwise_not(thres3)"
   ]
  },
  {
   "cell_type": "markdown",
   "metadata": {},
   "source": [
    "Showing images"
   ]
  },
  {
   "cell_type": "code",
   "execution_count": 19,
   "metadata": {},
   "outputs": [],
   "source": [
    "cv2.imshow(\"Original\", image)\n",
    "cv2.imshow(\"Simple\", simple)\n",
    "cv2.imshow(\"Adaptive\", adapt)\n",
    "cv2.imshow(\"Otsu\", otsu)\n",
    "cv2.imshow(\"Riddler-Calvard\", rc)"
   ]
  },
  {
   "cell_type": "code",
   "execution_count": null,
   "metadata": {},
   "outputs": [],
   "source": [
    "cv2.waitKey(0)"
   ]
  },
  {
   "cell_type": "code",
   "execution_count": null,
   "metadata": {},
   "outputs": [],
   "source": []
  }
 ],
 "metadata": {
  "kernelspec": {
   "display_name": "Python 3",
   "language": "python",
   "name": "python3"
  },
  "language_info": {
   "codemirror_mode": {
    "name": "ipython",
    "version": 3
   },
   "file_extension": ".py",
   "mimetype": "text/x-python",
   "name": "python",
   "nbconvert_exporter": "python",
   "pygments_lexer": "ipython3",
   "version": "3.4.2"
  }
 },
 "nbformat": 4,
 "nbformat_minor": 2
}
