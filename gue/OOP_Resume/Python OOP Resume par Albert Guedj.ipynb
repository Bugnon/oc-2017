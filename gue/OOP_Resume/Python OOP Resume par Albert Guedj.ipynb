{
 "cells": [
  {
   "cell_type": "markdown",
   "metadata": {},
   "source": [
    "# **Résumé - Python\tOOP: objets,\tclasses,\tméthodes,\tinstances,\théritage**\n",
    "***"
   ]
  },
  {
   "cell_type": "markdown",
   "metadata": {},
   "source": [
    "Auteur: *Albert Guedj*\n",
    "\n",
    "Date: *26.05.2018*\n",
    "\n",
    "Classe: *3MOCINFO*\n",
    "\n",
    "Etablissement: *Gymnase du Bugnon*\n",
    "\n",
    "Source: *Think Python Par Allen B. Downey*\n",
    "***"
   ]
  },
  {
   "cell_type": "markdown",
   "metadata": {},
   "source": [
    "## Classes, objets et instances\n",
    "\n",
    "Une **classe** est un type défini par le programmeur et voici sa déifinition ci-dessous:"
   ]
  },
  {
   "cell_type": "code",
   "execution_count": 1,
   "metadata": {},
   "outputs": [],
   "source": [
    "class Point:\n",
    "    \"\"\"Représente un point dans l'espace 2-D.\"\"\""
   ]
  },
  {
   "cell_type": "markdown",
   "metadata": {},
   "source": [
    "L'en-tête indique que la nouvelle classe s'appelle Point. Le corps est une docstring qui explique à quoi sert la classe."
   ]
  },
  {
   "cell_type": "markdown",
   "metadata": {},
   "source": [
    "### Instanciation"
   ]
  },
  {
   "cell_type": "markdown",
   "metadata": {},
   "source": [
    "L'**objet classe** est une espèce d'usine à créer des objets. Pour créer un Point, vous appelez Point comme si c'était\n",
    "une fonction.  \n",
    "La création d'un nouvel objet s'appelle **instanciation**, et l'objet est une **instance** de la classe."
   ]
  },
  {
   "cell_type": "code",
   "execution_count": 2,
   "metadata": {},
   "outputs": [],
   "source": [
    "pt = Point()"
   ]
  },
  {
   "cell_type": "markdown",
   "metadata": {},
   "source": [
    "### Attributs"
   ]
  },
  {
   "cell_type": "markdown",
   "metadata": {},
   "source": [
    "Pour attribuer des valeurs à une instance il faut utiliser la notation ci-dessous:"
   ]
  },
  {
   "cell_type": "code",
   "execution_count": 3,
   "metadata": {},
   "outputs": [],
   "source": [
    "pt.x = 3.0\n",
    "pt.y = 4.0"
   ]
  },
  {
   "cell_type": "markdown",
   "metadata": {},
   "source": [
    "Le schéma suivant montre le résultat de ces affectations. Un diagramme d'état qui montre un objet et ses attributs\n",
    "s'appelle un **diagramme d'objets**\n",
    "\n",
    "\n",
    "![Diagramme d'objet](https://raw.githubusercontent.com/Bugnon/oc-2017/master/gue/OOP_Resume/diagramme_d'objets.png)"
   ]
  },
  {
   "cell_type": "markdown",
   "metadata": {},
   "source": [
    "Pour lire la valeur d'un attribut il suffit d'utiliser la même syntaxe:"
   ]
  },
  {
   "cell_type": "code",
   "execution_count": 4,
   "metadata": {
    "scrolled": true
   },
   "outputs": [
    {
     "data": {
      "text/plain": [
       "3.0"
      ]
     },
     "execution_count": 4,
     "metadata": {},
     "output_type": "execute_result"
    }
   ],
   "source": [
    "pt.x"
   ]
  },
  {
   "cell_type": "markdown",
   "metadata": {},
   "source": [
    "### Instances"
   ]
  },
  {
   "cell_type": "markdown",
   "metadata": {},
   "source": [
    "Une classe peut aussi utiliser une instance d'une autre classe comme attribut. Par exemple la classe rectangle ci-dessous:"
   ]
  },
  {
   "cell_type": "code",
   "execution_count": 5,
   "metadata": {},
   "outputs": [],
   "source": [
    "class Rectangle:\n",
    "    \"\"\"Représente un rectangle.\n",
    "    attributs: largeur, hauteur, coin.\n",
    "    \"\"\""
   ]
  },
  {
   "cell_type": "markdown",
   "metadata": {},
   "source": [
    "Le docstring répertorie les attributs : largeur et hauteur sont des nombres ; coin est un objet Point qui spécifie le\n",
    "coin inférieur gauche."
   ]
  },
  {
   "cell_type": "code",
   "execution_count": 6,
   "metadata": {},
   "outputs": [],
   "source": [
    "rect = Rectangle()\n",
    "rect.largeur = 100.0\n",
    "rect.hauteur = 200.0\n",
    "rect.coin = Point()\n",
    "rect.coin.x = 0.0\n",
    "rect.coin.y = 0.0"
   ]
  },
  {
   "cell_type": "markdown",
   "metadata": {},
   "source": [
    "L'expression rect.coin.x signifie, « Va à l'objet auquel se réfère rect et sélectionne l'attribut nommé coin ; puis va à\n",
    "cet objet et sélectionne l'attribut nommé x. »\n",
    "\n",
    "![Diagramme d'objet](https://raw.githubusercontent.com/Bugnon/oc-2017/master/gue/OOP_Resume/diagramme_d'objets_2.png)"
   ]
  },
  {
   "cell_type": "markdown",
   "metadata": {},
   "source": [
    "Un objet qui est un attribut d'un autre objet est **inclus**"
   ]
  },
  {
   "cell_type": "markdown",
   "metadata": {},
   "source": [
    "Il est possibble de créer des fonctions renvoyant des instances"
   ]
  },
  {
   "cell_type": "code",
   "execution_count": 7,
   "metadata": {},
   "outputs": [
    {
     "data": {
      "text/plain": [
       "(50.0, 100.0)"
      ]
     },
     "execution_count": 7,
     "metadata": {},
     "output_type": "execute_result"
    }
   ],
   "source": [
    "def trouver_centre(rectangle):\n",
    "    p = Point()\n",
    "    p.x = rectangle.coin.x + rectangle.largeur/2\n",
    "    p.y = rectangle.coin.y + rectangle.hauteur/2\n",
    "    return p\n",
    "\n",
    "centre = trouver_centre(rect)\n",
    "centre.x, centre.y"
   ]
  },
  {
   "cell_type": "markdown",
   "metadata": {},
   "source": [
    "Vous pouvez modifier l'état d'un objet en faisant une affectation à l'un de ses attributs. Par exemple, pour modifier la\n",
    "taille d'un rectangle sans modifier sa position, vous pouvez modifier les valeurs de largeur et de hauteur"
   ]
  },
  {
   "cell_type": "code",
   "execution_count": 8,
   "metadata": {},
   "outputs": [
    {
     "data": {
      "text/plain": [
       "(150.0, 300.0)"
      ]
     },
     "execution_count": 8,
     "metadata": {},
     "output_type": "execute_result"
    }
   ],
   "source": [
    "def agrandir_rectangle(rectangle, dLargeur, dHauteur):\n",
    "    rectangle.largeur += dLargeur\n",
    "    rectangle.hauteur += dHauteur\n",
    "    \n",
    "agrandir_rectangle(rect, 50, 100)\n",
    "rect.largeur, rect.hauteur"
   ]
  },
  {
   "cell_type": "markdown",
   "metadata": {},
   "source": [
    "### Copie"
   ]
  },
  {
   "cell_type": "markdown",
   "metadata": {},
   "source": [
    "Le module copy contient une fonction appelée copy qui peut dupliquer un objet quelconque"
   ]
  },
  {
   "cell_type": "code",
   "execution_count": 9,
   "metadata": {},
   "outputs": [],
   "source": [
    "p1 = Point()\n",
    "p1.x = 3.0\n",
    "p1.y = 4.0\n",
    "import copy\n",
    "p2 = copy.copy(p1)"
   ]
  },
  {
   "cell_type": "markdown",
   "metadata": {},
   "source": [
    "p1 et p2 contiennent les mêmes données, mais ils ne sont pas le même Point"
   ]
  },
  {
   "cell_type": "code",
   "execution_count": 10,
   "metadata": {
    "scrolled": true
   },
   "outputs": [
    {
     "data": {
      "text/plain": [
       "False"
      ]
     },
     "execution_count": 10,
     "metadata": {},
     "output_type": "execute_result"
    }
   ],
   "source": [
    "p1 is p2"
   ]
  },
  {
   "cell_type": "code",
   "execution_count": 11,
   "metadata": {},
   "outputs": [
    {
     "data": {
      "text/plain": [
       "False"
      ]
     },
     "execution_count": 11,
     "metadata": {},
     "output_type": "execute_result"
    }
   ],
   "source": [
    "p1 == p2"
   ]
  },
  {
   "cell_type": "markdown",
   "metadata": {},
   "source": [
    "L'opérateur is indique que p1 et p2 ne sont pas le même objet, comme nous nous y attendions. Mais vous vous\n",
    "attendiez peut-être que l'égalité == soit vraie, parce que ces points contiennent les mêmes données. Dans ce cas,\n",
    "vous serez déçu d'apprendre que pour les instances, le comportement par défaut de l'opérateur == est le même que\n",
    "pour l'opérateur is ; il vérifie l'identité des objets, pas leur équivalence. Cela arrive parce que, pour les types définis\n",
    "par le programmeur, Python ne sait pas ce qui devrait être considéré comme équivalent. Du moins, pas encore, voir chapitre [Méthodes](#M%C3%A9thodes).\n",
    "\n",
    "Si vous utilisez copy.copy pour dupliquer un Rectangle, vous verrez qu'il copie l'objet Rectangle, mais pas le Point\n",
    "inclus."
   ]
  },
  {
   "cell_type": "code",
   "execution_count": 12,
   "metadata": {},
   "outputs": [
    {
     "data": {
      "text/plain": [
       "False"
      ]
     },
     "execution_count": 12,
     "metadata": {},
     "output_type": "execute_result"
    }
   ],
   "source": [
    "rect2 = copy.copy(rect)\n",
    "rect2 is rect"
   ]
  },
  {
   "cell_type": "code",
   "execution_count": 13,
   "metadata": {},
   "outputs": [
    {
     "data": {
      "text/plain": [
       "True"
      ]
     },
     "execution_count": 13,
     "metadata": {},
     "output_type": "execute_result"
    }
   ],
   "source": [
    "rect2.coin is rect.coin"
   ]
  },
  {
   "cell_type": "markdown",
   "metadata": {},
   "source": [
    "![Diagramme d'objet](https://raw.githubusercontent.com/Bugnon/oc-2017/master/gue/OOP_Resume/diagramme_d'objets_3.png)"
   ]
  },
  {
   "cell_type": "markdown",
   "metadata": {},
   "source": [
    "Cette opération s'appelle une **copie superficielle**, car\n",
    "elle copie l'objet et toutes les références qu'il contient, mais pas les objets inclus.  \n",
    "\n",
    "Pour la majorité des applications, ce n'est pas ce que vous voulez. Dans cet exemple, l'invocation de\n",
    "agrandir_rectangle sur l'un des Rectangles n'affecterait pas l'autre, mais l'invocation de deplacer_rectangle sur l'un\n",
    "d'eux affecterait tous les deux ! Ce comportement est source de confusion et d'erreurs.  \n",
    "\n",
    "Heureusement, le module copy fournit une méthode nommée deepcopy qui copie non seulement l'objet, mais aussi\n",
    "les objets auxquels il se réfère, et les objets auxquels ces derniers se réfèrent, et ainsi de suite. Vous ne serez pas\n",
    "surpris d'apprendre que cette opération s'appelle une **copie en profondeur**."
   ]
  },
  {
   "cell_type": "code",
   "execution_count": 14,
   "metadata": {},
   "outputs": [
    {
     "data": {
      "text/plain": [
       "False"
      ]
     },
     "execution_count": 14,
     "metadata": {},
     "output_type": "execute_result"
    }
   ],
   "source": [
    "rect3 = copy.deepcopy(rect)\n",
    "rect3 is rect"
   ]
  },
  {
   "cell_type": "code",
   "execution_count": 15,
   "metadata": {},
   "outputs": [
    {
     "data": {
      "text/plain": [
       "False"
      ]
     },
     "execution_count": 15,
     "metadata": {},
     "output_type": "execute_result"
    }
   ],
   "source": [
    "rect3.coin is rect.coin"
   ]
  },
  {
   "cell_type": "markdown",
   "metadata": {},
   "source": [
    "### Classes et fonctions"
   ]
  },
  {
   "cell_type": "markdown",
   "metadata": {},
   "source": [
    "Afin d'aborder un problème complexe nous pouvons commencer par un simple prototype et en traitant les difficultés de façon incrémentielle, cela s'appelle le **prototypage et correction**."
   ]
  },
  {
   "cell_type": "markdown",
   "metadata": {},
   "source": [
    "Par exemple une classe Temps représentant un moment de la journée:"
   ]
  },
  {
   "cell_type": "code",
   "execution_count": 16,
   "metadata": {},
   "outputs": [],
   "source": [
    "class Temps:\n",
    "    \"\"\"Représente le moment de la journée.\n",
    "    attributs : heure, minute, seconde\n",
    "    \"\"\""
   ]
  },
  {
   "cell_type": "code",
   "execution_count": 17,
   "metadata": {},
   "outputs": [],
   "source": [
    "def afficher_temps(t):\n",
    "    print((\"{}:{}:{}\").format(t.heure, t.minute, t.seconde))"
   ]
  },
  {
   "cell_type": "markdown",
   "metadata": {},
   "source": [
    "Si nous voulons créer une fonction qui ne modifie aucun des objets qui lui sont passés comme arguments et qu'elle n'a aucun effet, comme l'affichage d'une valeur ou l'obtention des données saisies par l'utilisateur, autre que de renvoyer une valeur, c'est une **fonction pure**\n",
    "\n",
    "En général, je vous conseille d'écrire des fonctions pures chaque fois que cela est raisonnable et de recourir à des\n",
    "modificateurs uniquement si cela présente un avantage convaincant. Cette approche pourrait s'appeler un **style\n",
    "fonctionnel de programmation**.\n",
    "\n",
    "Par exemple, une fonction ajouter_temps qui additionne deux objets temps:"
   ]
  },
  {
   "cell_type": "code",
   "execution_count": 18,
   "metadata": {},
   "outputs": [],
   "source": [
    "def ajouter_temps(t1, t2):\n",
    "    somme = Temps()\n",
    "    somme.heure = t1.heure + t2.heure\n",
    "    somme.minute = t1.minute + t2.minute\n",
    "    somme.seconde = t1.seconde + t2.seconde\n",
    "    return somme"
   ]
  },
  {
   "cell_type": "code",
   "execution_count": 19,
   "metadata": {},
   "outputs": [],
   "source": [
    "debut = Temps()\n",
    "debut.heure = 9\n",
    "debut.minute = 45\n",
    "debut.seconde = 0\n",
    "\n",
    "duree = Temps()\n",
    "duree.heure = 1\n",
    "duree.minute = 35\n",
    "duree.seconde = 0"
   ]
  },
  {
   "cell_type": "code",
   "execution_count": 20,
   "metadata": {},
   "outputs": [
    {
     "name": "stdout",
     "output_type": "stream",
     "text": [
      "10:80:0\n"
     ]
    }
   ],
   "source": [
    "fini = ajouter_temps(debut, duree)\n",
    "afficher_temps(fini)"
   ]
  },
  {
   "cell_type": "markdown",
   "metadata": {},
   "source": [
    "Le résultat, 10:80:00 n'est peut-être pas ce que vous espériez. Le problème est que cette fonction ne traite pas les\n",
    "cas où le nombre de secondes ou de minutes additionnées dépasse soixante. Lorsque cela se produit, nous devons\n",
    "« retenir » ou « reporter » les secondes supplémentaires dans la colonne des minutes ou les minutes supplémentaires\n",
    "dans la colonne des heures.\n",
    "\n",
    "Voici une version améliorée :"
   ]
  },
  {
   "cell_type": "code",
   "execution_count": 21,
   "metadata": {},
   "outputs": [],
   "source": [
    "def ajouter_temps2(t1, t2):\n",
    "    somme = Temps()\n",
    "    somme.heure = t1.heure + t2.heure\n",
    "    somme.minute = t1.minute + t2.minute\n",
    "    somme.seconde = t1.seconde + t2.seconde\n",
    "    if somme.seconde >= 60:\n",
    "        somme.seconde -= 60\n",
    "        somme.minute += 1\n",
    "    if somme.minute >= 60:\n",
    "        somme.minute -= 60\n",
    "        somme.heure += 1\n",
    "    return somme"
   ]
  },
  {
   "cell_type": "code",
   "execution_count": 22,
   "metadata": {},
   "outputs": [
    {
     "name": "stdout",
     "output_type": "stream",
     "text": [
      "11:20:0\n"
     ]
    }
   ],
   "source": [
    "fini2 = ajouter_temps2(debut, duree)\n",
    "afficher_temps(fini2)"
   ]
  },
  {
   "cell_type": "markdown",
   "metadata": {},
   "source": [
    "Parfois, il est utile qu'une fonction puisse modifier les objets qu'elle reçoit comme paramètres. Dans ce cas, les\n",
    "changements sont visibles par la procédure appelante. Ce genre de fonctions s'appellent **modificateurs**.\n",
    "\n",
    "Par exemple, incremente, qui ajoute un nombre donné de secondes à un objet Temps, peut être écrite naturellement comme un\n",
    "modificateur."
   ]
  },
  {
   "cell_type": "code",
   "execution_count": 23,
   "metadata": {},
   "outputs": [],
   "source": [
    "def incremente(temps, secondes):\n",
    "    temps.seconde += secondes\n",
    "    if temps.seconde >= 60:\n",
    "        n = temps.seconde//60\n",
    "        temps.seconde -= n*60\n",
    "        temps.minute += n\n",
    "    if temps.minute >= 60:\n",
    "        m = temps.minute//60\n",
    "        temps.minute -= m*60\n",
    "        temps.heure += m"
   ]
  },
  {
   "cell_type": "code",
   "execution_count": 24,
   "metadata": {},
   "outputs": [
    {
     "name": "stdout",
     "output_type": "stream",
     "text": [
      "9:48:20\n"
     ]
    }
   ],
   "source": [
    "incremente(debut,200)\n",
    "afficher_temps(debut)"
   ]
  },
  {
   "cell_type": "markdown",
   "metadata": {},
   "source": [
    "Une autre possibilité est le **développement par conception**, dans lequel une compréhension de haut niveau\n",
    "du problème peut rendre la programmation beaucoup plus facile. Dans ce cas, il s'agit de comprendre qu'un\n",
    "objet Temps est en fait un nombre à trois chiffres exprimés en base 60\n",
    "\n",
    "Voici une fonction qui convertit des Temps en entiers :"
   ]
  },
  {
   "cell_type": "code",
   "execution_count": 25,
   "metadata": {},
   "outputs": [],
   "source": [
    "def temps_vers_int(temps):\n",
    "    minutes = temps.heure * 60 + temps.minute\n",
    "    secondes = minutes * 60 + temps.seconde\n",
    "    return secondes"
   ]
  },
  {
   "cell_type": "code",
   "execution_count": 26,
   "metadata": {},
   "outputs": [
    {
     "data": {
      "text/plain": [
       "5700"
      ]
     },
     "execution_count": 26,
     "metadata": {},
     "output_type": "execute_result"
    }
   ],
   "source": [
    "s = temps_vers_int(duree)\n",
    "s"
   ]
  },
  {
   "cell_type": "markdown",
   "metadata": {},
   "source": [
    "Et voici une fonction qui convertit un nombre entier vers un Temps"
   ]
  },
  {
   "cell_type": "code",
   "execution_count": 27,
   "metadata": {},
   "outputs": [],
   "source": [
    "def int_vers_temps(secondes):\n",
    "    temps = Temps()\n",
    "    minutes, temps.seconde = divmod(secondes, 60)\n",
    "    temps.heure, temps.minute = divmod(minutes, 60)\n",
    "    return temps"
   ]
  },
  {
   "cell_type": "code",
   "execution_count": 28,
   "metadata": {},
   "outputs": [
    {
     "name": "stdout",
     "output_type": "stream",
     "text": [
      "1:35:0\n"
     ]
    }
   ],
   "source": [
    "duree2 = int_vers_temps(s)\n",
    "afficher_temps(duree2)"
   ]
  },
  {
   "cell_type": "code",
   "execution_count": 29,
   "metadata": {},
   "outputs": [],
   "source": [
    "def ajouter_temps3(t1, t2):\n",
    "    secondes = temps_vers_int(t1) + temps_vers_int(t2)\n",
    "    return int_vers_temps(secondes)"
   ]
  },
  {
   "cell_type": "code",
   "execution_count": 30,
   "metadata": {},
   "outputs": [
    {
     "name": "stdout",
     "output_type": "stream",
     "text": [
      "11:23:20\n"
     ]
    }
   ],
   "source": [
    "fini3 = ajouter_temps3(debut,duree)\n",
    "afficher_temps(fini3)"
   ]
  },
  {
   "cell_type": "markdown",
   "metadata": {},
   "source": [
    "Un objet Temps est bien formé si les valeurs de minute et seconde sont entre 0 et 60 (0 compris, mais 60 non compris)\n",
    "et si heure est positive. heure et minute doivent être des valeurs entières, mais nous pourrions permettre à seconde\n",
    "d'avoir une partie fractionnaire.\n",
    "\n",
    "De telles exigences s'appellent des **invariants**, parce qu'elles doivent toujours être satisfaites. Autrement dit, si elles\n",
    "ne sont pas vraies, quelque chose a mal tourné.\n",
    "\n",
    "Écrire du code pour vérifier les invariants peut aider à détecter les erreurs et à trouver leurs causes. Par exemple,\n",
    "vous pourriez avoir une fonction comme valider_temps qui prend un objet Temps et renvoie False si elle enfreint\n",
    "un invariant :"
   ]
  },
  {
   "cell_type": "code",
   "execution_count": 31,
   "metadata": {},
   "outputs": [],
   "source": [
    "def valide_temps(temps):\n",
    "    if temps.heure < 0 or temps.minute < 0 or temps.seconde < 0:\n",
    "        return False\n",
    "    if temps.minute >= 60 or temps.seconde >= 60:\n",
    "        return False\n",
    "    return True"
   ]
  },
  {
   "cell_type": "markdown",
   "metadata": {},
   "source": [
    "Pour vérifier si les arguments sont valides une **instruction assert** peut être utile, elle vérifie un invariant donné et déclenche une exception si elle échoue :"
   ]
  },
  {
   "cell_type": "code",
   "execution_count": 32,
   "metadata": {},
   "outputs": [],
   "source": [
    "def ajouter_temps_final(t1, t2):\n",
    "    assert valide_temps(t1) and valide_temps(t2)\n",
    "    secondes = temps_vers_int(t1) + temps_vers_int(t2)\n",
    "    return int_vers_temps(secondes)"
   ]
  },
  {
   "cell_type": "code",
   "execution_count": 33,
   "metadata": {},
   "outputs": [],
   "source": [
    "debut_faux = Temps()\n",
    "debut_faux.heure = 9\n",
    "debut_faux.minute = 75\n",
    "debut_faux.seconde = 0"
   ]
  },
  {
   "cell_type": "code",
   "execution_count": 34,
   "metadata": {},
   "outputs": [],
   "source": [
    "#fini_final = ajouter_temps_final(debut_faux,duree)"
   ]
  },
  {
   "cell_type": "markdown",
   "metadata": {},
   "source": [
    "## Méthodes"
   ]
  },
  {
   "cell_type": "markdown",
   "metadata": {},
   "source": [
    "Python est un **langage de programmation orienté objet**, ce qui signifie qu'il offre des fonctionnalités qui prennent\n",
    "en charge la programmation orientée objet, laquelle présente ces caractéristiques déterminantes :\n",
    "* les programmes incluent des définitions de classes et de méthodes ;\n",
    "* la plus grande partie du calcul est exprimé en tant qu'opérations sur des objets ;\n",
    "* les objets représentent souvent des choses dans le monde réel, et les méthodes correspondent souvent à la manière dont les choses du monde réel interagissent."
   ]
  },
  {
   "cell_type": "markdown",
   "metadata": {},
   "source": [
    "une **méthode** est une fonction associée à une classe particulière. Le **sujet** est l'objet sur lequel une méthode est invoquée. Et un **argument positionnel** est un argument qui n'inclut pas un nom de paramètre, donc il n'est pas un argument\n",
    "mot-clé."
   ]
  },
  {
   "cell_type": "markdown",
   "metadata": {},
   "source": [
    "### La méthode init"
   ]
  },
  {
   "cell_type": "markdown",
   "metadata": {},
   "source": [
    "La méthode __init__ *(raccourci de \"initialisation\")* est une méthode spéciale qui est appelée automatiquement lorsqu'un\n",
    "objet est instancié. Son nom complet est *(deux caractères de soulignement, suivis par init, puis deux autres\n",
    "caractères de soulignement)*. Une méthode init pour la classe Point pourrait ressembler à ceci :"
   ]
  },
  {
   "cell_type": "code",
   "execution_count": 35,
   "metadata": {},
   "outputs": [],
   "source": [
    "class Point:\n",
    "    \"\"\"Représente un point dans l'espace 2-D.\"\"\"\n",
    "\n",
    "    def __init__(self, x = 0, y = 0):\n",
    "        self.x = x\n",
    "        self.y = y"
   ]
  },
  {
   "cell_type": "markdown",
   "metadata": {},
   "source": [
    "Les paramètres sont facultatifs, donc si vous appelez Point sans arguments, vous obtenez les valeurs par défaut.  \n",
    "De plus la méthode init est bien plus efficace que la méthode vue précedemment."
   ]
  },
  {
   "cell_type": "code",
   "execution_count": 36,
   "metadata": {
    "scrolled": true
   },
   "outputs": [
    {
     "data": {
      "text/plain": [
       "0"
      ]
     },
     "execution_count": 36,
     "metadata": {},
     "output_type": "execute_result"
    }
   ],
   "source": [
    "p = Point()\n",
    "p.x"
   ]
  },
  {
   "cell_type": "markdown",
   "metadata": {},
   "source": [
    "### La méthode str"
   ]
  },
  {
   "cell_type": "markdown",
   "metadata": {},
   "source": [
    "__str__ est une méthode spéciale, comme __init__, qui est censée renvoyer une représentation sous forme de chaîne\n",
    "de caractères d'un objet.  \n",
    "Par exemple la méthode __str__ ci dessous renvoie la notation usuelle des points en mathématiques."
   ]
  },
  {
   "cell_type": "code",
   "execution_count": 37,
   "metadata": {},
   "outputs": [],
   "source": [
    "class Point:\n",
    "    \"\"\"Représente un point dans l'espace 2-D.\"\"\"\n",
    "\n",
    "    def __init__(self, x = 0, y = 0):\n",
    "        self.x = x\n",
    "        self.y = y\n",
    "        \n",
    "    def __str__(self):\n",
    "        return (\"({};{})\").format(self.x, self.y)"
   ]
  },
  {
   "cell_type": "code",
   "execution_count": 38,
   "metadata": {},
   "outputs": [
    {
     "name": "stdout",
     "output_type": "stream",
     "text": [
      "(1;2)\n"
     ]
    }
   ],
   "source": [
    "p1 = Point(1, 2)\n",
    "print(p1)"
   ]
  },
  {
   "cell_type": "markdown",
   "metadata": {},
   "source": [
    "### Surcharge d'opérateur"
   ]
  },
  {
   "cell_type": "markdown",
   "metadata": {},
   "source": [
    "En définissant d'autres méthodes spéciales, vous pouvez spécifier le comportement des opérateurs sur les types\n",
    "définis par le programmeur. Par exemple, si vous définissez une méthode nommée __add__ pour la classe Temps,\n",
    "vous pouvez utiliser l'opérateur + sur les objets de type Temps.\n",
    "\n",
    "La modification du comportement d'un opérateur afin qu'il fonctionne avec des types définis par le\n",
    "programmeur s'appelle la **surcharge d'opérateur**."
   ]
  },
  {
   "cell_type": "code",
   "execution_count": 39,
   "metadata": {},
   "outputs": [],
   "source": [
    "class Temps:\n",
    "    \"\"\"Représente le moment de la journée.\n",
    "    attributs : heure, minute, seconde\n",
    "    \"\"\"\n",
    "    def __init__(self, heure = 0, minute = 0, seconde = 0):\n",
    "        \"\"\"Initialise un objet Temps\n",
    "\n",
    "        heure: int\n",
    "        minute: int\n",
    "        seconde: int or float\n",
    "        \"\"\"\n",
    "        self.heure = heure\n",
    "        self.minute = minute\n",
    "        self.seconde = seconde\n",
    "\n",
    "    def __str__(self):\n",
    "        \"\"\"Retourne un string Temps.\"\"\"\n",
    "        return \"{}:{}:{}\".format(self.heure, self.minute, self.seconde)\n",
    "\n",
    "    def temps_vers_int(self):\n",
    "        \"\"\"Computes the number of seconds since midnight.\"\"\"\n",
    "        minutes = self.heure * 60 + self.minute\n",
    "        secondes = minutes * 60 + self.seconde\n",
    "        return secondes\n",
    "    \n",
    "    def __add__(self, other):\n",
    "        secondes = self.temps_vers_int() + other.temps_vers_int()\n",
    "        return int_vers_temps(secondes)"
   ]
  },
  {
   "cell_type": "code",
   "execution_count": 40,
   "metadata": {},
   "outputs": [
    {
     "name": "stdout",
     "output_type": "stream",
     "text": [
      "11:20:0\n"
     ]
    }
   ],
   "source": [
    "debut = Temps(9, 45)\n",
    "duree = Temps(1, 35)\n",
    "print(debut + duree)"
   ]
  },
  {
   "cell_type": "markdown",
   "metadata": {},
   "source": [
    "Dans la section précédente, nous avons additionné deux objets Temps, mais vous pouvez également additionner\n",
    "un nombre entier à un objet Temps. Ce qui suit est une version de __add__ qui vérifie le type de other et invoque\n",
    "soit ajouter_temps, soit incremente :"
   ]
  },
  {
   "cell_type": "code",
   "execution_count": 41,
   "metadata": {},
   "outputs": [],
   "source": [
    "class Temps:\n",
    "    \"\"\"Représente le moment de la journée.\n",
    "    attributs : heure, minute, seconde\n",
    "    \"\"\"\n",
    "    def __init__(self, heure = 0, minute = 0, seconde = 0):\n",
    "        \"\"\"Initialise un objet Temps\n",
    "\n",
    "        heure: int\n",
    "        minute: int\n",
    "        seconde: int or float\n",
    "        \"\"\"\n",
    "        self.heure = heure\n",
    "        self.minute = minute\n",
    "        self.seconde = seconde\n",
    "\n",
    "    def __str__(self):\n",
    "        \"\"\"Retourne un string Temps.\"\"\"\n",
    "        return \"{}:{}:{}\".format(self.heure, self.minute, self.seconde)\n",
    "\n",
    "    def temps_vers_int(self):\n",
    "        \"\"\"Computes the number of seconds since midnight.\"\"\"\n",
    "        minutes = self.heure * 60 + self.minute\n",
    "        secondes = minutes * 60 + self.seconde\n",
    "        return secondes\n",
    "    \n",
    "    def __add__(self, other):\n",
    "        if isinstance(other, Temps):\n",
    "            return self.ajouter_temps(other)\n",
    "        else:\n",
    "            return self.incremente(other)\n",
    "    \n",
    "    def ajouter_temps(self, other):\n",
    "        secondes = self.temps_vers_int() + other.temps_vers_int()\n",
    "        return int_vers_temps(secondes)\n",
    "        \n",
    "    def incremente(self, secondes):\n",
    "        secondes += self.temps_vers_int()\n",
    "        return int_vers_temps(secondes)"
   ]
  },
  {
   "cell_type": "markdown",
   "metadata": {},
   "source": [
    "Si other est un objet de type Temps, __add__ invoque ajouter_temps. Sinon, il suppose que le paramètre est un\n",
    "nombre et invoque incremente. Cette opération s'appelle **résolution de méthode basée sur le type**, car elle choisit\n",
    "la méthode à employer sur la base du type des arguments."
   ]
  },
  {
   "cell_type": "code",
   "execution_count": 42,
   "metadata": {},
   "outputs": [
    {
     "name": "stdout",
     "output_type": "stream",
     "text": [
      "10:7:17\n"
     ]
    }
   ],
   "source": [
    "debut = Temps(9, 45)\n",
    "print(debut + 1337)"
   ]
  },
  {
   "cell_type": "markdown",
   "metadata": {},
   "source": [
    "la méthode spéciale __radd__, qui signifie right-side add, « additionner à droite », est invoquée quand un objet de type Temps apparaît du côté droit de l'opérateur +. Voici la définition :"
   ]
  },
  {
   "cell_type": "code",
   "execution_count": 43,
   "metadata": {},
   "outputs": [],
   "source": [
    "class Temps:\n",
    "    \"\"\"Représente le moment de la journée.\n",
    "    attributs : heure, minute, seconde\n",
    "    \"\"\"\n",
    "    def __init__(self, heure = 0, minute = 0, seconde = 0):\n",
    "        \"\"\"Initialise un objet Temps\n",
    "\n",
    "        heure: int\n",
    "        minute: int\n",
    "        seconde: int or float\n",
    "        \"\"\"\n",
    "        self.heure = heure\n",
    "        self.minute = minute\n",
    "        self.seconde = seconde\n",
    "\n",
    "    def __str__(self):\n",
    "        \"\"\"Retourne un string Temps.\"\"\"\n",
    "        return \"{}:{}:{}\".format(self.heure, self.minute, self.seconde)\n",
    "\n",
    "    def temps_vers_int(self):\n",
    "        \"\"\"Computes the number of seconds since midnight.\"\"\"\n",
    "        minutes = self.heure * 60 + self.minute\n",
    "        secondes = minutes * 60 + self.seconde\n",
    "        return secondes\n",
    "    \n",
    "    def __add__(self, other):\n",
    "        if isinstance(other, Temps):\n",
    "            return self.ajouter_temps(other)\n",
    "        else:\n",
    "            return self.incremente(other)\n",
    "    \n",
    "    def ajouter_temps(self, other):\n",
    "        secondes = self.temps_vers_int() + other.temps_vers_int()\n",
    "        return int_vers_temps(secondes)\n",
    "        \n",
    "    def incremente(self, secondes):\n",
    "        secondes += self.temps_vers_int()\n",
    "        return int_vers_temps(secondes)\n",
    "    \n",
    "    def __radd__(self, other):\n",
    "        return self.__add__(other)"
   ]
  },
  {
   "cell_type": "code",
   "execution_count": 44,
   "metadata": {},
   "outputs": [
    {
     "name": "stdout",
     "output_type": "stream",
     "text": [
      "10:7:17\n"
     ]
    }
   ],
   "source": [
    "debut = Temps(9, 45)\n",
    "print(1337 + debut)"
   ]
  },
  {
   "cell_type": "markdown",
   "metadata": {},
   "source": [
    "### Polymorphisme"
   ]
  },
  {
   "cell_type": "markdown",
   "metadata": {},
   "source": [
    "La résolution de méthode basée sur le type est utile quand elle est nécessaire, mais elle n'est pas\n",
    "toujours nécessaire. Souvent, vous pouvez l'éviter en écrivant des fonctions qui s'exécutent correctement pour des\n",
    "arguments de types différents.\n",
    "\n",
    "Les fonctions qui acceptent plusieurs types sont dites **polymorphes**. Le polymorphisme peut faciliter la réutilisation\n",
    "du code. Par exemple, la fonction interne sum, qui ajoute des éléments à une séquence, fonctionne tant que les\n",
    "éléments de la séquence supportent l'addition.\n",
    "\n",
    "Comme les objets de type Temps fournissent une méthode add, ils peuvent être passés en argument à sum :"
   ]
  },
  {
   "cell_type": "code",
   "execution_count": 45,
   "metadata": {},
   "outputs": [
    {
     "name": "stdout",
     "output_type": "stream",
     "text": [
      "23:1:0\n"
     ]
    }
   ],
   "source": [
    "t1 = Temps(7, 43)\n",
    "t2 = Temps(7, 41)\n",
    "t3 = Temps(7, 37)\n",
    "total = sum([t1, t2, t3])\n",
    "print(total)"
   ]
  },
  {
   "cell_type": "markdown",
   "metadata": {},
   "source": [
    "### Méthodes Python"
   ]
  },
  {
   "cell_type": "markdown",
   "metadata": {},
   "source": [
    "Voici ici une liste des noms de méthodes python ainsi que leur équivalent mathématique ou autre:  \n",
    "Source: *https://docs.python.org/fr/3.6/library/operator.html*"
   ]
  },
  {
   "cell_type": "markdown",
   "metadata": {},
   "source": [
    "![Tableau des opérateurs](https://raw.githubusercontent.com/Bugnon/oc-2017/master/gue/OOP_Resume/Tableau_operateurs.PNG)"
   ]
  },
  {
   "cell_type": "markdown",
   "metadata": {},
   "source": [
    "![Tableau des opérateurs](https://raw.githubusercontent.com/Bugnon/oc-2017/master/gue/OOP_Resume/Tableau_operateurs2.png)"
   ]
  },
  {
   "cell_type": "markdown",
   "metadata": {},
   "source": [
    "![Tableau des opérateurs](https://raw.githubusercontent.com/Bugnon/oc-2017/master/gue/OOP_Resume/Tableau_operateurs3.png)"
   ]
  },
  {
   "cell_type": "markdown",
   "metadata": {},
   "source": [
    "## Héritage"
   ]
  },
  {
   "cell_type": "markdown",
   "metadata": {},
   "source": [
    "La fonctionnalité la plus emblématique de la programmation orientée objet est l'**héritage**. L'héritage est la possibilité de\n",
    "définir une nouvelle classe, qui est une version modifiée d'une classe existante."
   ]
  },
  {
   "cell_type": "markdown",
   "metadata": {},
   "source": [
    "Si nous voulons définir un nouvel objet pour représenter une carte à jouer, il est évident que les attributs doivent être\n",
    "la couleur et la valeur. Le type des attributs n'est pas si évident. Une possibilité est d'utiliser des chaînes contenant\n",
    "des mots comme 'pique' pour les couleurs et 'dame' pour les valeurs. Un problème avec cette modélisation est qu'il\n",
    "ne serait pas facile de comparer les cartes pour voir laquelle a une valeur ou une couleur supérieure.\n",
    "\n",
    "Une autre possibilité est d'utiliser des entiers pour **encoder** les valeurs et les couleurs. Dans ce contexte, « encoder »\n",
    "signifie que nous allons définir une correspondance entre nombres et couleurs, ou entre nombres et valeurs."
   ]
  },
  {
   "cell_type": "code",
   "execution_count": 46,
   "metadata": {},
   "outputs": [],
   "source": [
    "class Carte:\n",
    "    \"\"\"Représente une carte à jouer standard.\"\"\"\n",
    "    def __init__(self, couleur = 0, valeur = 2):\n",
    "        self.couleur = couleur\n",
    "        self.valeur = valeur\n",
    "        \n",
    "    noms_couleurs = ['trèfle', 'carreau', 'coeur', 'pique']\n",
    "    noms_valeurs = [None, 'as', '2', '3', '4', '5', '6', '7', '8', '9', '10', 'valet', 'dame', 'roi']\n",
    "    \n",
    "    def __str__(self):\n",
    "        return \"{} de {}\".format(Carte.noms_valeurs[self.valeur], Carte.noms_couleurs[self.couleur])"
   ]
  },
  {
   "cell_type": "markdown",
   "metadata": {},
   "source": [
    "Les variables comme noms_couleurs et noms_valeurs, qui sont définies dans une classe, mais en dehors de toute\n",
    "méthode, s'appellent **attributs de classe** parce qu'elles sont associées à l'objet classe Carte.  \n",
    "Ce terme les distingue des variables telles que couleur et valeur, qui s'appellent **attributs d'instance** parce qu'elles\n",
    "sont associées à une instance particulière."
   ]
  },
  {
   "cell_type": "code",
   "execution_count": 47,
   "metadata": {},
   "outputs": [
    {
     "name": "stdout",
     "output_type": "stream",
     "text": [
      "valet de carreau\n"
     ]
    }
   ],
   "source": [
    "carte1 = Carte(1, 11)\n",
    "print(carte1)"
   ]
  },
  {
   "cell_type": "markdown",
   "metadata": {},
   "source": [
    "![Diagramme d'objet](https://raw.githubusercontent.com/Bugnon/oc-2017/master/gue/OOP_Resume/diagramme_d'objets_4.png)"
   ]
  },
  {
   "cell_type": "markdown",
   "metadata": {},
   "source": [
    "Maintenant que nous avons les cartes, la prochaine étape est de définir les Paquets de cartes. Comme un paquet\n",
    "est composé de cartes, il est naturel que chaque Paquet contienne comme attribut une liste de cartes.  \n",
    "Ce qui suit est une définition de classe pour Paquet. La méthode init crée l'attribut cartes et génère l'ensemble\n",
    "standard de cinquante-deux cartes :"
   ]
  },
  {
   "cell_type": "code",
   "execution_count": 48,
   "metadata": {},
   "outputs": [],
   "source": [
    "class Paquet:\n",
    "    \"\"\"Represente un paquet de 52 cartes\"\"\"\n",
    "    def __init__(self):\n",
    "        self.cartes = []\n",
    "        for couleur in range(4):\n",
    "            for valeur in range(1, 14):\n",
    "                carte = Carte(couleur, valeur)\n",
    "                self.cartes.append(carte)\n",
    "                \n",
    "    def __str__(self):\n",
    "        res = []\n",
    "        for carte in self.cartes:\n",
    "            res.append(str(carte))\n",
    "        return \", \".join(res)\n",
    "    \n",
    "    def pop_carte(self):\n",
    "        return self.cartes.pop()\n",
    "    \n",
    "    def ajouter_carte(self, carte):\n",
    "        self.cartes.append(carte)\n",
    "        \n",
    "    def battre(self):\n",
    "        random.shuffle(self.cartes)"
   ]
  },
  {
   "cell_type": "markdown",
   "metadata": {},
   "source": [
    "Une méthode comme ajouter_carte, qui utilise une autre méthode sans faire beaucoup de travail s'appelle parfois un\n",
    "**placage**.  \n",
    "Dans ce cas, ajouter_carte est une méthode « mince » qui exprime une opération de liste en termes appropriés pour les paquets. Elle améliore l'apparence, ou l'interface, de la mise en oeuvre."
   ]
  },
  {
   "cell_type": "code",
   "execution_count": 49,
   "metadata": {},
   "outputs": [
    {
     "name": "stdout",
     "output_type": "stream",
     "text": [
      "as de trèfle, 2 de trèfle, 3 de trèfle, 4 de trèfle, 5 de trèfle, 6 de trèfle, 7 de trèfle, 8 de trèfle, 9 de trèfle, 10 de trèfle, valet de trèfle, dame de trèfle, roi de trèfle, as de carreau, 2 de carreau, 3 de carreau, 4 de carreau, 5 de carreau, 6 de carreau, 7 de carreau, 8 de carreau, 9 de carreau, 10 de carreau, valet de carreau, dame de carreau, roi de carreau, as de coeur, 2 de coeur, 3 de coeur, 4 de coeur, 5 de coeur, 6 de coeur, 7 de coeur, 8 de coeur, 9 de coeur, 10 de coeur, valet de coeur, dame de coeur, roi de coeur, as de pique, 2 de pique, 3 de pique, 4 de pique, 5 de pique, 6 de pique, 7 de pique, 8 de pique, 9 de pique, 10 de pique, valet de pique, dame de pique, roi de pique\n"
     ]
    }
   ],
   "source": [
    "paquet = Paquet()\n",
    "print(paquet)"
   ]
  },
  {
   "cell_type": "markdown",
   "metadata": {},
   "source": [
    "L'**héritage** est la capacité de définir une nouvelle classe qui est une version modifiée d'une classe existante. À titre\n",
    "d'exemple, disons que nous voulons une classe pour représenter une « main », c'est-à-dire les cartes détenues par\n",
    "un seul joueur. Une main est semblable à un paquet : les deux sont constitués d'une collection de cartes, et les deux\n",
    "nécessitent des opérations comme l'ajout et le retrait de cartes.  \n",
    "En même temps, une main est différente d'un paquet ; il existe des opérations que nous voulons pour les « mains »\n",
    "qui n'ont pas de sens pour un paquet. Par exemple, au poker, nous pourrions comparer deux mains pour voir qui\n",
    "gagne. Au bridge, nous pourrions calculer le nombre de points d'une main afin de faire une enchère."
   ]
  },
  {
   "cell_type": "code",
   "execution_count": 50,
   "metadata": {},
   "outputs": [],
   "source": [
    "class Main(Paquet):\n",
    "    \"\"\"Représente une main au jeu de cartes.\"\"\""
   ]
  },
  {
   "cell_type": "markdown",
   "metadata": {},
   "source": [
    "Lorsqu'une nouvelle classe hérite d'une classe existante, la classe existante est appelée **classe mère** ou **classe\n",
    "parente** et la nouvelle classe est appelée **classe fille** ou **classe enfant**."
   ]
  },
  {
   "cell_type": "code",
   "execution_count": 51,
   "metadata": {},
   "outputs": [],
   "source": [
    "class Main(Paquet):\n",
    "    \"\"\"Représente une main au jeu de cartes.\"\"\"\n",
    "    \n",
    "    def __init__(self, etiquette = ''):\n",
    "        self.cartes = []\n",
    "        self.etiquette = etiquette"
   ]
  },
  {
   "cell_type": "markdown",
   "metadata": {},
   "source": [
    "Si nous fournissons une méthode d'initialisation à la classe Main, elle remplace celle de la classe Paquet.  \n",
    "Lorsque vous créez une Main, Python appelle cette méthode init, pas celle de Paquet."
   ]
  },
  {
   "cell_type": "code",
   "execution_count": 52,
   "metadata": {},
   "outputs": [
    {
     "data": {
      "text/plain": [
       "'nouvelle main'"
      ]
     },
     "execution_count": 52,
     "metadata": {},
     "output_type": "execute_result"
    }
   ],
   "source": [
    "main = Main('nouvelle main')\n",
    "main.etiquette"
   ]
  },
  {
   "cell_type": "code",
   "execution_count": 53,
   "metadata": {},
   "outputs": [
    {
     "name": "stdout",
     "output_type": "stream",
     "text": [
      "roi de pique\n"
     ]
    }
   ],
   "source": [
    "paquet = Paquet()\n",
    "carte = paquet.pop_carte()\n",
    "main.ajouter_carte(carte)\n",
    "print(main)"
   ]
  },
  {
   "cell_type": "code",
   "execution_count": 54,
   "metadata": {},
   "outputs": [],
   "source": [
    "class Paquet:\n",
    "    \"\"\"Represente un paquet de 52 cartes\"\"\"\n",
    "    def __init__(self):\n",
    "        self.cartes = []\n",
    "        for couleur in range(4):\n",
    "            for valeur in range(1, 14):\n",
    "                carte = Carte(couleur, valeur)\n",
    "                self.cartes.append(carte)\n",
    "                \n",
    "    def __str__(self):\n",
    "        res = []\n",
    "        for carte in self.cartes:\n",
    "            res.append(str(carte))\n",
    "        return \", \".join(res)\n",
    "    \n",
    "    def pop_carte(self):\n",
    "        return self.cartes.pop()\n",
    "    \n",
    "    def ajouter_carte(self, carte):\n",
    "        self.cartes.append(carte)\n",
    "        \n",
    "    def battre(self):\n",
    "        random.shuffle(self.cartes)\n",
    "\n",
    "    def deplacer_cartes(self, main, nombre):\n",
    "        for i in range(nombre):\n",
    "            main.ajouter_carte(self.pop_carte())"
   ]
  },
  {
   "cell_type": "markdown",
   "metadata": {},
   "source": [
    "Il existe plusieurs types de relations entre les classes :\n",
    "* les objets d'une classe peuvent contenir des références vers des objets d'une autre classe. Par exemple, chaque Rectangle contient une référence vers un Point, et chaque Paquet contient des références vers plusieurs Cartes. Ce type de relation est appelé **HAS-A**, « a-un(e) », comme dans « un Rectangle a un Point » ;\n",
    "* une classe peut hériter d'une autre. Cette relation est appelée **IS-A**, « est-un(e) », comme dans « une Main est une sorte de Paquet. » ;\n",
    "* une classe peut dépendre d'une autre dans le sens où les objets d'une classe prennent comme paramètres des objets de la seconde classe, ou utilisent des objets de la seconde classe dans le cadre d'un calcul. Ce type de relation est appelée une **dépendance**."
   ]
  },
  {
   "cell_type": "markdown",
   "metadata": {},
   "source": [
    "![diagramme de classes](https://raw.githubusercontent.com/Bugnon/oc-2017/master/gue/OOP_Resume/diagramme_d'objets_5.png)"
   ]
  },
  {
   "cell_type": "markdown",
   "metadata": {},
   "source": [
    "Ceci est un **diagramme de classes**\n",
    "\n",
    "La flèche à pointe triangulaire creuse représente une relation IS-A ; dans ce cas, elle indique que Main hérite de Paquet.  \n",
    "La flèche à pointe normale représente une relation HAS-A ; dans ce cas, un Paquet a des références vers des objets Carte.\n",
    "\n",
    "L'astérisque près de la pointe de la flèche est une **multiplicité** ou **cardinalité** ; il indique combien de Cartes a un\n",
    "Paquet. Une multiplicité peut être un simple nombre, comme 52, une plage de valeurs, comme 5..7 ou une étoile,\n",
    "qui indique qu'un Paquet peut avoir un nombre quelconque de Cartes.\n",
    "\n",
    "Une dépendence est normalement représentées par une flèche en pointillé. Ou s'il y a beaucoup de dépendances, elles sont parfois omises."
   ]
  },
  {
   "cell_type": "markdown",
   "metadata": {},
   "source": [
    "Parfois, il est moins évident de déterminer quels sont les objets dont vous avez besoin et comment ils\n",
    "doivent interagir. Dans ce cas, vous avez besoin d'un modèle de développement différent. De la même manière que\n",
    "nous avons découvert des interfaces de fonction par encapsulation et généralisation, nous pouvons découvrir des\n",
    "interfaces de classe par **encapsulation de données**. C'est à dire un modèle de développement d'un programme qui implique au départ un prototype utilisant des variables globales et une version finale qui transforme les variables globales en attributs d'instance."
   ]
  }
 ],
 "metadata": {
  "kernelspec": {
   "display_name": "Python 3",
   "language": "python",
   "name": "python3"
  },
  "language_info": {
   "codemirror_mode": {
    "name": "ipython",
    "version": 3
   },
   "file_extension": ".py",
   "mimetype": "text/x-python",
   "name": "python",
   "nbconvert_exporter": "python",
   "pygments_lexer": "ipython3",
   "version": "3.6.4"
  }
 },
 "nbformat": 4,
 "nbformat_minor": 2
}
